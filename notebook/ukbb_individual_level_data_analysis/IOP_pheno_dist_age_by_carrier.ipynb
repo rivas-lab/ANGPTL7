{
 "cells": [
  {
   "cell_type": "code",
   "execution_count": 1,
   "metadata": {},
   "outputs": [],
   "source": [
    "suppressPackageStartupMessages(library(tidyverse))\n",
    "suppressPackageStartupMessages(library(data.table))\n"
   ]
  },
  {
   "cell_type": "code",
   "execution_count": 13,
   "metadata": {},
   "outputs": [],
   "source": [
    "merged <- fread('private_data/IOP_pheno_dist.merged.phe', sep='\\t', data.table=F, stringsAsFactors = F) %>%\n",
    "left_join(\n",
    "    data.frame(\n",
    "        rs28991009_G = c(0, 1, 2, NA),\n",
    "        rs28991009 = c('G/G (n = 28)', 'G/T (n = 5,410)', 'T/T (n = 331,239)', NA)\n",
    "    ),\n",
    "    by='rs28991009_G'\n",
    ")\n"
   ]
  },
  {
   "cell_type": "code",
   "execution_count": 18,
   "metadata": {},
   "outputs": [
    {
     "name": "stderr",
     "output_type": "stream",
     "text": [
      "Warning message:\n",
      "“Factor `rs28991009` contains implicit NA, consider using `forcats::fct_explicit_na`”"
     ]
    },
    {
     "data": {
      "text/html": [
       "<table>\n",
       "<caption>A tibble: 4 × 3</caption>\n",
       "<thead>\n",
       "\t<tr><th scope=col>rs28991009</th><th scope=col>rs28991009_G</th><th scope=col>n</th></tr>\n",
       "\t<tr><th scope=col>&lt;fct&gt;</th><th scope=col>&lt;dbl&gt;</th><th scope=col>&lt;int&gt;</th></tr>\n",
       "</thead>\n",
       "<tbody>\n",
       "\t<tr><td>G/G (n = 28)     </td><td> 0</td><td>    28</td></tr>\n",
       "\t<tr><td>G/T (n = 5,410)  </td><td> 1</td><td>  5410</td></tr>\n",
       "\t<tr><td>T/T (n = 331,239)</td><td> 2</td><td>331239</td></tr>\n",
       "\t<tr><td>NA               </td><td>NA</td><td>   474</td></tr>\n",
       "</tbody>\n",
       "</table>\n"
      ],
      "text/latex": [
       "A tibble: 4 × 3\n",
       "\\begin{tabular}{r|lll}\n",
       " rs28991009 & rs28991009\\_G & n\\\\\n",
       " <fct> & <dbl> & <int>\\\\\n",
       "\\hline\n",
       "\t G/G (n = 28)      &  0 &     28\\\\\n",
       "\t G/T (n = 5,410)   &  1 &   5410\\\\\n",
       "\t T/T (n = 331,239) &  2 & 331239\\\\\n",
       "\t NA                & NA &    474\\\\\n",
       "\\end{tabular}\n"
      ],
      "text/markdown": [
       "\n",
       "A tibble: 4 × 3\n",
       "\n",
       "| rs28991009 &lt;fct&gt; | rs28991009_G &lt;dbl&gt; | n &lt;int&gt; |\n",
       "|---|---|---|\n",
       "| G/G (n = 28)      |  0 |     28 |\n",
       "| G/T (n = 5,410)   |  1 |   5410 |\n",
       "| T/T (n = 331,239) |  2 | 331239 |\n",
       "| NA                | NA |    474 |\n",
       "\n"
      ],
      "text/plain": [
       "  rs28991009        rs28991009_G n     \n",
       "1 G/G (n = 28)       0               28\n",
       "2 G/T (n = 5,410)    1             5410\n",
       "3 T/T (n = 331,239)  2           331239\n",
       "4 NA                NA              474"
      ]
     },
     "metadata": {},
     "output_type": "display_data"
    }
   ],
   "source": [
    "merged %>% count(rs28991009, rs28991009_G)"
   ]
  },
  {
   "cell_type": "code",
   "execution_count": 16,
   "metadata": {},
   "outputs": [],
   "source": [
    "p3 <- merged %>% drop_na(rs28991009) %>%\n",
    "mutate(\n",
    "    rs28991009 = as.factor(rs28991009)\n",
    ") %>%\n",
    "ggplot(aes(x = rs28991009, y = Year_of_birth, color = rs28991009)) + \n",
    "geom_violin(trim=FALSE) +\n",
    "geom_boxplot(width=0.2, outlier.shape=8, outlier.size=1, fill=\"white\")+\n",
    "theme_bw()+\n",
    "theme(\n",
    "#     axis.title.x=element_blank(),\n",
    "    axis.text.x=element_blank(),\n",
    "    axis.ticks.x=element_blank(),\n",
    "    legend.position = 'bottom'\n",
    ") +\n",
    "labs(\n",
    "    y = 'Year of birth',\n",
    "    x = 'rs28991009'\n",
    ") + scale_fill_brewer(palette=\"Dark2\")\n"
   ]
  },
  {
   "cell_type": "code",
   "execution_count": 17,
   "metadata": {},
   "outputs": [
    {
     "name": "stderr",
     "output_type": "stream",
     "text": [
      "Saving 6.67 x 6.67 in image\n"
     ]
    }
   ],
   "source": [
    "ggsave('Age_distribution.png', p3)\n"
   ]
  },
  {
   "cell_type": "code",
   "execution_count": 24,
   "metadata": {},
   "outputs": [
    {
     "name": "stderr",
     "output_type": "stream",
     "text": [
      "Warning message in ks.test(merged %>% filter(rs28991009_G %in% c(0)) %>% select(Year_of_birth) %>% :\n",
      "“p-value will be approximate in the presence of ties”"
     ]
    },
    {
     "data": {
      "text/plain": [
       "\n",
       "\tTwo-sample Kolmogorov-Smirnov test\n",
       "\n",
       "data:  merged %>% filter(rs28991009_G %in% c(0)) %>% select(Year_of_birth) %>%  and merged %>% filter(rs28991009_G %in% c(1, 2)) %>% select(Year_of_birth) %>%     pull() and     pull()\n",
       "D = 0.12515, p-value = 0.7729\n",
       "alternative hypothesis: two-sided\n"
      ]
     },
     "metadata": {},
     "output_type": "display_data"
    }
   ],
   "source": [
    "ks.test(\n",
    "    merged %>% filter(rs28991009_G %in% c(0)) %>% \n",
    "    select(Year_of_birth) %>% pull(),\n",
    "    merged %>% filter(rs28991009_G %in% c(1, 2)) %>% \n",
    "    select(Year_of_birth) %>% pull()\n",
    ")"
   ]
  },
  {
   "cell_type": "code",
   "execution_count": 25,
   "metadata": {},
   "outputs": [
    {
     "name": "stderr",
     "output_type": "stream",
     "text": [
      "Warning message in ks.test(merged %>% filter(rs28991009_G %in% c(0, 1)) %>% select(Year_of_birth) %>% :\n",
      "“p-value will be approximate in the presence of ties”"
     ]
    },
    {
     "data": {
      "text/plain": [
       "\n",
       "\tTwo-sample Kolmogorov-Smirnov test\n",
       "\n",
       "data:  merged %>% filter(rs28991009_G %in% c(0, 1)) %>% select(Year_of_birth) %>%  and merged %>% filter(rs28991009_G %in% c(2)) %>% select(Year_of_birth) %>%     pull() and     pull()\n",
       "D = 0.0075352, p-value = 0.9216\n",
       "alternative hypothesis: two-sided\n"
      ]
     },
     "metadata": {},
     "output_type": "display_data"
    }
   ],
   "source": [
    "ks.test(\n",
    "    merged %>% filter(rs28991009_G %in% c(0, 1)) %>% \n",
    "    select(Year_of_birth) %>% pull(),\n",
    "    merged %>% filter(rs28991009_G %in% c(2)) %>% \n",
    "    select(Year_of_birth) %>% pull()\n",
    ")"
   ]
  },
  {
   "cell_type": "code",
   "execution_count": null,
   "metadata": {},
   "outputs": [],
   "source": []
  }
 ],
 "metadata": {
  "kernelspec": {
   "display_name": "R",
   "language": "R",
   "name": "ir"
  },
  "language_info": {
   "codemirror_mode": "r",
   "file_extension": ".r",
   "mimetype": "text/x-r-source",
   "name": "R",
   "pygments_lexer": "r",
   "version": "3.6.1"
  }
 },
 "nbformat": 4,
 "nbformat_minor": 4
}
