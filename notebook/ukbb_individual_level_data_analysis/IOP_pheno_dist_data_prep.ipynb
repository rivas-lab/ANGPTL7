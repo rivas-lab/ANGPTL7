{
 "cells": [
  {
   "cell_type": "code",
   "execution_count": 1,
   "metadata": {},
   "outputs": [],
   "source": [
    "suppressPackageStartupMessages(library(tidyverse))\n",
    "suppressPackageStartupMessages(library(data.table))\n"
   ]
  },
  {
   "cell_type": "code",
   "execution_count": 2,
   "metadata": {},
   "outputs": [],
   "source": [
    "phe_files <- list()\n",
    "dfs <- list()\n"
   ]
  },
  {
   "cell_type": "code",
   "execution_count": 3,
   "metadata": {},
   "outputs": [],
   "source": [
    "phe_files[['keep']]      <- '/oak/stanford/groups/mrivas/ukbb24983/sqc/population_stratification/ukb24983_white_british.phe'\n",
    "phe_files[['Glaucoma']]  <- '/oak/stanford/groups/mrivas/ukbb24983/phenotypedata/extras/highconfidenceqc/phe/HC276.phe'\n",
    "phe_files[['age_death']] <- '/oak/stanford/groups/mrivas/ukbb24983/phenotypedata/9796/24611/phe/INI40007.phe'\n"
   ]
  },
  {
   "cell_type": "code",
   "execution_count": 4,
   "metadata": {},
   "outputs": [],
   "source": [
    "for (k in phe_files %>% names){\n",
    "    df <- fread(phe_files[[k]], sep='\\t', head=F)\n",
    "    colnames(df) <- c('FID', 'IID', k)[1:length(colnames(df))]    \n",
    "    dfs[[k]] <- df %>% mutate(\n",
    "        FID = as.character(FID),\n",
    "        IID = as.character(IID)    \n",
    "    )\n",
    "    df <- NULL\n",
    "}\n"
   ]
  },
  {
   "cell_type": "code",
   "execution_count": 5,
   "metadata": {},
   "outputs": [],
   "source": [
    "phe_files[['IOP']] <- '/oak/stanford/groups/mrivas/ukbb24983/phenotypedata/extras/iop/misc/ukb2005693_ukb37855_IOP.phe'\n"
   ]
  },
  {
   "cell_type": "code",
   "execution_count": 6,
   "metadata": {},
   "outputs": [],
   "source": [
    "dfs[['IOP']] <- fread(\n",
    "    phe_files[['IOP']],\n",
    "    stringsAsFactors=FALSE,\n",
    "    data.table=FALSE\n",
    ") %>%\n",
    "mutate(\n",
    "    FID = as.character(FID),\n",
    "    IID = as.character(IID)    \n",
    ")\n"
   ]
  },
  {
   "cell_type": "code",
   "execution_count": 7,
   "metadata": {},
   "outputs": [
    {
     "data": {
      "text/html": [
       "<table>\n",
       "<caption>A tibble: 2 × 2</caption>\n",
       "<thead>\n",
       "\t<tr><th scope=col>Glaucoma</th><th scope=col>n</th></tr>\n",
       "\t<tr><th scope=col>&lt;int&gt;</th><th scope=col>&lt;int&gt;</th></tr>\n",
       "</thead>\n",
       "<tbody>\n",
       "\t<tr><td>1</td><td>479760</td></tr>\n",
       "\t<tr><td>2</td><td>  8614</td></tr>\n",
       "</tbody>\n",
       "</table>\n"
      ],
      "text/latex": [
       "A tibble: 2 × 2\n",
       "\\begin{tabular}{r|ll}\n",
       " Glaucoma & n\\\\\n",
       " <int> & <int>\\\\\n",
       "\\hline\n",
       "\t 1 & 479760\\\\\n",
       "\t 2 &   8614\\\\\n",
       "\\end{tabular}\n"
      ],
      "text/markdown": [
       "\n",
       "A tibble: 2 × 2\n",
       "\n",
       "| Glaucoma &lt;int&gt; | n &lt;int&gt; |\n",
       "|---|---|\n",
       "| 1 | 479760 |\n",
       "| 2 |   8614 |\n",
       "\n"
      ],
      "text/plain": [
       "  Glaucoma n     \n",
       "1 1        479760\n",
       "2 2          8614"
      ]
     },
     "metadata": {},
     "output_type": "display_data"
    }
   ],
   "source": [
    "dfs[['Glaucoma']] %>% count(Glaucoma)\n"
   ]
  },
  {
   "cell_type": "code",
   "execution_count": 8,
   "metadata": {},
   "outputs": [
    {
     "name": "stdout",
     "output_type": "stream",
     "text": [
      "[1] 82253     8\n",
      "[1] 337151      3\n"
     ]
    }
   ],
   "source": [
    "dfs[['IOP']]      %>% inner_join(dfs[['keep']], by=c('FID', 'IID')) %>% dim() %>% print()\n",
    "dfs[['Glaucoma']] %>% inner_join(dfs[['keep']], by=c('FID', 'IID')) %>% dim() %>% print()\n"
   ]
  },
  {
   "cell_type": "code",
   "execution_count": 24,
   "metadata": {},
   "outputs": [],
   "source": [
    "plink_raw <- list()\n",
    "for (rsid in c('rs28991009')){\n",
    "    plink_raw[[rsid]] <- fread(\n",
    "        paste0('ukb24983_cal_cALL_v2_hg19_', rsid, '.raw')\n",
    "    ) %>%\n",
    "    mutate(\n",
    "        FID = as.character(FID),\n",
    "        IID = as.character(IID)        \n",
    "    )\n",
    "}\n"
   ]
  },
  {
   "cell_type": "code",
   "execution_count": 18,
   "metadata": {},
   "outputs": [],
   "source": [
    "read_birth_year <- function(){\n",
    "    df <- fread(\n",
    "        cmd=paste0(\n",
    "            'cat ', \n",
    "            '/oak/stanford/groups/mrivas/ukbb24983/phenotypedata/9796/24611/download/ukb24611.tab',\n",
    "            '| cut -f1,9'\n",
    "        ),\n",
    "        head=T, data.table=F\n",
    "    )\n",
    "    colnames(df) <- c('FID', 'Year_of_birth')\n",
    "    df %>% mutate(FID = as.character(FID))\n",
    "}\n",
    "\n",
    "dfs[['birth_year']] <- read_birth_year()"
   ]
  },
  {
   "cell_type": "code",
   "execution_count": 25,
   "metadata": {},
   "outputs": [],
   "source": [
    "merged <- dfs[['keep']] %>% \n",
    "left_join(dfs[['IOP']] %>% mutate(IOP_measured = TRUE), by=c('FID', 'IID')) %>%\n",
    "replace_na(list(IOP_measured = FALSE)) %>%\n",
    "inner_join(dfs[['Glaucoma']], by=c('FID', 'IID')) %>%\n",
    "inner_join(dfs[['birth_year']], by=c('FID')) %>%\n",
    "inner_join(dfs[['age_death']], by=c('FID', 'IID')) %>%\n",
    "inner_join(\n",
    "    plink_raw[['rs28991009']] %>% select(FID, IID, rs28991009_G),\n",
    "    by=c('FID', 'IID')\n",
    ")\n"
   ]
  },
  {
   "cell_type": "code",
   "execution_count": 54,
   "metadata": {},
   "outputs": [],
   "source": [
    "merged %>% fwrite('private_data/IOP_pheno_dist.merged.phe', sep='\\t')"
   ]
  },
  {
   "cell_type": "code",
   "execution_count": null,
   "metadata": {},
   "outputs": [],
   "source": []
  }
 ],
 "metadata": {
  "kernelspec": {
   "display_name": "R",
   "language": "R",
   "name": "ir"
  },
  "language_info": {
   "codemirror_mode": "r",
   "file_extension": ".r",
   "mimetype": "text/x-r-source",
   "name": "R",
   "pygments_lexer": "r",
   "version": "3.6.1"
  }
 },
 "nbformat": 4,
 "nbformat_minor": 4
}
