{
 "cells": [
  {
   "cell_type": "code",
   "execution_count": 1,
   "metadata": {},
   "outputs": [
    {
     "name": "stderr",
     "output_type": "stream",
     "text": [
      "Loading required package: tidyverse\n",
      "── Attaching packages ─────────────────────────────────────── tidyverse 1.2.1 ──\n",
      "✔ ggplot2 3.1.0       ✔ purrr   0.3.1  \n",
      "✔ tibble  2.0.1       ✔ dplyr   0.8.0.1\n",
      "✔ tidyr   0.8.3       ✔ stringr 1.4.0  \n",
      "✔ readr   1.3.1       ✔ forcats 0.4.0  \n",
      "── Conflicts ────────────────────────────────────────── tidyverse_conflicts() ──\n",
      "✖ dplyr::filter() masks stats::filter()\n",
      "✖ dplyr::lag()    masks stats::lag()\n",
      "Loading required package: data.table\n",
      "\n",
      "Attaching package: ‘data.table’\n",
      "\n",
      "The following objects are masked from ‘package:dplyr’:\n",
      "\n",
      "    between, first, last\n",
      "\n",
      "The following object is masked from ‘package:purrr’:\n",
      "\n",
      "    transpose\n",
      "\n"
     ]
    }
   ],
   "source": [
    "require(tidyverse)\n",
    "require(data.table)\n"
   ]
  },
  {
   "cell_type": "code",
   "execution_count": 2,
   "metadata": {},
   "outputs": [],
   "source": [
    "geno_f <- 'ukb24983_cal_cALL_v2_hg19_ANGPTL7_protein-altering_vars.raw'\n",
    "geno_df <- fread(\n",
    "    file=geno_f, sep='\\t', data.table=F\n",
    ")"
   ]
  },
  {
   "cell_type": "code",
   "execution_count": 3,
   "metadata": {},
   "outputs": [],
   "source": [
    "IOP_pheno_f <- '/oak/stanford/groups/mrivas/ukbb24983/phenotypedata/10136/21731/phe/INI5255.phe'\n",
    "IOP_pheno_df <- IOP_pheno_f %>% fread(sep='\\t', head=F)\n",
    "colnames(IOP_pheno_df) <- c('FID', 'IID', 'IOP')"
   ]
  },
  {
   "cell_type": "code",
   "execution_count": 4,
   "metadata": {},
   "outputs": [],
   "source": [
    "covar_f <- '/oak/stanford/groups/mrivas/ukbb24983/sqc/ukb24983_GWAS_covar.phe'\n",
    "covar_df <- fread(\n",
    "    cmd=paste0('cat ', covar_f, '| cut -f1-9'), sep='\\t', data.table=F\n",
    ")"
   ]
  },
  {
   "cell_type": "code",
   "execution_count": 5,
   "metadata": {},
   "outputs": [],
   "source": [
    "show_95CI <- function(estimate, standard_error){\n",
    "    c(estimate - 1.96 * standard_error, estimate + 1.96 * standard_error) %>% print()\n",
    "}"
   ]
  },
  {
   "cell_type": "markdown",
   "metadata": {},
   "source": [
    "## rs28991009, Gln175His, 1:11253684:G:T"
   ]
  },
  {
   "cell_type": "code",
   "execution_count": 6,
   "metadata": {},
   "outputs": [],
   "source": [
    "df_IOP_rs28991009 <- geno_df %>% select(IID, rs28991009_G) %>%\n",
    "inner_join(IOP_pheno_df %>% select(IID, IOP), by='IID') %>%\n",
    "inner_join(covar_df %>% select(-FID), by='IID') %>% \n",
    "filter(IOP != -9) %>% drop_na() %>%\n",
    "left_join(\n",
    "    data.frame(\n",
    "        rs28991009_G = c(0, 1, 2),\n",
    "        rs28991009 = c('T/T', 'G/T', 'G/G')   \n",
    "    ),\n",
    "    by='rs28991009_G'\n",
    ") %>%\n",
    "select(-rs28991009_G)"
   ]
  },
  {
   "cell_type": "code",
   "execution_count": 7,
   "metadata": {},
   "outputs": [
    {
     "data": {
      "text/html": [
       "<table>\n",
       "<thead><tr><th scope=col>rs28991009</th><th scope=col>n</th></tr></thead>\n",
       "<tbody>\n",
       "\t<tr><td>G/G  </td><td>80028</td></tr>\n",
       "\t<tr><td>G/T  </td><td> 1355</td></tr>\n",
       "\t<tr><td>T/T  </td><td>    5</td></tr>\n",
       "</tbody>\n",
       "</table>\n"
      ],
      "text/latex": [
       "\\begin{tabular}{r|ll}\n",
       " rs28991009 & n\\\\\n",
       "\\hline\n",
       "\t G/G   & 80028\\\\\n",
       "\t G/T   &  1355\\\\\n",
       "\t T/T   &     5\\\\\n",
       "\\end{tabular}\n"
      ],
      "text/markdown": [
       "\n",
       "| rs28991009 | n |\n",
       "|---|---|\n",
       "| G/G   | 80028 |\n",
       "| G/T   |  1355 |\n",
       "| T/T   |     5 |\n",
       "\n"
      ],
      "text/plain": [
       "  rs28991009 n    \n",
       "1 G/G        80028\n",
       "2 G/T         1355\n",
       "3 T/T            5"
      ]
     },
     "metadata": {},
     "output_type": "display_data"
    }
   ],
   "source": [
    "df_IOP_rs28991009 %>% count(rs28991009)"
   ]
  },
  {
   "cell_type": "code",
   "execution_count": 8,
   "metadata": {},
   "outputs": [],
   "source": [
    "lm_rs28991009 <- lm (\n",
    "    IOP ~ age + as.factor(sex) + as.factor(Array) + PC1 + PC2 + PC3 + PC4 + as.factor(rs28991009),\n",
    "    df_IOP_rs28991009 \n",
    ")\n"
   ]
  },
  {
   "cell_type": "code",
   "execution_count": 9,
   "metadata": {},
   "outputs": [
    {
     "data": {
      "text/plain": [
       "\n",
       "Call:\n",
       "lm(formula = IOP ~ age + as.factor(sex) + as.factor(Array) + \n",
       "    PC1 + PC2 + PC3 + PC4 + as.factor(rs28991009), data = df_IOP_rs28991009)\n",
       "\n",
       "Residuals:\n",
       "    Min      1Q  Median      3Q     Max \n",
       "-16.589  -2.629  -0.330   2.207  54.924 \n",
       "\n",
       "Coefficients:\n",
       "                          Estimate Std. Error t value Pr(>|t|)    \n",
       "(Intercept)              13.176825   0.166714  79.039  < 2e-16 ***\n",
       "age                       0.040123   0.001778  22.572  < 2e-16 ***\n",
       "as.factor(sex)1           0.121370   0.027927   4.346 1.39e-05 ***\n",
       "as.factor(Array)1        -0.063010   0.045223  -1.393   0.1635    \n",
       "PC1                      -0.014744   0.009083  -1.623   0.1046    \n",
       "PC2                       0.017346   0.009392   1.847   0.0648 .  \n",
       "PC3                       0.007941   0.009000   0.882   0.3776    \n",
       "PC4                       0.003841   0.005145   0.747   0.4553    \n",
       "as.factor(rs28991009)G/T -0.732150   0.108803  -6.729 1.72e-11 ***\n",
       "as.factor(rs28991009)T/T -2.951591   1.776088  -1.662   0.0965 .  \n",
       "---\n",
       "Signif. codes:  0 ‘***’ 0.001 ‘**’ 0.01 ‘*’ 0.05 ‘.’ 0.1 ‘ ’ 1\n",
       "\n",
       "Residual standard error: 3.971 on 81378 degrees of freedom\n",
       "Multiple R-squared:  0.007299,\tAdjusted R-squared:  0.00719 \n",
       "F-statistic: 66.49 on 9 and 81378 DF,  p-value: < 2.2e-16\n"
      ]
     },
     "metadata": {},
     "output_type": "display_data"
    }
   ],
   "source": [
    "summary(lm_rs28991009)"
   ]
  },
  {
   "cell_type": "code",
   "execution_count": 10,
   "metadata": {},
   "outputs": [
    {
     "name": "stdout",
     "output_type": "stream",
     "text": [
      "[1] -0.9454039 -0.5188961\n"
     ]
    }
   ],
   "source": [
    "show_95CI(-0.732150, 0.108803)"
   ]
  },
  {
   "cell_type": "code",
   "execution_count": 11,
   "metadata": {},
   "outputs": [
    {
     "name": "stdout",
     "output_type": "stream",
     "text": [
      "[1] -6.4327235  0.5295415\n"
     ]
    }
   ],
   "source": [
    "show_95CI(-2.951591, 1.776088)"
   ]
  },
  {
   "cell_type": "markdown",
   "metadata": {},
   "source": [
    "## rs143435072, Arg177Ter, 1:11253688:C:T"
   ]
  },
  {
   "cell_type": "code",
   "execution_count": 12,
   "metadata": {},
   "outputs": [],
   "source": [
    "df_IOP_rs143435072 <- geno_df %>% select(IID, rs143435072_C) %>%\n",
    "inner_join(IOP_pheno_df %>% select(IID, IOP), by='IID') %>%\n",
    "inner_join(covar_df %>% select(-FID), by='IID') %>% \n",
    "filter(IOP != -9) %>% drop_na() %>%\n",
    "left_join(\n",
    "    data.frame(\n",
    "        rs143435072_C = c(0, 1, 2),\n",
    "        rs143435072 = c('T/T', 'C/T', 'C/C')   \n",
    "    ),\n",
    "    by='rs143435072_C'\n",
    ") %>%\n",
    "select(-rs143435072_C)"
   ]
  },
  {
   "cell_type": "code",
   "execution_count": 13,
   "metadata": {},
   "outputs": [
    {
     "data": {
      "text/html": [
       "<table>\n",
       "<thead><tr><th scope=col>rs143435072</th><th scope=col>n</th></tr></thead>\n",
       "<tbody>\n",
       "\t<tr><td>C/C  </td><td>81453</td></tr>\n",
       "\t<tr><td>C/T  </td><td>   62</td></tr>\n",
       "</tbody>\n",
       "</table>\n"
      ],
      "text/latex": [
       "\\begin{tabular}{r|ll}\n",
       " rs143435072 & n\\\\\n",
       "\\hline\n",
       "\t C/C   & 81453\\\\\n",
       "\t C/T   &    62\\\\\n",
       "\\end{tabular}\n"
      ],
      "text/markdown": [
       "\n",
       "| rs143435072 | n |\n",
       "|---|---|\n",
       "| C/C   | 81453 |\n",
       "| C/T   |    62 |\n",
       "\n"
      ],
      "text/plain": [
       "  rs143435072 n    \n",
       "1 C/C         81453\n",
       "2 C/T            62"
      ]
     },
     "metadata": {},
     "output_type": "display_data"
    }
   ],
   "source": [
    "df_IOP_rs143435072 %>% count(rs143435072)"
   ]
  },
  {
   "cell_type": "code",
   "execution_count": 14,
   "metadata": {},
   "outputs": [],
   "source": [
    "lm_rs143435072 <- lm (\n",
    "    IOP ~ age + as.factor(sex) + as.factor(Array) + PC1 + PC2 + PC3 + PC4 + as.factor(rs143435072),\n",
    "    df_IOP_rs143435072 \n",
    ")\n"
   ]
  },
  {
   "cell_type": "code",
   "execution_count": 15,
   "metadata": {},
   "outputs": [
    {
     "data": {
      "text/plain": [
       "\n",
       "Call:\n",
       "lm(formula = IOP ~ age + as.factor(sex) + as.factor(Array) + \n",
       "    PC1 + PC2 + PC3 + PC4 + as.factor(rs143435072), data = df_IOP_rs143435072)\n",
       "\n",
       "Residuals:\n",
       "    Min      1Q  Median      3Q     Max \n",
       "-16.576  -2.629  -0.331   2.202  54.937 \n",
       "\n",
       "Coefficients:\n",
       "                           Estimate Std. Error t value Pr(>|t|)    \n",
       "(Intercept)               13.167172   0.166573  79.048  < 2e-16 ***\n",
       "age                        0.040201   0.001776  22.633  < 2e-16 ***\n",
       "as.factor(sex)1            0.120998   0.027907   4.336 1.45e-05 ***\n",
       "as.factor(Array)1         -0.064417   0.045208  -1.425   0.1542    \n",
       "PC1                       -0.014126   0.009076  -1.556   0.1196    \n",
       "PC2                        0.017798   0.009386   1.896   0.0579 .  \n",
       "PC3                        0.008495   0.008994   0.944   0.3449    \n",
       "PC4                        0.004117   0.005141   0.801   0.4233    \n",
       "as.factor(rs143435072)C/T -0.944409   0.504579  -1.872   0.0613 .  \n",
       "---\n",
       "Signif. codes:  0 ‘***’ 0.001 ‘**’ 0.01 ‘*’ 0.05 ‘.’ 0.1 ‘ ’ 1\n",
       "\n",
       "Residual standard error: 3.971 on 81506 degrees of freedom\n",
       "Multiple R-squared:  0.006778,\tAdjusted R-squared:  0.00668 \n",
       "F-statistic: 69.53 on 8 and 81506 DF,  p-value: < 2.2e-16\n"
      ]
     },
     "metadata": {},
     "output_type": "display_data"
    }
   ],
   "source": [
    "summary(lm_rs143435072)"
   ]
  },
  {
   "cell_type": "code",
   "execution_count": 16,
   "metadata": {},
   "outputs": [
    {
     "name": "stdout",
     "output_type": "stream",
     "text": [
      "[1] -1.93338384  0.04456584\n"
     ]
    }
   ],
   "source": [
    "show_95CI(-0.944409, 0.504579)"
   ]
  },
  {
   "cell_type": "markdown",
   "metadata": {},
   "source": [
    "## rs28991002, Arg140His, 1:11252369:G:A\n"
   ]
  },
  {
   "cell_type": "code",
   "execution_count": 17,
   "metadata": {},
   "outputs": [],
   "source": [
    "df_IOP_rs28991002 <- geno_df %>% select(IID, rs28991002_G) %>%\n",
    "inner_join(IOP_pheno_df %>% select(IID, IOP), by='IID') %>%\n",
    "inner_join(covar_df %>% select(-FID), by='IID') %>% \n",
    "filter(IOP != -9) %>% drop_na() %>%\n",
    "left_join(\n",
    "    data.frame(\n",
    "        rs28991002_G = c(0, 1, 2),\n",
    "        rs28991002 = c('A/A', 'G/A', 'G/G')   \n",
    "    ),\n",
    "    by='rs28991002_G'\n",
    ") %>%\n",
    "select(-rs28991002_G)"
   ]
  },
  {
   "cell_type": "code",
   "execution_count": 18,
   "metadata": {},
   "outputs": [
    {
     "data": {
      "text/html": [
       "<table>\n",
       "<thead><tr><th scope=col>rs28991002</th><th scope=col>n</th></tr></thead>\n",
       "<tbody>\n",
       "\t<tr><td>G/A  </td><td>  427</td></tr>\n",
       "\t<tr><td>G/G  </td><td>81055</td></tr>\n",
       "</tbody>\n",
       "</table>\n"
      ],
      "text/latex": [
       "\\begin{tabular}{r|ll}\n",
       " rs28991002 & n\\\\\n",
       "\\hline\n",
       "\t G/A   &   427\\\\\n",
       "\t G/G   & 81055\\\\\n",
       "\\end{tabular}\n"
      ],
      "text/markdown": [
       "\n",
       "| rs28991002 | n |\n",
       "|---|---|\n",
       "| G/A   |   427 |\n",
       "| G/G   | 81055 |\n",
       "\n"
      ],
      "text/plain": [
       "  rs28991002 n    \n",
       "1 G/A          427\n",
       "2 G/G        81055"
      ]
     },
     "metadata": {},
     "output_type": "display_data"
    }
   ],
   "source": [
    "df_IOP_rs28991002 %>% count(rs28991002)"
   ]
  },
  {
   "cell_type": "code",
   "execution_count": 19,
   "metadata": {},
   "outputs": [],
   "source": [
    "lm_rs28991002 <- lm (\n",
    "    IOP ~ age + as.factor(sex) + as.factor(Array) + PC1 + PC2 + PC3 + PC4 + as.factor(rs28991002),\n",
    "    df_IOP_rs28991002 \n",
    ")\n"
   ]
  },
  {
   "cell_type": "code",
   "execution_count": 20,
   "metadata": {},
   "outputs": [
    {
     "data": {
      "text/plain": [
       "\n",
       "Call:\n",
       "lm(formula = IOP ~ age + as.factor(sex) + as.factor(Array) + \n",
       "    PC1 + PC2 + PC3 + PC4 + as.factor(rs28991002), data = df_IOP_rs28991002)\n",
       "\n",
       "Residuals:\n",
       "    Min      1Q  Median      3Q     Max \n",
       "-16.577  -2.629  -0.331   2.202  54.934 \n",
       "\n",
       "Coefficients:\n",
       "                          Estimate Std. Error t value Pr(>|t|)    \n",
       "(Intercept)              12.679623   0.254799  49.763  < 2e-16 ***\n",
       "age                       0.040243   0.001777  22.652  < 2e-16 ***\n",
       "as.factor(sex)1           0.121084   0.027911   4.338 1.44e-05 ***\n",
       "as.factor(Array)1        -0.064080   0.045220  -1.417   0.1565    \n",
       "PC1                      -0.014235   0.009077  -1.568   0.1168    \n",
       "PC2                       0.018324   0.009388   1.952   0.0510 .  \n",
       "PC3                       0.007724   0.008996   0.859   0.3906    \n",
       "PC4                       0.004097   0.005143   0.797   0.4257    \n",
       "as.factor(rs28991002)G/G  0.481583   0.192698   2.499   0.0125 *  \n",
       "---\n",
       "Signif. codes:  0 ‘***’ 0.001 ‘**’ 0.01 ‘*’ 0.05 ‘.’ 0.1 ‘ ’ 1\n",
       "\n",
       "Residual standard error: 3.971 on 81473 degrees of freedom\n",
       "Multiple R-squared:  0.00683,\tAdjusted R-squared:  0.006733 \n",
       "F-statistic: 70.04 on 8 and 81473 DF,  p-value: < 2.2e-16\n"
      ]
     },
     "metadata": {},
     "output_type": "display_data"
    }
   ],
   "source": [
    "summary(lm_rs28991002)"
   ]
  },
  {
   "cell_type": "markdown",
   "metadata": {},
   "source": [
    "#### Note. BETA is computed for G/G above"
   ]
  },
  {
   "cell_type": "code",
   "execution_count": 21,
   "metadata": {},
   "outputs": [
    {
     "name": "stdout",
     "output_type": "stream",
     "text": [
      "[1] -0.8592711 -0.1038949\n"
     ]
    }
   ],
   "source": [
    "show_95CI(-0.481583, 0.192698)"
   ]
  },
  {
   "cell_type": "markdown",
   "metadata": {},
   "source": [
    "## rs200058074, Gln136Arg, 1:11252357:A:G\n",
    "\n"
   ]
  },
  {
   "cell_type": "code",
   "execution_count": 22,
   "metadata": {},
   "outputs": [],
   "source": [
    "df_IOP_rs200058074 <- geno_df %>% select(IID, rs200058074_A) %>%\n",
    "inner_join(IOP_pheno_df %>% select(IID, IOP), by='IID') %>%\n",
    "inner_join(covar_df %>% select(-FID), by='IID') %>% \n",
    "filter(IOP != -9) %>% drop_na() %>%\n",
    "left_join(\n",
    "    data.frame(\n",
    "        rs200058074_A = c(0, 1, 2),\n",
    "        rs200058074 = c('G/G', 'A/G', 'A/A')   \n",
    "    ),\n",
    "    by='rs200058074_A'\n",
    ") %>%\n",
    "select(-rs200058074_A)"
   ]
  },
  {
   "cell_type": "code",
   "execution_count": 23,
   "metadata": {},
   "outputs": [
    {
     "data": {
      "text/html": [
       "<table>\n",
       "<thead><tr><th scope=col>rs200058074</th><th scope=col>n</th></tr></thead>\n",
       "<tbody>\n",
       "\t<tr><td>A/A  </td><td>81403</td></tr>\n",
       "\t<tr><td>A/G  </td><td>   80</td></tr>\n",
       "</tbody>\n",
       "</table>\n"
      ],
      "text/latex": [
       "\\begin{tabular}{r|ll}\n",
       " rs200058074 & n\\\\\n",
       "\\hline\n",
       "\t A/A   & 81403\\\\\n",
       "\t A/G   &    80\\\\\n",
       "\\end{tabular}\n"
      ],
      "text/markdown": [
       "\n",
       "| rs200058074 | n |\n",
       "|---|---|\n",
       "| A/A   | 81403 |\n",
       "| A/G   |    80 |\n",
       "\n"
      ],
      "text/plain": [
       "  rs200058074 n    \n",
       "1 A/A         81403\n",
       "2 A/G            80"
      ]
     },
     "metadata": {},
     "output_type": "display_data"
    }
   ],
   "source": [
    "df_IOP_rs200058074 %>% count(rs200058074)"
   ]
  },
  {
   "cell_type": "code",
   "execution_count": 24,
   "metadata": {},
   "outputs": [],
   "source": [
    "lm_rs200058074 <- lm (\n",
    "    IOP ~ age + as.factor(sex) + as.factor(Array) + PC1 + PC2 + PC3 + PC4 + as.factor(rs200058074),\n",
    "    df_IOP_rs200058074\n",
    ")\n"
   ]
  },
  {
   "cell_type": "code",
   "execution_count": 25,
   "metadata": {},
   "outputs": [
    {
     "data": {
      "text/plain": [
       "\n",
       "Call:\n",
       "lm(formula = IOP ~ age + as.factor(sex) + as.factor(Array) + \n",
       "    PC1 + PC2 + PC3 + PC4 + as.factor(rs200058074), data = df_IOP_rs200058074)\n",
       "\n",
       "Residuals:\n",
       "    Min      1Q  Median      3Q     Max \n",
       "-16.575  -2.629  -0.331   2.202  54.938 \n",
       "\n",
       "Coefficients:\n",
       "                           Estimate Std. Error t value Pr(>|t|)    \n",
       "(Intercept)               13.168731   0.166622  79.034  < 2e-16 ***\n",
       "age                        0.040192   0.001776  22.625  < 2e-16 ***\n",
       "as.factor(sex)1            0.120881   0.027913   4.331 1.49e-05 ***\n",
       "as.factor(Array)1         -0.063037   0.045233  -1.394   0.1634    \n",
       "PC1                       -0.013960   0.009078  -1.538   0.1241    \n",
       "PC2                        0.017675   0.009387   1.883   0.0597 .  \n",
       "PC3                        0.008441   0.008998   0.938   0.3482    \n",
       "PC4                        0.004158   0.005142   0.809   0.4187    \n",
       "as.factor(rs200058074)A/G -0.207756   0.444267  -0.468   0.6400    \n",
       "---\n",
       "Signif. codes:  0 ‘***’ 0.001 ‘**’ 0.01 ‘*’ 0.05 ‘.’ 0.1 ‘ ’ 1\n",
       "\n",
       "Residual standard error: 3.971 on 81474 degrees of freedom\n",
       "Multiple R-squared:  0.006738,\tAdjusted R-squared:  0.00664 \n",
       "F-statistic: 69.09 on 8 and 81474 DF,  p-value: < 2.2e-16\n"
      ]
     },
     "metadata": {},
     "output_type": "display_data"
    }
   ],
   "source": [
    "summary(lm_rs200058074)"
   ]
  },
  {
   "cell_type": "code",
   "execution_count": 26,
   "metadata": {},
   "outputs": [
    {
     "name": "stdout",
     "output_type": "stream",
     "text": [
      "[1] -1.0785193  0.6630073\n"
     ]
    }
   ],
   "source": [
    "show_95CI(-0.207756, 0.444267)"
   ]
  },
  {
   "cell_type": "markdown",
   "metadata": {},
   "source": [
    "## for forest plot\n"
   ]
  },
  {
   "cell_type": "code",
   "execution_count": 34,
   "metadata": {},
   "outputs": [],
   "source": [
    "df2_IOP_rs28991009 <- geno_df %>% select(IID, rs28991009_G) %>%\n",
    "inner_join(IOP_pheno_df %>% select(IID, IOP), by='IID') %>%\n",
    "inner_join(covar_df %>% select(-FID), by='IID') %>% \n",
    "filter(IOP != -9) %>% drop_na() %>%\n",
    "# left_join(\n",
    "#     data.frame(\n",
    "#         rs28991009_G = c(0, 1, 2),\n",
    "#         rs28991009 = c('T/T', 'G/T', 'G/G')   \n",
    "#     ),\n",
    "#     by='rs28991009_G'\n",
    "# ) %>%\n",
    "mutate(\n",
    "    rs28991009 = 2 - rs28991009_G\n",
    ") %>%\n",
    "select(-rs28991009_G)"
   ]
  },
  {
   "cell_type": "code",
   "execution_count": 36,
   "metadata": {},
   "outputs": [
    {
     "data": {
      "text/html": [
       "<table>\n",
       "<thead><tr><th scope=col>rs28991009</th><th scope=col>n</th></tr></thead>\n",
       "<tbody>\n",
       "\t<tr><td>0    </td><td>80028</td></tr>\n",
       "\t<tr><td>1    </td><td> 1355</td></tr>\n",
       "\t<tr><td>2    </td><td>    5</td></tr>\n",
       "</tbody>\n",
       "</table>\n"
      ],
      "text/latex": [
       "\\begin{tabular}{r|ll}\n",
       " rs28991009 & n\\\\\n",
       "\\hline\n",
       "\t 0     & 80028\\\\\n",
       "\t 1     &  1355\\\\\n",
       "\t 2     &     5\\\\\n",
       "\\end{tabular}\n"
      ],
      "text/markdown": [
       "\n",
       "| rs28991009 | n |\n",
       "|---|---|\n",
       "| 0     | 80028 |\n",
       "| 1     |  1355 |\n",
       "| 2     |     5 |\n",
       "\n"
      ],
      "text/plain": [
       "  rs28991009 n    \n",
       "1 0          80028\n",
       "2 1           1355\n",
       "3 2              5"
      ]
     },
     "metadata": {},
     "output_type": "display_data"
    }
   ],
   "source": [
    "df2_IOP_rs28991009 %>% count(rs28991009)"
   ]
  },
  {
   "cell_type": "code",
   "execution_count": 37,
   "metadata": {},
   "outputs": [],
   "source": [
    "lm_additive_rs28991009 <- lm (\n",
    "    IOP ~ age + as.factor(sex) + as.factor(Array) + PC1 + PC2 + PC3 + PC4 + rs28991009,\n",
    "    df2_IOP_rs28991009 \n",
    ")\n"
   ]
  },
  {
   "cell_type": "code",
   "execution_count": 38,
   "metadata": {},
   "outputs": [
    {
     "data": {
      "text/plain": [
       "\n",
       "Call:\n",
       "lm(formula = IOP ~ age + as.factor(sex) + as.factor(Array) + \n",
       "    PC1 + PC2 + PC3 + PC4 + rs28991009, data = df2_IOP_rs28991009)\n",
       "\n",
       "Residuals:\n",
       "    Min      1Q  Median      3Q     Max \n",
       "-16.589  -2.629  -0.329   2.207  54.924 \n",
       "\n",
       "Coefficients:\n",
       "                   Estimate Std. Error t value Pr(>|t|)    \n",
       "(Intercept)       13.177090   0.166713  79.040  < 2e-16 ***\n",
       "age                0.040124   0.001778  22.572  < 2e-16 ***\n",
       "as.factor(sex)1    0.121260   0.027927   4.342 1.41e-05 ***\n",
       "as.factor(Array)1 -0.063109   0.045223  -1.396   0.1629    \n",
       "PC1               -0.014735   0.009083  -1.622   0.1048    \n",
       "PC2                0.017348   0.009392   1.847   0.0647 .  \n",
       "PC3                0.007960   0.009000   0.884   0.3765    \n",
       "PC4                0.003860   0.005145   0.750   0.4531    \n",
       "rs28991009        -0.743050   0.108010  -6.879 6.05e-12 ***\n",
       "---\n",
       "Signif. codes:  0 ‘***’ 0.001 ‘**’ 0.01 ‘*’ 0.05 ‘.’ 0.1 ‘ ’ 1\n",
       "\n",
       "Residual standard error: 3.971 on 81379 degrees of freedom\n",
       "Multiple R-squared:  0.007291,\tAdjusted R-squared:  0.007193 \n",
       "F-statistic: 74.71 on 8 and 81379 DF,  p-value: < 2.2e-16\n"
      ]
     },
     "metadata": {},
     "output_type": "display_data"
    }
   ],
   "source": [
    "summary(lm_additive_rs28991009)"
   ]
  },
  {
   "cell_type": "code",
   "execution_count": null,
   "metadata": {},
   "outputs": [],
   "source": []
  }
 ],
 "metadata": {
  "kernelspec": {
   "display_name": "R 3.5 (module)",
   "language": "R",
   "name": "ir35ml"
  },
  "language_info": {
   "codemirror_mode": "r",
   "file_extension": ".r",
   "mimetype": "text/x-r-source",
   "name": "R",
   "pygments_lexer": "r",
   "version": "3.5.1"
  }
 },
 "nbformat": 4,
 "nbformat_minor": 2
}
