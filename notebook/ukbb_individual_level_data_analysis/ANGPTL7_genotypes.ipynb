{
 "cells": [
  {
   "cell_type": "code",
   "execution_count": 1,
   "metadata": {},
   "outputs": [
    {
     "name": "stderr",
     "output_type": "stream",
     "text": [
      "Loading required package: tidyverse\n",
      "── Attaching packages ─────────────────────────────────────── tidyverse 1.2.1 ──\n",
      "✔ ggplot2 3.1.0       ✔ purrr   0.3.1  \n",
      "✔ tibble  2.0.1       ✔ dplyr   0.8.0.1\n",
      "✔ tidyr   0.8.3       ✔ stringr 1.4.0  \n",
      "✔ readr   1.3.1       ✔ forcats 0.4.0  \n",
      "── Conflicts ────────────────────────────────────────── tidyverse_conflicts() ──\n",
      "✖ dplyr::filter() masks stats::filter()\n",
      "✖ dplyr::lag()    masks stats::lag()\n",
      "Loading required package: data.table\n",
      "\n",
      "Attaching package: ‘data.table’\n",
      "\n",
      "The following objects are masked from ‘package:dplyr’:\n",
      "\n",
      "    between, first, last\n",
      "\n",
      "The following object is masked from ‘package:purrr’:\n",
      "\n",
      "    transpose\n",
      "\n"
     ]
    }
   ],
   "source": [
    "require(tidyverse)\n",
    "require(data.table)"
   ]
  },
  {
   "cell_type": "code",
   "execution_count": 121,
   "metadata": {},
   "outputs": [],
   "source": [
    "cohort_size <- 337151"
   ]
  },
  {
   "cell_type": "markdown",
   "metadata": {},
   "source": [
    "### compute expected genotype counts under HWE"
   ]
  },
  {
   "cell_type": "code",
   "execution_count": 48,
   "metadata": {},
   "outputs": [],
   "source": [
    "annot.tbl <- '/oak/stanford/groups/mrivas/private_data/ukbb/variant_filtering/variant_filter_table.tsv.gz'\n"
   ]
  },
  {
   "cell_type": "code",
   "execution_count": 49,
   "metadata": {},
   "outputs": [],
   "source": [
    "annot.arr <- fread(\n",
    "    cmd=paste0('zcat ', annot.tbl),\n",
    "    sep='\\t', data.table=FALSE\n",
    ") %>% mutate(\n",
    "    MAF=pmin(freq, 1-freq)\n",
    ") %>%\n",
    "mutate(\n",
    "    variant = paste(CHROM, POS, REF, ALT, sep=':'),\n",
    "    is_outside_of_MHC = (as.numeric(CHROM) == 6 & as.numeric(POS) < 25477797) | ( as.numeric(CHROM) == 6 & 36448354 < as.numeric(POS)) | as.numeric(CHROM) != 6\n",
    ")\n"
   ]
  },
  {
   "cell_type": "code",
   "execution_count": 135,
   "metadata": {},
   "outputs": [],
   "source": [
    "expected_genotype_freq <- annot.arr %>% \n",
    "filter(ID %in% c('rs200058074', 'rs28991002', 'rs28991009', 'rs143435072')) %>%\n",
    "select(ID, REF, ALT, freq) %>%\n",
    "mutate(\n",
    "    REF_REF = (1 - freq) * (1 - freq),\n",
    "    REF_ALT = 2 * freq * (1 - freq),\n",
    "    ALT_ALT = freq * freq\n",
    ") %>%\n",
    "gather(\n",
    "  genotype_s, expected, -ID, -REF, -ALT, -freq\n",
    ") %>%\n",
    "arrange(ID) %>%\n",
    "mutate(\n",
    "    g_REF_REF = paste(REF, REF, sep='/'),\n",
    "    g_REF_ALT = paste(REF, ALT, sep='/'),\n",
    "    g_ALT_ALT = paste(ALT, ALT, sep='/'),\n",
    "    genotype = if_else(genotype_s == 'REF_REF', g_REF_REF, if_else(genotype_s == 'REF_ALT', g_REF_ALT, g_ALT_ALT))\n",
    ") %>%\n",
    "select(-g_REF_REF, -g_REF_ALT, -g_ALT_ALT, -genotype_s, -freq) %>%\n",
    "select(ID, genotype, expected) %>%\n",
    "arrange(ID, -expected) %>%\n",
    "bind_rows(\n",
    "    raw_df %>% gather(variant_REF, genotype, -IID) %>% \n",
    "    separate(variant_REF, c(\"ID\", \"REF\"), sep = \"_\") %>%\n",
    "    count(ID, genotype) %>%\n",
    "    filter(is.na(genotype)) %>%\n",
    "    mutate(expected = n / cohort_size) %>% \n",
    "    select(-n)    \n",
    ")\n",
    "\n"
   ]
  },
  {
   "cell_type": "markdown",
   "metadata": {},
   "source": [
    "### read genotype counts (raw data)"
   ]
  },
  {
   "cell_type": "code",
   "execution_count": 2,
   "metadata": {},
   "outputs": [],
   "source": [
    "raw_f <- 'ukb24983_cal_cALL_v2_hg19_ANGPTL7_protein-altering_vars.raw'\n"
   ]
  },
  {
   "cell_type": "code",
   "execution_count": 7,
   "metadata": {},
   "outputs": [],
   "source": [
    "raw_df <- fread(\n",
    "    cmd=paste0('cat ', raw_f, ' | cut -f2,7-10'),\n",
    "    sep='\\t', data.table=F\n",
    ")"
   ]
  },
  {
   "cell_type": "code",
   "execution_count": 21,
   "metadata": {},
   "outputs": [],
   "source": [
    "ref_alt_df <- data.frame(\n",
    "    rsID = c('rs200058074', 'rs28991002', 'rs28991009', 'rs143435072'),\n",
    "    ref  = c('A', 'G', 'G', 'C'),\n",
    "    alt  = c('G', 'A', 'T', 'T')\n",
    ") %>%\n",
    "mutate(\n",
    "    rsID_ref = paste0(rsID, '_', ref),\n",
    "    raw_2 = paste0(ref, '/', ref),\n",
    "    raw_1 = paste0(ref, '/', alt),\n",
    "    raw_0 = paste0(alt, '/', alt)\n",
    ")"
   ]
  },
  {
   "cell_type": "code",
   "execution_count": 82,
   "metadata": {},
   "outputs": [],
   "source": [
    "geno_count <- raw_df %>% \n",
    "gather(\n",
    "    rsID_ref, genotype, -IID\n",
    ") %>% \n",
    "inner_join(\n",
    "    ref_alt_df %>% select(-ref, -alt), by='rsID_ref'\n",
    ") %>% \n",
    "mutate(\n",
    "    genotype_str = genotype,\n",
    "     genotype_str = if_else(genotype == 2, raw_2, \n",
    "                            if_else(genotype == 1, raw_1, \n",
    "                                    if_else(genotype == 0, raw_0, 'NA'))),\n",
    ") %>% select(-raw_2, -raw_1, -raw_0, -rsID_ref, -genotype) %>% \n",
    "spread(rsID, genotype_str) %>% \n",
    "count(\n",
    "    rs200058074, rs28991002, rs28991009, rs143435072\n",
    ") %>% arrange(-n)"
   ]
  },
  {
   "cell_type": "code",
   "execution_count": 143,
   "metadata": {},
   "outputs": [
    {
     "data": {
      "text/html": [
       "<table>\n",
       "<thead><tr><th scope=col>rs200058074</th><th scope=col>rs28991002</th><th scope=col>rs28991009</th><th scope=col>rs143435072</th><th scope=col>n</th></tr></thead>\n",
       "<tbody>\n",
       "\t<tr><td>A/A   </td><td>G/G   </td><td>G/G   </td><td>C/C   </td><td>328492</td></tr>\n",
       "\t<tr><td>A/A   </td><td>G/G   </td><td>G/T   </td><td>C/C   </td><td>  5395</td></tr>\n",
       "\t<tr><td>A/A   </td><td>G/A   </td><td>G/G   </td><td>C/C   </td><td>  1693</td></tr>\n",
       "\t<tr><td>A/A   </td><td>G/G   </td><td>NA    </td><td>C/C   </td><td>   471</td></tr>\n",
       "\t<tr><td>A/G   </td><td>G/G   </td><td>G/G   </td><td>C/C   </td><td>   356</td></tr>\n",
       "\t<tr><td>A/A   </td><td>G/G   </td><td>G/G   </td><td>C/T   </td><td>   270</td></tr>\n",
       "\t<tr><td>A/A   </td><td>NA    </td><td>G/G   </td><td>C/C   </td><td>   194</td></tr>\n",
       "\t<tr><td>NA    </td><td>G/G   </td><td>G/G   </td><td>C/C   </td><td>   192</td></tr>\n",
       "\t<tr><td>A/A   </td><td>G/G   </td><td>G/G   </td><td>NA    </td><td>    37</td></tr>\n",
       "\t<tr><td>A/A   </td><td>G/G   </td><td>T/T   </td><td>C/C   </td><td>    28</td></tr>\n",
       "\t<tr><td>A/A   </td><td>G/A   </td><td>G/T   </td><td>C/C   </td><td>     8</td></tr>\n",
       "\t<tr><td>A/G   </td><td>G/G   </td><td>G/T   </td><td>C/C   </td><td>     4</td></tr>\n",
       "\t<tr><td>A/A   </td><td>NA    </td><td>G/T   </td><td>C/C   </td><td>     2</td></tr>\n",
       "\t<tr><td>A/A   </td><td>G/A   </td><td>G/G   </td><td>NA    </td><td>     2</td></tr>\n",
       "\t<tr><td>A/A   </td><td>G/G   </td><td>NA    </td><td>C/T   </td><td>     2</td></tr>\n",
       "\t<tr><td>NA    </td><td>G/A   </td><td>G/G   </td><td>C/C   </td><td>     1</td></tr>\n",
       "\t<tr><td>A/A   </td><td>A/A   </td><td>G/G   </td><td>C/C   </td><td>     1</td></tr>\n",
       "\t<tr><td>A/A   </td><td>G/A   </td><td>G/G   </td><td>C/T   </td><td>     1</td></tr>\n",
       "\t<tr><td>A/A   </td><td>G/G   </td><td>G/T   </td><td>C/T   </td><td>     1</td></tr>\n",
       "\t<tr><td>A/G   </td><td>G/G   </td><td>NA    </td><td>C/C   </td><td>     1</td></tr>\n",
       "</tbody>\n",
       "</table>\n"
      ],
      "text/latex": [
       "\\begin{tabular}{r|lllll}\n",
       " rs200058074 & rs28991002 & rs28991009 & rs143435072 & n\\\\\n",
       "\\hline\n",
       "\t A/A    & G/G    & G/G    & C/C    & 328492\\\\\n",
       "\t A/A    & G/G    & G/T    & C/C    &   5395\\\\\n",
       "\t A/A    & G/A    & G/G    & C/C    &   1693\\\\\n",
       "\t A/A    & G/G    & NA     & C/C    &    471\\\\\n",
       "\t A/G    & G/G    & G/G    & C/C    &    356\\\\\n",
       "\t A/A    & G/G    & G/G    & C/T    &    270\\\\\n",
       "\t A/A    & NA     & G/G    & C/C    &    194\\\\\n",
       "\t NA     & G/G    & G/G    & C/C    &    192\\\\\n",
       "\t A/A    & G/G    & G/G    & NA     &     37\\\\\n",
       "\t A/A    & G/G    & T/T    & C/C    &     28\\\\\n",
       "\t A/A    & G/A    & G/T    & C/C    &      8\\\\\n",
       "\t A/G    & G/G    & G/T    & C/C    &      4\\\\\n",
       "\t A/A    & NA     & G/T    & C/C    &      2\\\\\n",
       "\t A/A    & G/A    & G/G    & NA     &      2\\\\\n",
       "\t A/A    & G/G    & NA     & C/T    &      2\\\\\n",
       "\t NA     & G/A    & G/G    & C/C    &      1\\\\\n",
       "\t A/A    & A/A    & G/G    & C/C    &      1\\\\\n",
       "\t A/A    & G/A    & G/G    & C/T    &      1\\\\\n",
       "\t A/A    & G/G    & G/T    & C/T    &      1\\\\\n",
       "\t A/G    & G/G    & NA     & C/C    &      1\\\\\n",
       "\\end{tabular}\n"
      ],
      "text/markdown": [
       "\n",
       "| rs200058074 | rs28991002 | rs28991009 | rs143435072 | n |\n",
       "|---|---|---|---|---|\n",
       "| A/A    | G/G    | G/G    | C/C    | 328492 |\n",
       "| A/A    | G/G    | G/T    | C/C    |   5395 |\n",
       "| A/A    | G/A    | G/G    | C/C    |   1693 |\n",
       "| A/A    | G/G    | NA     | C/C    |    471 |\n",
       "| A/G    | G/G    | G/G    | C/C    |    356 |\n",
       "| A/A    | G/G    | G/G    | C/T    |    270 |\n",
       "| A/A    | NA     | G/G    | C/C    |    194 |\n",
       "| NA     | G/G    | G/G    | C/C    |    192 |\n",
       "| A/A    | G/G    | G/G    | NA     |     37 |\n",
       "| A/A    | G/G    | T/T    | C/C    |     28 |\n",
       "| A/A    | G/A    | G/T    | C/C    |      8 |\n",
       "| A/G    | G/G    | G/T    | C/C    |      4 |\n",
       "| A/A    | NA     | G/T    | C/C    |      2 |\n",
       "| A/A    | G/A    | G/G    | NA     |      2 |\n",
       "| A/A    | G/G    | NA     | C/T    |      2 |\n",
       "| NA     | G/A    | G/G    | C/C    |      1 |\n",
       "| A/A    | A/A    | G/G    | C/C    |      1 |\n",
       "| A/A    | G/A    | G/G    | C/T    |      1 |\n",
       "| A/A    | G/G    | G/T    | C/T    |      1 |\n",
       "| A/G    | G/G    | NA     | C/C    |      1 |\n",
       "\n"
      ],
      "text/plain": [
       "   rs200058074 rs28991002 rs28991009 rs143435072 n     \n",
       "1  A/A         G/G        G/G        C/C         328492\n",
       "2  A/A         G/G        G/T        C/C           5395\n",
       "3  A/A         G/A        G/G        C/C           1693\n",
       "4  A/A         G/G        NA         C/C            471\n",
       "5  A/G         G/G        G/G        C/C            356\n",
       "6  A/A         G/G        G/G        C/T            270\n",
       "7  A/A         NA         G/G        C/C            194\n",
       "8  NA          G/G        G/G        C/C            192\n",
       "9  A/A         G/G        G/G        NA              37\n",
       "10 A/A         G/G        T/T        C/C             28\n",
       "11 A/A         G/A        G/T        C/C              8\n",
       "12 A/G         G/G        G/T        C/C              4\n",
       "13 A/A         NA         G/T        C/C              2\n",
       "14 A/A         G/A        G/G        NA               2\n",
       "15 A/A         G/G        NA         C/T              2\n",
       "16 NA          G/A        G/G        C/C              1\n",
       "17 A/A         A/A        G/G        C/C              1\n",
       "18 A/A         G/A        G/G        C/T              1\n",
       "19 A/A         G/G        G/T        C/T              1\n",
       "20 A/G         G/G        NA         C/C              1"
      ]
     },
     "metadata": {},
     "output_type": "display_data"
    }
   ],
   "source": [
    "geno_count"
   ]
  },
  {
   "cell_type": "code",
   "execution_count": 150,
   "metadata": {},
   "outputs": [],
   "source": [
    "geno_count_expected <- geno_count %>% select(-n) %>%\n",
    "mutate(combination = dplyr::row_number()) %>%\n",
    "gather(\n",
    "    variant, genotype, -combination\n",
    ") %>% \n",
    "left_join(\n",
    "    expected_genotype_freq %>%\n",
    "    mutate(log10_expected = -log10(expected)) %>%\n",
    "    rename(variant = ID) %>%\n",
    "    select(-expected),\n",
    "    by=c('variant', 'genotype')\n",
    ") %>% \n",
    "replace_na(list(log10_expected = 0)) %>% \n",
    "group_by(combination) %>%\n",
    "summarise(\n",
    "    expected_freq = 10 ** (-sum(log10_expected))\n",
    ") %>%\n",
    "inner_join(\n",
    "    geno_count %>% \n",
    "    mutate(combination = dplyr::row_number()),\n",
    "    by='combination'\n",
    ") %>%\n",
    "mutate(\n",
    "    n_expected = expected_freq * cohort_size\n",
    ") %>%\n",
    "select(-expected_freq, -combination)"
   ]
  },
  {
   "cell_type": "code",
   "execution_count": 153,
   "metadata": {},
   "outputs": [],
   "source": [
    "geno_count_expected %>% fwrite(\n",
    "    'ANGPTL7.protein-altering.vars.counts.tsv', sep='\\t', row.names=FALSE, na = \"NA\"\n",
    ")"
   ]
  },
  {
   "cell_type": "code",
   "execution_count": null,
   "metadata": {},
   "outputs": [],
   "source": []
  }
 ],
 "metadata": {
  "kernelspec": {
   "display_name": "R 3.5 (module)",
   "language": "R",
   "name": "ir35ml"
  },
  "language_info": {
   "codemirror_mode": "r",
   "file_extension": ".r",
   "mimetype": "text/x-r-source",
   "name": "R",
   "pygments_lexer": "r",
   "version": "3.5.1"
  }
 },
 "nbformat": 4,
 "nbformat_minor": 2
}
