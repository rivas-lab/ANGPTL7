{
 "cells": [
  {
   "cell_type": "code",
   "execution_count": 1,
   "metadata": {},
   "outputs": [
    {
     "name": "stderr",
     "output_type": "stream",
     "text": [
      "── Attaching packages ─────────────────────────────────────── tidyverse 1.2.1 ──\n",
      "✔ ggplot2 3.1.0       ✔ purrr   0.3.1  \n",
      "✔ tibble  2.0.1       ✔ dplyr   0.8.0.1\n",
      "✔ tidyr   0.8.3       ✔ stringr 1.4.0  \n",
      "✔ readr   1.3.1       ✔ forcats 0.4.0  \n",
      "── Conflicts ────────────────────────────────────────── tidyverse_conflicts() ──\n",
      "✖ dplyr::filter() masks stats::filter()\n",
      "✖ dplyr::lag()    masks stats::lag()\n",
      "\n",
      "Attaching package: ‘data.table’\n",
      "\n",
      "The following objects are masked from ‘package:dplyr’:\n",
      "\n",
      "    between, first, last\n",
      "\n",
      "The following object is masked from ‘package:purrr’:\n",
      "\n",
      "    transpose\n",
      "\n"
     ]
    }
   ],
   "source": [
    "library(tidyverse)\n",
    "library(data.table)\n"
   ]
  },
  {
   "cell_type": "code",
   "execution_count": 5,
   "metadata": {},
   "outputs": [],
   "source": [
    "phe_files <- list()\n",
    "dfs <- list()"
   ]
  },
  {
   "cell_type": "code",
   "execution_count": 84,
   "metadata": {},
   "outputs": [],
   "source": [
    "phe_files[['keep']]      <- '/oak/stanford/groups/mrivas/ukbb24983/sqc/population_stratification/ukb24983_white_british.phe'\n",
    "phe_files[['IOP']]       <- '/oak/stanford/groups/mrivas/ukbb24983/phenotypedata/10136/21731/phe/INI5255.phe'\n",
    "phe_files[['Glaucoma']]  <- '/oak/stanford/groups/mrivas/ukbb24983/phenotypedata/extras/highconfidenceqc/phe/HC276.phe'\n",
    "phe_files[['age_death']] <- '/oak/stanford/groups/mrivas/ukbb24983/phenotypedata/9796/24611/phe/INI40007.phe'"
   ]
  },
  {
   "cell_type": "code",
   "execution_count": 85,
   "metadata": {},
   "outputs": [],
   "source": [
    "for (k in phe_files %>% names){\n",
    "    df <- fread(phe_files[[k]], sep='\\t', head=F)\n",
    "    colnames(df) <- c('FID', 'IID', k)[1:length(colnames(df))]    \n",
    "    dfs[[k]] <- df\n",
    "    df <- NULL\n",
    "}\n"
   ]
  },
  {
   "cell_type": "code",
   "execution_count": 35,
   "metadata": {},
   "outputs": [
    {
     "name": "stdout",
     "output_type": "stream",
     "text": [
      "[1] 337151      3\n",
      "[1] 337151      3\n"
     ]
    }
   ],
   "source": [
    "dfs[['IOP']]      %>% inner_join(dfs[['keep']], by=c('FID', 'IID')) %>% dim() %>% print()\n",
    "dfs[['Glaucoma']] %>% inner_join(dfs[['keep']], by=c('FID', 'IID')) %>% dim() %>% print()"
   ]
  },
  {
   "cell_type": "code",
   "execution_count": 46,
   "metadata": {},
   "outputs": [],
   "source": [
    "merged <- dfs[['keep']] %>% \n",
    "inner_join(dfs[['IOP']], by=c('FID', 'IID')) %>% \n",
    "inner_join(dfs[['Glaucoma']], by=c('FID', 'IID')) %>%\n",
    "mutate(\n",
    "    IOP_measured = if_else(IOP == -9, FALSE, TRUE)\n",
    ")"
   ]
  },
  {
   "cell_type": "code",
   "execution_count": 51,
   "metadata": {},
   "outputs": [
    {
     "data": {
      "text/html": [
       "<table>\n",
       "<thead><tr><th scope=col>IOP_measured</th><th scope=col>Glaucoma_case</th><th scope=col>Glaucoma_control</th></tr></thead>\n",
       "<tbody>\n",
       "\t<tr><td>FALSE </td><td>4269  </td><td>251355</td></tr>\n",
       "\t<tr><td> TRUE </td><td>1594  </td><td> 79933</td></tr>\n",
       "</tbody>\n",
       "</table>\n"
      ],
      "text/latex": [
       "\\begin{tabular}{r|lll}\n",
       " IOP\\_measured & Glaucoma\\_case & Glaucoma\\_control\\\\\n",
       "\\hline\n",
       "\t FALSE  & 4269   & 251355\\\\\n",
       "\t  TRUE  & 1594   &  79933\\\\\n",
       "\\end{tabular}\n"
      ],
      "text/markdown": [
       "\n",
       "| IOP_measured | Glaucoma_case | Glaucoma_control |\n",
       "|---|---|---|\n",
       "| FALSE  | 4269   | 251355 |\n",
       "|  TRUE  | 1594   |  79933 |\n",
       "\n"
      ],
      "text/plain": [
       "  IOP_measured Glaucoma_case Glaucoma_control\n",
       "1 FALSE        4269          251355          \n",
       "2  TRUE        1594           79933          "
      ]
     },
     "metadata": {},
     "output_type": "display_data"
    }
   ],
   "source": [
    "merged %>% count(IOP_measured, Glaucoma) %>% \n",
    "mutate(Glaucoma = if_else(Glaucoma == 2, 'Glaucoma_case', 'Glaucoma_control')) %>%\n",
    "spread(Glaucoma, n)"
   ]
  },
  {
   "cell_type": "code",
   "execution_count": 52,
   "metadata": {},
   "outputs": [
    {
     "data": {
      "text/html": [
       "<table>\n",
       "<thead><tr><th scope=col>Glaucoma</th><th scope=col>n</th></tr></thead>\n",
       "<tbody>\n",
       "\t<tr><td>1     </td><td>331288</td></tr>\n",
       "\t<tr><td>2     </td><td>  5863</td></tr>\n",
       "</tbody>\n",
       "</table>\n"
      ],
      "text/latex": [
       "\\begin{tabular}{r|ll}\n",
       " Glaucoma & n\\\\\n",
       "\\hline\n",
       "\t 1      & 331288\\\\\n",
       "\t 2      &   5863\\\\\n",
       "\\end{tabular}\n"
      ],
      "text/markdown": [
       "\n",
       "| Glaucoma | n |\n",
       "|---|---|\n",
       "| 1      | 331288 |\n",
       "| 2      |   5863 |\n",
       "\n"
      ],
      "text/plain": [
       "  Glaucoma n     \n",
       "1 1        331288\n",
       "2 2          5863"
      ]
     },
     "metadata": {},
     "output_type": "display_data"
    }
   ],
   "source": [
    "merged %>% count(Glaucoma)"
   ]
  },
  {
   "cell_type": "code",
   "execution_count": 55,
   "metadata": {},
   "outputs": [
    {
     "data": {
      "text/html": [
       "<table>\n",
       "<thead><tr><th scope=col>IOP_measured</th><th scope=col>n</th></tr></thead>\n",
       "<tbody>\n",
       "\t<tr><td>FALSE </td><td>255624</td></tr>\n",
       "\t<tr><td> TRUE </td><td> 81527</td></tr>\n",
       "</tbody>\n",
       "</table>\n"
      ],
      "text/latex": [
       "\\begin{tabular}{r|ll}\n",
       " IOP\\_measured & n\\\\\n",
       "\\hline\n",
       "\t FALSE  & 255624\\\\\n",
       "\t  TRUE  &  81527\\\\\n",
       "\\end{tabular}\n"
      ],
      "text/markdown": [
       "\n",
       "| IOP_measured | n |\n",
       "|---|---|\n",
       "| FALSE  | 255624 |\n",
       "|  TRUE  |  81527 |\n",
       "\n"
      ],
      "text/plain": [
       "  IOP_measured n     \n",
       "1 FALSE        255624\n",
       "2  TRUE         81527"
      ]
     },
     "metadata": {},
     "output_type": "display_data"
    }
   ],
   "source": [
    "merged %>% count(IOP_measured)"
   ]
  },
  {
   "cell_type": "code",
   "execution_count": 79,
   "metadata": {},
   "outputs": [],
   "source": [
    "p <- merged %>% filter(IOP_measured) %>% \n",
    "mutate(\n",
    "    Glaucoma = if_else(Glaucoma == 2, 'Case', 'Control'),\n",
    "    Glaucoma = as.factor(Glaucoma)\n",
    ") %>%\n",
    "ggplot(aes(color = Glaucoma, y = IOP)) + \n",
    "geom_boxplot(outlier.shape=8, outlier.size=1) +\n",
    "theme_bw() + \n",
    "theme(\n",
    "#     axis.title.x=element_blank(),\n",
    "    axis.text.x=element_blank(),\n",
    "    axis.ticks.x=element_blank(),\n",
    "    legend.position = c(.2, .9)\n",
    ") +\n",
    "labs(\n",
    "    y = 'Intra-ocular pressure (right)',\n",
    "    x = 'Glaucoma'\n",
    ") + scale_fill_brewer(palette=\"Dark2\")"
   ]
  },
  {
   "cell_type": "code",
   "execution_count": 82,
   "metadata": {},
   "outputs": [
    {
     "data": {
      "image/png": "[encoded data removed]",
      "text/plain": [
       "plot without title"
      ]
     },
     "metadata": {},
     "output_type": "display_data"
    }
   ],
   "source": [
    "p"
   ]
  },
  {
   "cell_type": "code",
   "execution_count": 80,
   "metadata": {},
   "outputs": [
    {
     "data": {
      "text/html": [
       "'/oak/stanford/groups/mrivas/users/ytanigaw/sandbox/20190518_glaucoma'"
      ],
      "text/latex": [
       "'/oak/stanford/groups/mrivas/users/ytanigaw/sandbox/20190518\\_glaucoma'"
      ],
      "text/markdown": [
       "'/oak/stanford/groups/mrivas/users/ytanigaw/sandbox/20190518_glaucoma'"
      ],
      "text/plain": [
       "[1] \"/oak/stanford/groups/mrivas/users/ytanigaw/sandbox/20190518_glaucoma\""
      ]
     },
     "metadata": {},
     "output_type": "display_data"
    }
   ],
   "source": [
    "getwd()"
   ]
  },
  {
   "cell_type": "code",
   "execution_count": 81,
   "metadata": {},
   "outputs": [
    {
     "name": "stderr",
     "output_type": "stream",
     "text": [
      "Saving 6.67 x 6.67 in image\n"
     ]
    }
   ],
   "source": [
    "ggsave('IOP_distribution.png', p)"
   ]
  },
  {
   "cell_type": "code",
   "execution_count": 86,
   "metadata": {},
   "outputs": [],
   "source": [
    "plink_raw <- list()"
   ]
  },
  {
   "cell_type": "code",
   "execution_count": 88,
   "metadata": {},
   "outputs": [],
   "source": [
    "for (rsid in c('rs28991009')){\n",
    "    plink_raw[[rsid]] <- fread(\n",
    "        paste0('ukb24983_cal_cALL_v2_hg19_', rsid, '.raw')\n",
    "    )\n",
    "}\n"
   ]
  },
  {
   "cell_type": "code",
   "execution_count": 122,
   "metadata": {},
   "outputs": [],
   "source": [
    "temp_df <- fread(\n",
    "    cmd=paste0(\n",
    "        'cat ', \n",
    "        '/oak/stanford/groups/mrivas/ukbb24983/phenotypedata/9796/24611/download/ukb24611.tab',\n",
    "        '| cut -f1,9'\n",
    "    ),\n",
    "    head=T, data.table=F\n",
    ")\n",
    "colnames(temp_df) <- c('FID', 'Year_of_birth')\n",
    "dfs[['birth_year']] <- temp_df"
   ]
  },
  {
   "cell_type": "code",
   "execution_count": 125,
   "metadata": {},
   "outputs": [],
   "source": [
    "merged2 <- merged %>% \n",
    "inner_join(dfs[['birth_year']], by=c('FID')) %>%\n",
    "inner_join(dfs[['age_death']], by=c('FID', 'IID')) %>%\n",
    "inner_join(\n",
    "    plink_raw[['rs28991009']] %>% select(FID, IID, rs28991009_G),\n",
    "    by=c('FID', 'IID')\n",
    ")\n"
   ]
  },
  {
   "cell_type": "code",
   "execution_count": 133,
   "metadata": {},
   "outputs": [
    {
     "data": {
      "text/html": [
       "<table>\n",
       "<thead><tr><th scope=col>rs28991009_G</th><th scope=col>n</th></tr></thead>\n",
       "<tbody>\n",
       "\t<tr><td> 0    </td><td>    28</td></tr>\n",
       "\t<tr><td> 1    </td><td>  5410</td></tr>\n",
       "\t<tr><td> 2    </td><td>331239</td></tr>\n",
       "\t<tr><td>NA    </td><td>   474</td></tr>\n",
       "</tbody>\n",
       "</table>\n"
      ],
      "text/latex": [
       "\\begin{tabular}{r|ll}\n",
       " rs28991009\\_G & n\\\\\n",
       "\\hline\n",
       "\t  0     &     28\\\\\n",
       "\t  1     &   5410\\\\\n",
       "\t  2     & 331239\\\\\n",
       "\t NA     &    474\\\\\n",
       "\\end{tabular}\n"
      ],
      "text/markdown": [
       "\n",
       "| rs28991009_G | n |\n",
       "|---|---|\n",
       "|  0     |     28 |\n",
       "|  1     |   5410 |\n",
       "|  2     | 331239 |\n",
       "| NA     |    474 |\n",
       "\n"
      ],
      "text/plain": [
       "  rs28991009_G n     \n",
       "1  0               28\n",
       "2  1             5410\n",
       "3  2           331239\n",
       "4 NA              474"
      ]
     },
     "metadata": {},
     "output_type": "display_data"
    }
   ],
   "source": [
    "merged2 %>% count(rs28991009_G)"
   ]
  },
  {
   "cell_type": "code",
   "execution_count": 139,
   "metadata": {},
   "outputs": [
    {
     "data": {
      "text/html": [
       "<table>\n",
       "<thead><tr><th scope=col>FID</th><th scope=col>IID</th><th scope=col>IOP</th><th scope=col>Glaucoma</th><th scope=col>IOP_measured</th><th scope=col>Year_of_birth</th><th scope=col>age_death</th><th scope=col>rs28991009_G</th></tr></thead>\n",
       "<tbody>\n",
       "</tbody>\n",
       "</table>\n"
      ],
      "text/latex": [
       "\\begin{tabular}{r|llllllll}\n",
       " FID & IID & IOP & Glaucoma & IOP\\_measured & Year\\_of\\_birth & age\\_death & rs28991009\\_G\\\\\n",
       "\\hline\n",
       "\\end{tabular}\n"
      ],
      "text/markdown": [
       "\n",
       "| FID | IID | IOP | Glaucoma | IOP_measured | Year_of_birth | age_death | rs28991009_G |\n",
       "|---|---|---|---|---|---|---|---|\n",
       "\n"
      ],
      "text/plain": [
       "     FID IID IOP Glaucoma IOP_measured Year_of_birth age_death rs28991009_G"
      ]
     },
     "metadata": {},
     "output_type": "display_data"
    }
   ],
   "source": [
    "merged2 %>% filter(\n",
    "    age_death != -9,\n",
    "    rs28991009_G == 0\n",
    ") %>% arrange(-age_death) %>% \n",
    "head(0) # individual level data should not be saved as a part of notebook"
   ]
  },
  {
   "cell_type": "code",
   "execution_count": 138,
   "metadata": {},
   "outputs": [
    {
     "data": {
      "text/html": [
       "<table>\n",
       "<thead><tr><th scope=col>FID</th><th scope=col>IID</th><th scope=col>IOP</th><th scope=col>Glaucoma</th><th scope=col>IOP_measured</th><th scope=col>Year_of_birth</th><th scope=col>age_death</th><th scope=col>rs28991009_G</th></tr></thead>\n",
       "<tbody>\n",
       "</tbody>\n",
       "</table>\n"
      ],
      "text/latex": [
       "\\begin{tabular}{r|llllllll}\n",
       " FID & IID & IOP & Glaucoma & IOP\\_measured & Year\\_of\\_birth & age\\_death & rs28991009\\_G\\\\\n",
       "\\hline\n",
       "\\end{tabular}\n"
      ],
      "text/markdown": [
       "\n",
       "| FID | IID | IOP | Glaucoma | IOP_measured | Year_of_birth | age_death | rs28991009_G |\n",
       "|---|---|---|---|---|---|---|---|\n",
       "\n"
      ],
      "text/plain": [
       "     FID IID IOP Glaucoma IOP_measured Year_of_birth age_death rs28991009_G"
      ]
     },
     "metadata": {},
     "output_type": "display_data"
    }
   ],
   "source": [
    "merged2 %>% filter(\n",
    "#     age_death != -9,\n",
    "    rs28991009_G == 0\n",
    ") %>% arrange(-age_death, Year_of_birth) %>% \n",
    "head(0) # individual level data should not be saved as a part of notebook"
   ]
  },
  {
   "cell_type": "code",
   "execution_count": null,
   "metadata": {},
   "outputs": [],
   "source": []
  }
 ],
 "metadata": {
  "kernelspec": {
   "display_name": "R 3.5 (module)",
   "language": "R",
   "name": "ir35ml"
  },
  "language_info": {
   "codemirror_mode": "r",
   "file_extension": ".r",
   "mimetype": "text/x-r-source",
   "name": "R",
   "pygments_lexer": "r",
   "version": "3.5.1"
  }
 },
 "nbformat": 4,
 "nbformat_minor": 2
}
