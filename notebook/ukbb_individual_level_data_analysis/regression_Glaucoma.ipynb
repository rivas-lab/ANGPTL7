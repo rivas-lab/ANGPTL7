{
 "cells": [
  {
   "cell_type": "code",
   "execution_count": 1,
   "metadata": {},
   "outputs": [
    {
     "name": "stderr",
     "output_type": "stream",
     "text": [
      "Loading required package: tidyverse\n",
      "── Attaching packages ─────────────────────────────────────── tidyverse 1.2.1 ──\n",
      "✔ ggplot2 3.1.0       ✔ purrr   0.3.1  \n",
      "✔ tibble  2.0.1       ✔ dplyr   0.8.0.1\n",
      "✔ tidyr   0.8.3       ✔ stringr 1.4.0  \n",
      "✔ readr   1.3.1       ✔ forcats 0.4.0  \n",
      "── Conflicts ────────────────────────────────────────── tidyverse_conflicts() ──\n",
      "✖ dplyr::filter() masks stats::filter()\n",
      "✖ dplyr::lag()    masks stats::lag()\n",
      "Loading required package: data.table\n",
      "\n",
      "Attaching package: ‘data.table’\n",
      "\n",
      "The following objects are masked from ‘package:dplyr’:\n",
      "\n",
      "    between, first, last\n",
      "\n",
      "The following object is masked from ‘package:purrr’:\n",
      "\n",
      "    transpose\n",
      "\n"
     ]
    }
   ],
   "source": [
    "require(tidyverse)\n",
    "require(data.table)\n"
   ]
  },
  {
   "cell_type": "code",
   "execution_count": 2,
   "metadata": {},
   "outputs": [],
   "source": [
    "covar_f <- '/oak/stanford/groups/mrivas/ukbb24983/sqc/ukb24983_GWAS_covar.phe'\n",
    "\n",
    "geno_f <- 'ukb24983_cal_cALL_v2_hg19_ANGPTL7_protein-altering_vars.raw'\n",
    "\n",
    "pheno_f <- list()\n",
    "pheno_f[['Glaucoma']] <- '/oak/stanford/groups/mrivas/ukbb24983/phenotypedata/extras/highconfidenceqc/phe/HC276.phe'\n",
    "pheno_f[['IOP']] <- '/oak/stanford/groups/mrivas/ukbb24983/phenotypedata/10136/21731/phe/INI5255.phe'\n"
   ]
  },
  {
   "cell_type": "code",
   "execution_count": 3,
   "metadata": {},
   "outputs": [],
   "source": [
    "covar_df <- fread(\n",
    "    cmd=paste0('cat ', covar_f, '| cut -f1-9'), sep='\\t', data.table=F\n",
    ")\n",
    "\n",
    "geno_df <- fread(\n",
    "    file=geno_f, sep='\\t', data.table=F\n",
    ")\n",
    "\n",
    "pheno_df <- pheno_f %>% lapply(fread, sep='\\t', head=F)\n",
    "for(k in names(pheno_df)){\n",
    "    colnames(pheno_df[[k]]) <- c('FID', 'IID', k)\n",
    "}"
   ]
  },
  {
   "cell_type": "code",
   "execution_count": 22,
   "metadata": {},
   "outputs": [],
   "source": [
    "joined_df <- pheno_df %>% \n",
    "reduce(inner_join, by=c('FID', 'IID')) %>%\n",
    "inner_join(covar_df, by=c('FID', 'IID')) %>%\n",
    "inner_join(geno_df, by=c('FID', 'IID')) %>%\n",
    "select(-PAT, -MAT, -PHENOTYPE) %>%\n",
    "left_join(\n",
    "    data.frame(\n",
    "        rs200058074_A = c(0, 1, 2),\n",
    "        rs200058074 = c('G/G', 'A/G', 'A/A')   \n",
    "    ), by='rs200058074_A'\n",
    ") %>%\n",
    "left_join(\n",
    "    data.frame(\n",
    "        rs28991002_G = c(0, 1, 2),\n",
    "        rs28991002 = c('A/A', 'G/A', 'G/G')   \n",
    "    ), by='rs28991002_G'\n",
    ") %>%\n",
    "left_join(\n",
    "    data.frame(\n",
    "        rs28991009_G = c(0, 1, 2),\n",
    "        rs28991009 = c('T/T', 'G/T', 'G/G')   \n",
    "    ), by='rs28991009_G'\n",
    ") %>%\n",
    "left_join(\n",
    "    data.frame(\n",
    "        rs143435072_C = c(0, 1, 2),\n",
    "        rs143435072 = c('T/T', 'C/T', 'C/C')   \n",
    "    ), by='rs143435072_C'\n",
    ") %>%\n",
    "mutate(\n",
    "    IOP_measured = if_else(IOP == -9, FALSE, TRUE),\n",
    "    Glaucoma = Glaucoma - 1\n",
    ")\n"
   ]
  },
  {
   "cell_type": "code",
   "execution_count": 23,
   "metadata": {},
   "outputs": [],
   "source": [
    "show_95CI <- function(estimate, standard_error){\n",
    "    c(\n",
    "        estimate,\n",
    "        estimate - 1.96 * standard_error, \n",
    "        estimate + 1.96 * standard_error\n",
    "    ) %>% print()\n",
    "    c(\n",
    "        estimate,\n",
    "        estimate - 1.96 * standard_error, \n",
    "        estimate + 1.96 * standard_error\n",
    "    ) %>% lapply(exp) %>% simplify() %>%  print()    \n",
    "}"
   ]
  },
  {
   "cell_type": "markdown",
   "metadata": {},
   "source": [
    "## 2x2 tables"
   ]
  },
  {
   "cell_type": "code",
   "execution_count": 34,
   "metadata": {},
   "outputs": [
    {
     "name": "stderr",
     "output_type": "stream",
     "text": [
      "Warning message:\n",
      "“Factor `rs200058074` contains implicit NA, consider using `forcats::fct_explicit_na`”"
     ]
    },
    {
     "name": "stdout",
     "output_type": "stream",
     "text": [
      "# A tibble: 6 x 3\n",
      "  rs200058074 Glaucoma      n\n",
      "  <fct>          <dbl>  <int>\n",
      "1 A/A                0 250929\n",
      "2 A/A                1   4265\n",
      "3 A/G                0    280\n",
      "4 A/G                1      1\n",
      "5 <NA>               0    146\n",
      "6 <NA>               1      3\n"
     ]
    },
    {
     "name": "stderr",
     "output_type": "stream",
     "text": [
      "Warning message:\n",
      "“Factor `rs28991002` contains implicit NA, consider using `forcats::fct_explicit_na`”"
     ]
    },
    {
     "name": "stdout",
     "output_type": "stream",
     "text": [
      "# A tibble: 7 x 3\n",
      "  rs28991002 Glaucoma      n\n",
      "  <fct>         <dbl>  <int>\n",
      "1 A/A               0      1\n",
      "2 G/A               0   1258\n",
      "3 G/A               1     20\n",
      "4 G/G               0 249949\n",
      "5 G/G               1   4245\n",
      "6 <NA>              0    147\n",
      "7 <NA>              1      4\n"
     ]
    },
    {
     "name": "stderr",
     "output_type": "stream",
     "text": [
      "Warning message:\n",
      "“Factor `rs28991009` contains implicit NA, consider using `forcats::fct_explicit_na`”"
     ]
    },
    {
     "name": "stdout",
     "output_type": "stream",
     "text": [
      "# A tibble: 8 x 3\n",
      "  rs28991009 Glaucoma      n\n",
      "  <fct>         <dbl>  <int>\n",
      "1 G/G               0 246997\n",
      "2 G/G               1   4214\n",
      "3 G/T               0   4011\n",
      "4 G/T               1     44\n",
      "5 T/T               0     22\n",
      "6 T/T               1      1\n",
      "7 <NA>              0    325\n",
      "8 <NA>              1     10\n"
     ]
    },
    {
     "name": "stderr",
     "output_type": "stream",
     "text": [
      "Warning message:\n",
      "“Factor `rs143435072` contains implicit NA, consider using `forcats::fct_explicit_na`”"
     ]
    },
    {
     "name": "stdout",
     "output_type": "stream",
     "text": [
      "# A tibble: 6 x 3\n",
      "  rs143435072 Glaucoma      n\n",
      "  <fct>          <dbl>  <int>\n",
      "1 C/C                0 251119\n",
      "2 C/C                1   4266\n",
      "3 C/T                0    210\n",
      "4 C/T                1      2\n",
      "5 <NA>               0     26\n",
      "6 <NA>               1      1\n"
     ]
    }
   ],
   "source": [
    "joined_df %>% filter(IOP_measured == FALSE) %>% count(rs200058074, Glaucoma) %>% print()\n",
    "joined_df %>% filter(IOP_measured == FALSE) %>% count(rs28991002, Glaucoma) %>% print()\n",
    "joined_df %>% filter(IOP_measured == FALSE) %>% count(rs28991009, Glaucoma) %>% print()\n",
    "joined_df %>% filter(IOP_measured == FALSE) %>% count(rs143435072, Glaucoma) %>% print()"
   ]
  },
  {
   "cell_type": "markdown",
   "metadata": {},
   "source": [
    "## glm fit"
   ]
  },
  {
   "cell_type": "code",
   "execution_count": 30,
   "metadata": {},
   "outputs": [],
   "source": [
    "glm_rs200058074 <- glm (\n",
    "    Glaucoma ~ age + as.factor(sex) + as.factor(Array) + PC1 + PC2 + PC3 + PC4 + as.factor(rs200058074),\n",
    "    joined_df %>% filter(IOP_measured == FALSE), family=binomial(link=\"logit\")\n",
    ")\n",
    "glm_rs28991002 <- glm (\n",
    "    Glaucoma ~ age + as.factor(sex) + as.factor(Array) + PC1 + PC2 + PC3 + PC4 + as.factor(rs28991002),\n",
    "    joined_df %>% filter(IOP_measured == FALSE), family=binomial(link=\"logit\")\n",
    ")\n",
    "glm_rs28991009 <- glm (\n",
    "    Glaucoma ~ age + as.factor(sex) + as.factor(Array) + PC1 + PC2 + PC3 + PC4 + as.factor(rs28991009),\n",
    "    joined_df %>% filter(IOP_measured == FALSE), family=binomial(link=\"logit\")\n",
    ")\n",
    "glm_rs143435072 <- glm (\n",
    "    Glaucoma ~ age + as.factor(sex) + as.factor(Array) + PC1 + PC2 + PC3 + PC4 + as.factor(rs143435072),\n",
    "    joined_df %>% filter(IOP_measured == FALSE), family=binomial(link=\"logit\")\n",
    ")\n",
    "\n",
    "glm_additive_rs28991009 <- glm (\n",
    "    Glaucoma ~ age + as.factor(sex) + as.factor(Array) + PC1 + PC2 + PC3 + PC4 + rs28991009,\n",
    "    joined_df %>% filter(IOP_measured == FALSE), family=binomial(link=\"logit\")\n",
    ")\n"
   ]
  },
  {
   "cell_type": "code",
   "execution_count": 31,
   "metadata": {},
   "outputs": [
    {
     "name": "stdout",
     "output_type": "stream",
     "text": [
      "\n",
      "Call:\n",
      "glm(formula = Glaucoma ~ age + as.factor(sex) + as.factor(Array) + \n",
      "    PC1 + PC2 + PC3 + PC4 + as.factor(rs200058074), family = binomial(link = \"logit\"), \n",
      "    data = joined_df %>% filter(IOP_measured == FALSE))\n",
      "\n",
      "Deviance Residuals: \n",
      "    Min       1Q   Median       3Q      Max  \n",
      "-0.3536  -0.2186  -0.1688  -0.1163   3.5119  \n",
      "\n",
      "Coefficients:\n",
      "                            Estimate Std. Error z value Pr(>|z|)    \n",
      "(Intercept)               -10.699826   0.218279 -49.019  < 2e-16 ***\n",
      "age                         0.094537   0.002449  38.602  < 2e-16 ***\n",
      "as.factor(sex)1             0.162465   0.031049   5.233 1.67e-07 ***\n",
      "as.factor(Array)1          -0.010338   0.048960  -0.211    0.833    \n",
      "PC1                        -0.009133   0.010126  -0.902    0.367    \n",
      "PC2                        -0.003380   0.010491  -0.322    0.747    \n",
      "PC3                        -0.001950   0.010071  -0.194    0.846    \n",
      "PC4                        -0.022257   0.005550  -4.010 6.07e-05 ***\n",
      "as.factor(rs200058074)A/G  -1.559301   0.997572  -1.563    0.118    \n",
      "---\n",
      "Signif. codes:  0 ‘***’ 0.001 ‘**’ 0.01 ‘*’ 0.05 ‘.’ 0.1 ‘ ’ 1\n",
      "\n",
      "(Dispersion parameter for binomial family taken to be 1)\n",
      "\n",
      "    Null deviance: 43377  on 255474  degrees of freedom\n",
      "Residual deviance: 41487  on 255466  degrees of freedom\n",
      "  (149 observations deleted due to missingness)\n",
      "AIC: 41505\n",
      "\n",
      "Number of Fisher Scoring iterations: 7\n",
      "\n",
      "\n",
      "Call:\n",
      "glm(formula = Glaucoma ~ age + as.factor(sex) + as.factor(Array) + \n",
      "    PC1 + PC2 + PC3 + PC4 + as.factor(rs28991002), family = binomial(link = \"logit\"), \n",
      "    data = joined_df %>% filter(IOP_measured == FALSE))\n",
      "\n",
      "Deviance Residuals: \n",
      "    Min       1Q   Median       3Q      Max  \n",
      "-0.3529  -0.2185  -0.1689  -0.1164   3.5122  \n",
      "\n",
      "Coefficients:\n",
      "                           Estimate Std. Error z value Pr(>|z|)    \n",
      "(Intercept)              -15.509523  72.463155  -0.214    0.831    \n",
      "age                        0.094489   0.002449  38.582  < 2e-16 ***\n",
      "as.factor(sex)1            0.161536   0.031053   5.202 1.97e-07 ***\n",
      "as.factor(Array)1         -0.008705   0.049005  -0.178    0.859    \n",
      "PC1                       -0.008910   0.010126  -0.880    0.379    \n",
      "PC2                       -0.002181   0.010493  -0.208    0.835    \n",
      "PC3                       -0.002210   0.010072  -0.219    0.826    \n",
      "PC4                       -0.022392   0.005552  -4.033 5.50e-05 ***\n",
      "as.factor(rs28991002)G/A   4.724110  72.463215   0.065    0.948    \n",
      "as.factor(rs28991002)G/G   4.809338  72.462863   0.066    0.947    \n",
      "---\n",
      "Signif. codes:  0 ‘***’ 0.001 ‘**’ 0.01 ‘*’ 0.05 ‘.’ 0.1 ‘ ’ 1\n",
      "\n",
      "(Dispersion parameter for binomial family taken to be 1)\n",
      "\n",
      "    Null deviance: 43369  on 255472  degrees of freedom\n",
      "Residual deviance: 41485  on 255463  degrees of freedom\n",
      "  (151 observations deleted due to missingness)\n",
      "AIC: 41505\n",
      "\n",
      "Number of Fisher Scoring iterations: 8\n",
      "\n",
      "\n",
      "Call:\n",
      "glm(formula = Glaucoma ~ age + as.factor(sex) + as.factor(Array) + \n",
      "    PC1 + PC2 + PC3 + PC4 + as.factor(rs28991009), family = binomial(link = \"logit\"), \n",
      "    data = joined_df %>% filter(IOP_measured == FALSE))\n",
      "\n",
      "Deviance Residuals: \n",
      "    Min       1Q   Median       3Q      Max  \n",
      "-0.4155  -0.2184  -0.1686  -0.1164   3.5106  \n",
      "\n",
      "Coefficients:\n",
      "                           Estimate Std. Error z value Pr(>|z|)    \n",
      "(Intercept)              -10.694063   0.218444 -48.956  < 2e-16 ***\n",
      "age                        0.094461   0.002450  38.552  < 2e-16 ***\n",
      "as.factor(sex)1            0.158482   0.031073   5.100 3.39e-07 ***\n",
      "as.factor(Array)1         -0.006866   0.049052  -0.140   0.8887    \n",
      "PC1                       -0.008774   0.010136  -0.866   0.3867    \n",
      "PC2                       -0.001833   0.010501  -0.175   0.8614    \n",
      "PC3                       -0.002738   0.010079  -0.272   0.7859    \n",
      "PC4                       -0.022405   0.005554  -4.034 5.48e-05 ***\n",
      "as.factor(rs28991009)G/T  -0.450249   0.152742  -2.948   0.0032 ** \n",
      "as.factor(rs28991009)T/T   0.833650   1.030036   0.809   0.4183    \n",
      "---\n",
      "Signif. codes:  0 ‘***’ 0.001 ‘**’ 0.01 ‘*’ 0.05 ‘.’ 0.1 ‘ ’ 1\n",
      "\n",
      "(Dispersion parameter for binomial family taken to be 1)\n",
      "\n",
      "    Null deviance: 43314  on 255288  degrees of freedom\n",
      "Residual deviance: 41424  on 255279  degrees of freedom\n",
      "  (335 observations deleted due to missingness)\n",
      "AIC: 41444\n",
      "\n",
      "Number of Fisher Scoring iterations: 7\n",
      "\n",
      "\n",
      "Call:\n",
      "glm(formula = Glaucoma ~ age + as.factor(sex) + as.factor(Array) + \n",
      "    PC1 + PC2 + PC3 + PC4 + as.factor(rs143435072), family = binomial(link = \"logit\"), \n",
      "    data = joined_df %>% filter(IOP_measured == FALSE))\n",
      "\n",
      "Deviance Residuals: \n",
      "    Min       1Q   Median       3Q      Max  \n",
      "-0.3528  -0.2185  -0.1689  -0.1165   3.5116  \n",
      "\n",
      "Coefficients:\n",
      "                            Estimate Std. Error z value Pr(>|z|)    \n",
      "(Intercept)               -10.692994   0.218163 -49.014  < 2e-16 ***\n",
      "age                         0.094401   0.002447  38.575  < 2e-16 ***\n",
      "as.factor(sex)1             0.162759   0.031041   5.243 1.58e-07 ***\n",
      "as.factor(Array)1          -0.009384   0.048957  -0.192    0.848    \n",
      "PC1                        -0.008944   0.010123  -0.884    0.377    \n",
      "PC2                        -0.002533   0.010489  -0.242    0.809    \n",
      "PC3                        -0.002180   0.010068  -0.217    0.829    \n",
      "PC4                        -0.022263   0.005549  -4.012 6.02e-05 ***\n",
      "as.factor(rs143435072)C/T  -0.539954   0.711938  -0.758    0.448    \n",
      "---\n",
      "Signif. codes:  0 ‘***’ 0.001 ‘**’ 0.01 ‘*’ 0.05 ‘.’ 0.1 ‘ ’ 1\n",
      "\n",
      "(Dispersion parameter for binomial family taken to be 1)\n",
      "\n",
      "    Null deviance: 43398  on 255596  degrees of freedom\n",
      "Residual deviance: 41514  on 255588  degrees of freedom\n",
      "  (27 observations deleted due to missingness)\n",
      "AIC: 41532\n",
      "\n",
      "Number of Fisher Scoring iterations: 7\n",
      "\n",
      "\n",
      "Call:\n",
      "glm(formula = Glaucoma ~ age + as.factor(sex) + as.factor(Array) + \n",
      "    PC1 + PC2 + PC3 + PC4 + rs28991009, family = binomial(link = \"logit\"), \n",
      "    data = joined_df %>% filter(IOP_measured == FALSE))\n",
      "\n",
      "Deviance Residuals: \n",
      "    Min       1Q   Median       3Q      Max  \n",
      "-0.4155  -0.2184  -0.1686  -0.1164   3.5106  \n",
      "\n",
      "Coefficients:\n",
      "                    Estimate Std. Error z value Pr(>|z|)    \n",
      "(Intercept)       -10.694063   0.218444 -48.956  < 2e-16 ***\n",
      "age                 0.094461   0.002450  38.552  < 2e-16 ***\n",
      "as.factor(sex)1     0.158482   0.031073   5.100 3.39e-07 ***\n",
      "as.factor(Array)1  -0.006866   0.049052  -0.140   0.8887    \n",
      "PC1                -0.008774   0.010136  -0.866   0.3867    \n",
      "PC2                -0.001833   0.010501  -0.175   0.8614    \n",
      "PC3                -0.002738   0.010079  -0.272   0.7859    \n",
      "PC4                -0.022405   0.005554  -4.034 5.48e-05 ***\n",
      "rs28991009G/T      -0.450249   0.152742  -2.948   0.0032 ** \n",
      "rs28991009T/T       0.833650   1.030036   0.809   0.4183    \n",
      "---\n",
      "Signif. codes:  0 ‘***’ 0.001 ‘**’ 0.01 ‘*’ 0.05 ‘.’ 0.1 ‘ ’ 1\n",
      "\n",
      "(Dispersion parameter for binomial family taken to be 1)\n",
      "\n",
      "    Null deviance: 43314  on 255288  degrees of freedom\n",
      "Residual deviance: 41424  on 255279  degrees of freedom\n",
      "  (335 observations deleted due to missingness)\n",
      "AIC: 41444\n",
      "\n",
      "Number of Fisher Scoring iterations: 7\n",
      "\n"
     ]
    }
   ],
   "source": [
    "glm_rs200058074 %>% summary() %>% print() \n",
    "glm_rs28991002  %>% summary() %>% print()\n",
    "glm_rs28991009  %>% summary() %>% print()\n",
    "glm_rs143435072 %>% summary() %>% print()\n",
    "glm_additive_rs28991009  %>% summary() %>% print()"
   ]
  },
  {
   "cell_type": "code",
   "execution_count": 38,
   "metadata": {},
   "outputs": [
    {
     "name": "stderr",
     "output_type": "stream",
     "text": [
      "Warning message in log(Estimate):\n",
      "“NaNs produced”"
     ]
    },
    {
     "data": {
      "text/html": [
       "<table>\n",
       "<thead><tr><th scope=col>variant</th><th scope=col>Estimate</th><th scope=col>Std</th><th scope=col>z.value</th><th scope=col>Pr...z..</th><th scope=col>l95</th><th scope=col>u95</th><th scope=col>OR</th><th scope=col>str</th></tr></thead>\n",
       "<tbody>\n",
       "\t<tr><td>as.factor(rs200058074)A/G</td><td>-1.5593015               </td><td> 0.9975723               </td><td>-1.56309624              </td><td>0.118029960              </td><td>  -3.5145431             </td><td>  0.3959402              </td><td>       NaN               </td><td>-1.6 [-3.5, 0.4]         </td></tr>\n",
       "\t<tr><td>as.factor(rs28991002)G/G </td><td> 4.8093377               </td><td>72.4628635               </td><td> 0.06636969              </td><td>0.947083501              </td><td>-137.2178747             </td><td>146.8365502              </td><td> 1.5705594               </td><td>4.8 [-140, 150]          </td></tr>\n",
       "\t<tr><td>as.factor(rs28991009)G/T </td><td>-0.4502490               </td><td> 0.1527419               </td><td>-2.94777608              </td><td>0.003200688              </td><td>  -0.7496231             </td><td> -0.1508748              </td><td>       NaN               </td><td>-0.45 [-0.75, -0.15]     </td></tr>\n",
       "\t<tr><td>as.factor(rs28991009)T/T </td><td> 0.8336501               </td><td> 1.0300361               </td><td> 0.80934072              </td><td>0.418319191              </td><td>  -1.1852206             </td><td>  2.8525208              </td><td>-0.1819415               </td><td>0.83 [-1.2, 2.9]         </td></tr>\n",
       "\t<tr><td>as.factor(rs143435072)C/T</td><td>-0.5399543               </td><td> 0.7119385               </td><td>-0.75842829              </td><td>0.448194625              </td><td>  -1.9353537             </td><td>  0.8554452              </td><td>       NaN               </td><td>-0.54 [-1.9, 0.86]       </td></tr>\n",
       "</tbody>\n",
       "</table>\n"
      ],
      "text/latex": [
       "\\begin{tabular}{r|lllllllll}\n",
       " variant & Estimate & Std & z.value & Pr...z.. & l95 & u95 & OR & str\\\\\n",
       "\\hline\n",
       "\t as.factor(rs200058074)A/G & -1.5593015                &  0.9975723                & -1.56309624               & 0.118029960               &   -3.5145431              &   0.3959402               &        NaN                & -1.6 {[}-3.5, 0.4{]}     \\\\\n",
       "\t as.factor(rs28991002)G/G  &  4.8093377                & 72.4628635                &  0.06636969               & 0.947083501               & -137.2178747              & 146.8365502               &  1.5705594                & 4.8 {[}-140, 150{]}      \\\\\n",
       "\t as.factor(rs28991009)G/T  & -0.4502490                &  0.1527419                & -2.94777608               & 0.003200688               &   -0.7496231              &  -0.1508748               &        NaN                & -0.45 {[}-0.75, -0.15{]} \\\\\n",
       "\t as.factor(rs28991009)T/T  &  0.8336501                &  1.0300361                &  0.80934072               & 0.418319191               &   -1.1852206              &   2.8525208               & -0.1819415                & 0.83 {[}-1.2, 2.9{]}     \\\\\n",
       "\t as.factor(rs143435072)C/T & -0.5399543                &  0.7119385                & -0.75842829               & 0.448194625               &   -1.9353537              &   0.8554452               &        NaN                & -0.54 {[}-1.9, 0.86{]}   \\\\\n",
       "\\end{tabular}\n"
      ],
      "text/markdown": [
       "\n",
       "| variant | Estimate | Std | z.value | Pr...z.. | l95 | u95 | OR | str |\n",
       "|---|---|---|---|---|---|---|---|---|\n",
       "| as.factor(rs200058074)A/G | -1.5593015                |  0.9975723                | -1.56309624               | 0.118029960               |   -3.5145431              |   0.3959402               |        NaN                | -1.6 [-3.5, 0.4]          |\n",
       "| as.factor(rs28991002)G/G  |  4.8093377                | 72.4628635                |  0.06636969               | 0.947083501               | -137.2178747              | 146.8365502               |  1.5705594                | 4.8 [-140, 150]           |\n",
       "| as.factor(rs28991009)G/T  | -0.4502490                |  0.1527419                | -2.94777608               | 0.003200688               |   -0.7496231              |  -0.1508748               |        NaN                | -0.45 [-0.75, -0.15]      |\n",
       "| as.factor(rs28991009)T/T  |  0.8336501                |  1.0300361                |  0.80934072               | 0.418319191               |   -1.1852206              |   2.8525208               | -0.1819415                | 0.83 [-1.2, 2.9]          |\n",
       "| as.factor(rs143435072)C/T | -0.5399543                |  0.7119385                | -0.75842829               | 0.448194625               |   -1.9353537              |   0.8554452               |        NaN                | -0.54 [-1.9, 0.86]        |\n",
       "\n"
      ],
      "text/plain": [
       "  variant                   Estimate   Std        z.value     Pr...z..   \n",
       "1 as.factor(rs200058074)A/G -1.5593015  0.9975723 -1.56309624 0.118029960\n",
       "2 as.factor(rs28991002)G/G   4.8093377 72.4628635  0.06636969 0.947083501\n",
       "3 as.factor(rs28991009)G/T  -0.4502490  0.1527419 -2.94777608 0.003200688\n",
       "4 as.factor(rs28991009)T/T   0.8336501  1.0300361  0.80934072 0.418319191\n",
       "5 as.factor(rs143435072)C/T -0.5399543  0.7119385 -0.75842829 0.448194625\n",
       "  l95          u95         OR         str                 \n",
       "1   -3.5145431   0.3959402        NaN -1.6 [-3.5, 0.4]    \n",
       "2 -137.2178747 146.8365502  1.5705594 4.8 [-140, 150]     \n",
       "3   -0.7496231  -0.1508748        NaN -0.45 [-0.75, -0.15]\n",
       "4   -1.1852206   2.8525208 -0.1819415 0.83 [-1.2, 2.9]    \n",
       "5   -1.9353537   0.8554452        NaN -0.54 [-1.9, 0.86]  "
      ]
     },
     "metadata": {},
     "output_type": "display_data"
    }
   ],
   "source": [
    "rbind(\n",
    "    glm_rs200058074 %>% summary() %>% coef() %>% tail(1) %>% data.frame() %>% rownames_to_column('variant'),\n",
    "    glm_rs28991002  %>% summary() %>% coef() %>% tail(1) %>% data.frame() %>% rownames_to_column('variant'),\n",
    "    glm_rs28991009  %>% summary() %>% coef() %>% tail(2) %>% data.frame() %>% rownames_to_column('variant'),\n",
    "    glm_rs143435072 %>% summary() %>% coef() %>% tail(1) %>% data.frame() %>% rownames_to_column('variant')\n",
    ") %>%\n",
    "data.frame() %>%\n",
    "rename(\n",
    "    'Std' = 'Std..Error'\n",
    ") %>%\n",
    "mutate(\n",
    "    l95 = Estimate - 1.96 * Std,\n",
    "    u95 = Estimate + 1.96 * Std,\n",
    "    OR = log(Estimate),\n",
    "    str = paste0(signif(Estimate, digits=2), ' [', signif(l95, digits=2), ', ', signif(u95, digits=2), ']'), \n",
    ")"
   ]
  },
  {
   "cell_type": "markdown",
   "metadata": {},
   "source": [
    "#### Note. BETA is computed for G/G above for rs28991002"
   ]
  },
  {
   "cell_type": "code",
   "execution_count": 43,
   "metadata": {},
   "outputs": [],
   "source": [
    "joined_df %>% filter(IOP_measured == FALSE) %>% select(FID, IID) %>% \n",
    "fwrite(\n",
    "    '/oak/stanford/groups/mrivas/users/ytanigaw/repos/rivas-lab/ANGPTL7/notebook/forest_plot/Glaucoma/cohorts.phe', \n",
    "    sep='\\t', row.names=F, col.names=F\n",
    ")"
   ]
  },
  {
   "cell_type": "code",
   "execution_count": null,
   "metadata": {},
   "outputs": [],
   "source": []
  }
 ],
 "metadata": {
  "kernelspec": {
   "display_name": "R 3.5 (module)",
   "language": "R",
   "name": "ir35ml"
  },
  "language_info": {
   "codemirror_mode": "r",
   "file_extension": ".r",
   "mimetype": "text/x-r-source",
   "name": "R",
   "pygments_lexer": "r",
   "version": "3.5.1"
  }
 },
 "nbformat": 4,
 "nbformat_minor": 2
}
