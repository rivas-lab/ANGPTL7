{
 "cells": [
  {
   "cell_type": "code",
   "execution_count": 1,
   "metadata": {},
   "outputs": [
    {
     "name": "stderr",
     "output_type": "stream",
     "text": [
      "Loading required package: tidyverse\n",
      "── Attaching packages ─────────────────────────────────────── tidyverse 1.2.1 ──\n",
      "✔ ggplot2 3.1.0       ✔ purrr   0.3.1  \n",
      "✔ tibble  2.0.1       ✔ dplyr   0.8.0.1\n",
      "✔ tidyr   0.8.3       ✔ stringr 1.4.0  \n",
      "✔ readr   1.3.1       ✔ forcats 0.4.0  \n",
      "── Conflicts ────────────────────────────────────────── tidyverse_conflicts() ──\n",
      "✖ dplyr::filter() masks stats::filter()\n",
      "✖ dplyr::lag()    masks stats::lag()\n",
      "Loading required package: data.table\n",
      "\n",
      "Attaching package: ‘data.table’\n",
      "\n",
      "The following objects are masked from ‘package:dplyr’:\n",
      "\n",
      "    between, first, last\n",
      "\n",
      "The following object is masked from ‘package:purrr’:\n",
      "\n",
      "    transpose\n",
      "\n"
     ]
    }
   ],
   "source": [
    "require(tidyverse)\n",
    "require(data.table)\n"
   ]
  },
  {
   "cell_type": "code",
   "execution_count": 2,
   "metadata": {},
   "outputs": [],
   "source": [
    "geno_f <- 'ukb24983_cal_cALL_v2_hg19_ANGPTL7_protein-altering_vars.raw'\n",
    "geno_df <- fread(\n",
    "    file=geno_f, sep='\\t', data.table=F\n",
    ")"
   ]
  },
  {
   "cell_type": "code",
   "execution_count": 14,
   "metadata": {},
   "outputs": [],
   "source": [
    "pheno_f <- '/oak/stanford/groups/mrivas/ukbb24983/phenotypedata/extras/highconfidenceqc/phe/HC276.phe'\n",
    "pheno_df <- pheno_f %>% fread(sep='\\t', head=F)\n",
    "colnames(pheno_df) <- c('FID', 'IID', 'Glaucoma')\n",
    "pheno_df <- pheno_df %>%\n",
    "mutate(Glaucoma = Glaucoma - 1)"
   ]
  },
  {
   "cell_type": "code",
   "execution_count": 4,
   "metadata": {},
   "outputs": [],
   "source": [
    "covar_f <- '/oak/stanford/groups/mrivas/ukbb24983/sqc/ukb24983_GWAS_covar.phe'\n",
    "covar_df <- fread(\n",
    "    cmd=paste0('cat ', covar_f, '| cut -f1-9'), sep='\\t', data.table=F\n",
    ")"
   ]
  },
  {
   "cell_type": "code",
   "execution_count": 36,
   "metadata": {},
   "outputs": [],
   "source": [
    "show_95CI <- function(estimate, standard_error){\n",
    "    c(\n",
    "        estimate,\n",
    "        estimate - 1.96 * standard_error, \n",
    "        estimate + 1.96 * standard_error\n",
    "    ) %>% print()\n",
    "    c(\n",
    "        estimate,\n",
    "        estimate - 1.96 * standard_error, \n",
    "        estimate + 1.96 * standard_error\n",
    "    ) %>% lapply(exp) %>% simplify() %>%  print()    \n",
    "}"
   ]
  },
  {
   "cell_type": "markdown",
   "metadata": {},
   "source": [
    "## rs28991009, Gln175His, 1:11253684:G:T"
   ]
  },
  {
   "cell_type": "code",
   "execution_count": 15,
   "metadata": {},
   "outputs": [],
   "source": [
    "df_rs28991009 <- geno_df %>% select(IID, rs28991009_G) %>%\n",
    "inner_join(pheno_df %>% select(IID, Glaucoma), by='IID') %>%\n",
    "inner_join(covar_df %>% select(-FID), by='IID') %>% \n",
    "filter(Glaucoma != -9) %>% drop_na() %>%\n",
    "left_join(\n",
    "    data.frame(\n",
    "        rs28991009_G = c(0, 1, 2),\n",
    "        rs28991009 = c('T/T', 'G/T', 'G/G')   \n",
    "    ),\n",
    "    by='rs28991009_G'\n",
    ") %>%\n",
    "select(-rs28991009_G)"
   ]
  },
  {
   "cell_type": "code",
   "execution_count": 16,
   "metadata": {},
   "outputs": [
    {
     "data": {
      "text/html": [
       "<table>\n",
       "<thead><tr><th scope=col>rs28991009</th><th scope=col>Glaucoma</th><th scope=col>n</th></tr></thead>\n",
       "<tbody>\n",
       "\t<tr><td>G/G   </td><td>0     </td><td>325445</td></tr>\n",
       "\t<tr><td>G/G   </td><td>1     </td><td>  5794</td></tr>\n",
       "\t<tr><td>G/T   </td><td>0     </td><td>  5353</td></tr>\n",
       "\t<tr><td>G/T   </td><td>1     </td><td>    57</td></tr>\n",
       "\t<tr><td>T/T   </td><td>0     </td><td>    27</td></tr>\n",
       "\t<tr><td>T/T   </td><td>1     </td><td>     1</td></tr>\n",
       "</tbody>\n",
       "</table>\n"
      ],
      "text/latex": [
       "\\begin{tabular}{r|lll}\n",
       " rs28991009 & Glaucoma & n\\\\\n",
       "\\hline\n",
       "\t G/G    & 0      & 325445\\\\\n",
       "\t G/G    & 1      &   5794\\\\\n",
       "\t G/T    & 0      &   5353\\\\\n",
       "\t G/T    & 1      &     57\\\\\n",
       "\t T/T    & 0      &     27\\\\\n",
       "\t T/T    & 1      &      1\\\\\n",
       "\\end{tabular}\n"
      ],
      "text/markdown": [
       "\n",
       "| rs28991009 | Glaucoma | n |\n",
       "|---|---|---|\n",
       "| G/G    | 0      | 325445 |\n",
       "| G/G    | 1      |   5794 |\n",
       "| G/T    | 0      |   5353 |\n",
       "| G/T    | 1      |     57 |\n",
       "| T/T    | 0      |     27 |\n",
       "| T/T    | 1      |      1 |\n",
       "\n"
      ],
      "text/plain": [
       "  rs28991009 Glaucoma n     \n",
       "1 G/G        0        325445\n",
       "2 G/G        1          5794\n",
       "3 G/T        0          5353\n",
       "4 G/T        1            57\n",
       "5 T/T        0            27\n",
       "6 T/T        1             1"
      ]
     },
     "metadata": {},
     "output_type": "display_data"
    }
   ],
   "source": [
    "df_rs28991009 %>% count(rs28991009, Glaucoma)"
   ]
  },
  {
   "cell_type": "code",
   "execution_count": 20,
   "metadata": {},
   "outputs": [],
   "source": [
    "glm_rs28991009 <- glm (\n",
    "    Glaucoma ~ age + as.factor(sex) + as.factor(Array) + PC1 + PC2 + PC3 + PC4 + as.factor(rs28991009),\n",
    "    df_rs28991009, family=binomial(link=\"logit\")\n",
    ")\n"
   ]
  },
  {
   "cell_type": "code",
   "execution_count": 22,
   "metadata": {},
   "outputs": [
    {
     "data": {
      "text/plain": [
       "\n",
       "Call:\n",
       "glm(formula = Glaucoma ~ age + as.factor(sex) + as.factor(Array) + \n",
       "    PC1 + PC2 + PC3 + PC4 + as.factor(rs28991009), family = binomial(link = \"logit\"), \n",
       "    data = df_rs28991009)\n",
       "\n",
       "Deviance Residuals: \n",
       "    Min       1Q   Median       3Q      Max  \n",
       "-0.3815  -0.2224  -0.1733  -0.1204   3.4853  \n",
       "\n",
       "Coefficients:\n",
       "                           Estimate Std. Error z value Pr(>|z|)    \n",
       "(Intercept)              -10.540355   0.186726 -56.448  < 2e-16 ***\n",
       "age                        0.092780   0.002102  44.141  < 2e-16 ***\n",
       "as.factor(sex)1            0.200978   0.026543   7.572 3.68e-14 ***\n",
       "as.factor(Array)1          0.007181   0.042163   0.170 0.864754    \n",
       "PC1                       -0.006324   0.008658  -0.730 0.465171    \n",
       "PC2                       -0.001110   0.008953  -0.124 0.901321    \n",
       "PC3                       -0.005598   0.008591  -0.652 0.514638    \n",
       "PC4                       -0.015498   0.004766  -3.252 0.001148 ** \n",
       "as.factor(rs28991009)G/T  -0.518943   0.134115  -3.869 0.000109 ***\n",
       "as.factor(rs28991009)T/T   0.605530   1.024912   0.591 0.554647    \n",
       "---\n",
       "Signif. codes:  0 ‘***’ 0.001 ‘**’ 0.01 ‘*’ 0.05 ‘.’ 0.1 ‘ ’ 1\n",
       "\n",
       "(Dispersion parameter for binomial family taken to be 1)\n",
       "\n",
       "    Null deviance: 59030  on 336676  degrees of freedom\n",
       "Residual deviance: 56535  on 336667  degrees of freedom\n",
       "AIC: 56555\n",
       "\n",
       "Number of Fisher Scoring iterations: 7\n"
      ]
     },
     "metadata": {},
     "output_type": "display_data"
    }
   ],
   "source": [
    "summary(glm_rs28991009)"
   ]
  },
  {
   "cell_type": "code",
   "execution_count": 37,
   "metadata": {},
   "outputs": [
    {
     "name": "stdout",
     "output_type": "stream",
     "text": [
      "[1] -0.5189430 -0.7818084 -0.2560776\n",
      "[1] 0.5951493 0.4575778 0.7740819\n"
     ]
    }
   ],
   "source": [
    "show_95CI(-0.518943, 0.134115)"
   ]
  },
  {
   "cell_type": "code",
   "execution_count": 38,
   "metadata": {},
   "outputs": [
    {
     "name": "stdout",
     "output_type": "stream",
     "text": [
      "[1]  0.605530 -1.403298  2.614358\n",
      "[1]  1.8322230  0.2457851 13.6584383\n"
     ]
    }
   ],
   "source": [
    "show_95CI(0.605530, 1.024912)"
   ]
  },
  {
   "cell_type": "markdown",
   "metadata": {},
   "source": [
    "## rs143435072, Arg177Ter, 1:11253688:C:T"
   ]
  },
  {
   "cell_type": "code",
   "execution_count": 40,
   "metadata": {},
   "outputs": [],
   "source": [
    "df_rs143435072 <- geno_df %>% select(IID, rs143435072_C) %>%\n",
    "inner_join(pheno_df %>% select(IID, Glaucoma), by='IID') %>%\n",
    "inner_join(covar_df %>% select(-FID), by='IID') %>% \n",
    "filter(Glaucoma != -9) %>% drop_na() %>%\n",
    "left_join(\n",
    "    data.frame(\n",
    "        rs143435072_C = c(0, 1, 2),\n",
    "        rs143435072 = c('T/T', 'C/T', 'C/C')   \n",
    "    ),\n",
    "    by='rs143435072_C'\n",
    ") %>%\n",
    "select(-rs143435072_C)"
   ]
  },
  {
   "cell_type": "code",
   "execution_count": 42,
   "metadata": {},
   "outputs": [
    {
     "data": {
      "text/html": [
       "<table>\n",
       "<thead><tr><th scope=col>rs143435072</th><th scope=col>Glaucoma</th><th scope=col>n</th></tr></thead>\n",
       "<tbody>\n",
       "\t<tr><td>C/C   </td><td>0     </td><td>330978</td></tr>\n",
       "\t<tr><td>C/C   </td><td>1     </td><td>  5860</td></tr>\n",
       "\t<tr><td>C/T   </td><td>0     </td><td>   272</td></tr>\n",
       "\t<tr><td>C/T   </td><td>1     </td><td>     2</td></tr>\n",
       "</tbody>\n",
       "</table>\n"
      ],
      "text/latex": [
       "\\begin{tabular}{r|lll}\n",
       " rs143435072 & Glaucoma & n\\\\\n",
       "\\hline\n",
       "\t C/C    & 0      & 330978\\\\\n",
       "\t C/C    & 1      &   5860\\\\\n",
       "\t C/T    & 0      &    272\\\\\n",
       "\t C/T    & 1      &      2\\\\\n",
       "\\end{tabular}\n"
      ],
      "text/markdown": [
       "\n",
       "| rs143435072 | Glaucoma | n |\n",
       "|---|---|---|\n",
       "| C/C    | 0      | 330978 |\n",
       "| C/C    | 1      |   5860 |\n",
       "| C/T    | 0      |    272 |\n",
       "| C/T    | 1      |      2 |\n",
       "\n"
      ],
      "text/plain": [
       "  rs143435072 Glaucoma n     \n",
       "1 C/C         0        330978\n",
       "2 C/C         1          5860\n",
       "3 C/T         0           272\n",
       "4 C/T         1             2"
      ]
     },
     "metadata": {},
     "output_type": "display_data"
    }
   ],
   "source": [
    "df_rs143435072 %>% count(rs143435072, Glaucoma)"
   ]
  },
  {
   "cell_type": "code",
   "execution_count": 43,
   "metadata": {},
   "outputs": [],
   "source": [
    "glm_rs143435072 <- glm (\n",
    "    Glaucoma ~ age + as.factor(sex) + as.factor(Array) + PC1 + PC2 + PC3 + PC4 + as.factor(rs143435072),\n",
    "    df_rs143435072, family=binomial(link=\"logit\")\n",
    ")\n"
   ]
  },
  {
   "cell_type": "code",
   "execution_count": 44,
   "metadata": {},
   "outputs": [
    {
     "data": {
      "text/plain": [
       "\n",
       "Call:\n",
       "glm(formula = Glaucoma ~ age + as.factor(sex) + as.factor(Array) + \n",
       "    PC1 + PC2 + PC3 + PC4 + as.factor(rs143435072), family = binomial(link = \"logit\"), \n",
       "    data = df_rs143435072)\n",
       "\n",
       "Deviance Residuals: \n",
       "    Min       1Q   Median       3Q      Max  \n",
       "-0.3542  -0.2224  -0.1737  -0.1206   3.4869  \n",
       "\n",
       "Coefficients:\n",
       "                            Estimate Std. Error z value Pr(>|z|)    \n",
       "(Intercept)               -10.545403   0.186547 -56.530  < 2e-16 ***\n",
       "age                         0.092778   0.002100  44.177  < 2e-16 ***\n",
       "as.factor(sex)1             0.203656   0.026521   7.679  1.6e-14 ***\n",
       "as.factor(Array)1           0.005215   0.042102   0.124  0.90142    \n",
       "PC1                        -0.006405   0.008650  -0.741  0.45897    \n",
       "PC2                        -0.001294   0.008945  -0.145  0.88503    \n",
       "PC3                        -0.005168   0.008584  -0.602  0.54711    \n",
       "PC4                        -0.015260   0.004763  -3.204  0.00136 ** \n",
       "as.factor(rs143435072)C/T  -0.869546   0.710682  -1.224  0.22113    \n",
       "---\n",
       "Signif. codes:  0 ‘***’ 0.001 ‘**’ 0.01 ‘*’ 0.05 ‘.’ 0.1 ‘ ’ 1\n",
       "\n",
       "(Dispersion parameter for binomial family taken to be 1)\n",
       "\n",
       "    Null deviance: 59126  on 337111  degrees of freedom\n",
       "Residual deviance: 56641  on 337103  degrees of freedom\n",
       "AIC: 56659\n",
       "\n",
       "Number of Fisher Scoring iterations: 7\n"
      ]
     },
     "metadata": {},
     "output_type": "display_data"
    }
   ],
   "source": [
    "summary(glm_rs143435072)"
   ]
  },
  {
   "cell_type": "code",
   "execution_count": 45,
   "metadata": {},
   "outputs": [
    {
     "name": "stdout",
     "output_type": "stream",
     "text": [
      "[1] -0.8695460 -2.2624827  0.5233907\n",
      "[1] 0.4191418 0.1040917 1.6877406\n"
     ]
    }
   ],
   "source": [
    "show_95CI(-0.869546, 0.710682)"
   ]
  },
  {
   "cell_type": "markdown",
   "metadata": {},
   "source": [
    "## rs28991002, Arg140His, 1:11252369:G:A\n"
   ]
  },
  {
   "cell_type": "code",
   "execution_count": 48,
   "metadata": {},
   "outputs": [],
   "source": [
    "df_rs28991002 <- geno_df %>% select(IID, rs28991002_G) %>%\n",
    "inner_join(pheno_df %>% select(IID, Glaucoma), by='IID') %>%\n",
    "inner_join(covar_df %>% select(-FID), by='IID') %>% \n",
    "filter(Glaucoma != -9) %>% drop_na() %>%\n",
    "left_join(\n",
    "    data.frame(\n",
    "        rs28991002_G = c(0, 1, 2),\n",
    "        rs28991002 = c('A/A', 'G/A', 'G/G')   \n",
    "    ),\n",
    "    by='rs28991002_G'\n",
    ") %>%\n",
    "select(-rs28991002_G)"
   ]
  },
  {
   "cell_type": "code",
   "execution_count": 50,
   "metadata": {},
   "outputs": [
    {
     "data": {
      "text/html": [
       "<table>\n",
       "<thead><tr><th scope=col>rs28991002</th><th scope=col>Glaucoma</th><th scope=col>n</th></tr></thead>\n",
       "<tbody>\n",
       "\t<tr><td>A/A   </td><td>0     </td><td>     1</td></tr>\n",
       "\t<tr><td>G/A   </td><td>0     </td><td>  1678</td></tr>\n",
       "\t<tr><td>G/A   </td><td>1     </td><td>    27</td></tr>\n",
       "\t<tr><td>G/G   </td><td>0     </td><td>329417</td></tr>\n",
       "\t<tr><td>G/G   </td><td>1     </td><td>  5832</td></tr>\n",
       "</tbody>\n",
       "</table>\n"
      ],
      "text/latex": [
       "\\begin{tabular}{r|lll}\n",
       " rs28991002 & Glaucoma & n\\\\\n",
       "\\hline\n",
       "\t A/A    & 0      &      1\\\\\n",
       "\t G/A    & 0      &   1678\\\\\n",
       "\t G/A    & 1      &     27\\\\\n",
       "\t G/G    & 0      & 329417\\\\\n",
       "\t G/G    & 1      &   5832\\\\\n",
       "\\end{tabular}\n"
      ],
      "text/markdown": [
       "\n",
       "| rs28991002 | Glaucoma | n |\n",
       "|---|---|---|\n",
       "| A/A    | 0      |      1 |\n",
       "| G/A    | 0      |   1678 |\n",
       "| G/A    | 1      |     27 |\n",
       "| G/G    | 0      | 329417 |\n",
       "| G/G    | 1      |   5832 |\n",
       "\n"
      ],
      "text/plain": [
       "  rs28991002 Glaucoma n     \n",
       "1 A/A        0             1\n",
       "2 G/A        0          1678\n",
       "3 G/A        1            27\n",
       "4 G/G        0        329417\n",
       "5 G/G        1          5832"
      ]
     },
     "metadata": {},
     "output_type": "display_data"
    }
   ],
   "source": [
    "df_rs28991002 %>% count(rs28991002, Glaucoma)"
   ]
  },
  {
   "cell_type": "code",
   "execution_count": 56,
   "metadata": {},
   "outputs": [],
   "source": [
    "glm_rs28991002 <- glm (\n",
    "    Glaucoma ~ age + as.factor(sex) + as.factor(Array) + PC1 + PC2 + PC3 + PC4 + as.factor(rs28991002),\n",
    "    df_rs28991002, family=binomial(link=\"logit\")\n",
    ")\n"
   ]
  },
  {
   "cell_type": "code",
   "execution_count": 57,
   "metadata": {},
   "outputs": [
    {
     "data": {
      "text/plain": [
       "\n",
       "Call:\n",
       "glm(formula = Glaucoma ~ age + as.factor(sex) + as.factor(Array) + \n",
       "    PC1 + PC2 + PC3 + PC4 + as.factor(rs28991002), family = binomial(link = \"logit\"), \n",
       "    data = df_rs28991002)\n",
       "\n",
       "Deviance Residuals: \n",
       "    Min       1Q   Median       3Q      Max  \n",
       "-0.3542  -0.2224  -0.1737  -0.1206   3.4873  \n",
       "\n",
       "Coefficients:\n",
       "                           Estimate Std. Error z value Pr(>|z|)    \n",
       "(Intercept)              -15.397368  72.463075  -0.212  0.83173    \n",
       "age                        0.092834   0.002101  44.180  < 2e-16 ***\n",
       "as.factor(sex)1            0.202780   0.026528   7.644 2.11e-14 ***\n",
       "as.factor(Array)1          0.005623   0.042132   0.133  0.89384    \n",
       "PC1                       -0.006400   0.008651  -0.740  0.45946    \n",
       "PC2                       -0.001066   0.008948  -0.119  0.90518    \n",
       "PC3                       -0.005198   0.008586  -0.605  0.54489    \n",
       "PC4                       -0.015370   0.004765  -3.226  0.00126 ** \n",
       "as.factor(rs28991002)G/A   4.732850  72.463121   0.065  0.94792    \n",
       "as.factor(rs28991002)G/G   4.847350  72.462861   0.067  0.94667    \n",
       "---\n",
       "Signif. codes:  0 ‘***’ 0.001 ‘**’ 0.01 ‘*’ 0.05 ‘.’ 0.1 ‘ ’ 1\n",
       "\n",
       "(Dispersion parameter for binomial family taken to be 1)\n",
       "\n",
       "    Null deviance: 59097  on 336954  degrees of freedom\n",
       "Residual deviance: 56612  on 336945  degrees of freedom\n",
       "AIC: 56632\n",
       "\n",
       "Number of Fisher Scoring iterations: 8\n"
      ]
     },
     "metadata": {},
     "output_type": "display_data"
    }
   ],
   "source": [
    "summary(glm_rs28991002)"
   ]
  },
  {
   "cell_type": "code",
   "execution_count": 58,
   "metadata": {},
   "outputs": [],
   "source": [
    "glm_rs28991002 <- glm (\n",
    "    Glaucoma ~ age + as.factor(sex) + as.factor(Array) + PC1 + PC2 + PC3 + PC4 + as.factor(rs28991002),\n",
    "    df_rs28991002 %>% filter(rs28991002 != 'A/A'), family=binomial(link=\"logit\")\n",
    ")\n"
   ]
  },
  {
   "cell_type": "code",
   "execution_count": 59,
   "metadata": {},
   "outputs": [
    {
     "data": {
      "text/plain": [
       "\n",
       "Call:\n",
       "glm(formula = Glaucoma ~ age + as.factor(sex) + as.factor(Array) + \n",
       "    PC1 + PC2 + PC3 + PC4 + as.factor(rs28991002), family = binomial(link = \"logit\"), \n",
       "    data = df_rs28991002 %>% filter(rs28991002 != \"A/A\"))\n",
       "\n",
       "Deviance Residuals: \n",
       "    Min       1Q   Median       3Q      Max  \n",
       "-0.3542  -0.2224  -0.1737  -0.1206   3.4873  \n",
       "\n",
       "Coefficients:\n",
       "                           Estimate Std. Error z value Pr(>|z|)    \n",
       "(Intercept)              -10.664518   0.269489 -39.573  < 2e-16 ***\n",
       "age                        0.092834   0.002101  44.183  < 2e-16 ***\n",
       "as.factor(sex)1            0.202780   0.026528   7.644  2.1e-14 ***\n",
       "as.factor(Array)1          0.005623   0.042131   0.133  0.89383    \n",
       "PC1                       -0.006400   0.008651  -0.740  0.45945    \n",
       "PC2                       -0.001066   0.008947  -0.119  0.90518    \n",
       "PC3                       -0.005198   0.008586  -0.605  0.54488    \n",
       "PC4                       -0.015370   0.004765  -3.226  0.00126 ** \n",
       "as.factor(rs28991002)G/G   0.114500   0.195118   0.587  0.55732    \n",
       "---\n",
       "Signif. codes:  0 ‘***’ 0.001 ‘**’ 0.01 ‘*’ 0.05 ‘.’ 0.1 ‘ ’ 1\n",
       "\n",
       "(Dispersion parameter for binomial family taken to be 1)\n",
       "\n",
       "    Null deviance: 59096  on 336953  degrees of freedom\n",
       "Residual deviance: 56612  on 336945  degrees of freedom\n",
       "AIC: 56630\n",
       "\n",
       "Number of Fisher Scoring iterations: 7\n"
      ]
     },
     "metadata": {},
     "output_type": "display_data"
    }
   ],
   "source": [
    "summary(glm_rs28991002)"
   ]
  },
  {
   "cell_type": "markdown",
   "metadata": {},
   "source": [
    "#### Note. BETA is computed for G/G above"
   ]
  },
  {
   "cell_type": "code",
   "execution_count": 60,
   "metadata": {},
   "outputs": [
    {
     "name": "stdout",
     "output_type": "stream",
     "text": [
      "[1] -0.1145000 -0.4969313  0.2679313\n",
      "[1] 0.8918119 0.6083948 1.3072573\n"
     ]
    }
   ],
   "source": [
    "show_95CI(-0.114500, 0.195118)"
   ]
  },
  {
   "cell_type": "markdown",
   "metadata": {},
   "source": [
    "## rs200058074, Gln136Arg, 1:11252357:A:G\n",
    "\n"
   ]
  },
  {
   "cell_type": "code",
   "execution_count": 61,
   "metadata": {},
   "outputs": [],
   "source": [
    "df_rs200058074 <- geno_df %>% select(IID, rs200058074_A) %>%\n",
    "inner_join(pheno_df %>% select(IID, Glaucoma), by='IID') %>%\n",
    "inner_join(covar_df %>% select(-FID), by='IID') %>% \n",
    "filter(Glaucoma != -9) %>% drop_na() %>%\n",
    "left_join(\n",
    "    data.frame(\n",
    "        rs200058074_A = c(0, 1, 2),\n",
    "        rs200058074 = c('G/G', 'A/G', 'A/A')   \n",
    "    ),\n",
    "    by='rs200058074_A'\n",
    ") %>%\n",
    "select(-rs200058074_A)"
   ]
  },
  {
   "cell_type": "code",
   "execution_count": 62,
   "metadata": {},
   "outputs": [
    {
     "data": {
      "text/html": [
       "<table>\n",
       "<thead><tr><th scope=col>rs200058074</th><th scope=col>Glaucoma</th><th scope=col>n</th></tr></thead>\n",
       "<tbody>\n",
       "\t<tr><td>A/A   </td><td>0     </td><td>330740</td></tr>\n",
       "\t<tr><td>A/A   </td><td>1     </td><td>  5857</td></tr>\n",
       "\t<tr><td>A/G   </td><td>0     </td><td>   358</td></tr>\n",
       "\t<tr><td>A/G   </td><td>1     </td><td>     3</td></tr>\n",
       "</tbody>\n",
       "</table>\n"
      ],
      "text/latex": [
       "\\begin{tabular}{r|lll}\n",
       " rs200058074 & Glaucoma & n\\\\\n",
       "\\hline\n",
       "\t A/A    & 0      & 330740\\\\\n",
       "\t A/A    & 1      &   5857\\\\\n",
       "\t A/G    & 0      &    358\\\\\n",
       "\t A/G    & 1      &      3\\\\\n",
       "\\end{tabular}\n"
      ],
      "text/markdown": [
       "\n",
       "| rs200058074 | Glaucoma | n |\n",
       "|---|---|---|\n",
       "| A/A    | 0      | 330740 |\n",
       "| A/A    | 1      |   5857 |\n",
       "| A/G    | 0      |    358 |\n",
       "| A/G    | 1      |      3 |\n",
       "\n"
      ],
      "text/plain": [
       "  rs200058074 Glaucoma n     \n",
       "1 A/A         0        330740\n",
       "2 A/A         1          5857\n",
       "3 A/G         0           358\n",
       "4 A/G         1             3"
      ]
     },
     "metadata": {},
     "output_type": "display_data"
    }
   ],
   "source": [
    "df_rs200058074 %>% count(rs200058074, Glaucoma)"
   ]
  },
  {
   "cell_type": "code",
   "execution_count": 64,
   "metadata": {},
   "outputs": [],
   "source": [
    "glm_rs200058074 <- glm (\n",
    "    Glaucoma ~ age + as.factor(sex) + as.factor(Array) + PC1 + PC2 + PC3 + PC4 + as.factor(rs200058074),\n",
    "    df_rs200058074, family=binomial(link=\"logit\")\n",
    ")\n"
   ]
  },
  {
   "cell_type": "code",
   "execution_count": 65,
   "metadata": {},
   "outputs": [
    {
     "data": {
      "text/plain": [
       "\n",
       "Call:\n",
       "glm(formula = Glaucoma ~ age + as.factor(sex) + as.factor(Array) + \n",
       "    PC1 + PC2 + PC3 + PC4 + as.factor(rs200058074), family = binomial(link = \"logit\"), \n",
       "    data = df_rs200058074)\n",
       "\n",
       "Deviance Residuals: \n",
       "    Min       1Q   Median       3Q      Max  \n",
       "-0.3545  -0.2225  -0.1737  -0.1205   3.4871  \n",
       "\n",
       "Coefficients:\n",
       "                            Estimate Std. Error z value Pr(>|z|)    \n",
       "(Intercept)               -10.549545   0.186619 -56.530  < 2e-16 ***\n",
       "age                         0.092871   0.002101  44.199  < 2e-16 ***\n",
       "as.factor(sex)1             0.203438   0.026526   7.669 1.73e-14 ***\n",
       "as.factor(Array)1           0.004215   0.042104   0.100  0.92026    \n",
       "PC1                        -0.006520   0.008652  -0.754  0.45107    \n",
       "PC2                        -0.001929   0.008947  -0.216  0.82930    \n",
       "PC3                        -0.004996   0.008586  -0.582  0.56068    \n",
       "PC4                        -0.015248   0.004764  -3.201  0.00137 ** \n",
       "as.factor(rs200058074)A/G  -0.739735   0.581039  -1.273  0.20297    \n",
       "---\n",
       "Signif. codes:  0 ‘***’ 0.001 ‘**’ 0.01 ‘*’ 0.05 ‘.’ 0.1 ‘ ’ 1\n",
       "\n",
       "(Dispersion parameter for binomial family taken to be 1)\n",
       "\n",
       "    Null deviance: 59105  on 336957  degrees of freedom\n",
       "Residual deviance: 56616  on 336949  degrees of freedom\n",
       "AIC: 56634\n",
       "\n",
       "Number of Fisher Scoring iterations: 7\n"
      ]
     },
     "metadata": {},
     "output_type": "display_data"
    }
   ],
   "source": [
    "summary(glm_rs200058074)"
   ]
  },
  {
   "cell_type": "code",
   "execution_count": 66,
   "metadata": {},
   "outputs": [
    {
     "name": "stdout",
     "output_type": "stream",
     "text": [
      "[1] -0.7397350 -1.8785714  0.3991014\n",
      "[1] 0.4772404 0.1528082 1.4904848\n"
     ]
    }
   ],
   "source": [
    "show_95CI(-0.739735, 0.581039)"
   ]
  },
  {
   "cell_type": "code",
   "execution_count": 71,
   "metadata": {},
   "outputs": [
    {
     "data": {
      "text/html": [
       "<ol class=list-inline>\n",
       "\t<li>337151</li>\n",
       "\t<li>10</li>\n",
       "</ol>\n"
      ],
      "text/latex": [
       "\\begin{enumerate*}\n",
       "\\item 337151\n",
       "\\item 10\n",
       "\\end{enumerate*}\n"
      ],
      "text/markdown": [
       "1. 337151\n",
       "2. 10\n",
       "\n",
       "\n"
      ],
      "text/plain": [
       "[1] 337151     10"
      ]
     },
     "metadata": {},
     "output_type": "display_data"
    }
   ],
   "source": [
    "geno_df %>% dim()"
   ]
  },
  {
   "cell_type": "code",
   "execution_count": 73,
   "metadata": {},
   "outputs": [
    {
     "data": {
      "text/html": [
       "<table>\n",
       "<thead><tr><th scope=col>FID</th><th scope=col>IID</th><th scope=col>PAT</th><th scope=col>MAT</th><th scope=col>SEX</th><th scope=col>PHENOTYPE</th><th scope=col>rs200058074_A</th><th scope=col>rs28991002_G</th><th scope=col>rs28991009_G</th><th scope=col>rs143435072_C</th></tr></thead>\n",
       "<tbody>\n",
       "\t<tr><td>1000028</td><td>1000028</td><td>0      </td><td>0      </td><td>2      </td><td>-9     </td><td>2      </td><td>2      </td><td>2      </td><td>2      </td></tr>\n",
       "\t<tr><td>1000034</td><td>1000034</td><td>0      </td><td>0      </td><td>1      </td><td>-9     </td><td>2      </td><td>2      </td><td>2      </td><td>2      </td></tr>\n",
       "\t<tr><td>1000045</td><td>1000045</td><td>0      </td><td>0      </td><td>2      </td><td>-9     </td><td>2      </td><td>2      </td><td>2      </td><td>2      </td></tr>\n",
       "\t<tr><td>1000052</td><td>1000052</td><td>0      </td><td>0      </td><td>2      </td><td>-9     </td><td>2      </td><td>2      </td><td>2      </td><td>2      </td></tr>\n",
       "\t<tr><td>1000076</td><td>1000076</td><td>0      </td><td>0      </td><td>1      </td><td>-9     </td><td>2      </td><td>2      </td><td>2      </td><td>2      </td></tr>\n",
       "\t<tr><td>1000087</td><td>1000087</td><td>0      </td><td>0      </td><td>2      </td><td>-9     </td><td>2      </td><td>2      </td><td>1      </td><td>2      </td></tr>\n",
       "</tbody>\n",
       "</table>\n"
      ],
      "text/latex": [
       "\\begin{tabular}{r|llllllllll}\n",
       " FID & IID & PAT & MAT & SEX & PHENOTYPE & rs200058074\\_A & rs28991002\\_G & rs28991009\\_G & rs143435072\\_C\\\\\n",
       "\\hline\n",
       "\t 1000028 & 1000028 & 0       & 0       & 2       & -9      & 2       & 2       & 2       & 2      \\\\\n",
       "\t 1000034 & 1000034 & 0       & 0       & 1       & -9      & 2       & 2       & 2       & 2      \\\\\n",
       "\t 1000045 & 1000045 & 0       & 0       & 2       & -9      & 2       & 2       & 2       & 2      \\\\\n",
       "\t 1000052 & 1000052 & 0       & 0       & 2       & -9      & 2       & 2       & 2       & 2      \\\\\n",
       "\t 1000076 & 1000076 & 0       & 0       & 1       & -9      & 2       & 2       & 2       & 2      \\\\\n",
       "\t 1000087 & 1000087 & 0       & 0       & 2       & -9      & 2       & 2       & 1       & 2      \\\\\n",
       "\\end{tabular}\n"
      ],
      "text/markdown": [
       "\n",
       "| FID | IID | PAT | MAT | SEX | PHENOTYPE | rs200058074_A | rs28991002_G | rs28991009_G | rs143435072_C |\n",
       "|---|---|---|---|---|---|---|---|---|---|\n",
       "| 1000028 | 1000028 | 0       | 0       | 2       | -9      | 2       | 2       | 2       | 2       |\n",
       "| 1000034 | 1000034 | 0       | 0       | 1       | -9      | 2       | 2       | 2       | 2       |\n",
       "| 1000045 | 1000045 | 0       | 0       | 2       | -9      | 2       | 2       | 2       | 2       |\n",
       "| 1000052 | 1000052 | 0       | 0       | 2       | -9      | 2       | 2       | 2       | 2       |\n",
       "| 1000076 | 1000076 | 0       | 0       | 1       | -9      | 2       | 2       | 2       | 2       |\n",
       "| 1000087 | 1000087 | 0       | 0       | 2       | -9      | 2       | 2       | 1       | 2       |\n",
       "\n"
      ],
      "text/plain": [
       "  FID     IID     PAT MAT SEX PHENOTYPE rs200058074_A rs28991002_G rs28991009_G\n",
       "1 1000028 1000028 0   0   2   -9        2             2            2           \n",
       "2 1000034 1000034 0   0   1   -9        2             2            2           \n",
       "3 1000045 1000045 0   0   2   -9        2             2            2           \n",
       "4 1000052 1000052 0   0   2   -9        2             2            2           \n",
       "5 1000076 1000076 0   0   1   -9        2             2            2           \n",
       "6 1000087 1000087 0   0   2   -9        2             2            1           \n",
       "  rs143435072_C\n",
       "1 2            \n",
       "2 2            \n",
       "3 2            \n",
       "4 2            \n",
       "5 2            \n",
       "6 2            "
      ]
     },
     "metadata": {},
     "output_type": "display_data"
    }
   ],
   "source": [
    "geno_df %>% head()"
   ]
  },
  {
   "cell_type": "code",
   "execution_count": 74,
   "metadata": {},
   "outputs": [
    {
     "data": {
      "text/html": [
       "<table>\n",
       "<thead><tr><th scope=col>rs28991009_G</th><th scope=col>n</th></tr></thead>\n",
       "<tbody>\n",
       "\t<tr><td> 0    </td><td>    28</td></tr>\n",
       "\t<tr><td> 1    </td><td>  5410</td></tr>\n",
       "\t<tr><td> 2    </td><td>331239</td></tr>\n",
       "\t<tr><td>NA    </td><td>   474</td></tr>\n",
       "</tbody>\n",
       "</table>\n"
      ],
      "text/latex": [
       "\\begin{tabular}{r|ll}\n",
       " rs28991009\\_G & n\\\\\n",
       "\\hline\n",
       "\t  0     &     28\\\\\n",
       "\t  1     &   5410\\\\\n",
       "\t  2     & 331239\\\\\n",
       "\t NA     &    474\\\\\n",
       "\\end{tabular}\n"
      ],
      "text/markdown": [
       "\n",
       "| rs28991009_G | n |\n",
       "|---|---|\n",
       "|  0     |     28 |\n",
       "|  1     |   5410 |\n",
       "|  2     | 331239 |\n",
       "| NA     |    474 |\n",
       "\n"
      ],
      "text/plain": [
       "  rs28991009_G n     \n",
       "1  0               28\n",
       "2  1             5410\n",
       "3  2           331239\n",
       "4 NA              474"
      ]
     },
     "metadata": {},
     "output_type": "display_data"
    }
   ],
   "source": [
    "geno_df %>% count(rs28991009_G)"
   ]
  },
  {
   "cell_type": "code",
   "execution_count": 78,
   "metadata": {},
   "outputs": [
    {
     "data": {
      "text/html": [
       "1.43624378446255"
      ],
      "text/latex": [
       "1.43624378446255"
      ],
      "text/markdown": [
       "1.43624378446255"
      ],
      "text/plain": [
       "[1] 1.436244"
      ]
     },
     "metadata": {},
     "output_type": "display_data"
    }
   ],
   "source": [
    "100 * 5410 / (377151 - 474)"
   ]
  },
  {
   "cell_type": "code",
   "execution_count": 81,
   "metadata": {},
   "outputs": [
    {
     "data": {
      "text/html": [
       "0.00743342439278214"
      ],
      "text/latex": [
       "0.00743342439278214"
      ],
      "text/markdown": [
       "0.00743342439278214"
      ],
      "text/plain": [
       "[1] 0.007433424"
      ]
     },
     "metadata": {},
     "output_type": "display_data"
    }
   ],
   "source": [
    "100 * 28 / (377151 - 474)"
   ]
  },
  {
   "cell_type": "code",
   "execution_count": 80,
   "metadata": {},
   "outputs": [
    {
     "data": {
      "text/html": [
       "<table>\n",
       "<thead><tr><th scope=col>rs143435072_C</th><th scope=col>n</th></tr></thead>\n",
       "<tbody>\n",
       "\t<tr><td> 1    </td><td>   274</td></tr>\n",
       "\t<tr><td> 2    </td><td>336838</td></tr>\n",
       "\t<tr><td>NA    </td><td>    39</td></tr>\n",
       "</tbody>\n",
       "</table>\n"
      ],
      "text/latex": [
       "\\begin{tabular}{r|ll}\n",
       " rs143435072\\_C & n\\\\\n",
       "\\hline\n",
       "\t  1     &    274\\\\\n",
       "\t  2     & 336838\\\\\n",
       "\t NA     &     39\\\\\n",
       "\\end{tabular}\n"
      ],
      "text/markdown": [
       "\n",
       "| rs143435072_C | n |\n",
       "|---|---|\n",
       "|  1     |    274 |\n",
       "|  2     | 336838 |\n",
       "| NA     |     39 |\n",
       "\n"
      ],
      "text/plain": [
       "  rs143435072_C n     \n",
       "1  1               274\n",
       "2  2            336838\n",
       "3 NA                39"
      ]
     },
     "metadata": {},
     "output_type": "display_data"
    }
   ],
   "source": [
    "geno_df %>% count(rs143435072_C)"
   ]
  },
  {
   "cell_type": "code",
   "execution_count": 82,
   "metadata": {},
   "outputs": [
    {
     "data": {
      "text/html": [
       "0.0726574598527758"
      ],
      "text/latex": [
       "0.0726574598527758"
      ],
      "text/markdown": [
       "0.0726574598527758"
      ],
      "text/plain": [
       "[1] 0.07265746"
      ]
     },
     "metadata": {},
     "output_type": "display_data"
    }
   ],
   "source": [
    "100 * 274 / (377151 - 39)"
   ]
  },
  {
   "cell_type": "code",
   "execution_count": 76,
   "metadata": {},
   "outputs": [
    {
     "data": {
      "text/html": [
       "<table>\n",
       "<thead><tr><th scope=col>rs200058074_A</th><th scope=col>n</th></tr></thead>\n",
       "<tbody>\n",
       "\t<tr><td> 1    </td><td>   361</td></tr>\n",
       "\t<tr><td> 2    </td><td>336597</td></tr>\n",
       "\t<tr><td>NA    </td><td>   193</td></tr>\n",
       "</tbody>\n",
       "</table>\n"
      ],
      "text/latex": [
       "\\begin{tabular}{r|ll}\n",
       " rs200058074\\_A & n\\\\\n",
       "\\hline\n",
       "\t  1     &    361\\\\\n",
       "\t  2     & 336597\\\\\n",
       "\t NA     &    193\\\\\n",
       "\\end{tabular}\n"
      ],
      "text/markdown": [
       "\n",
       "| rs200058074_A | n |\n",
       "|---|---|\n",
       "|  1     |    361 |\n",
       "|  2     | 336597 |\n",
       "| NA     |    193 |\n",
       "\n"
      ],
      "text/plain": [
       "  rs200058074_A n     \n",
       "1  1               361\n",
       "2  2            336597\n",
       "3 NA               193"
      ]
     },
     "metadata": {},
     "output_type": "display_data"
    }
   ],
   "source": [
    "geno_df %>% count(rs200058074_A) "
   ]
  },
  {
   "cell_type": "code",
   "execution_count": 79,
   "metadata": {},
   "outputs": [
    {
     "data": {
      "text/html": [
       "0.107135013859294"
      ],
      "text/latex": [
       "0.107135013859294"
      ],
      "text/markdown": [
       "0.107135013859294"
      ],
      "text/plain": [
       "[1] 0.107135"
      ]
     },
     "metadata": {},
     "output_type": "display_data"
    }
   ],
   "source": [
    "100 * 361 / (337151 - 193)"
   ]
  },
  {
   "cell_type": "code",
   "execution_count": 83,
   "metadata": {},
   "outputs": [
    {
     "data": {
      "text/html": [
       "<table>\n",
       "<thead><tr><th scope=col>rs28991002_G</th><th scope=col>n</th></tr></thead>\n",
       "<tbody>\n",
       "\t<tr><td> 0    </td><td>     1</td></tr>\n",
       "\t<tr><td> 1    </td><td>  1705</td></tr>\n",
       "\t<tr><td> 2    </td><td>335249</td></tr>\n",
       "\t<tr><td>NA    </td><td>   196</td></tr>\n",
       "</tbody>\n",
       "</table>\n"
      ],
      "text/latex": [
       "\\begin{tabular}{r|ll}\n",
       " rs28991002\\_G & n\\\\\n",
       "\\hline\n",
       "\t  0     &      1\\\\\n",
       "\t  1     &   1705\\\\\n",
       "\t  2     & 335249\\\\\n",
       "\t NA     &    196\\\\\n",
       "\\end{tabular}\n"
      ],
      "text/markdown": [
       "\n",
       "| rs28991002_G | n |\n",
       "|---|---|\n",
       "|  0     |      1 |\n",
       "|  1     |   1705 |\n",
       "|  2     | 335249 |\n",
       "| NA     |    196 |\n",
       "\n"
      ],
      "text/plain": [
       "  rs28991002_G n     \n",
       "1  0                1\n",
       "2  1             1705\n",
       "3  2           335249\n",
       "4 NA              196"
      ]
     },
     "metadata": {},
     "output_type": "display_data"
    }
   ],
   "source": [
    "geno_df %>% count(rs28991002_G)"
   ]
  },
  {
   "cell_type": "code",
   "execution_count": 84,
   "metadata": {},
   "outputs": [
    {
     "data": {
      "text/html": [
       "0.50600228517161"
      ],
      "text/latex": [
       "0.50600228517161"
      ],
      "text/markdown": [
       "0.50600228517161"
      ],
      "text/plain": [
       "[1] 0.5060023"
      ]
     },
     "metadata": {},
     "output_type": "display_data"
    }
   ],
   "source": [
    "100 * 1705 / (337151 - 196)"
   ]
  },
  {
   "cell_type": "code",
   "execution_count": 86,
   "metadata": {},
   "outputs": [
    {
     "data": {
      "text/html": [
       "<table>\n",
       "<thead><tr><th scope=col>rs200058074_A</th><th scope=col>n</th></tr></thead>\n",
       "<tbody>\n",
       "\t<tr><td> 1    </td><td>   361</td></tr>\n",
       "\t<tr><td> 2    </td><td>336597</td></tr>\n",
       "\t<tr><td>NA    </td><td>   193</td></tr>\n",
       "</tbody>\n",
       "</table>\n"
      ],
      "text/latex": [
       "\\begin{tabular}{r|ll}\n",
       " rs200058074\\_A & n\\\\\n",
       "\\hline\n",
       "\t  1     &    361\\\\\n",
       "\t  2     & 336597\\\\\n",
       "\t NA     &    193\\\\\n",
       "\\end{tabular}\n"
      ],
      "text/markdown": [
       "\n",
       "| rs200058074_A | n |\n",
       "|---|---|\n",
       "|  1     |    361 |\n",
       "|  2     | 336597 |\n",
       "| NA     |    193 |\n",
       "\n"
      ],
      "text/plain": [
       "  rs200058074_A n     \n",
       "1  1               361\n",
       "2  2            336597\n",
       "3 NA               193"
      ]
     },
     "metadata": {},
     "output_type": "display_data"
    }
   ],
   "source": [
    "geno_df %>% count(rs200058074_A)"
   ]
  },
  {
   "cell_type": "code",
   "execution_count": 88,
   "metadata": {},
   "outputs": [
    {
     "data": {
      "text/html": [
       "0.107135013859294"
      ],
      "text/latex": [
       "0.107135013859294"
      ],
      "text/markdown": [
       "0.107135013859294"
      ],
      "text/plain": [
       "[1] 0.107135"
      ]
     },
     "metadata": {},
     "output_type": "display_data"
    }
   ],
   "source": [
    "100 * 361 / (337151 - 193)"
   ]
  },
  {
   "cell_type": "code",
   "execution_count": null,
   "metadata": {},
   "outputs": [],
   "source": []
  }
 ],
 "metadata": {
  "kernelspec": {
   "display_name": "R 3.5 (module)",
   "language": "R",
   "name": "ir35ml"
  },
  "language_info": {
   "codemirror_mode": "r",
   "file_extension": ".r",
   "mimetype": "text/x-r-source",
   "name": "R",
   "pygments_lexer": "r",
   "version": "3.5.1"
  }
 },
 "nbformat": 4,
 "nbformat_minor": 2
}
