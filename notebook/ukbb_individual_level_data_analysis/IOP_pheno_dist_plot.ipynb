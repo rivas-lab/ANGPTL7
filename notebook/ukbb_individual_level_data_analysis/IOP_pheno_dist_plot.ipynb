{
 "cells": [
  {
   "cell_type": "code",
   "execution_count": 1,
   "metadata": {},
   "outputs": [],
   "source": [
    "suppressPackageStartupMessages(library(tidyverse))\n",
    "suppressPackageStartupMessages(library(data.table))\n"
   ]
  },
  {
   "cell_type": "code",
   "execution_count": 2,
   "metadata": {},
   "outputs": [],
   "source": [
    "merged <- fread('private_data/IOP_pheno_dist.merged.phe', sep='\\t', data.table=F, stringsAsFactors = F)"
   ]
  },
  {
   "cell_type": "code",
   "execution_count": 3,
   "metadata": {},
   "outputs": [
    {
     "data": {
      "text/html": [
       "<table>\n",
       "<caption>A tibble: 2 × 3</caption>\n",
       "<thead>\n",
       "\t<tr><th scope=col>IOP_measured</th><th scope=col>Glaucoma_case</th><th scope=col>Glaucoma_control</th></tr>\n",
       "\t<tr><th scope=col>&lt;lgl&gt;</th><th scope=col>&lt;int&gt;</th><th scope=col>&lt;int&gt;</th></tr>\n",
       "</thead>\n",
       "<tbody>\n",
       "\t<tr><td>FALSE</td><td>4238</td><td>250660</td></tr>\n",
       "\t<tr><td> TRUE</td><td>1625</td><td> 80628</td></tr>\n",
       "</tbody>\n",
       "</table>\n"
      ],
      "text/latex": [
       "A tibble: 2 × 3\n",
       "\\begin{tabular}{r|lll}\n",
       " IOP\\_measured & Glaucoma\\_case & Glaucoma\\_control\\\\\n",
       " <lgl> & <int> & <int>\\\\\n",
       "\\hline\n",
       "\t FALSE & 4238 & 250660\\\\\n",
       "\t  TRUE & 1625 &  80628\\\\\n",
       "\\end{tabular}\n"
      ],
      "text/markdown": [
       "\n",
       "A tibble: 2 × 3\n",
       "\n",
       "| IOP_measured &lt;lgl&gt; | Glaucoma_case &lt;int&gt; | Glaucoma_control &lt;int&gt; |\n",
       "|---|---|---|\n",
       "| FALSE | 4238 | 250660 |\n",
       "|  TRUE | 1625 |  80628 |\n",
       "\n"
      ],
      "text/plain": [
       "  IOP_measured Glaucoma_case Glaucoma_control\n",
       "1 FALSE        4238          250660          \n",
       "2  TRUE        1625           80628          "
      ]
     },
     "metadata": {},
     "output_type": "display_data"
    }
   ],
   "source": [
    "merged %>% count(IOP_measured, Glaucoma) %>% \n",
    "mutate(Glaucoma = if_else(Glaucoma == 2, 'Glaucoma_case', 'Glaucoma_control')) %>%\n",
    "spread(Glaucoma, n)\n"
   ]
  },
  {
   "cell_type": "code",
   "execution_count": 4,
   "metadata": {},
   "outputs": [],
   "source": [
    "p1 <- merged %>% filter(IOP_measured) %>% \n",
    "mutate(\n",
    "    Glaucoma = if_else(Glaucoma == 2, 'Case', 'Control'),\n",
    "    Glaucoma = as.factor(Glaucoma)\n",
    ") %>%\n",
    "ggplot(aes(color = Glaucoma, y = INI2005254)) + \n",
    "geom_boxplot(outlier.shape=8, outlier.size=1) +\n",
    "theme_bw() + \n",
    "theme(\n",
    "#     axis.title.x=element_blank(),\n",
    "    axis.text.x=element_blank(),\n",
    "    axis.ticks.x=element_blank(),\n",
    "    legend.position = c(.2, .9)\n",
    ") +\n",
    "labs(\n",
    "    y = 'Intraocular pressure, corneal-compensated (median)',\n",
    "    x = 'Glaucoma'\n",
    ") + scale_fill_brewer(palette=\"Dark2\")"
   ]
  },
  {
   "cell_type": "code",
   "execution_count": 5,
   "metadata": {},
   "outputs": [
    {
     "name": "stderr",
     "output_type": "stream",
     "text": [
      "Saving 6.67 x 6.67 in image\n"
     ]
    }
   ],
   "source": [
    "ggsave('IOP_distribution.v1.png', p1)"
   ]
  },
  {
   "cell_type": "code",
   "execution_count": 6,
   "metadata": {},
   "outputs": [],
   "source": [
    "p2 <- merged %>% filter(IOP_measured) %>% \n",
    "mutate(\n",
    "    Glaucoma = if_else(\n",
    "        Glaucoma == 2, \n",
    "        paste0('Case (n = ',    merged %>% count(Glaucoma) %>% filter(Glaucoma == 2) %>% select(n) %>% pull(), ')'),\n",
    "        paste0('Control (n = ', merged %>% count(Glaucoma) %>% filter(Glaucoma != 2) %>% select(n) %>% pull(), ')')\n",
    "    ),\n",
    "    Glaucoma = as.factor(Glaucoma)\n",
    ") %>%\n",
    "ggplot(aes(x = Glaucoma, y = INI2005254, color = Glaucoma)) + \n",
    "geom_violin(trim=FALSE) +\n",
    "geom_boxplot(width=0.2, outlier.shape=8, outlier.size=1, fill=\"white\")+\n",
    "theme_bw()+\n",
    "theme(\n",
    "#     axis.title.x=element_blank(),\n",
    "    axis.text.x=element_blank(),\n",
    "    axis.ticks.x=element_blank(),\n",
    "    legend.position = c(.2, .9)\n",
    ") +\n",
    "labs(\n",
    "    y = 'Intraocular pressure, corneal-compensated (median)',\n",
    "    x = 'Glaucoma'\n",
    ") + scale_fill_brewer(palette=\"Dark2\")\n"
   ]
  },
  {
   "cell_type": "code",
   "execution_count": 7,
   "metadata": {},
   "outputs": [
    {
     "name": "stderr",
     "output_type": "stream",
     "text": [
      "Saving 6.67 x 6.67 in image\n"
     ]
    }
   ],
   "source": [
    "ggsave('IOP_distribution.v2.png', p2)\n"
   ]
  },
  {
   "cell_type": "code",
   "execution_count": 19,
   "metadata": {},
   "outputs": [
    {
     "data": {
      "text/html": [
       "<table>\n",
       "<thead><tr><th scope=col>rs28991009_G</th><th scope=col>n</th></tr></thead>\n",
       "<tbody>\n",
       "\t<tr><td> 0    </td><td>    28</td></tr>\n",
       "\t<tr><td> 1    </td><td>  5410</td></tr>\n",
       "\t<tr><td> 2    </td><td>331239</td></tr>\n",
       "\t<tr><td>NA    </td><td>   474</td></tr>\n",
       "</tbody>\n",
       "</table>\n"
      ],
      "text/latex": [
       "\\begin{tabular}{r|ll}\n",
       " rs28991009\\_G & n\\\\\n",
       "\\hline\n",
       "\t  0     &     28\\\\\n",
       "\t  1     &   5410\\\\\n",
       "\t  2     & 331239\\\\\n",
       "\t NA     &    474\\\\\n",
       "\\end{tabular}\n"
      ],
      "text/markdown": [
       "\n",
       "| rs28991009_G | n |\n",
       "|---|---|\n",
       "|  0     |     28 |\n",
       "|  1     |   5410 |\n",
       "|  2     | 331239 |\n",
       "| NA     |    474 |\n",
       "\n"
      ],
      "text/plain": [
       "  rs28991009_G n     \n",
       "1  0               28\n",
       "2  1             5410\n",
       "3  2           331239\n",
       "4 NA              474"
      ]
     },
     "metadata": {},
     "output_type": "display_data"
    }
   ],
   "source": [
    "merged %>% count(rs28991009_G)"
   ]
  },
  {
   "cell_type": "code",
   "execution_count": 20,
   "metadata": {},
   "outputs": [
    {
     "data": {
      "text/html": [
       "<table>\n",
       "<thead><tr><th scope=col>FID</th><th scope=col>IID</th><th scope=col>IOP</th><th scope=col>Glaucoma</th><th scope=col>IOP_measured</th><th scope=col>Year_of_birth</th><th scope=col>age_death</th><th scope=col>rs28991009_G</th></tr></thead>\n",
       "<tbody>\n",
       "</tbody>\n",
       "</table>\n"
      ],
      "text/latex": [
       "\\begin{tabular}{r|llllllll}\n",
       " FID & IID & IOP & Glaucoma & IOP\\_measured & Year\\_of\\_birth & age\\_death & rs28991009\\_G\\\\\n",
       "\\hline\n",
       "\\end{tabular}\n"
      ],
      "text/markdown": [
       "\n",
       "| FID | IID | IOP | Glaucoma | IOP_measured | Year_of_birth | age_death | rs28991009_G |\n",
       "|---|---|---|---|---|---|---|---|\n",
       "\n"
      ],
      "text/plain": [
       "     FID IID IOP Glaucoma IOP_measured Year_of_birth age_death rs28991009_G"
      ]
     },
     "metadata": {},
     "output_type": "display_data"
    }
   ],
   "source": [
    "merged %>% filter(\n",
    "    age_death != -9,\n",
    "    rs28991009_G == 0\n",
    ") %>% arrange(-age_death) %>% \n",
    "head(0) # individual level data should not be saved as a part of notebook"
   ]
  },
  {
   "cell_type": "code",
   "execution_count": 21,
   "metadata": {},
   "outputs": [
    {
     "data": {
      "text/html": [
       "<table>\n",
       "<thead><tr><th scope=col>FID</th><th scope=col>IID</th><th scope=col>IOP</th><th scope=col>Glaucoma</th><th scope=col>IOP_measured</th><th scope=col>Year_of_birth</th><th scope=col>age_death</th><th scope=col>rs28991009_G</th></tr></thead>\n",
       "<tbody>\n",
       "</tbody>\n",
       "</table>\n"
      ],
      "text/latex": [
       "\\begin{tabular}{r|llllllll}\n",
       " FID & IID & IOP & Glaucoma & IOP\\_measured & Year\\_of\\_birth & age\\_death & rs28991009\\_G\\\\\n",
       "\\hline\n",
       "\\end{tabular}\n"
      ],
      "text/markdown": [
       "\n",
       "| FID | IID | IOP | Glaucoma | IOP_measured | Year_of_birth | age_death | rs28991009_G |\n",
       "|---|---|---|---|---|---|---|---|\n",
       "\n"
      ],
      "text/plain": [
       "     FID IID IOP Glaucoma IOP_measured Year_of_birth age_death rs28991009_G"
      ]
     },
     "metadata": {},
     "output_type": "display_data"
    }
   ],
   "source": [
    "merged %>% filter(\n",
    "#     age_death != -9,\n",
    "    rs28991009_G == 0\n",
    ") %>% arrange(-age_death, Year_of_birth) %>% \n",
    "head(0) # individual level data should not be saved as a part of notebook"
   ]
  },
  {
   "cell_type": "code",
   "execution_count": null,
   "metadata": {},
   "outputs": [],
   "source": []
  }
 ],
 "metadata": {
  "kernelspec": {
   "display_name": "R",
   "language": "R",
   "name": "ir"
  },
  "language_info": {
   "codemirror_mode": "r",
   "file_extension": ".r",
   "mimetype": "text/x-r-source",
   "name": "R",
   "pygments_lexer": "r",
   "version": "3.6.1"
  }
 },
 "nbformat": 4,
 "nbformat_minor": 4
}
