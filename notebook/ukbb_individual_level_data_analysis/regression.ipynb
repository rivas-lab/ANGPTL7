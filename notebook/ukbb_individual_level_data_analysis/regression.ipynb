{
 "cells": [
  {
   "cell_type": "code",
   "execution_count": 1,
   "metadata": {},
   "outputs": [],
   "source": [
    "suppressPackageStartupMessages(library(tidyverse))\n",
    "suppressPackageStartupMessages(library(data.table))\n"
   ]
  },
  {
   "cell_type": "code",
   "execution_count": 2,
   "metadata": {},
   "outputs": [],
   "source": [
    "covars <- c('age', 'sex', 'Array', paste0('PC', 1:4))"
   ]
  },
  {
   "cell_type": "code",
   "execution_count": 3,
   "metadata": {},
   "outputs": [],
   "source": [
    "covar_f <- '/oak/stanford/groups/mrivas/ukbb24983/sqc/ukb24983_GWAS_covar.phe'\n",
    "covar_df <- fread(\n",
    "    covar_f, sep='\\t', data.table=F,\n",
    "    select=c('FID', 'IID', covars)\n",
    ")"
   ]
  },
  {
   "cell_type": "code",
   "execution_count": 4,
   "metadata": {},
   "outputs": [],
   "source": [
    "pheno_f <- '/oak/stanford/groups/mrivas/projects/ANGPTL7/ukbb_GCTA/IOP_glaucoma.phe'\n",
    "pheno_df <- pheno_f %>% fread(sep='\\t', head=T)"
   ]
  },
  {
   "cell_type": "code",
   "execution_count": 5,
   "metadata": {},
   "outputs": [],
   "source": [
    "geno_annot_dfs <- list(\n",
    "    rs200058074 = data.frame(\n",
    "        rs200058074_A = c(0, 1, 2),\n",
    "        rs200058074 = c('G/G', 'A/G', 'A/A')   \n",
    "    ),    \n",
    "    rs28991002 = data.frame(\n",
    "        rs28991002_G = c(0, 1, 2),\n",
    "        rs28991002 = c('A/A', 'G/A', 'G/G')   \n",
    "    ),\n",
    "    rs28991009 = data.frame(\n",
    "        rs28991009_G = c(0, 1, 2),\n",
    "        rs28991009 = c('T/T', 'G/T', 'G/G')   \n",
    "    ),\n",
    "    rs143435072 = data.frame(\n",
    "        rs143435072_C = c(0, 1, 2),\n",
    "        rs143435072 = c('T/T', 'C/T', 'C/C') \n",
    "    )    \n",
    ")\n"
   ]
  },
  {
   "cell_type": "code",
   "execution_count": 6,
   "metadata": {},
   "outputs": [],
   "source": [
    "geno_f <- 'ukb24983_cal_cALL_v2_hg19_ANGPTL7_protein-altering_vars.raw'\n",
    "geno_df <- fread(\n",
    "    file=geno_f, sep='\\t', data.table=F\n",
    ") %>%\n",
    "left_join(geno_annot_dfs[['rs200058074']], by='rs200058074_A') %>%\n",
    "left_join(geno_annot_dfs[['rs28991002']],  by='rs28991002_G') %>%\n",
    "left_join(geno_annot_dfs[['rs28991009']],  by='rs28991009_G') %>%\n",
    "left_join(geno_annot_dfs[['rs143435072']], by='rs143435072_C')\n"
   ]
  },
  {
   "cell_type": "code",
   "execution_count": 7,
   "metadata": {},
   "outputs": [],
   "source": [
    "master_df <- geno_df %>%\n",
    "select(c(IID, names(geno_annot_dfs))) %>%\n",
    "inner_join(pheno_df %>% select(-FID), by='IID') %>%\n",
    "inner_join(covar_df %>% select(-FID), by='IID') %>% \n",
    "mutate(\n",
    "    hasIOP = !(\n",
    "        is.na(INI2005254) & is.na(INI2005255) & \n",
    "        is.na(INI5254) & is.na(INI5255) & \n",
    "        is.na(INI5262) & is.na(INI5263)\n",
    "    )\n",
    ")\n"
   ]
  },
  {
   "cell_type": "code",
   "execution_count": 8,
   "metadata": {},
   "outputs": [],
   "source": [
    "compose_formula <- function(x, y){\n",
    "    stats::formula(paste0(y, ' ~ as.factor(sex) + as.factor(Array) + PC1 + PC2 + PC3 + PC4 + as.factor(', x, ')'))\n",
    "}\n"
   ]
  },
  {
   "cell_type": "code",
   "execution_count": 9,
   "metadata": {},
   "outputs": [],
   "source": [
    "format_lmfit <- function(lmfit, len_covars = 0, is_binomial=FALSE){\n",
    "    lmfitdf <- summary(lmfit)$coefficients %>%\n",
    "    data.frame() %>% \n",
    "    rownames_to_column('ID') %>%\n",
    "    mutate(\n",
    "        ID = str_replace_all(ID, 'as.factor|[()]', '')\n",
    "    )\n",
    "    names(lmfitdf) <- c('ID', 'BETA', 'SE', 't.value', 'P')\n",
    "\n",
    "    lmfitdf_tail <- lmfitdf %>% tail(nrow(lmfitdf)-(len_covars))\n",
    "    \n",
    "    if(is_binomial){\n",
    "        lmfitdf_tail %>% mutate(\n",
    "            OR_str = paste0(\n",
    "                signif(exp(BETA), digits=2), \n",
    "                ' [', signif(exp(BETA-1.96*SE), digits=2), ', ', \n",
    "                signif(exp(BETA+1.96*SE), digits=2), ']'\n",
    "            )\n",
    "        )\n",
    "    }else{\n",
    "        lmfitdf_tail %>% mutate(\n",
    "            BETA_str = paste0(\n",
    "                signif(BETA, digits=2), \n",
    "                ' [', signif(BETA-1.96*SE, digits=2), ', ', \n",
    "                signif(BETA+1.96*SE, digits=2), ']'\n",
    "            )\n",
    "        )\n",
    "    }\n",
    "}\n"
   ]
  },
  {
   "cell_type": "code",
   "execution_count": 10,
   "metadata": {},
   "outputs": [],
   "source": [
    "IOP_betas <- bind_rows(lapply(\n",
    "    c('INI2005254', 'INI2005255', 'INI5254', 'INI5255', 'INI5262', 'INI5263'),\n",
    "    function(y){\n",
    "        bind_rows(lapply(\n",
    "            names(geno_annot_dfs),\n",
    "            function(x){\n",
    "                lm(compose_formula(x, y), master_df %>% filter(hasIOP)) %>%\n",
    "                format_lmfit(length(covars)) %>%\n",
    "                mutate(GBE_ID = y) %>%\n",
    "                rename(variant = ID) %>%\n",
    "                select(GBE_ID, variant, BETA_str, P, BETA, SE, t.value)\n",
    "            }\n",
    "        ))\n",
    "    }\n",
    "))\n"
   ]
  },
  {
   "cell_type": "code",
   "execution_count": 11,
   "metadata": {},
   "outputs": [],
   "source": [
    "IOP_betas %>% fwrite('regression_IOP.tsv', sep='\\t')\n"
   ]
  },
  {
   "cell_type": "code",
   "execution_count": 14,
   "metadata": {},
   "outputs": [],
   "source": [
    "glaucoma_OR <- bind_rows(lapply(\n",
    "    c('HC276'),\n",
    "    function(y){\n",
    "        bind_rows(lapply(\n",
    "            names(geno_annot_dfs),\n",
    "            function(x){\n",
    "                glm(compose_formula(x, y), master_df %>% filter(! hasIOP), family=binomial(link=\"logit\")) %>%\n",
    "                format_lmfit(length(covars), is_binomial = T) %>%\n",
    "                mutate(GBE_ID = y) %>%\n",
    "                rename(variant = ID) %>%\n",
    "                select(GBE_ID, variant, OR_str, P, BETA, SE, t.value)\n",
    "            }\n",
    "        ))\n",
    "    }\n",
    "))\n"
   ]
  },
  {
   "cell_type": "code",
   "execution_count": 15,
   "metadata": {},
   "outputs": [],
   "source": [
    "glaucoma_OR %>% fwrite('regression_Glaucoma.tsv', sep='\\t')\n"
   ]
  },
  {
   "cell_type": "code",
   "execution_count": null,
   "metadata": {},
   "outputs": [],
   "source": []
  }
 ],
 "metadata": {
  "kernelspec": {
   "display_name": "R",
   "language": "R",
   "name": "ir"
  },
  "language_info": {
   "codemirror_mode": "r",
   "file_extension": ".r",
   "mimetype": "text/x-r-source",
   "name": "R",
   "pygments_lexer": "r",
   "version": "3.6.1"
  }
 },
 "nbformat": 4,
 "nbformat_minor": 4
}
