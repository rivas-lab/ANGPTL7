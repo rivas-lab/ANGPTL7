{
 "cells": [
  {
   "cell_type": "code",
   "execution_count": 2,
   "metadata": {},
   "outputs": [
    {
     "name": "stderr",
     "output_type": "stream",
     "text": [
      "Loading required package: tidyverse\n",
      "── Attaching packages ─────────────────────────────────────── tidyverse 1.2.1 ──\n",
      "✔ ggplot2 3.1.0       ✔ purrr   0.3.1  \n",
      "✔ tibble  2.0.1       ✔ dplyr   0.8.0.1\n",
      "✔ tidyr   0.8.3       ✔ stringr 1.4.0  \n",
      "✔ readr   1.3.1       ✔ forcats 0.4.0  \n",
      "── Conflicts ────────────────────────────────────────── tidyverse_conflicts() ──\n",
      "✖ dplyr::filter() masks stats::filter()\n",
      "✖ dplyr::lag()    masks stats::lag()\n",
      "Loading required package: data.table\n",
      "\n",
      "Attaching package: ‘data.table’\n",
      "\n",
      "The following objects are masked from ‘package:dplyr’:\n",
      "\n",
      "    between, first, last\n",
      "\n",
      "The following object is masked from ‘package:purrr’:\n",
      "\n",
      "    transpose\n",
      "\n"
     ]
    }
   ],
   "source": [
    "require(tidyverse)\n",
    "require(data.table)\n"
   ]
  },
  {
   "cell_type": "code",
   "execution_count": 3,
   "metadata": {},
   "outputs": [],
   "source": [
    "geno_f <- 'ukb24983_cal_cALL_v2_hg19_ANGPTL7_protein-altering_vars.raw'\n",
    "geno_df <- fread(\n",
    "    file=geno_f, sep='\\t', data.table=F\n",
    ")"
   ]
  },
  {
   "cell_type": "code",
   "execution_count": 4,
   "metadata": {},
   "outputs": [],
   "source": [
    "# (a) INI2734 Number_of_live_births\n",
    "# (b) INI2405 Number_of_children_fathered\n",
    "\n",
    "pheno_f <- list()\n",
    "pheno_f[['INI2734']] <- '/oak/stanford/groups/mrivas/ukbb24983/phenotypedata/9796/24611/phe/INI2734.phe'\n",
    "pheno_f[['INI2405']] <- '/oak/stanford/groups/mrivas/ukbb24983/phenotypedata/10136/21731/phe/INI2405.phe'\n"
   ]
  },
  {
   "cell_type": "code",
   "execution_count": 5,
   "metadata": {},
   "outputs": [],
   "source": [
    "pheno_df <- pheno_f %>% lapply(fread, sep='\\t', head=F)\n",
    "\n",
    "for(k in names(pheno_df)){\n",
    "    colnames(pheno_df[[k]]) <- c('FID', 'IID', k)\n",
    "}"
   ]
  },
  {
   "cell_type": "code",
   "execution_count": 6,
   "metadata": {},
   "outputs": [],
   "source": [
    "covar_f <- '/oak/stanford/groups/mrivas/ukbb24983/sqc/ukb24983_GWAS_covar.phe'\n",
    "covar_df <- fread(\n",
    "    cmd=paste0('cat ', covar_f, '| cut -f1-9'), sep='\\t', data.table=F\n",
    ")\n"
   ]
  },
  {
   "cell_type": "code",
   "execution_count": 7,
   "metadata": {},
   "outputs": [],
   "source": [
    "joined_df <- pheno_df %>% \n",
    "reduce(inner_join, by=c('FID', 'IID')) %>%\n",
    "inner_join(covar_df, by=c('FID', 'IID')) %>%\n",
    "inner_join(geno_df, by=c('FID', 'IID')) %>%\n",
    "select(-PAT, -MAT, -PHENOTYPE) %>%\n",
    "left_join(\n",
    "    data.frame(\n",
    "        rs200058074_A = c(0, 1, 2),\n",
    "        rs200058074 = c('G/G', 'A/G', 'A/A')   \n",
    "    ), by='rs200058074_A'\n",
    ") %>%\n",
    "left_join(\n",
    "    data.frame(\n",
    "        rs28991002_G = c(0, 1, 2),\n",
    "        rs28991002 = c('A/A', 'G/A', 'G/G')   \n",
    "    ), by='rs28991002_G'\n",
    ") %>%\n",
    "left_join(\n",
    "    data.frame(\n",
    "        rs28991009_G = c(0, 1, 2),\n",
    "        rs28991009 = c('T/T', 'G/T', 'G/G')   \n",
    "    ), by='rs28991009_G'\n",
    ") %>%\n",
    "left_join(\n",
    "    data.frame(\n",
    "        rs143435072_C = c(0, 1, 2),\n",
    "        rs143435072 = c('T/T', 'C/T', 'C/C')   \n",
    "    ), by='rs143435072_C'\n",
    ")\n"
   ]
  },
  {
   "cell_type": "code",
   "execution_count": 8,
   "metadata": {},
   "outputs": [
    {
     "data": {
      "text/html": [
       "<table>\n",
       "<thead><tr><th scope=col>FID</th><th scope=col>IID</th><th scope=col>INI2734</th><th scope=col>INI2405</th><th scope=col>age</th><th scope=col>sex</th><th scope=col>Array</th><th scope=col>PC1</th><th scope=col>PC2</th><th scope=col>PC3</th><th scope=col>PC4</th><th scope=col>SEX</th><th scope=col>rs200058074_A</th><th scope=col>rs28991002_G</th><th scope=col>rs28991009_G</th><th scope=col>rs143435072_C</th><th scope=col>rs200058074</th><th scope=col>rs28991002</th><th scope=col>rs28991009</th><th scope=col>rs143435072</th></tr></thead>\n",
       "<tbody>\n",
       "\t<tr><td>5441319   </td><td>5441319   </td><td>-9        </td><td> 1        </td><td>70        </td><td>1         </td><td>0         </td><td>-15.03880 </td><td>3.95816   </td><td>-4.01181  </td><td> 4.7271200</td><td>1         </td><td>2         </td><td>2         </td><td>2         </td><td>2         </td><td>A/A       </td><td>G/G       </td><td>G/G       </td><td>C/C       </td></tr>\n",
       "\t<tr><td>5743544   </td><td>5743544   </td><td> 2        </td><td>-9        </td><td>59        </td><td>0         </td><td>1         </td><td>-11.60260 </td><td>1.85332   </td><td>-2.30169  </td><td>-0.0928505</td><td>2         </td><td>2         </td><td>2         </td><td>2         </td><td>2         </td><td>A/A       </td><td>G/G       </td><td>G/G       </td><td>C/C       </td></tr>\n",
       "\t<tr><td>3266897   </td><td>3266897   </td><td>-9        </td><td> 2        </td><td>68        </td><td>1         </td><td>0         </td><td> -9.95342 </td><td>4.77525   </td><td> 1.42974  </td><td> 3.8178000</td><td>1         </td><td>2         </td><td>2         </td><td>2         </td><td>2         </td><td>A/A       </td><td>G/G       </td><td>G/G       </td><td>C/C       </td></tr>\n",
       "\t<tr><td>3990694   </td><td>3990694   </td><td> 0        </td><td>-9        </td><td>67        </td><td>0         </td><td>1         </td><td>-12.11410 </td><td>6.77668   </td><td>-1.24896  </td><td>-1.2029500</td><td>2         </td><td>2         </td><td>2         </td><td>2         </td><td>2         </td><td>A/A       </td><td>G/G       </td><td>G/G       </td><td>C/C       </td></tr>\n",
       "\t<tr><td>1080519   </td><td>1080519   </td><td> 1        </td><td>-9        </td><td>75        </td><td>0         </td><td>1         </td><td>-11.78760 </td><td>3.47476   </td><td> 1.25679  </td><td> 0.0719010</td><td>2         </td><td>2         </td><td>2         </td><td>2         </td><td>2         </td><td>A/A       </td><td>G/G       </td><td>G/G       </td><td>C/C       </td></tr>\n",
       "\t<tr><td>2611069   </td><td>2611069   </td><td> 2        </td><td>-9        </td><td>73        </td><td>0         </td><td>1         </td><td>-15.22180 </td><td>5.28979   </td><td>-1.55469  </td><td> 2.7796500</td><td>2         </td><td>2         </td><td>2         </td><td>2         </td><td>2         </td><td>A/A       </td><td>G/G       </td><td>G/G       </td><td>C/C       </td></tr>\n",
       "</tbody>\n",
       "</table>\n"
      ],
      "text/latex": [
       "\\begin{tabular}{r|llllllllllllllllllll}\n",
       " FID & IID & INI2734 & INI2405 & age & sex & Array & PC1 & PC2 & PC3 & PC4 & SEX & rs200058074\\_A & rs28991002\\_G & rs28991009\\_G & rs143435072\\_C & rs200058074 & rs28991002 & rs28991009 & rs143435072\\\\\n",
       "\\hline\n",
       "\t 5441319    & 5441319    & -9         &  1         & 70         & 1          & 0          & -15.03880  & 3.95816    & -4.01181   &  4.7271200 & 1          & 2          & 2          & 2          & 2          & A/A        & G/G        & G/G        & C/C       \\\\\n",
       "\t 5743544    & 5743544    &  2         & -9         & 59         & 0          & 1          & -11.60260  & 1.85332    & -2.30169   & -0.0928505 & 2          & 2          & 2          & 2          & 2          & A/A        & G/G        & G/G        & C/C       \\\\\n",
       "\t 3266897    & 3266897    & -9         &  2         & 68         & 1          & 0          &  -9.95342  & 4.77525    &  1.42974   &  3.8178000 & 1          & 2          & 2          & 2          & 2          & A/A        & G/G        & G/G        & C/C       \\\\\n",
       "\t 3990694    & 3990694    &  0         & -9         & 67         & 0          & 1          & -12.11410  & 6.77668    & -1.24896   & -1.2029500 & 2          & 2          & 2          & 2          & 2          & A/A        & G/G        & G/G        & C/C       \\\\\n",
       "\t 1080519    & 1080519    &  1         & -9         & 75         & 0          & 1          & -11.78760  & 3.47476    &  1.25679   &  0.0719010 & 2          & 2          & 2          & 2          & 2          & A/A        & G/G        & G/G        & C/C       \\\\\n",
       "\t 2611069    & 2611069    &  2         & -9         & 73         & 0          & 1          & -15.22180  & 5.28979    & -1.55469   &  2.7796500 & 2          & 2          & 2          & 2          & 2          & A/A        & G/G        & G/G        & C/C       \\\\\n",
       "\\end{tabular}\n"
      ],
      "text/markdown": [
       "\n",
       "| FID | IID | INI2734 | INI2405 | age | sex | Array | PC1 | PC2 | PC3 | PC4 | SEX | rs200058074_A | rs28991002_G | rs28991009_G | rs143435072_C | rs200058074 | rs28991002 | rs28991009 | rs143435072 |\n",
       "|---|---|---|---|---|---|---|---|---|---|---|---|---|---|---|---|---|---|---|---|\n",
       "| 5441319    | 5441319    | -9         |  1         | 70         | 1          | 0          | -15.03880  | 3.95816    | -4.01181   |  4.7271200 | 1          | 2          | 2          | 2          | 2          | A/A        | G/G        | G/G        | C/C        |\n",
       "| 5743544    | 5743544    |  2         | -9         | 59         | 0          | 1          | -11.60260  | 1.85332    | -2.30169   | -0.0928505 | 2          | 2          | 2          | 2          | 2          | A/A        | G/G        | G/G        | C/C        |\n",
       "| 3266897    | 3266897    | -9         |  2         | 68         | 1          | 0          |  -9.95342  | 4.77525    |  1.42974   |  3.8178000 | 1          | 2          | 2          | 2          | 2          | A/A        | G/G        | G/G        | C/C        |\n",
       "| 3990694    | 3990694    |  0         | -9         | 67         | 0          | 1          | -12.11410  | 6.77668    | -1.24896   | -1.2029500 | 2          | 2          | 2          | 2          | 2          | A/A        | G/G        | G/G        | C/C        |\n",
       "| 1080519    | 1080519    |  1         | -9         | 75         | 0          | 1          | -11.78760  | 3.47476    |  1.25679   |  0.0719010 | 2          | 2          | 2          | 2          | 2          | A/A        | G/G        | G/G        | C/C        |\n",
       "| 2611069    | 2611069    |  2         | -9         | 73         | 0          | 1          | -15.22180  | 5.28979    | -1.55469   |  2.7796500 | 2          | 2          | 2          | 2          | 2          | A/A        | G/G        | G/G        | C/C        |\n",
       "\n"
      ],
      "text/plain": [
       "  FID     IID     INI2734 INI2405 age sex Array PC1       PC2     PC3     \n",
       "1 5441319 5441319 -9       1      70  1   0     -15.03880 3.95816 -4.01181\n",
       "2 5743544 5743544  2      -9      59  0   1     -11.60260 1.85332 -2.30169\n",
       "3 3266897 3266897 -9       2      68  1   0      -9.95342 4.77525  1.42974\n",
       "4 3990694 3990694  0      -9      67  0   1     -12.11410 6.77668 -1.24896\n",
       "5 1080519 1080519  1      -9      75  0   1     -11.78760 3.47476  1.25679\n",
       "6 2611069 2611069  2      -9      73  0   1     -15.22180 5.28979 -1.55469\n",
       "  PC4        SEX rs200058074_A rs28991002_G rs28991009_G rs143435072_C\n",
       "1  4.7271200 1   2             2            2            2            \n",
       "2 -0.0928505 2   2             2            2            2            \n",
       "3  3.8178000 1   2             2            2            2            \n",
       "4 -1.2029500 2   2             2            2            2            \n",
       "5  0.0719010 2   2             2            2            2            \n",
       "6  2.7796500 2   2             2            2            2            \n",
       "  rs200058074 rs28991002 rs28991009 rs143435072\n",
       "1 A/A         G/G        G/G        C/C        \n",
       "2 A/A         G/G        G/G        C/C        \n",
       "3 A/A         G/G        G/G        C/C        \n",
       "4 A/A         G/G        G/G        C/C        \n",
       "5 A/A         G/G        G/G        C/C        \n",
       "6 A/A         G/G        G/G        C/C        "
      ]
     },
     "metadata": {},
     "output_type": "display_data"
    }
   ],
   "source": [
    "joined_df %>% head()"
   ]
  },
  {
   "cell_type": "code",
   "execution_count": 9,
   "metadata": {},
   "outputs": [],
   "source": [
    "show_95CI <- function(estimate, standard_error){\n",
    "    c(estimate - 1.96 * standard_error, estimate + 1.96 * standard_error) %>% print()\n",
    "}"
   ]
  },
  {
   "cell_type": "markdown",
   "metadata": {},
   "source": [
    "## fit lm (dosage models)"
   ]
  },
  {
   "cell_type": "code",
   "execution_count": 10,
   "metadata": {},
   "outputs": [],
   "source": [
    "lm_INI2734_rs200058074 <- lm (\n",
    "    INI2734 ~ age + as.factor(Array) + PC1 + PC2 + PC3 + PC4 + as.factor(rs200058074),\n",
    "    joined_df %>% filter(INI2734 != -9)\n",
    ")\n",
    "lm_INI2734_rs28991002 <- lm (\n",
    "    INI2734 ~ age + as.factor(Array) + PC1 + PC2 + PC3 + PC4 + as.factor(rs28991002),\n",
    "    joined_df %>% filter(INI2734 != -9)\n",
    ")\n",
    "lm_INI2734_rs28991009 <- lm (\n",
    "    INI2734 ~ age + as.factor(Array) + PC1 + PC2 + PC3 + PC4 + as.factor(rs28991009),\n",
    "    joined_df %>% filter(INI2734 != -9)\n",
    ")\n",
    "lm_INI2734_rs143435072 <- lm (\n",
    "    INI2734 ~ age + as.factor(Array) + PC1 + PC2 + PC3 + PC4 + as.factor(rs143435072),\n",
    "    joined_df %>% filter(INI2734 != -9)\n",
    ")\n",
    "\n",
    "lm_INI2405_rs200058074 <- lm (\n",
    "    INI2405 ~ age + as.factor(Array) + PC1 + PC2 + PC3 + PC4 + as.factor(rs200058074),\n",
    "    joined_df %>% filter(INI2405 != -9)\n",
    ")\n",
    "lm_INI2405_rs28991002 <- lm (\n",
    "    INI2405 ~ age + as.factor(Array) + PC1 + PC2 + PC3 + PC4 + as.factor(rs28991002),\n",
    "    joined_df %>% filter(INI2405 != -9)\n",
    ")\n",
    "lm_INI2405_rs28991009 <- lm (\n",
    "    INI2405 ~ age + as.factor(Array) + PC1 + PC2 + PC3 + PC4 + as.factor(rs28991009),\n",
    "    joined_df %>% filter(INI2405 != -9)\n",
    ")\n",
    "lm_INI2405_rs143435072 <- lm (\n",
    "    INI2405 ~ age + as.factor(Array) + PC1 + PC2 + PC3 + PC4 + as.factor(rs143435072),\n",
    "    joined_df %>% filter(INI2405 != -9)\n",
    ")\n"
   ]
  },
  {
   "cell_type": "code",
   "execution_count": 11,
   "metadata": {},
   "outputs": [
    {
     "name": "stdout",
     "output_type": "stream",
     "text": [
      "\n",
      "Call:\n",
      "lm(formula = INI2734 ~ age + as.factor(Array) + PC1 + PC2 + PC3 + \n",
      "    PC4 + as.factor(rs200058074), data = joined_df %>% filter(INI2734 != \n",
      "    -9))\n",
      "\n",
      "Residuals:\n",
      "    Min      1Q  Median      3Q     Max \n",
      "-2.2149 -0.7961  0.0976  0.5418 20.0449 \n",
      "\n",
      "Coefficients:\n",
      "                           Estimate Std. Error t value Pr(>|t|)    \n",
      "(Intercept)                0.183575   0.031926   5.750 8.94e-09 ***\n",
      "age                        0.024790   0.000339  73.123  < 2e-16 ***\n",
      "as.factor(Array)1          0.005015   0.008911   0.563   0.5736    \n",
      "PC1                        0.002568   0.001751   1.467   0.1424    \n",
      "PC2                        0.003521   0.001809   1.946   0.0517 .  \n",
      "PC3                       -0.004300   0.001738  -2.475   0.0133 *  \n",
      "PC4                        0.003995   0.000960   4.161 3.17e-05 ***\n",
      "as.factor(rs200058074)A/G  0.089140   0.078386   1.137   0.2555    \n",
      "---\n",
      "Signif. codes:  0 ‘***’ 0.001 ‘**’ 0.01 ‘*’ 0.05 ‘.’ 0.1 ‘ ’ 1\n",
      "\n",
      "Residual standard error: 1.141 on 180823 degrees of freedom\n",
      "  (103 observations deleted due to missingness)\n",
      "Multiple R-squared:  0.02888,\tAdjusted R-squared:  0.02885 \n",
      "F-statistic: 768.3 on 7 and 180823 DF,  p-value: < 2.2e-16\n",
      "\n",
      "\n",
      "Call:\n",
      "lm(formula = INI2734 ~ age + as.factor(Array) + PC1 + PC2 + PC3 + \n",
      "    PC4 + as.factor(rs28991002), data = joined_df %>% filter(INI2734 != \n",
      "    -9))\n",
      "\n",
      "Residuals:\n",
      "    Min      1Q  Median      3Q     Max \n",
      "-2.1976 -0.7961  0.0977  0.5415 20.0450 \n",
      "\n",
      "Coefficients:\n",
      "                          Estimate Std. Error t value Pr(>|t|)    \n",
      "(Intercept)               0.479885   1.141020   0.421   0.6741    \n",
      "age                       0.024773   0.000339  73.077  < 2e-16 ***\n",
      "as.factor(Array)1         0.004555   0.008909   0.511   0.6092    \n",
      "PC1                       0.002697   0.001751   1.541   0.1234    \n",
      "PC2                       0.003519   0.001809   1.945   0.0517 .  \n",
      "PC3                      -0.004329   0.001737  -2.492   0.0127 *  \n",
      "PC4                       0.003982   0.000960   4.148 3.36e-05 ***\n",
      "as.factor(rs28991002)G/A -0.250080   1.141228  -0.219   0.8265    \n",
      "as.factor(rs28991002)G/G -0.293434   1.140566  -0.257   0.7970    \n",
      "---\n",
      "Signif. codes:  0 ‘***’ 0.001 ‘**’ 0.01 ‘*’ 0.05 ‘.’ 0.1 ‘ ’ 1\n",
      "\n",
      "Residual standard error: 1.141 on 180826 degrees of freedom\n",
      "  (99 observations deleted due to missingness)\n",
      "Multiple R-squared:  0.02885,\tAdjusted R-squared:  0.02881 \n",
      "F-statistic: 671.4 on 8 and 180826 DF,  p-value: < 2.2e-16\n",
      "\n",
      "\n",
      "Call:\n",
      "lm(formula = INI2734 ~ age + as.factor(Array) + PC1 + PC2 + PC3 + \n",
      "    PC4 + as.factor(rs28991009), data = joined_df %>% filter(INI2734 != \n",
      "    -9))\n",
      "\n",
      "Residuals:\n",
      "    Min      1Q  Median      3Q     Max \n",
      "-2.1977 -0.7963  0.0977  0.5413 20.0447 \n",
      "\n",
      "Coefficients:\n",
      "                           Estimate Std. Error t value Pr(>|t|)    \n",
      "(Intercept)               0.1888008  0.0319461   5.910 3.43e-09 ***\n",
      "age                       0.0247555  0.0003392  72.975  < 2e-16 ***\n",
      "as.factor(Array)1         0.0047952  0.0089109   0.538   0.5905    \n",
      "PC1                       0.0027709  0.0017519   1.582   0.1137    \n",
      "PC2                       0.0035227  0.0018102   1.946   0.0517 .  \n",
      "PC3                      -0.0042423  0.0017384  -2.440   0.0147 *  \n",
      "PC4                       0.0040281  0.0009607   4.193 2.75e-05 ***\n",
      "as.factor(rs28991009)G/T -0.0075911  0.0215450  -0.352   0.7246    \n",
      "as.factor(rs28991009)T/T  0.2277055  0.3607666   0.631   0.5279    \n",
      "---\n",
      "Signif. codes:  0 ‘***’ 0.001 ‘**’ 0.01 ‘*’ 0.05 ‘.’ 0.1 ‘ ’ 1\n",
      "\n",
      "Residual standard error: 1.141 on 180656 degrees of freedom\n",
      "  (269 observations deleted due to missingness)\n",
      "Multiple R-squared:  0.02879,\tAdjusted R-squared:  0.02875 \n",
      "F-statistic: 669.5 on 8 and 180656 DF,  p-value: < 2.2e-16\n",
      "\n",
      "\n",
      "Call:\n",
      "lm(formula = INI2734 ~ age + as.factor(Array) + PC1 + PC2 + PC3 + \n",
      "    PC4 + as.factor(rs143435072), data = joined_df %>% filter(INI2734 != \n",
      "    -9))\n",
      "\n",
      "Residuals:\n",
      "    Min      1Q  Median      3Q     Max \n",
      "-2.3042 -0.7960  0.0976  0.5419 20.0448 \n",
      "\n",
      "Coefficients:\n",
      "                            Estimate Std. Error t value Pr(>|t|)    \n",
      "(Intercept)                0.1853037  0.0319168   5.806 6.42e-09 ***\n",
      "age                        0.0247903  0.0003389  73.144  < 2e-16 ***\n",
      "as.factor(Array)1          0.0048498  0.0089056   0.545   0.5860    \n",
      "PC1                        0.0027175  0.0017505   1.552   0.1206    \n",
      "PC2                        0.0035308  0.0018087   1.952   0.0509 .  \n",
      "PC3                       -0.0043474  0.0017370  -2.503   0.0123 *  \n",
      "PC4                        0.0039988  0.0009597   4.167 3.09e-05 ***\n",
      "as.factor(rs143435072)C/T  0.2026582  0.0928595   2.182   0.0291 *  \n",
      "---\n",
      "Signif. codes:  0 ‘***’ 0.001 ‘**’ 0.01 ‘*’ 0.05 ‘.’ 0.1 ‘ ’ 1\n",
      "\n",
      "Residual standard error: 1.141 on 180908 degrees of freedom\n",
      "  (18 observations deleted due to missingness)\n",
      "Multiple R-squared:  0.02891,\tAdjusted R-squared:  0.02887 \n",
      "F-statistic: 769.3 on 7 and 180908 DF,  p-value: < 2.2e-16\n",
      "\n"
     ]
    }
   ],
   "source": [
    "lm_INI2734_rs200058074 %>% summary() %>% print() \n",
    "lm_INI2734_rs28991002  %>% summary() %>% print()\n",
    "lm_INI2734_rs28991009  %>% summary() %>% print()\n",
    "lm_INI2734_rs143435072 %>% summary() %>% print()\n"
   ]
  },
  {
   "cell_type": "code",
   "execution_count": 27,
   "metadata": {},
   "outputs": [
    {
     "data": {
      "text/html": [
       "<table>\n",
       "<thead><tr><th scope=col>variant</th><th scope=col>Estimate</th><th scope=col>Std</th><th scope=col>t.value</th><th scope=col>Pr...t..</th><th scope=col>l95</th><th scope=col>u95</th><th scope=col>str</th></tr></thead>\n",
       "<tbody>\n",
       "\t<tr><td>as.factor(rs200058074)A/G</td><td> 0.089140425             </td><td>0.07838611               </td><td> 1.1371968               </td><td>0.25545755               </td><td>-0.06449634              </td><td>0.24277719               </td><td>0.089 [-0.064, 0.24]     </td></tr>\n",
       "\t<tr><td>as.factor(rs28991002)G/G </td><td>-0.293434537             </td><td>1.14056632               </td><td>-0.2572709               </td><td>0.79696994               </td><td>-2.52894452              </td><td>1.94207545               </td><td>-0.29 [-2.5, 1.9]        </td></tr>\n",
       "\t<tr><td>as.factor(rs28991009)G/T </td><td>-0.007591093             </td><td>0.02154496               </td><td>-0.3523373               </td><td>0.72458572               </td><td>-0.04981921              </td><td>0.03463703               </td><td>-0.0076 [-0.05, 0.035]   </td></tr>\n",
       "\t<tr><td>as.factor(rs28991009)T/T </td><td> 0.227705520             </td><td>0.36076659               </td><td> 0.6311713               </td><td>0.52792932               </td><td>-0.47939700              </td><td>0.93480804               </td><td>0.23 [-0.48, 0.93]       </td></tr>\n",
       "\t<tr><td>as.factor(rs143435072)C/T</td><td> 0.202658155             </td><td>0.09285950               </td><td> 2.1824170               </td><td>0.02908006               </td><td> 0.02065353              </td><td>0.38466278               </td><td>0.2 [0.021, 0.38]        </td></tr>\n",
       "</tbody>\n",
       "</table>\n"
      ],
      "text/latex": [
       "\\begin{tabular}{r|llllllll}\n",
       " variant & Estimate & Std & t.value & Pr...t.. & l95 & u95 & str\\\\\n",
       "\\hline\n",
       "\t as.factor(rs200058074)A/G  &  0.089140425               & 0.07838611                 &  1.1371968                 & 0.25545755                 & -0.06449634                & 0.24277719                 & 0.089 {[}-0.064, 0.24{]}  \\\\\n",
       "\t as.factor(rs28991002)G/G   & -0.293434537               & 1.14056632                 & -0.2572709                 & 0.79696994                 & -2.52894452                & 1.94207545                 & -0.29 {[}-2.5, 1.9{]}     \\\\\n",
       "\t as.factor(rs28991009)G/T   & -0.007591093               & 0.02154496                 & -0.3523373                 & 0.72458572                 & -0.04981921                & 0.03463703                 & -0.0076 {[}-0.05, 0.035{]}\\\\\n",
       "\t as.factor(rs28991009)T/T   &  0.227705520               & 0.36076659                 &  0.6311713                 & 0.52792932                 & -0.47939700                & 0.93480804                 & 0.23 {[}-0.48, 0.93{]}    \\\\\n",
       "\t as.factor(rs143435072)C/T  &  0.202658155               & 0.09285950                 &  2.1824170                 & 0.02908006                 &  0.02065353                & 0.38466278                 & 0.2 {[}0.021, 0.38{]}     \\\\\n",
       "\\end{tabular}\n"
      ],
      "text/markdown": [
       "\n",
       "| variant | Estimate | Std | t.value | Pr...t.. | l95 | u95 | str |\n",
       "|---|---|---|---|---|---|---|---|\n",
       "| as.factor(rs200058074)A/G |  0.089140425              | 0.07838611                |  1.1371968                | 0.25545755                | -0.06449634               | 0.24277719                | 0.089 [-0.064, 0.24]      |\n",
       "| as.factor(rs28991002)G/G  | -0.293434537              | 1.14056632                | -0.2572709                | 0.79696994                | -2.52894452               | 1.94207545                | -0.29 [-2.5, 1.9]         |\n",
       "| as.factor(rs28991009)G/T  | -0.007591093              | 0.02154496                | -0.3523373                | 0.72458572                | -0.04981921               | 0.03463703                | -0.0076 [-0.05, 0.035]    |\n",
       "| as.factor(rs28991009)T/T  |  0.227705520              | 0.36076659                |  0.6311713                | 0.52792932                | -0.47939700               | 0.93480804                | 0.23 [-0.48, 0.93]        |\n",
       "| as.factor(rs143435072)C/T |  0.202658155              | 0.09285950                |  2.1824170                | 0.02908006                |  0.02065353               | 0.38466278                | 0.2 [0.021, 0.38]         |\n",
       "\n"
      ],
      "text/plain": [
       "  variant                   Estimate     Std        t.value    Pr...t..  \n",
       "1 as.factor(rs200058074)A/G  0.089140425 0.07838611  1.1371968 0.25545755\n",
       "2 as.factor(rs28991002)G/G  -0.293434537 1.14056632 -0.2572709 0.79696994\n",
       "3 as.factor(rs28991009)G/T  -0.007591093 0.02154496 -0.3523373 0.72458572\n",
       "4 as.factor(rs28991009)T/T   0.227705520 0.36076659  0.6311713 0.52792932\n",
       "5 as.factor(rs143435072)C/T  0.202658155 0.09285950  2.1824170 0.02908006\n",
       "  l95         u95        str                   \n",
       "1 -0.06449634 0.24277719 0.089 [-0.064, 0.24]  \n",
       "2 -2.52894452 1.94207545 -0.29 [-2.5, 1.9]     \n",
       "3 -0.04981921 0.03463703 -0.0076 [-0.05, 0.035]\n",
       "4 -0.47939700 0.93480804 0.23 [-0.48, 0.93]    \n",
       "5  0.02065353 0.38466278 0.2 [0.021, 0.38]     "
      ]
     },
     "metadata": {},
     "output_type": "display_data"
    }
   ],
   "source": [
    "rbind(\n",
    "    lm_INI2734_rs200058074 %>% summary() %>% coef() %>% tail(1) %>% data.frame() %>% rownames_to_column('variant'),\n",
    "    lm_INI2734_rs28991002  %>% summary() %>% coef() %>% tail(1) %>% data.frame() %>% rownames_to_column('variant'),\n",
    "    lm_INI2734_rs28991009  %>% summary() %>% coef() %>% tail(2) %>% data.frame() %>% rownames_to_column('variant'),\n",
    "    lm_INI2734_rs143435072 %>% summary() %>% coef() %>% tail(1) %>% data.frame() %>% rownames_to_column('variant')\n",
    ") %>%\n",
    "data.frame() %>%\n",
    "rename(\n",
    "    'Std' = 'Std..Error'\n",
    ") %>%\n",
    "mutate(\n",
    "    l95 = Estimate - 1.96 * Std,\n",
    "    u95 = Estimate + 1.96 * Std,\n",
    "    str = paste0(signif(Estimate, digits=2), ' [', signif(l95, digits=2), ', ', signif(u95, digits=2), ']')    \n",
    ")"
   ]
  },
  {
   "cell_type": "code",
   "execution_count": 16,
   "metadata": {},
   "outputs": [
    {
     "name": "stdout",
     "output_type": "stream",
     "text": [
      "\n",
      "Call:\n",
      "lm(formula = INI2405 ~ age + as.factor(Array) + PC1 + PC2 + PC3 + \n",
      "    PC4 + as.factor(rs200058074), data = joined_df %>% filter(INI2405 != \n",
      "    -9))\n",
      "\n",
      "Residuals:\n",
      "   Min     1Q Median     3Q    Max \n",
      "-2.166 -0.877  0.115  0.567 98.583 \n",
      "\n",
      "Coefficients:\n",
      "                            Estimate Std. Error t value Pr(>|t|)    \n",
      "(Intercept)                0.2775398  0.0373846   7.424 1.14e-13 ***\n",
      "age                        0.0238867  0.0003903  61.204  < 2e-16 ***\n",
      "as.factor(Array)1         -0.0217311  0.0097107  -2.238  0.02523 *  \n",
      "PC1                        0.0054746  0.0020600   2.658  0.00787 ** \n",
      "PC2                       -0.0025967  0.0021344  -1.217  0.22376    \n",
      "PC3                       -0.0024271  0.0020531  -1.182  0.23713    \n",
      "PC4                        0.0077032  0.0011301   6.816 9.38e-12 ***\n",
      "as.factor(rs200058074)A/G  0.0063612  0.1025595   0.062  0.95054    \n",
      "---\n",
      "Signif. codes:  0 ‘***’ 0.001 ‘**’ 0.01 ‘*’ 0.05 ‘.’ 0.1 ‘ ’ 1\n",
      "\n",
      "Residual standard error: 1.243 on 154973 degrees of freedom\n",
      "  (90 observations deleted due to missingness)\n",
      "Multiple R-squared:  0.02393,\tAdjusted R-squared:  0.02389 \n",
      "F-statistic: 542.9 on 7 and 154973 DF,  p-value: < 2.2e-16\n",
      "\n",
      "\n",
      "Call:\n",
      "lm(formula = INI2405 ~ age + as.factor(Array) + PC1 + PC2 + PC3 + \n",
      "    PC4 + as.factor(rs28991002), data = joined_df %>% filter(INI2405 != \n",
      "    -9))\n",
      "\n",
      "Residuals:\n",
      "   Min     1Q Median     3Q    Max \n",
      "-2.166 -0.877  0.115  0.567 98.583 \n",
      "\n",
      "Coefficients:\n",
      "                           Estimate Std. Error t value Pr(>|t|)    \n",
      "(Intercept)               0.2803957  0.0568300   4.934 8.07e-07 ***\n",
      "age                       0.0238796  0.0003903  61.187  < 2e-16 ***\n",
      "as.factor(Array)1        -0.0216814  0.0097099  -2.233  0.02556 *  \n",
      "PC1                       0.0054353  0.0020597   2.639  0.00832 ** \n",
      "PC2                      -0.0025751  0.0021345  -1.206  0.22764    \n",
      "PC3                      -0.0023599  0.0020531  -1.149  0.25037    \n",
      "PC4                       0.0076795  0.0011301   6.795 1.08e-11 ***\n",
      "as.factor(rs28991002)G/G -0.0029671  0.0429739  -0.069  0.94495    \n",
      "---\n",
      "Signif. codes:  0 ‘***’ 0.001 ‘**’ 0.01 ‘*’ 0.05 ‘.’ 0.1 ‘ ’ 1\n",
      "\n",
      "Residual standard error: 1.243 on 154967 degrees of freedom\n",
      "  (96 observations deleted due to missingness)\n",
      "Multiple R-squared:  0.02392,\tAdjusted R-squared:  0.02387 \n",
      "F-statistic: 542.5 on 7 and 154967 DF,  p-value: < 2.2e-16\n",
      "\n",
      "\n",
      "Call:\n",
      "lm(formula = INI2405 ~ age + as.factor(Array) + PC1 + PC2 + PC3 + \n",
      "    PC4 + as.factor(rs28991009), data = joined_df %>% filter(INI2405 != \n",
      "    -9))\n",
      "\n",
      "Residuals:\n",
      "   Min     1Q Median     3Q    Max \n",
      "-2.167 -0.877  0.115  0.567 98.583 \n",
      "\n",
      "Coefficients:\n",
      "                           Estimate Std. Error t value Pr(>|t|)    \n",
      "(Intercept)               0.2783534  0.0373991   7.443 9.91e-14 ***\n",
      "age                       0.0238791  0.0003904  61.169  < 2e-16 ***\n",
      "as.factor(Array)1        -0.0212365  0.0097086  -2.187  0.02872 *  \n",
      "PC1                       0.0055529  0.0020609   2.694  0.00705 ** \n",
      "PC2                      -0.0025074  0.0021350  -1.174  0.24023    \n",
      "PC3                      -0.0022611  0.0020537  -1.101  0.27089    \n",
      "PC4                       0.0077141  0.0011306   6.823 8.93e-12 ***\n",
      "as.factor(rs28991009)G/T -0.0051525  0.0248700  -0.207  0.83587    \n",
      "as.factor(rs28991009)T/T  0.4089717  0.2929306   1.396  0.16267    \n",
      "---\n",
      "Signif. codes:  0 ‘***’ 0.001 ‘**’ 0.01 ‘*’ 0.05 ‘.’ 0.1 ‘ ’ 1\n",
      "\n",
      "Residual standard error: 1.243 on 154860 degrees of freedom\n",
      "  (202 observations deleted due to missingness)\n",
      "Multiple R-squared:  0.02394,\tAdjusted R-squared:  0.02389 \n",
      "F-statistic: 474.7 on 8 and 154860 DF,  p-value: < 2.2e-16\n",
      "\n",
      "\n",
      "Call:\n",
      "lm(formula = INI2405 ~ age + as.factor(Array) + PC1 + PC2 + PC3 + \n",
      "    PC4 + as.factor(rs143435072), data = joined_df %>% filter(INI2405 != \n",
      "    -9))\n",
      "\n",
      "Residuals:\n",
      "   Min     1Q Median     3Q    Max \n",
      "-2.166 -0.878  0.115  0.567 98.583 \n",
      "\n",
      "Coefficients:\n",
      "                            Estimate Std. Error t value Pr(>|t|)    \n",
      "(Intercept)                0.2763336  0.0373755   7.393 1.44e-13 ***\n",
      "age                        0.0238892  0.0003902  61.225  < 2e-16 ***\n",
      "as.factor(Array)1         -0.0215954  0.0097057  -2.225   0.0261 *  \n",
      "PC1                        0.0053952  0.0020594   2.620   0.0088 ** \n",
      "PC2                       -0.0026010  0.0021339  -1.219   0.2229    \n",
      "PC3                       -0.0023216  0.0020524  -1.131   0.2580    \n",
      "PC4                        0.0077221  0.0011298   6.835 8.22e-12 ***\n",
      "as.factor(rs143435072)C/T -0.0519248  0.1134979  -0.457   0.6473    \n",
      "---\n",
      "Signif. codes:  0 ‘***’ 0.001 ‘**’ 0.01 ‘*’ 0.05 ‘.’ 0.1 ‘ ’ 1\n",
      "\n",
      "Residual standard error: 1.243 on 155043 degrees of freedom\n",
      "  (20 observations deleted due to missingness)\n",
      "Multiple R-squared:  0.02394,\tAdjusted R-squared:  0.02389 \n",
      "F-statistic: 543.2 on 7 and 155043 DF,  p-value: < 2.2e-16\n",
      "\n"
     ]
    }
   ],
   "source": [
    "lm_INI2405_rs200058074 %>% summary() %>% print()\n",
    "lm_INI2405_rs28991002  %>% summary() %>% print()\n",
    "lm_INI2405_rs28991009  %>% summary() %>% print()\n",
    "lm_INI2405_rs143435072 %>% summary() %>% print()\n"
   ]
  },
  {
   "cell_type": "code",
   "execution_count": 26,
   "metadata": {},
   "outputs": [
    {
     "data": {
      "text/html": [
       "<table>\n",
       "<thead><tr><th scope=col>variant</th><th scope=col>Estimate</th><th scope=col>Std</th><th scope=col>t.value</th><th scope=col>Pr...t..</th><th scope=col>l95</th><th scope=col>u95</th><th scope=col>str</th></tr></thead>\n",
       "<tbody>\n",
       "\t<tr><td>as.factor(rs200058074)A/G</td><td> 0.006361193             </td><td>0.10255951               </td><td> 0.06202441              </td><td>0.9505435                </td><td>-0.19465545              </td><td>0.20737783               </td><td>0.0064 [-0.19, 0.21]     </td></tr>\n",
       "\t<tr><td>as.factor(rs28991002)G/G </td><td>-0.002967125             </td><td>0.04297386               </td><td>-0.06904488              </td><td>0.9449540                </td><td>-0.08719590              </td><td>0.08126165               </td><td>-0.003 [-0.087, 0.081]   </td></tr>\n",
       "\t<tr><td>as.factor(rs28991009)G/T </td><td>-0.005152470             </td><td>0.02487000               </td><td>-0.20717608              </td><td>0.8358726                </td><td>-0.05389768              </td><td>0.04359274               </td><td>-0.0052 [-0.054, 0.044]  </td></tr>\n",
       "\t<tr><td>as.factor(rs28991009)T/T </td><td> 0.408971665             </td><td>0.29293059               </td><td> 1.39613849              </td><td>0.1626748                </td><td>-0.16517228              </td><td>0.98311561               </td><td>0.41 [-0.17, 0.98]       </td></tr>\n",
       "\t<tr><td>as.factor(rs143435072)C/T</td><td>-0.051924783             </td><td>0.11349786               </td><td>-0.45749571              </td><td>0.6473154                </td><td>-0.27438058              </td><td>0.17053102               </td><td>-0.052 [-0.27, 0.17]     </td></tr>\n",
       "</tbody>\n",
       "</table>\n"
      ],
      "text/latex": [
       "\\begin{tabular}{r|llllllll}\n",
       " variant & Estimate & Std & t.value & Pr...t.. & l95 & u95 & str\\\\\n",
       "\\hline\n",
       "\t as.factor(rs200058074)A/G   &  0.006361193                & 0.10255951                  &  0.06202441                 & 0.9505435                   & -0.19465545                 & 0.20737783                  & 0.0064 {[}-0.19, 0.21{]}   \\\\\n",
       "\t as.factor(rs28991002)G/G    & -0.002967125                & 0.04297386                  & -0.06904488                 & 0.9449540                   & -0.08719590                 & 0.08126165                  & -0.003 {[}-0.087, 0.081{]} \\\\\n",
       "\t as.factor(rs28991009)G/T    & -0.005152470                & 0.02487000                  & -0.20717608                 & 0.8358726                   & -0.05389768                 & 0.04359274                  & -0.0052 {[}-0.054, 0.044{]}\\\\\n",
       "\t as.factor(rs28991009)T/T    &  0.408971665                & 0.29293059                  &  1.39613849                 & 0.1626748                   & -0.16517228                 & 0.98311561                  & 0.41 {[}-0.17, 0.98{]}     \\\\\n",
       "\t as.factor(rs143435072)C/T   & -0.051924783                & 0.11349786                  & -0.45749571                 & 0.6473154                   & -0.27438058                 & 0.17053102                  & -0.052 {[}-0.27, 0.17{]}   \\\\\n",
       "\\end{tabular}\n"
      ],
      "text/markdown": [
       "\n",
       "| variant | Estimate | Std | t.value | Pr...t.. | l95 | u95 | str |\n",
       "|---|---|---|---|---|---|---|---|\n",
       "| as.factor(rs200058074)A/G |  0.006361193              | 0.10255951                |  0.06202441               | 0.9505435                 | -0.19465545               | 0.20737783                | 0.0064 [-0.19, 0.21]      |\n",
       "| as.factor(rs28991002)G/G  | -0.002967125              | 0.04297386                | -0.06904488               | 0.9449540                 | -0.08719590               | 0.08126165                | -0.003 [-0.087, 0.081]    |\n",
       "| as.factor(rs28991009)G/T  | -0.005152470              | 0.02487000                | -0.20717608               | 0.8358726                 | -0.05389768               | 0.04359274                | -0.0052 [-0.054, 0.044]   |\n",
       "| as.factor(rs28991009)T/T  |  0.408971665              | 0.29293059                |  1.39613849               | 0.1626748                 | -0.16517228               | 0.98311561                | 0.41 [-0.17, 0.98]        |\n",
       "| as.factor(rs143435072)C/T | -0.051924783              | 0.11349786                | -0.45749571               | 0.6473154                 | -0.27438058               | 0.17053102                | -0.052 [-0.27, 0.17]      |\n",
       "\n"
      ],
      "text/plain": [
       "  variant                   Estimate     Std        t.value     Pr...t.. \n",
       "1 as.factor(rs200058074)A/G  0.006361193 0.10255951  0.06202441 0.9505435\n",
       "2 as.factor(rs28991002)G/G  -0.002967125 0.04297386 -0.06904488 0.9449540\n",
       "3 as.factor(rs28991009)G/T  -0.005152470 0.02487000 -0.20717608 0.8358726\n",
       "4 as.factor(rs28991009)T/T   0.408971665 0.29293059  1.39613849 0.1626748\n",
       "5 as.factor(rs143435072)C/T -0.051924783 0.11349786 -0.45749571 0.6473154\n",
       "  l95         u95        str                    \n",
       "1 -0.19465545 0.20737783 0.0064 [-0.19, 0.21]   \n",
       "2 -0.08719590 0.08126165 -0.003 [-0.087, 0.081] \n",
       "3 -0.05389768 0.04359274 -0.0052 [-0.054, 0.044]\n",
       "4 -0.16517228 0.98311561 0.41 [-0.17, 0.98]     \n",
       "5 -0.27438058 0.17053102 -0.052 [-0.27, 0.17]   "
      ]
     },
     "metadata": {},
     "output_type": "display_data"
    }
   ],
   "source": [
    "rbind(\n",
    "    lm_INI2405_rs200058074 %>% summary() %>% coef() %>% tail(1) %>% data.frame() %>% rownames_to_column('variant'),\n",
    "    lm_INI2405_rs28991002  %>% summary() %>% coef() %>% tail(1) %>% data.frame() %>% rownames_to_column('variant'),\n",
    "    lm_INI2405_rs28991009  %>% summary() %>% coef() %>% tail(2) %>% data.frame() %>% rownames_to_column('variant'),\n",
    "    lm_INI2405_rs143435072 %>% summary() %>% coef() %>% tail(1) %>% data.frame() %>% rownames_to_column('variant')\n",
    ") %>%\n",
    "data.frame() %>%\n",
    "rename(\n",
    "    'Std' = 'Std..Error'\n",
    ") %>%\n",
    "mutate(\n",
    "    l95 = Estimate - 1.96 * Std,\n",
    "    u95 = Estimate + 1.96 * Std,\n",
    "    str = paste0(signif(Estimate, digits=2), ' [', signif(l95, digits=2), ', ', signif(u95, digits=2), ']')\n",
    ")"
   ]
  },
  {
   "cell_type": "code",
   "execution_count": 22,
   "metadata": {},
   "outputs": [
    {
     "data": {
      "text/html": [
       "0.001"
      ],
      "text/latex": [
       "0.001"
      ],
      "text/markdown": [
       "0.001"
      ],
      "text/plain": [
       "[1] 0.001"
      ]
     },
     "metadata": {},
     "output_type": "display_data"
    }
   ],
   "source": [
    "signif(0.00102, digits = 2)"
   ]
  },
  {
   "cell_type": "code",
   "execution_count": null,
   "metadata": {},
   "outputs": [],
   "source": []
  }
 ],
 "metadata": {
  "kernelspec": {
   "display_name": "R 3.5 (module)",
   "language": "R",
   "name": "ir35ml"
  },
  "language_info": {
   "codemirror_mode": "r",
   "file_extension": ".r",
   "mimetype": "text/x-r-source",
   "name": "R",
   "pygments_lexer": "r",
   "version": "3.5.1"
  }
 },
 "nbformat": 4,
 "nbformat_minor": 2
}
