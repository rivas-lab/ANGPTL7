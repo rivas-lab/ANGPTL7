{
 "cells": [
  {
   "cell_type": "code",
   "execution_count": 1,
   "metadata": {},
   "outputs": [
    {
     "name": "stderr",
     "output_type": "stream",
     "text": [
      "── Attaching packages ─────────────────────────────────────── tidyverse 1.2.1 ──\n",
      "✔ ggplot2 3.1.0       ✔ purrr   0.3.1  \n",
      "✔ tibble  2.0.1       ✔ dplyr   0.8.0.1\n",
      "✔ tidyr   0.8.3       ✔ stringr 1.4.0  \n",
      "✔ readr   1.3.1       ✔ forcats 0.4.0  \n",
      "── Conflicts ────────────────────────────────────────── tidyverse_conflicts() ──\n",
      "✖ dplyr::filter() masks stats::filter()\n",
      "✖ dplyr::lag()    masks stats::lag()\n",
      "\n",
      "Attaching package: ‘data.table’\n",
      "\n",
      "The following objects are masked from ‘package:dplyr’:\n",
      "\n",
      "    between, first, last\n",
      "\n",
      "The following object is masked from ‘package:purrr’:\n",
      "\n",
      "    transpose\n",
      "\n"
     ]
    }
   ],
   "source": [
    "library(tidyverse)\n",
    "library(data.table)\n"
   ]
  },
  {
   "cell_type": "code",
   "execution_count": 2,
   "metadata": {},
   "outputs": [],
   "source": [
    "IOP_file <- '/oak/stanford/groups/mrivas/ukbb24983/cal/gwas/10136/21731/white_british/ukb24983_v2_hg19.INI5255.genotyped.PHENO1.glm.linear.gz'\n",
    "IOP <- fread(\n",
    "    cmd=paste0('zcat ', IOP_file, ' | sed -e \"s/#//g\"'), sep='\\t', data.table=F\n",
    ")\n"
   ]
  },
  {
   "cell_type": "code",
   "execution_count": 3,
   "metadata": {},
   "outputs": [],
   "source": [
    "annot.tbl <- '/oak/stanford/groups/mrivas/private_data/ukbb/variant_filtering/variant_filter_table.tsv.gz'\n"
   ]
  },
  {
   "cell_type": "code",
   "execution_count": 4,
   "metadata": {},
   "outputs": [],
   "source": [
    "annot.arr <- fread(\n",
    "    cmd=paste0('zcat ', annot.tbl),\n",
    "    sep='\\t', data.table=FALSE\n",
    ") %>% mutate(\n",
    "    MAF=pmin(freq, 1-freq)\n",
    ") %>%\n",
    "mutate(\n",
    "    variant = paste(CHROM, POS, REF, ALT, sep=':'),\n",
    "    is_outside_of_MHC = (as.numeric(CHROM) == 6 & as.numeric(POS) < 25477797) | ( as.numeric(CHROM) == 6 & 36448354 < as.numeric(POS)) | as.numeric(CHROM) != 6\n",
    ")\n"
   ]
  },
  {
   "cell_type": "code",
   "execution_count": 5,
   "metadata": {},
   "outputs": [],
   "source": [
    "annot.arr$Csq[\n",
    "    !(annot.arr$Consequence %in% c(\"frameshift_variant\",\"splice_donor_variant\",\"stop_gained\",\"stop_lost\",\"start_lost\",\"splice_acceptor_variant\",\"splice_region_variant\",\"missense_variant\",\"inframe_insertion\",\"inframe_deletion\"))\n",
    "] = \"non-coding\"\n",
    "annot.arr$Csq[\n",
    "    annot.arr$Consequence %in% c(\"splice_region_variant\",\"missense_variant\",\"inframe_insertion\",\"inframe_deletion\")\n",
    "] = \"protein-altering\"\n",
    "annot.arr$Csq[\n",
    "    annot.arr$Consequence %in% c(\"frameshift_variant\",\"splice_donor_variant\",\"stop_gained\",\"stop_lost\",\"start_lost\",\"splice_acceptor_variant\")\n",
    "] = \"protein-truncating\"\n",
    "\n"
   ]
  },
  {
   "cell_type": "code",
   "execution_count": 24,
   "metadata": {},
   "outputs": [
    {
     "data": {
      "text/html": [
       "<ol class=list-inline>\n",
       "\t<li>'CHROM'</li>\n",
       "\t<li>'POS'</li>\n",
       "\t<li>'REF'</li>\n",
       "\t<li>'ALT'</li>\n",
       "\t<li>'ID'</li>\n",
       "\t<li>'Gene'</li>\n",
       "\t<li>'Consequence'</li>\n",
       "\t<li>'HGVSp'</li>\n",
       "\t<li>'LoF'</li>\n",
       "\t<li>'LoF_filter'</li>\n",
       "\t<li>'LoF_flags'</li>\n",
       "\t<li>'LoF_info'</li>\n",
       "\t<li>'consequence_field'</li>\n",
       "\t<li>'f_miss'</li>\n",
       "\t<li>'f_miss_bileve'</li>\n",
       "\t<li>'f_miss_wcsg'</li>\n",
       "\t<li>'freq'</li>\n",
       "\t<li>'hwe_p'</li>\n",
       "\t<li>'maf'</li>\n",
       "\t<li>'ld_indep'</li>\n",
       "\t<li>'wcsg_only'</li>\n",
       "\t<li>'bileve_only'</li>\n",
       "\t<li>'filter'</li>\n",
       "\t<li>'missingness'</li>\n",
       "\t<li>'hwe'</li>\n",
       "\t<li>'mcpi'</li>\n",
       "\t<li>'gnomad_af'</li>\n",
       "\t<li>'mgi'</li>\n",
       "\t<li>'mgi_notes'</li>\n",
       "\t<li>'all_filters'</li>\n",
       "\t<li>'Gene_symbol'</li>\n",
       "\t<li>'MAF'</li>\n",
       "\t<li>'variant'</li>\n",
       "\t<li>'Csq'</li>\n",
       "\t<li>'is_outside_of_MHC'</li>\n",
       "</ol>\n"
      ],
      "text/latex": [
       "\\begin{enumerate*}\n",
       "\\item 'CHROM'\n",
       "\\item 'POS'\n",
       "\\item 'REF'\n",
       "\\item 'ALT'\n",
       "\\item 'ID'\n",
       "\\item 'Gene'\n",
       "\\item 'Consequence'\n",
       "\\item 'HGVSp'\n",
       "\\item 'LoF'\n",
       "\\item 'LoF\\_filter'\n",
       "\\item 'LoF\\_flags'\n",
       "\\item 'LoF\\_info'\n",
       "\\item 'consequence\\_field'\n",
       "\\item 'f\\_miss'\n",
       "\\item 'f\\_miss\\_bileve'\n",
       "\\item 'f\\_miss\\_wcsg'\n",
       "\\item 'freq'\n",
       "\\item 'hwe\\_p'\n",
       "\\item 'maf'\n",
       "\\item 'ld\\_indep'\n",
       "\\item 'wcsg\\_only'\n",
       "\\item 'bileve\\_only'\n",
       "\\item 'filter'\n",
       "\\item 'missingness'\n",
       "\\item 'hwe'\n",
       "\\item 'mcpi'\n",
       "\\item 'gnomad\\_af'\n",
       "\\item 'mgi'\n",
       "\\item 'mgi\\_notes'\n",
       "\\item 'all\\_filters'\n",
       "\\item 'Gene\\_symbol'\n",
       "\\item 'MAF'\n",
       "\\item 'variant'\n",
       "\\item 'Csq'\n",
       "\\item 'is\\_outside\\_of\\_MHC'\n",
       "\\end{enumerate*}\n"
      ],
      "text/markdown": [
       "1. 'CHROM'\n",
       "2. 'POS'\n",
       "3. 'REF'\n",
       "4. 'ALT'\n",
       "5. 'ID'\n",
       "6. 'Gene'\n",
       "7. 'Consequence'\n",
       "8. 'HGVSp'\n",
       "9. 'LoF'\n",
       "10. 'LoF_filter'\n",
       "11. 'LoF_flags'\n",
       "12. 'LoF_info'\n",
       "13. 'consequence_field'\n",
       "14. 'f_miss'\n",
       "15. 'f_miss_bileve'\n",
       "16. 'f_miss_wcsg'\n",
       "17. 'freq'\n",
       "18. 'hwe_p'\n",
       "19. 'maf'\n",
       "20. 'ld_indep'\n",
       "21. 'wcsg_only'\n",
       "22. 'bileve_only'\n",
       "23. 'filter'\n",
       "24. 'missingness'\n",
       "25. 'hwe'\n",
       "26. 'mcpi'\n",
       "27. 'gnomad_af'\n",
       "28. 'mgi'\n",
       "29. 'mgi_notes'\n",
       "30. 'all_filters'\n",
       "31. 'Gene_symbol'\n",
       "32. 'MAF'\n",
       "33. 'variant'\n",
       "34. 'Csq'\n",
       "35. 'is_outside_of_MHC'\n",
       "\n",
       "\n"
      ],
      "text/plain": [
       " [1] \"CHROM\"             \"POS\"               \"REF\"              \n",
       " [4] \"ALT\"               \"ID\"                \"Gene\"             \n",
       " [7] \"Consequence\"       \"HGVSp\"             \"LoF\"              \n",
       "[10] \"LoF_filter\"        \"LoF_flags\"         \"LoF_info\"         \n",
       "[13] \"consequence_field\" \"f_miss\"            \"f_miss_bileve\"    \n",
       "[16] \"f_miss_wcsg\"       \"freq\"              \"hwe_p\"            \n",
       "[19] \"maf\"               \"ld_indep\"          \"wcsg_only\"        \n",
       "[22] \"bileve_only\"       \"filter\"            \"missingness\"      \n",
       "[25] \"hwe\"               \"mcpi\"              \"gnomad_af\"        \n",
       "[28] \"mgi\"               \"mgi_notes\"         \"all_filters\"      \n",
       "[31] \"Gene_symbol\"       \"MAF\"               \"variant\"          \n",
       "[34] \"Csq\"               \"is_outside_of_MHC\""
      ]
     },
     "metadata": {},
     "output_type": "display_data"
    }
   ],
   "source": [
    "annot.arr %>% colnames()"
   ]
  },
  {
   "cell_type": "code",
   "execution_count": 69,
   "metadata": {},
   "outputs": [
    {
     "data": {
      "text/html": [
       "<table>\n",
       "<thead><tr><th scope=col>is_outside_of_MHC</th><th scope=col>Csq2</th><th scope=col>n</th></tr></thead>\n",
       "<tbody>\n",
       "\t<tr><td>FALSE                </td><td>non-coding           </td><td> 1100                </td></tr>\n",
       "\t<tr><td>FALSE                </td><td>PTVs+protein-altering</td><td> 1136                </td></tr>\n",
       "\t<tr><td> TRUE                </td><td>non-coding           </td><td>40286                </td></tr>\n",
       "\t<tr><td> TRUE                </td><td>PTVs+protein-altering</td><td>89145                </td></tr>\n",
       "</tbody>\n",
       "</table>\n"
      ],
      "text/latex": [
       "\\begin{tabular}{r|lll}\n",
       " is\\_outside\\_of\\_MHC & Csq2 & n\\\\\n",
       "\\hline\n",
       "\t FALSE                 & non-coding            &  1100                \\\\\n",
       "\t FALSE                 & PTVs+protein-altering &  1136                \\\\\n",
       "\t  TRUE                 & non-coding            & 40286                \\\\\n",
       "\t  TRUE                 & PTVs+protein-altering & 89145                \\\\\n",
       "\\end{tabular}\n"
      ],
      "text/markdown": [
       "\n",
       "| is_outside_of_MHC | Csq2 | n |\n",
       "|---|---|---|\n",
       "| FALSE                 | non-coding            |  1100                 |\n",
       "| FALSE                 | PTVs+protein-altering |  1136                 |\n",
       "|  TRUE                 | non-coding            | 40286                 |\n",
       "|  TRUE                 | PTVs+protein-altering | 89145                 |\n",
       "\n"
      ],
      "text/plain": [
       "  is_outside_of_MHC Csq2                  n    \n",
       "1 FALSE             non-coding             1100\n",
       "2 FALSE             PTVs+protein-altering  1136\n",
       "3  TRUE             non-coding            40286\n",
       "4  TRUE             PTVs+protein-altering 89145"
      ]
     },
     "metadata": {},
     "output_type": "display_data"
    }
   ],
   "source": [
    "annot.arr %>% mutate(\n",
    "    Csq2 = if_else(Csq == 'non-coding', 'non-coding', 'PTVs+protein-altering')\n",
    ") %>% filter(MAF < 0.01) %>% count(is_outside_of_MHC, Csq2)"
   ]
  },
  {
   "cell_type": "markdown",
   "metadata": {},
   "source": [
    "## ANGPTL7"
   ]
  },
  {
   "cell_type": "code",
   "execution_count": 83,
   "metadata": {},
   "outputs": [
    {
     "data": {
      "text/html": [
       "<table>\n",
       "<thead><tr><th scope=col>CHROM</th><th scope=col>POS</th><th scope=col>REF</th><th scope=col>ALT</th><th scope=col>ID</th><th scope=col>Gene</th><th scope=col>Consequence</th><th scope=col>HGVSp</th><th scope=col>LoF</th><th scope=col>LoF_filter</th><th scope=col>⋯</th><th scope=col>mcpi</th><th scope=col>gnomad_af</th><th scope=col>mgi</th><th scope=col>mgi_notes</th><th scope=col>all_filters</th><th scope=col>Gene_symbol</th><th scope=col>MAF</th><th scope=col>variant</th><th scope=col>Csq</th><th scope=col>is_outside_of_MHC</th></tr></thead>\n",
       "<tbody>\n",
       "\t<tr><td>1                                   </td><td>11252357                            </td><td>A                                   </td><td>G                                   </td><td>rs200058074                         </td><td>ENSG00000171819                     </td><td>missense_variant                    </td><td>ENSP00000366015.3:p.Gln136Arg       </td><td>                                    </td><td>                                    </td><td>⋯                                   </td><td>0                                   </td><td>                                    </td><td>                                    </td><td>                                    </td><td>0                                   </td><td>ANGPTL7                             </td><td>5.355845e-04                        </td><td>1:11252357:A:G                      </td><td>protein-altering                    </td><td>TRUE                                </td></tr>\n",
       "\t<tr><td>1                                   </td><td>11252369                            </td><td>G                                   </td><td>A                                   </td><td>rs28991002                          </td><td>ENSG00000171819                     </td><td>missense_variant                    </td><td>ENSP00000366015.3:p.Arg140His       </td><td>                                    </td><td>                                    </td><td>⋯                                   </td><td>0                                   </td><td>                                    </td><td>                                    </td><td>                                    </td><td>0                                   </td><td>ANGPTL7                             </td><td>2.532551e-03                        </td><td>1:11252369:G:A                      </td><td>protein-altering                    </td><td>TRUE                                </td></tr>\n",
       "\t<tr><td>1                                   </td><td>11253684                            </td><td>G                                   </td><td>T                                   </td><td>rs28991009                          </td><td>ENSG00000171819                     </td><td>missense_variant                    </td><td>ENSP00000366015.3:p.Gln175His       </td><td>                                    </td><td>                                    </td><td>⋯                                   </td><td>0                                   </td><td>                                    </td><td>                                    </td><td>                                    </td><td>0                                   </td><td>ANGPTL7                             </td><td>8.116199e-03                        </td><td>1:11253684:G:T                      </td><td>protein-altering                    </td><td>TRUE                                </td></tr>\n",
       "\t<tr><td>1                                   </td><td>11253688                            </td><td>C                                   </td><td>T                                   </td><td>rs143435072                         </td><td>ENSG00000171819                     </td><td>stop_gained                         </td><td>ENSP00000366015.3:p.Arg177Ter       </td><td>HC                                  </td><td>                                    </td><td>⋯                                   </td><td>0                                   </td><td>PASS                                </td><td>                                    </td><td>                                    </td><td>0                                   </td><td>ANGPTL7                             </td><td>4.063244e-04                        </td><td>1:11253688:C:T                      </td><td>protein-truncating                  </td><td>TRUE                                </td></tr>\n",
       "\t<tr><td>1                                   </td><td>11255013                            </td><td>GGCAT                               </td><td>G                                   </td><td>Affx-89021330                       </td><td>ENSG00000171819                     </td><td>frameshift_variant                  </td><td>ENSP00000366015.3:p.His326AspfsTer11</td><td>HC                                  </td><td>                                    </td><td>⋯                                   </td><td>0                                   </td><td>                                    </td><td>                                    </td><td>                                    </td><td>0                                   </td><td>ANGPTL7                             </td><td>1.483913e-05                        </td><td>1:11255013:GGCAT:G                  </td><td>protein-truncating                  </td><td>TRUE                                </td></tr>\n",
       "</tbody>\n",
       "</table>\n"
      ],
      "text/latex": [
       "\\begin{tabular}{r|lllllllllllllllllllllllllllllllllll}\n",
       " CHROM & POS & REF & ALT & ID & Gene & Consequence & HGVSp & LoF & LoF\\_filter & ⋯ & mcpi & gnomad\\_af & mgi & mgi\\_notes & all\\_filters & Gene\\_symbol & MAF & variant & Csq & is\\_outside\\_of\\_MHC\\\\\n",
       "\\hline\n",
       "\t 1                                    & 11252357                             & A                                    & G                                    & rs200058074                          & ENSG00000171819                      & missense\\_variant                   & ENSP00000366015.3:p.Gln136Arg        &                                      &                                      & ⋯                                    & 0                                    &                                      &                                      &                                      & 0                                    & ANGPTL7                              & 5.355845e-04                         & 1:11252357:A:G                       & protein-altering                     & TRUE                                \\\\\n",
       "\t 1                                    & 11252369                             & G                                    & A                                    & rs28991002                           & ENSG00000171819                      & missense\\_variant                   & ENSP00000366015.3:p.Arg140His        &                                      &                                      & ⋯                                    & 0                                    &                                      &                                      &                                      & 0                                    & ANGPTL7                              & 2.532551e-03                         & 1:11252369:G:A                       & protein-altering                     & TRUE                                \\\\\n",
       "\t 1                                    & 11253684                             & G                                    & T                                    & rs28991009                           & ENSG00000171819                      & missense\\_variant                   & ENSP00000366015.3:p.Gln175His        &                                      &                                      & ⋯                                    & 0                                    &                                      &                                      &                                      & 0                                    & ANGPTL7                              & 8.116199e-03                         & 1:11253684:G:T                       & protein-altering                     & TRUE                                \\\\\n",
       "\t 1                                    & 11253688                             & C                                    & T                                    & rs143435072                          & ENSG00000171819                      & stop\\_gained                        & ENSP00000366015.3:p.Arg177Ter        & HC                                   &                                      & ⋯                                    & 0                                    & PASS                                 &                                      &                                      & 0                                    & ANGPTL7                              & 4.063244e-04                         & 1:11253688:C:T                       & protein-truncating                   & TRUE                                \\\\\n",
       "\t 1                                    & 11255013                             & GGCAT                                & G                                    & Affx-89021330                        & ENSG00000171819                      & frameshift\\_variant                 & ENSP00000366015.3:p.His326AspfsTer11 & HC                                   &                                      & ⋯                                    & 0                                    &                                      &                                      &                                      & 0                                    & ANGPTL7                              & 1.483913e-05                         & 1:11255013:GGCAT:G                   & protein-truncating                   & TRUE                                \\\\\n",
       "\\end{tabular}\n"
      ],
      "text/markdown": [
       "\n",
       "| CHROM | POS | REF | ALT | ID | Gene | Consequence | HGVSp | LoF | LoF_filter | ⋯ | mcpi | gnomad_af | mgi | mgi_notes | all_filters | Gene_symbol | MAF | variant | Csq | is_outside_of_MHC |\n",
       "|---|---|---|---|---|---|---|---|---|---|---|---|---|---|---|---|---|---|---|---|---|\n",
       "| 1                                    | 11252357                             | A                                    | G                                    | rs200058074                          | ENSG00000171819                      | missense_variant                     | ENSP00000366015.3:p.Gln136Arg        |                                      |                                      | ⋯                                    | 0                                    |                                      |                                      |                                      | 0                                    | ANGPTL7                              | 5.355845e-04                         | 1:11252357:A:G                       | protein-altering                     | TRUE                                 |\n",
       "| 1                                    | 11252369                             | G                                    | A                                    | rs28991002                           | ENSG00000171819                      | missense_variant                     | ENSP00000366015.3:p.Arg140His        |                                      |                                      | ⋯                                    | 0                                    |                                      |                                      |                                      | 0                                    | ANGPTL7                              | 2.532551e-03                         | 1:11252369:G:A                       | protein-altering                     | TRUE                                 |\n",
       "| 1                                    | 11253684                             | G                                    | T                                    | rs28991009                           | ENSG00000171819                      | missense_variant                     | ENSP00000366015.3:p.Gln175His        |                                      |                                      | ⋯                                    | 0                                    |                                      |                                      |                                      | 0                                    | ANGPTL7                              | 8.116199e-03                         | 1:11253684:G:T                       | protein-altering                     | TRUE                                 |\n",
       "| 1                                    | 11253688                             | C                                    | T                                    | rs143435072                          | ENSG00000171819                      | stop_gained                          | ENSP00000366015.3:p.Arg177Ter        | HC                                   |                                      | ⋯                                    | 0                                    | PASS                                 |                                      |                                      | 0                                    | ANGPTL7                              | 4.063244e-04                         | 1:11253688:C:T                       | protein-truncating                   | TRUE                                 |\n",
       "| 1                                    | 11255013                             | GGCAT                                | G                                    | Affx-89021330                        | ENSG00000171819                      | frameshift_variant                   | ENSP00000366015.3:p.His326AspfsTer11 | HC                                   |                                      | ⋯                                    | 0                                    |                                      |                                      |                                      | 0                                    | ANGPTL7                              | 1.483913e-05                         | 1:11255013:GGCAT:G                   | protein-truncating                   | TRUE                                 |\n",
       "\n"
      ],
      "text/plain": [
       "  CHROM POS      REF   ALT ID            Gene            Consequence       \n",
       "1 1     11252357 A     G   rs200058074   ENSG00000171819 missense_variant  \n",
       "2 1     11252369 G     A   rs28991002    ENSG00000171819 missense_variant  \n",
       "3 1     11253684 G     T   rs28991009    ENSG00000171819 missense_variant  \n",
       "4 1     11253688 C     T   rs143435072   ENSG00000171819 stop_gained       \n",
       "5 1     11255013 GGCAT G   Affx-89021330 ENSG00000171819 frameshift_variant\n",
       "  HGVSp                                LoF LoF_filter ⋯ mcpi gnomad_af mgi\n",
       "1 ENSP00000366015.3:p.Gln136Arg                       ⋯ 0                 \n",
       "2 ENSP00000366015.3:p.Arg140His                       ⋯ 0                 \n",
       "3 ENSP00000366015.3:p.Gln175His                       ⋯ 0                 \n",
       "4 ENSP00000366015.3:p.Arg177Ter        HC             ⋯ 0    PASS         \n",
       "5 ENSP00000366015.3:p.His326AspfsTer11 HC             ⋯ 0                 \n",
       "  mgi_notes all_filters Gene_symbol MAF          variant           \n",
       "1           0           ANGPTL7     5.355845e-04 1:11252357:A:G    \n",
       "2           0           ANGPTL7     2.532551e-03 1:11252369:G:A    \n",
       "3           0           ANGPTL7     8.116199e-03 1:11253684:G:T    \n",
       "4           0           ANGPTL7     4.063244e-04 1:11253688:C:T    \n",
       "5           0           ANGPTL7     1.483913e-05 1:11255013:GGCAT:G\n",
       "  Csq                is_outside_of_MHC\n",
       "1 protein-altering   TRUE             \n",
       "2 protein-altering   TRUE             \n",
       "3 protein-altering   TRUE             \n",
       "4 protein-truncating TRUE             \n",
       "5 protein-truncating TRUE             "
      ]
     },
     "metadata": {},
     "output_type": "display_data"
    }
   ],
   "source": [
    "annot.arr %>% filter(Gene_symbol == 'ANGPTL7')"
   ]
  },
  {
   "cell_type": "code",
   "execution_count": 77,
   "metadata": {},
   "outputs": [],
   "source": [
    "df <- annot.arr %>% filter(Gene_symbol == 'ANGPTL7') %>%\n",
    "select(variant, ID, Consequence, HGVSp, freq, MAF, ld_indep) %>%\n",
    "left_join(\n",
    "    IOP, by='ID'\n",
    ") %>%\n",
    "rename(\n",
    "    variant_ID = ID\n",
    ") %>%\n",
    "arrange(CHROM, POS) %>%\n",
    "select(-CHROM, -POS, -REF, -ALT, -A1, -TEST, -OBS_CT)"
   ]
  },
  {
   "cell_type": "code",
   "execution_count": 82,
   "metadata": {},
   "outputs": [
    {
     "data": {
      "text/html": [
       "<table>\n",
       "<thead><tr><th scope=col>variant</th><th scope=col>variant_ID</th><th scope=col>HGVSp</th><th scope=col>MAF_percent</th><th scope=col>BETA</th><th scope=col>BETA_CI_l</th><th scope=col>BETA_CI_u</th><th scope=col>P</th></tr></thead>\n",
       "<tbody>\n",
       "\t<tr><td>1:11252357:A:G                      </td><td>rs200058074                         </td><td>ENSP00000366015.3:p.Gln136Arg       </td><td>0.053558447                         </td><td>-0.0380036                          </td><td>-0.2564534                          </td><td> 0.18044624                         </td><td>7.33120e-01                         </td></tr>\n",
       "\t<tr><td>1:11252369:G:A                      </td><td>rs28991002                          </td><td>ENSP00000366015.3:p.Arg140His       </td><td>0.253255077                         </td><td>-0.1554640                          </td><td>-0.2502167                          </td><td>-0.06071133                         </td><td>1.30115e-03                         </td></tr>\n",
       "\t<tr><td>1:11253684:G:T                      </td><td>rs28991009                          </td><td>ENSP00000366015.3:p.Gln175His       </td><td>0.811619854                         </td><td>-0.2002530                          </td><td>-0.2533586                          </td><td>-0.14714739                         </td><td>1.47284e-13                         </td></tr>\n",
       "\t<tr><td>1:11253688:C:T                      </td><td>rs143435072                         </td><td>ENSP00000366015.3:p.Arg177Ter       </td><td>0.040632442                         </td><td>-0.2625520                          </td><td>-0.5106743                          </td><td>-0.01442972                         </td><td>3.80835e-02                         </td></tr>\n",
       "\t<tr><td>1:11255013:GGCAT:G                  </td><td>Affx-89021330                       </td><td>ENSP00000366015.3:p.His326AspfsTer11</td><td>0.001483913                         </td><td>-0.4547260                          </td><td>-1.5823473                          </td><td> 0.67289532                         </td><td>4.29302e-01                         </td></tr>\n",
       "</tbody>\n",
       "</table>\n"
      ],
      "text/latex": [
       "\\begin{tabular}{r|llllllll}\n",
       " variant & variant\\_ID & HGVSp & MAF\\_percent & BETA & BETA\\_CI\\_l & BETA\\_CI\\_u & P\\\\\n",
       "\\hline\n",
       "\t 1:11252357:A:G                       & rs200058074                          & ENSP00000366015.3:p.Gln136Arg        & 0.053558447                          & -0.0380036                           & -0.2564534                           &  0.18044624                          & 7.33120e-01                         \\\\\n",
       "\t 1:11252369:G:A                       & rs28991002                           & ENSP00000366015.3:p.Arg140His        & 0.253255077                          & -0.1554640                           & -0.2502167                           & -0.06071133                          & 1.30115e-03                         \\\\\n",
       "\t 1:11253684:G:T                       & rs28991009                           & ENSP00000366015.3:p.Gln175His        & 0.811619854                          & -0.2002530                           & -0.2533586                           & -0.14714739                          & 1.47284e-13                         \\\\\n",
       "\t 1:11253688:C:T                       & rs143435072                          & ENSP00000366015.3:p.Arg177Ter        & 0.040632442                          & -0.2625520                           & -0.5106743                           & -0.01442972                          & 3.80835e-02                         \\\\\n",
       "\t 1:11255013:GGCAT:G                   & Affx-89021330                        & ENSP00000366015.3:p.His326AspfsTer11 & 0.001483913                          & -0.4547260                           & -1.5823473                           &  0.67289532                          & 4.29302e-01                         \\\\\n",
       "\\end{tabular}\n"
      ],
      "text/markdown": [
       "\n",
       "| variant | variant_ID | HGVSp | MAF_percent | BETA | BETA_CI_l | BETA_CI_u | P |\n",
       "|---|---|---|---|---|---|---|---|\n",
       "| 1:11252357:A:G                       | rs200058074                          | ENSP00000366015.3:p.Gln136Arg        | 0.053558447                          | -0.0380036                           | -0.2564534                           |  0.18044624                          | 7.33120e-01                          |\n",
       "| 1:11252369:G:A                       | rs28991002                           | ENSP00000366015.3:p.Arg140His        | 0.253255077                          | -0.1554640                           | -0.2502167                           | -0.06071133                          | 1.30115e-03                          |\n",
       "| 1:11253684:G:T                       | rs28991009                           | ENSP00000366015.3:p.Gln175His        | 0.811619854                          | -0.2002530                           | -0.2533586                           | -0.14714739                          | 1.47284e-13                          |\n",
       "| 1:11253688:C:T                       | rs143435072                          | ENSP00000366015.3:p.Arg177Ter        | 0.040632442                          | -0.2625520                           | -0.5106743                           | -0.01442972                          | 3.80835e-02                          |\n",
       "| 1:11255013:GGCAT:G                   | Affx-89021330                        | ENSP00000366015.3:p.His326AspfsTer11 | 0.001483913                          | -0.4547260                           | -1.5823473                           |  0.67289532                          | 4.29302e-01                          |\n",
       "\n"
      ],
      "text/plain": [
       "  variant            variant_ID    HGVSp                               \n",
       "1 1:11252357:A:G     rs200058074   ENSP00000366015.3:p.Gln136Arg       \n",
       "2 1:11252369:G:A     rs28991002    ENSP00000366015.3:p.Arg140His       \n",
       "3 1:11253684:G:T     rs28991009    ENSP00000366015.3:p.Gln175His       \n",
       "4 1:11253688:C:T     rs143435072   ENSP00000366015.3:p.Arg177Ter       \n",
       "5 1:11255013:GGCAT:G Affx-89021330 ENSP00000366015.3:p.His326AspfsTer11\n",
       "  MAF_percent BETA       BETA_CI_l  BETA_CI_u   P          \n",
       "1 0.053558447 -0.0380036 -0.2564534  0.18044624 7.33120e-01\n",
       "2 0.253255077 -0.1554640 -0.2502167 -0.06071133 1.30115e-03\n",
       "3 0.811619854 -0.2002530 -0.2533586 -0.14714739 1.47284e-13\n",
       "4 0.040632442 -0.2625520 -0.5106743 -0.01442972 3.80835e-02\n",
       "5 0.001483913 -0.4547260 -1.5823473  0.67289532 4.29302e-01"
      ]
     },
     "metadata": {},
     "output_type": "display_data"
    }
   ],
   "source": [
    "df %>% \n",
    "# filter(P < .05) %>%\n",
    "mutate(\n",
    "    BETA_CI_l = BETA - 1.96 * SE,\n",
    "    BETA_CI_u = BETA + 1.96 * SE,\n",
    "    MAF_percent = MAF * 100    \n",
    ") %>% \n",
    "select(variant, variant_ID, HGVSp, MAF_percent, BETA, BETA_CI_l, BETA_CI_u, P)"
   ]
  },
  {
   "cell_type": "markdown",
   "metadata": {},
   "source": [
    "## Hits"
   ]
  },
  {
   "cell_type": "code",
   "execution_count": 80,
   "metadata": {},
   "outputs": [],
   "source": [
    "IOP_hits <- IOP %>% filter(as.numeric(P) <= 0.0001) %>% \n",
    "select(-REF, -ALT, -A1, -TEST, -OBS_CT, -T_STAT) %>%\n",
    "left_join(annot.arr %>% select(-CHROM, -POS), by='ID') %>% \n",
    "arrange(as.numeric(CHROM), as.numeric(POS)) %>%\n",
    "select(-CHROM, -POS) %>%\n",
    "rename(variant_ID = ID) %>%\n",
    "select(variant, variant_ID, BETA, SE, P, Csq, Consequence, Gene_symbol, HGVSp, MAF, ld_indep)\n"
   ]
  },
  {
   "cell_type": "code",
   "execution_count": 62,
   "metadata": {},
   "outputs": [],
   "source": [
    "IOP_hits %>%\n",
    "fwrite('INI5255.hits.tsv', sep='\\t', row.names=FALSE)"
   ]
  },
  {
   "cell_type": "code",
   "execution_count": null,
   "metadata": {},
   "outputs": [],
   "source": []
  }
 ],
 "metadata": {
  "kernelspec": {
   "display_name": "R 3.5 (module)",
   "language": "R",
   "name": "ir35ml"
  },
  "language_info": {
   "codemirror_mode": "r",
   "file_extension": ".r",
   "mimetype": "text/x-r-source",
   "name": "R",
   "pygments_lexer": "r",
   "version": "3.5.1"
  }
 },
 "nbformat": 4,
 "nbformat_minor": 2
}
