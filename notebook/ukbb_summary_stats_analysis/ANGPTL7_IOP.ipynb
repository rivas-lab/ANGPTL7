{
 "cells": [
  {
   "cell_type": "code",
   "execution_count": 1,
   "metadata": {},
   "outputs": [],
   "source": [
    "suppressPackageStartupMessages(library(tidyverse))\n",
    "suppressPackageStartupMessages(library(data.table))\n",
    "suppressPackageStartupMessages(library(latex2exp))\n",
    "suppressPackageStartupMessages(library(gridExtra))"
   ]
  },
  {
   "cell_type": "code",
   "execution_count": 2,
   "metadata": {},
   "outputs": [],
   "source": [
    "annot.tbl <- '/oak/stanford/groups/mrivas/private_data/ukbb/variant_filtering/variant_filter_table.tsv.gz'\n"
   ]
  },
  {
   "cell_type": "code",
   "execution_count": 3,
   "metadata": {},
   "outputs": [],
   "source": [
    "read_annotation_tbl <- function(annot.tbl){\n",
    "    annot.arr <- fread(\n",
    "        cmd=paste0('zcat ', annot.tbl),\n",
    "        sep='\\t', data.table=FALSE\n",
    "    ) %>% mutate(\n",
    "        MAF=pmin(freq, 1-freq)\n",
    "    ) %>%\n",
    "    mutate(\n",
    "        variant = paste(CHROM, POS, REF, ALT, sep=':'),\n",
    "        is_outside_of_MHC = (as.numeric(CHROM) == 6 & as.numeric(POS) < 25477797) | ( as.numeric(CHROM) == 6 & 36448354 < as.numeric(POS)) | as.numeric(CHROM) != 6\n",
    "    )\n",
    "\n",
    "    annot.arr$Csq[\n",
    "        !(annot.arr$Consequence %in% c(\"frameshift_variant\",\"splice_donor_variant\",\"stop_gained\",\"stop_lost\",\"start_lost\",\"splice_acceptor_variant\",\"splice_region_variant\",\"missense_variant\",\"inframe_insertion\",\"inframe_deletion\"))\n",
    "    ] = \"non-coding\"\n",
    "    annot.arr$Csq[\n",
    "        annot.arr$Consequence %in% c(\"splice_region_variant\",\"missense_variant\",\"inframe_insertion\",\"inframe_deletion\")\n",
    "    ] = \"protein-altering\"\n",
    "    annot.arr$Csq[\n",
    "        annot.arr$Consequence %in% c(\"frameshift_variant\",\"splice_donor_variant\",\"stop_gained\",\"stop_lost\",\"start_lost\",\"splice_acceptor_variant\")\n",
    "    ] = \"protein-truncating\"\n",
    "\n",
    "    annot.arr \n",
    "}"
   ]
  },
  {
   "cell_type": "code",
   "execution_count": 4,
   "metadata": {},
   "outputs": [],
   "source": [
    "annot.arr <- read_annotation_tbl(annot.tbl)"
   ]
  },
  {
   "cell_type": "code",
   "execution_count": 5,
   "metadata": {},
   "outputs": [
    {
     "data": {
      "text/html": [
       "<ol class=list-inline>\n",
       "\t<li>'CHROM'</li>\n",
       "\t<li>'POS'</li>\n",
       "\t<li>'REF'</li>\n",
       "\t<li>'ALT'</li>\n",
       "\t<li>'ID'</li>\n",
       "\t<li>'Gene'</li>\n",
       "\t<li>'Consequence'</li>\n",
       "\t<li>'HGVSp'</li>\n",
       "\t<li>'LoF'</li>\n",
       "\t<li>'LoF_filter'</li>\n",
       "\t<li>'LoF_flags'</li>\n",
       "\t<li>'LoF_info'</li>\n",
       "\t<li>'consequence_field'</li>\n",
       "\t<li>'f_miss'</li>\n",
       "\t<li>'f_miss_bileve'</li>\n",
       "\t<li>'f_miss_wcsg'</li>\n",
       "\t<li>'freq'</li>\n",
       "\t<li>'hwe_p'</li>\n",
       "\t<li>'maf'</li>\n",
       "\t<li>'ld_indep'</li>\n",
       "\t<li>'wcsg_only'</li>\n",
       "\t<li>'bileve_only'</li>\n",
       "\t<li>'filter'</li>\n",
       "\t<li>'missingness'</li>\n",
       "\t<li>'hwe'</li>\n",
       "\t<li>'mcpi'</li>\n",
       "\t<li>'gnomad_af'</li>\n",
       "\t<li>'mgi'</li>\n",
       "\t<li>'mgi_notes'</li>\n",
       "\t<li>'all_filters'</li>\n",
       "\t<li>'Gene_symbol'</li>\n",
       "\t<li>'MAF'</li>\n",
       "\t<li>'variant'</li>\n",
       "\t<li>'is_outside_of_MHC'</li>\n",
       "\t<li>'Csq'</li>\n",
       "</ol>\n"
      ],
      "text/latex": [
       "\\begin{enumerate*}\n",
       "\\item 'CHROM'\n",
       "\\item 'POS'\n",
       "\\item 'REF'\n",
       "\\item 'ALT'\n",
       "\\item 'ID'\n",
       "\\item 'Gene'\n",
       "\\item 'Consequence'\n",
       "\\item 'HGVSp'\n",
       "\\item 'LoF'\n",
       "\\item 'LoF\\_filter'\n",
       "\\item 'LoF\\_flags'\n",
       "\\item 'LoF\\_info'\n",
       "\\item 'consequence\\_field'\n",
       "\\item 'f\\_miss'\n",
       "\\item 'f\\_miss\\_bileve'\n",
       "\\item 'f\\_miss\\_wcsg'\n",
       "\\item 'freq'\n",
       "\\item 'hwe\\_p'\n",
       "\\item 'maf'\n",
       "\\item 'ld\\_indep'\n",
       "\\item 'wcsg\\_only'\n",
       "\\item 'bileve\\_only'\n",
       "\\item 'filter'\n",
       "\\item 'missingness'\n",
       "\\item 'hwe'\n",
       "\\item 'mcpi'\n",
       "\\item 'gnomad\\_af'\n",
       "\\item 'mgi'\n",
       "\\item 'mgi\\_notes'\n",
       "\\item 'all\\_filters'\n",
       "\\item 'Gene\\_symbol'\n",
       "\\item 'MAF'\n",
       "\\item 'variant'\n",
       "\\item 'is\\_outside\\_of\\_MHC'\n",
       "\\item 'Csq'\n",
       "\\end{enumerate*}\n"
      ],
      "text/markdown": [
       "1. 'CHROM'\n",
       "2. 'POS'\n",
       "3. 'REF'\n",
       "4. 'ALT'\n",
       "5. 'ID'\n",
       "6. 'Gene'\n",
       "7. 'Consequence'\n",
       "8. 'HGVSp'\n",
       "9. 'LoF'\n",
       "10. 'LoF_filter'\n",
       "11. 'LoF_flags'\n",
       "12. 'LoF_info'\n",
       "13. 'consequence_field'\n",
       "14. 'f_miss'\n",
       "15. 'f_miss_bileve'\n",
       "16. 'f_miss_wcsg'\n",
       "17. 'freq'\n",
       "18. 'hwe_p'\n",
       "19. 'maf'\n",
       "20. 'ld_indep'\n",
       "21. 'wcsg_only'\n",
       "22. 'bileve_only'\n",
       "23. 'filter'\n",
       "24. 'missingness'\n",
       "25. 'hwe'\n",
       "26. 'mcpi'\n",
       "27. 'gnomad_af'\n",
       "28. 'mgi'\n",
       "29. 'mgi_notes'\n",
       "30. 'all_filters'\n",
       "31. 'Gene_symbol'\n",
       "32. 'MAF'\n",
       "33. 'variant'\n",
       "34. 'is_outside_of_MHC'\n",
       "35. 'Csq'\n",
       "\n",
       "\n"
      ],
      "text/plain": [
       " [1] \"CHROM\"             \"POS\"               \"REF\"              \n",
       " [4] \"ALT\"               \"ID\"                \"Gene\"             \n",
       " [7] \"Consequence\"       \"HGVSp\"             \"LoF\"              \n",
       "[10] \"LoF_filter\"        \"LoF_flags\"         \"LoF_info\"         \n",
       "[13] \"consequence_field\" \"f_miss\"            \"f_miss_bileve\"    \n",
       "[16] \"f_miss_wcsg\"       \"freq\"              \"hwe_p\"            \n",
       "[19] \"maf\"               \"ld_indep\"          \"wcsg_only\"        \n",
       "[22] \"bileve_only\"       \"filter\"            \"missingness\"      \n",
       "[25] \"hwe\"               \"mcpi\"              \"gnomad_af\"        \n",
       "[28] \"mgi\"               \"mgi_notes\"         \"all_filters\"      \n",
       "[31] \"Gene_symbol\"       \"MAF\"               \"variant\"          \n",
       "[34] \"is_outside_of_MHC\" \"Csq\"              "
      ]
     },
     "metadata": {},
     "output_type": "display_data"
    }
   ],
   "source": [
    "annot.arr %>% colnames()"
   ]
  },
  {
   "cell_type": "code",
   "execution_count": 6,
   "metadata": {},
   "outputs": [
    {
     "data": {
      "text/html": [
       "<table>\n",
       "<caption>A tibble: 4 × 3</caption>\n",
       "<thead>\n",
       "\t<tr><th scope=col>is_outside_of_MHC</th><th scope=col>Csq2</th><th scope=col>n</th></tr>\n",
       "\t<tr><th scope=col>&lt;lgl&gt;</th><th scope=col>&lt;chr&gt;</th><th scope=col>&lt;int&gt;</th></tr>\n",
       "</thead>\n",
       "<tbody>\n",
       "\t<tr><td>FALSE</td><td>non-coding           </td><td>  857</td></tr>\n",
       "\t<tr><td>FALSE</td><td>PTVs+protein-altering</td><td>  631</td></tr>\n",
       "\t<tr><td> TRUE</td><td>non-coding           </td><td>34599</td></tr>\n",
       "\t<tr><td> TRUE</td><td>PTVs+protein-altering</td><td>41637</td></tr>\n",
       "</tbody>\n",
       "</table>\n"
      ],
      "text/latex": [
       "A tibble: 4 × 3\n",
       "\\begin{tabular}{r|lll}\n",
       " is\\_outside\\_of\\_MHC & Csq2 & n\\\\\n",
       " <lgl> & <chr> & <int>\\\\\n",
       "\\hline\n",
       "\t FALSE & non-coding            &   857\\\\\n",
       "\t FALSE & PTVs+protein-altering &   631\\\\\n",
       "\t  TRUE & non-coding            & 34599\\\\\n",
       "\t  TRUE & PTVs+protein-altering & 41637\\\\\n",
       "\\end{tabular}\n"
      ],
      "text/markdown": [
       "\n",
       "A tibble: 4 × 3\n",
       "\n",
       "| is_outside_of_MHC &lt;lgl&gt; | Csq2 &lt;chr&gt; | n &lt;int&gt; |\n",
       "|---|---|---|\n",
       "| FALSE | non-coding            |   857 |\n",
       "| FALSE | PTVs+protein-altering |   631 |\n",
       "|  TRUE | non-coding            | 34599 |\n",
       "|  TRUE | PTVs+protein-altering | 41637 |\n",
       "\n"
      ],
      "text/plain": [
       "  is_outside_of_MHC Csq2                  n    \n",
       "1 FALSE             non-coding              857\n",
       "2 FALSE             PTVs+protein-altering   631\n",
       "3  TRUE             non-coding            34599\n",
       "4  TRUE             PTVs+protein-altering 41637"
      ]
     },
     "metadata": {},
     "output_type": "display_data"
    }
   ],
   "source": [
    "annot.arr %>% mutate(\n",
    "    Csq2 = if_else(Csq == 'non-coding', 'non-coding', 'PTVs+protein-altering')\n",
    ") %>% filter(0.0001 < MAF, MAF < 0.01) %>% count(is_outside_of_MHC, Csq2)\n"
   ]
  },
  {
   "cell_type": "code",
   "execution_count": 7,
   "metadata": {},
   "outputs": [],
   "source": [
    "IOPs <- list()\n",
    "for(GBE_ID in c('INI2005254', 'INI2005255')){\n",
    "    IOP_file <- file.path(\n",
    "        '/oak/stanford/groups/mrivas/projects/ANGPTL7/ukbb_gwas/white_british',\n",
    "        paste0('ukb24983_v2_hg19.', GBE_ID, '.genotyped.glm.linear.gz')\n",
    "    )\n",
    "    IOPs[[GBE_ID]] <- fread(\n",
    "        cmd=paste0('zcat ', IOP_file, ' | sed -e \"s/#//g\"'), \n",
    "        sep='\\t', data.table=F\n",
    "    )\n",
    "}\n"
   ]
  },
  {
   "cell_type": "code",
   "execution_count": 8,
   "metadata": {},
   "outputs": [
    {
     "name": "stdout",
     "output_type": "stream",
     "text": [
      "[1] 784256     12\n",
      "[1] 769187     12\n"
     ]
    }
   ],
   "source": [
    "IOPs[['INI2005254']] %>% dim() %>% print()\n",
    "IOPs[['INI2005254']] %>% drop_na() %>% dim() %>% print()"
   ]
  },
  {
   "cell_type": "code",
   "execution_count": 9,
   "metadata": {},
   "outputs": [
    {
     "name": "stdout",
     "output_type": "stream",
     "text": [
      "[1] 784256     12\n",
      "[1] 769187     12\n"
     ]
    }
   ],
   "source": [
    "IOPs[['INI2005255']] %>% dim() %>% print()\n",
    "IOPs[['INI2005255']] %>% drop_na() %>% dim() %>% print()\n"
   ]
  },
  {
   "cell_type": "code",
   "execution_count": 107,
   "metadata": {},
   "outputs": [],
   "source": [
    "Glaucoma <- fread(\n",
    "    cmd=paste0(\n",
    "        'zcat ',  \n",
    "        file.path(\n",
    "            '/oak/stanford/groups/mrivas/projects/ANGPTL7/ukbb_gwas/white_british',\n",
    "            paste0('ukb24983_v2_hg19.', 'HC276', '.genotyped.glm.logistic.hybrid.gz')\n",
    "        ), ' | sed -e \"s/#//g\"'), \n",
    "    sep='\\t', data.table=F\n",
    ")\n"
   ]
  },
  {
   "cell_type": "code",
   "execution_count": 10,
   "metadata": {},
   "outputs": [
    {
     "data": {
      "text/html": [
       "<table>\n",
       "<caption>A tibble: 4 × 3</caption>\n",
       "<thead>\n",
       "\t<tr><th scope=col>is_outside_of_MHC</th><th scope=col>Csq2</th><th scope=col>n</th></tr>\n",
       "\t<tr><th scope=col>&lt;lgl&gt;</th><th scope=col>&lt;chr&gt;</th><th scope=col>&lt;int&gt;</th></tr>\n",
       "</thead>\n",
       "<tbody>\n",
       "\t<tr><td>FALSE</td><td>non-coding           </td><td>  857</td></tr>\n",
       "\t<tr><td>FALSE</td><td>PTVs+protein-altering</td><td>  631</td></tr>\n",
       "\t<tr><td> TRUE</td><td>non-coding           </td><td>34592</td></tr>\n",
       "\t<tr><td> TRUE</td><td>PTVs+protein-altering</td><td>41590</td></tr>\n",
       "</tbody>\n",
       "</table>\n"
      ],
      "text/latex": [
       "A tibble: 4 × 3\n",
       "\\begin{tabular}{r|lll}\n",
       " is\\_outside\\_of\\_MHC & Csq2 & n\\\\\n",
       " <lgl> & <chr> & <int>\\\\\n",
       "\\hline\n",
       "\t FALSE & non-coding            &   857\\\\\n",
       "\t FALSE & PTVs+protein-altering &   631\\\\\n",
       "\t  TRUE & non-coding            & 34592\\\\\n",
       "\t  TRUE & PTVs+protein-altering & 41590\\\\\n",
       "\\end{tabular}\n"
      ],
      "text/markdown": [
       "\n",
       "A tibble: 4 × 3\n",
       "\n",
       "| is_outside_of_MHC &lt;lgl&gt; | Csq2 &lt;chr&gt; | n &lt;int&gt; |\n",
       "|---|---|---|\n",
       "| FALSE | non-coding            |   857 |\n",
       "| FALSE | PTVs+protein-altering |   631 |\n",
       "|  TRUE | non-coding            | 34592 |\n",
       "|  TRUE | PTVs+protein-altering | 41590 |\n",
       "\n"
      ],
      "text/plain": [
       "  is_outside_of_MHC Csq2                  n    \n",
       "1 FALSE             non-coding              857\n",
       "2 FALSE             PTVs+protein-altering   631\n",
       "3  TRUE             non-coding            34592\n",
       "4  TRUE             PTVs+protein-altering 41590"
      ]
     },
     "metadata": {},
     "output_type": "display_data"
    }
   ],
   "source": [
    "annot.arr %>% mutate(\n",
    "    Csq2 = if_else(Csq == 'non-coding', 'non-coding', 'PTVs+protein-altering')\n",
    ") %>% filter(0.0001 < MAF, MAF < 0.01) %>% \n",
    "select(ID, is_outside_of_MHC, Csq2) %>% \n",
    "inner_join(IOPs[['INI2005254']] %>% drop_na() %>% select(ID), by='ID') %>%\n",
    "count(is_outside_of_MHC, Csq2)"
   ]
  },
  {
   "cell_type": "code",
   "execution_count": 11,
   "metadata": {},
   "outputs": [
    {
     "data": {
      "text/html": [
       "<table>\n",
       "<caption>A tibble: 4 × 3</caption>\n",
       "<thead>\n",
       "\t<tr><th scope=col>is_outside_of_MHC</th><th scope=col>Csq2</th><th scope=col>n</th></tr>\n",
       "\t<tr><th scope=col>&lt;lgl&gt;</th><th scope=col>&lt;chr&gt;</th><th scope=col>&lt;int&gt;</th></tr>\n",
       "</thead>\n",
       "<tbody>\n",
       "\t<tr><td>FALSE</td><td>non-coding           </td><td>  857</td></tr>\n",
       "\t<tr><td>FALSE</td><td>PTVs+protein-altering</td><td>  631</td></tr>\n",
       "\t<tr><td> TRUE</td><td>non-coding           </td><td>34592</td></tr>\n",
       "\t<tr><td> TRUE</td><td>PTVs+protein-altering</td><td>41590</td></tr>\n",
       "</tbody>\n",
       "</table>\n"
      ],
      "text/latex": [
       "A tibble: 4 × 3\n",
       "\\begin{tabular}{r|lll}\n",
       " is\\_outside\\_of\\_MHC & Csq2 & n\\\\\n",
       " <lgl> & <chr> & <int>\\\\\n",
       "\\hline\n",
       "\t FALSE & non-coding            &   857\\\\\n",
       "\t FALSE & PTVs+protein-altering &   631\\\\\n",
       "\t  TRUE & non-coding            & 34592\\\\\n",
       "\t  TRUE & PTVs+protein-altering & 41590\\\\\n",
       "\\end{tabular}\n"
      ],
      "text/markdown": [
       "\n",
       "A tibble: 4 × 3\n",
       "\n",
       "| is_outside_of_MHC &lt;lgl&gt; | Csq2 &lt;chr&gt; | n &lt;int&gt; |\n",
       "|---|---|---|\n",
       "| FALSE | non-coding            |   857 |\n",
       "| FALSE | PTVs+protein-altering |   631 |\n",
       "|  TRUE | non-coding            | 34592 |\n",
       "|  TRUE | PTVs+protein-altering | 41590 |\n",
       "\n"
      ],
      "text/plain": [
       "  is_outside_of_MHC Csq2                  n    \n",
       "1 FALSE             non-coding              857\n",
       "2 FALSE             PTVs+protein-altering   631\n",
       "3  TRUE             non-coding            34592\n",
       "4  TRUE             PTVs+protein-altering 41590"
      ]
     },
     "metadata": {},
     "output_type": "display_data"
    }
   ],
   "source": [
    "annot.arr %>% mutate(\n",
    "    Csq2 = if_else(Csq == 'non-coding', 'non-coding', 'PTVs+protein-altering')\n",
    ") %>% filter(0.0001 < MAF, MAF < 0.01) %>% \n",
    "select(ID, is_outside_of_MHC, Csq2) %>% \n",
    "inner_join(IOPs[['INI2005255']] %>% drop_na() %>% select(ID), by='ID') %>%\n",
    "count(is_outside_of_MHC, Csq2)"
   ]
  },
  {
   "cell_type": "markdown",
   "metadata": {},
   "source": [
    "## ANGPTL7"
   ]
  },
  {
   "cell_type": "code",
   "execution_count": 12,
   "metadata": {},
   "outputs": [
    {
     "data": {
      "text/html": [
       "<table>\n",
       "<caption>A data.frame: 5 × 35</caption>\n",
       "<thead>\n",
       "\t<tr><th scope=col>CHROM</th><th scope=col>POS</th><th scope=col>REF</th><th scope=col>ALT</th><th scope=col>ID</th><th scope=col>Gene</th><th scope=col>Consequence</th><th scope=col>HGVSp</th><th scope=col>LoF</th><th scope=col>LoF_filter</th><th scope=col>⋯</th><th scope=col>mcpi</th><th scope=col>gnomad_af</th><th scope=col>mgi</th><th scope=col>mgi_notes</th><th scope=col>all_filters</th><th scope=col>Gene_symbol</th><th scope=col>MAF</th><th scope=col>variant</th><th scope=col>is_outside_of_MHC</th><th scope=col>Csq</th></tr>\n",
       "\t<tr><th scope=col>&lt;int&gt;</th><th scope=col>&lt;int&gt;</th><th scope=col>&lt;chr&gt;</th><th scope=col>&lt;chr&gt;</th><th scope=col>&lt;chr&gt;</th><th scope=col>&lt;chr&gt;</th><th scope=col>&lt;chr&gt;</th><th scope=col>&lt;chr&gt;</th><th scope=col>&lt;chr&gt;</th><th scope=col>&lt;chr&gt;</th><th scope=col>⋯</th><th scope=col>&lt;int&gt;</th><th scope=col>&lt;chr&gt;</th><th scope=col>&lt;chr&gt;</th><th scope=col>&lt;chr&gt;</th><th scope=col>&lt;int&gt;</th><th scope=col>&lt;chr&gt;</th><th scope=col>&lt;dbl&gt;</th><th scope=col>&lt;chr&gt;</th><th scope=col>&lt;lgl&gt;</th><th scope=col>&lt;chr&gt;</th></tr>\n",
       "</thead>\n",
       "<tbody>\n",
       "\t<tr><td>1</td><td>11252357</td><td>A    </td><td>G</td><td>rs200058074  </td><td>ENSG00000171819</td><td>missense_variant  </td><td>ENSP00000366015.3:p.Gln136Arg       </td><td>  </td><td></td><td>⋯</td><td>0</td><td>    </td><td></td><td></td><td>0</td><td>ANGPTL7</td><td>5.355845e-04</td><td>1:11252357:A:G    </td><td>TRUE</td><td>protein-altering  </td></tr>\n",
       "\t<tr><td>1</td><td>11252369</td><td>G    </td><td>A</td><td>rs28991002   </td><td>ENSG00000171819</td><td>missense_variant  </td><td>ENSP00000366015.3:p.Arg140His       </td><td>  </td><td></td><td>⋯</td><td>0</td><td>    </td><td></td><td></td><td>0</td><td>ANGPTL7</td><td>2.532551e-03</td><td>1:11252369:G:A    </td><td>TRUE</td><td>protein-altering  </td></tr>\n",
       "\t<tr><td>1</td><td>11253684</td><td>G    </td><td>T</td><td>rs28991009   </td><td>ENSG00000171819</td><td>missense_variant  </td><td>ENSP00000366015.3:p.Gln175His       </td><td>  </td><td></td><td>⋯</td><td>0</td><td>    </td><td></td><td></td><td>0</td><td>ANGPTL7</td><td>8.116199e-03</td><td>1:11253684:G:T    </td><td>TRUE</td><td>protein-altering  </td></tr>\n",
       "\t<tr><td>1</td><td>11253688</td><td>C    </td><td>T</td><td>rs143435072  </td><td>ENSG00000171819</td><td>stop_gained       </td><td>ENSP00000366015.3:p.Arg177Ter       </td><td>HC</td><td></td><td>⋯</td><td>0</td><td>PASS</td><td></td><td></td><td>0</td><td>ANGPTL7</td><td>4.063244e-04</td><td>1:11253688:C:T    </td><td>TRUE</td><td>protein-truncating</td></tr>\n",
       "\t<tr><td>1</td><td>11255013</td><td>GGCAT</td><td>G</td><td>Affx-89021330</td><td>ENSG00000171819</td><td>frameshift_variant</td><td>ENSP00000366015.3:p.His326AspfsTer11</td><td>HC</td><td></td><td>⋯</td><td>0</td><td>    </td><td></td><td></td><td>0</td><td>ANGPTL7</td><td>1.483913e-05</td><td>1:11255013:GGCAT:G</td><td>TRUE</td><td>protein-truncating</td></tr>\n",
       "</tbody>\n",
       "</table>\n"
      ],
      "text/latex": [
       "A data.frame: 5 × 35\n",
       "\\begin{tabular}{r|lllllllllllllllllllllllllllllllllll}\n",
       " CHROM & POS & REF & ALT & ID & Gene & Consequence & HGVSp & LoF & LoF\\_filter & LoF\\_flags & LoF\\_info & consequence\\_field & f\\_miss & f\\_miss\\_bileve & f\\_miss\\_wcsg & freq & hwe\\_p & maf & ld\\_indep & wcsg\\_only & bileve\\_only & filter & missingness & hwe & mcpi & gnomad\\_af & mgi & mgi\\_notes & all\\_filters & Gene\\_symbol & MAF & variant & is\\_outside\\_of\\_MHC & Csq\\\\\n",
       " <int> & <int> & <chr> & <chr> & <chr> & <chr> & <chr> & <chr> & <chr> & <chr> & <chr> & <chr> & <chr> & <dbl> & <dbl> & <dbl> & <dbl> & <dbl> & <dbl> & <lgl> & <lgl> & <lgl> & <lgl> & <int> & <int> & <int> & <chr> & <chr> & <chr> & <int> & <chr> & <dbl> & <chr> & <lgl> & <chr>\\\\\n",
       "\\hline\n",
       "\t 1 & 11252357 & A     & G & rs200058074   & ENSG00000171819 & missense\\_variant   & ENSP00000366015.3:p.Gln136Arg        &    &  &  &                            & CSQ=G\\textbar{}intron\\_variant\\textbar{}MODIFIER\\textbar{}MTOR\\textbar{}ENSG00000198793\\textbar{}Transcript\\textbar{}ENST00000361445\\textbar{}protein\\_coding\\textbar{}\\textbar{}28/57\\textbar{}ENST00000361445.4:c.4253+6958T>C\\textbar{}\\textbar{}\\textbar{}\\textbar{}\\textbar{}\\textbar{}\\textbar{}rs200058074\\textbar{}1\\textbar{}\\textbar{}-1\\textbar{}\\textbar{}SNV\\textbar{}HGNC\\textbar{}3942\\textbar{}YES\\textbar{}\\textbar{}\\textbar{}CCDS127.1\\textbar{}ENSP00000354558\\textbar{}P42345\\textbar{}Q96QW8\\&B1AKQ2\\&B1AKP8\\textbar{}UPI000012ABD3\\textbar{}1\\textbar{}\\textbar{}\\textbar{}\\textbar{}\\textbar{}G:0.0002\\textbar{}G:0\\textbar{}G:0.0014\\textbar{}G:0\\textbar{}G:0\\textbar{}G:0\\textbar{}G:0.0004539\\textbar{}G:0.0003488\\textbar{}G:2.059e-04\\textbar{}G:0.000206\\textbar{}G:0.0001922\\textbar{}G:0.0001727\\textbar{}G:0\\textbar{}G:0\\textbar{}G:0.0003149\\textbar{}G:0\\textbar{}G:0\\textbar{}\\textbar{}\\textbar{}\\textbar{}\\textbar{}\\textbar{}\\textbar{}\\textbar{}\\textbar{}\\textbar{}\\textbar{}\\textbar{},G\\textbar{}missense\\_variant\\textbar{}MODERATE\\textbar{}ANGPTL7\\textbar{}ENSG00000171819\\textbar{}Transcript\\textbar{}ENST00000376819\\textbar{}protein\\_coding\\textbar{}2/5\\textbar{}\\textbar{}ENST00000376819.3:c.407A>G\\textbar{}ENSP00000366015.3:p.Gln136Arg\\textbar{}646\\textbar{}407\\textbar{}136\\textbar{}Q/R\\textbar{}cAg/cGg\\textbar{}rs200058074\\textbar{}1\\textbar{}\\textbar{}1\\textbar{}\\textbar{}SNV\\textbar{}HGNC\\textbar{}24078\\textbar{}YES\\textbar{}\\textbar{}\\textbar{}CCDS128.1\\textbar{}ENSP00000366015\\textbar{}O43827\\textbar{}F1T0A6\\textbar{}UPI0000035976\\textbar{}\\textbar{}tolerated(0.31)\\textbar{}possibly\\_damaging(0.524)\\textbar{}PROSITE\\_profiles:PS51406\\&hmmpanther:PTHR19143\\&Pfam\\_domain:PF00147\\&Gene3D:3.90.215.10\\&SMART\\_domains:SM00186\\&Superfamily\\_domains:SSF56496\\textbar{}\\textbar{}G:0.0002\\textbar{}G:0\\textbar{}G:0.0014\\textbar{}G:0\\textbar{}G:0\\textbar{}G:0\\textbar{}G:0.0004539\\textbar{}G:0.0003488\\textbar{}G:2.059e-04\\textbar{}G:0.000206\\textbar{}G:0.0001922\\textbar{}G:0.0001727\\textbar{}G:0\\textbar{}G:0\\textbar{}G:0.0003149\\textbar{}G:0\\textbar{}G:0\\textbar{}\\textbar{}\\textbar{}\\textbar{}\\textbar{}\\textbar{}\\textbar{}\\textbar{}\\textbar{}\\textbar{}\\textbar{}\\textbar{},G\\textbar{}upstream\\_gene\\_variant\\textbar{}MODIFIER\\textbar{}ANGPTL7\\textbar{}ENSG00000171819\\textbar{}Transcript\\textbar{}ENST00000476934\\textbar{}processed\\_transcript\\textbar{}\\textbar{}\\textbar{}\\textbar{}\\textbar{}\\textbar{}\\textbar{}\\textbar{}\\textbar{}\\textbar{}rs200058074\\textbar{}1\\textbar{}1327\\textbar{}1\\textbar{}\\textbar{}SNV\\textbar{}HGNC\\textbar{}24078\\textbar{}\\textbar{}\\textbar{}\\textbar{}\\textbar{}\\textbar{}\\textbar{}\\textbar{}\\textbar{}\\textbar{}\\textbar{}\\textbar{}\\textbar{}\\textbar{}G:0.0002\\textbar{}G:0\\textbar{}G:0.0014\\textbar{}G:0\\textbar{}G:0\\textbar{}G:0\\textbar{}G:0.0004539\\textbar{}G:0.0003488\\textbar{}G:2.059e-04\\textbar{}G:0.000206\\textbar{}G:0.0001922\\textbar{}G:0.0001727\\textbar{}G:0\\textbar{}G:0\\textbar{}G:0.0003149\\textbar{}G:0\\textbar{}G:0\\textbar{}\\textbar{}\\textbar{}\\textbar{}\\textbar{}\\textbar{}\\textbar{}\\textbar{}\\textbar{}\\textbar{}\\textbar{}\\textbar{}                                                                                                                                                                                                                                                                                                                 & 0.0005723 & 0.0012960 & 4.831e-04 & 5.355845e-04 & 0.5460 & 5.355845e-04 & TRUE & FALSE & FALSE & NA & 0 & 0 & 0 &      &  &  & 0 & ANGPTL7 & 5.355845e-04 & 1:11252357:A:G     & TRUE & protein-altering  \\\\\n",
       "\t 1 & 11252369 & G     & A & rs28991002    & ENSG00000171819 & missense\\_variant   & ENSP00000366015.3:p.Arg140His        &    &  &  &                            & CSQ=A\\textbar{}intron\\_variant\\textbar{}MODIFIER\\textbar{}MTOR\\textbar{}ENSG00000198793\\textbar{}Transcript\\textbar{}ENST00000361445\\textbar{}protein\\_coding\\textbar{}\\textbar{}28/57\\textbar{}ENST00000361445.4:c.4253+6946C>T\\textbar{}\\textbar{}\\textbar{}\\textbar{}\\textbar{}\\textbar{}\\textbar{}rs28991002\\&COSM1332677\\textbar{}1\\textbar{}\\textbar{}-1\\textbar{}\\textbar{}SNV\\textbar{}HGNC\\textbar{}3942\\textbar{}YES\\textbar{}\\textbar{}\\textbar{}CCDS127.1\\textbar{}ENSP00000354558\\textbar{}P42345\\textbar{}Q96QW8\\&B1AKQ2\\&B1AKP8\\textbar{}UPI000012ABD3\\textbar{}1\\textbar{}\\textbar{}\\textbar{}\\textbar{}\\textbar{}A:0.0012\\textbar{}A:0\\textbar{}A:0\\textbar{}A:0.001\\textbar{}A:0.005\\textbar{}A:0\\textbar{}A:0.000227\\textbar{}A:0.003023\\textbar{}A:2.150e-03\\&T:8.236e-06\\textbar{}A:0.00215\\&T:8.239e-06\\textbar{}A:0.0002883\\&T:0\\textbar{}A:0.0005182\\&T:0\\textbar{}A:0.0001156\\&T:0\\textbar{}A:0.004385\\&T:0\\textbar{}A:0.003148\\&T:1.499e-05\\textbar{}A:0.005519\\&T:0\\textbar{}A:0.000424\\&T:0\\textbar{}\\textbar{}0\\&1\\textbar{}0\\&1\\textbar{}\\textbar{}\\textbar{}\\textbar{}\\textbar{}\\textbar{}\\textbar{}\\textbar{}\\textbar{},A\\textbar{}missense\\_variant\\textbar{}MODERATE\\textbar{}ANGPTL7\\textbar{}ENSG00000171819\\textbar{}Transcript\\textbar{}ENST00000376819\\textbar{}protein\\_coding\\textbar{}2/5\\textbar{}\\textbar{}ENST00000376819.3:c.419G>A\\textbar{}ENSP00000366015.3:p.Arg140His\\textbar{}658\\textbar{}419\\textbar{}140\\textbar{}R/H\\textbar{}cGc/cAc\\textbar{}rs28991002\\&COSM1332677\\textbar{}1\\textbar{}\\textbar{}1\\textbar{}\\textbar{}SNV\\textbar{}HGNC\\textbar{}24078\\textbar{}YES\\textbar{}\\textbar{}\\textbar{}CCDS128.1\\textbar{}ENSP00000366015\\textbar{}O43827\\textbar{}F1T0A6\\textbar{}UPI0000035976\\textbar{}\\textbar{}tolerated(0.12)\\textbar{}benign(0.001)\\textbar{}PROSITE\\_profiles:PS51406\\&hmmpanther:PTHR19143\\&Pfam\\_domain:PF00147\\&Gene3D:3.90.215.10\\&SMART\\_domains:SM00186\\&Superfamily\\_domains:SSF56496\\textbar{}\\textbar{}A:0.0012\\textbar{}A:0\\textbar{}A:0\\textbar{}A:0.001\\textbar{}A:0.005\\textbar{}A:0\\textbar{}A:0.000227\\textbar{}A:0.003023\\textbar{}A:2.150e-03\\&T:8.236e-06\\textbar{}A:0.00215\\&T:8.239e-06\\textbar{}A:0.0002883\\&T:0\\textbar{}A:0.0005182\\&T:0\\textbar{}A:0.0001156\\&T:0\\textbar{}A:0.004385\\&T:0\\textbar{}A:0.003148\\&T:1.499e-05\\textbar{}A:0.005519\\&T:0\\textbar{}A:0.000424\\&T:0\\textbar{}\\textbar{}0\\&1\\textbar{}0\\&1\\textbar{}\\textbar{}\\textbar{}\\textbar{}\\textbar{}\\textbar{}\\textbar{}\\textbar{}\\textbar{},A\\textbar{}upstream\\_gene\\_variant\\textbar{}MODIFIER\\textbar{}ANGPTL7\\textbar{}ENSG00000171819\\textbar{}Transcript\\textbar{}ENST00000476934\\textbar{}processed\\_transcript\\textbar{}\\textbar{}\\textbar{}\\textbar{}\\textbar{}\\textbar{}\\textbar{}\\textbar{}\\textbar{}\\textbar{}rs28991002\\&COSM1332677\\textbar{}1\\textbar{}1315\\textbar{}1\\textbar{}\\textbar{}SNV\\textbar{}HGNC\\textbar{}24078\\textbar{}\\textbar{}\\textbar{}\\textbar{}\\textbar{}\\textbar{}\\textbar{}\\textbar{}\\textbar{}\\textbar{}\\textbar{}\\textbar{}\\textbar{}\\textbar{}A:0.0012\\textbar{}A:0\\textbar{}A:0\\textbar{}A:0.001\\textbar{}A:0.005\\textbar{}A:0\\textbar{}A:0.000227\\textbar{}A:0.003023\\textbar{}A:2.150e-03\\&T:8.236e-06\\textbar{}A:0.00215\\&T:8.239e-06\\textbar{}A:0.0002883\\&T:0\\textbar{}A:0.0005182\\&T:0\\textbar{}A:0.0001156\\&T:0\\textbar{}A:0.004385\\&T:0\\textbar{}A:0.003148\\&T:1.499e-05\\textbar{}A:0.005519\\&T:0\\textbar{}A:0.000424\\&T:0\\textbar{}\\textbar{}0\\&1\\textbar{}0\\&1\\textbar{}\\textbar{}\\textbar{}\\textbar{}\\textbar{}\\textbar{}\\textbar{}\\textbar{}\\textbar{} & 0.0005812 & 0.0011610 & 5.097e-04 & 2.532551e-03 & 0.6059 & 2.532551e-03 & TRUE & FALSE & FALSE & NA & 0 & 0 & 0 &      &  &  & 0 & ANGPTL7 & 2.532551e-03 & 1:11252369:G:A     & TRUE & protein-altering  \\\\\n",
       "\t 1 & 11253684 & G     & T & rs28991009    & ENSG00000171819 & missense\\_variant   & ENSP00000366015.3:p.Gln175His        &    &  &  &                            & CSQ=T\\textbar{}intron\\_variant\\textbar{}MODIFIER\\textbar{}MTOR\\textbar{}ENSG00000198793\\textbar{}Transcript\\textbar{}ENST00000361445\\textbar{}protein\\_coding\\textbar{}\\textbar{}28/57\\textbar{}ENST00000361445.4:c.4253+5631C>A\\textbar{}\\textbar{}\\textbar{}\\textbar{}\\textbar{}\\textbar{}\\textbar{}rs28991009\\textbar{}1\\textbar{}\\textbar{}-1\\textbar{}\\textbar{}SNV\\textbar{}HGNC\\textbar{}3942\\textbar{}YES\\textbar{}\\textbar{}\\textbar{}CCDS127.1\\textbar{}ENSP00000354558\\textbar{}P42345\\textbar{}Q96QW8\\&B1AKQ2\\&B1AKP8\\textbar{}UPI000012ABD3\\textbar{}1\\textbar{}\\textbar{}\\textbar{}\\textbar{}\\textbar{}T:0.0010\\textbar{}T:0\\textbar{}T:0\\textbar{}T:0\\textbar{}T:0.005\\textbar{}T:0\\textbar{}T:0.001589\\textbar{}T:0.006628\\textbar{}T:3.608e-03\\&A:8.236e-06\\textbar{}T:0.003737\\&A:8.532e-06\\textbar{}T:0.0006753\\&A:9.647e-05\\textbar{}T:0.0006062\\&A:0\\textbar{}T:0\\&A:0\\textbar{}T:0.0009074\\&A:0\\textbar{}T:0.006364\\&A:0\\textbar{}T:0.001155\\&A:0\\textbar{}T:0\\&A:0\\textbar{}\\textbar{}\\textbar{}\\textbar{}\\textbar{}\\textbar{}\\textbar{}\\textbar{}\\textbar{}\\textbar{}\\textbar{}\\textbar{},T\\textbar{}missense\\_variant\\textbar{}MODERATE\\textbar{}ANGPTL7\\textbar{}ENSG00000171819\\textbar{}Transcript\\textbar{}ENST00000376819\\textbar{}protein\\_coding\\textbar{}3/5\\textbar{}\\textbar{}ENST00000376819.3:c.525G>T\\textbar{}ENSP00000366015.3:p.Gln175His\\textbar{}764\\textbar{}525\\textbar{}175\\textbar{}Q/H\\textbar{}caG/caT\\textbar{}rs28991009\\textbar{}1\\textbar{}\\textbar{}1\\textbar{}\\textbar{}SNV\\textbar{}HGNC\\textbar{}24078\\textbar{}YES\\textbar{}\\textbar{}\\textbar{}CCDS128.1\\textbar{}ENSP00000366015\\textbar{}O43827\\textbar{}F1T0A6\\textbar{}UPI0000035976\\textbar{}\\textbar{}deleterious(0)\\textbar{}probably\\_damaging(1)\\textbar{}PROSITE\\_profiles:PS51406\\&hmmpanther:PTHR19143\\&Pfam\\_domain:PF00147\\&Gene3D:3.90.215.10\\&SMART\\_domains:SM00186\\&Superfamily\\_domains:SSF56496\\textbar{}\\textbar{}T:0.0010\\textbar{}T:0\\textbar{}T:0\\textbar{}T:0\\textbar{}T:0.005\\textbar{}T:0\\textbar{}T:0.001589\\textbar{}T:0.006628\\textbar{}T:3.608e-03\\&A:8.236e-06\\textbar{}T:0.003737\\&A:8.532e-06\\textbar{}T:0.0006753\\&A:9.647e-05\\textbar{}T:0.0006062\\&A:0\\textbar{}T:0\\&A:0\\textbar{}T:0.0009074\\&A:0\\textbar{}T:0.006364\\&A:0\\textbar{}T:0.001155\\&A:0\\textbar{}T:0\\&A:0\\textbar{}\\textbar{}\\textbar{}\\textbar{}\\textbar{}\\textbar{}\\textbar{}\\textbar{}\\textbar{}\\textbar{}\\textbar{}\\textbar{},T\\textbar{}non\\_coding\\_transcript\\_exon\\_variant\\&non\\_coding\\_transcript\\_variant\\textbar{}MODIFIER\\textbar{}ANGPTL7\\textbar{}ENSG00000171819\\textbar{}Transcript\\textbar{}ENST00000476934\\textbar{}processed\\_transcript\\textbar{}1/3\\textbar{}\\textbar{}ENST00000476934.1:n.1G>T\\textbar{}\\textbar{}1\\textbar{}\\textbar{}\\textbar{}\\textbar{}\\textbar{}rs28991009\\textbar{}1\\textbar{}\\textbar{}1\\textbar{}\\textbar{}SNV\\textbar{}HGNC\\textbar{}24078\\textbar{}\\textbar{}\\textbar{}\\textbar{}\\textbar{}\\textbar{}\\textbar{}\\textbar{}\\textbar{}\\textbar{}\\textbar{}\\textbar{}\\textbar{}\\textbar{}T:0.0010\\textbar{}T:0\\textbar{}T:0\\textbar{}T:0\\textbar{}T:0.005\\textbar{}T:0\\textbar{}T:0.001589\\textbar{}T:0.006628\\textbar{}T:3.608e-03\\&A:8.236e-06\\textbar{}T:0.003737\\&A:8.532e-06\\textbar{}T:0.0006753\\&A:9.647e-05\\textbar{}T:0.0006062\\&A:0\\textbar{}T:0\\&A:0\\textbar{}T:0.0009074\\&A:0\\textbar{}T:0.006364\\&A:0\\textbar{}T:0.001155\\&A:0\\textbar{}T:0\\&A:0\\textbar{}\\textbar{}\\textbar{}\\textbar{}\\textbar{}\\textbar{}\\textbar{}\\textbar{}\\textbar{}\\textbar{}\\textbar{}\\textbar{}                                 & 0.0014060 & 0.0009989 & 1.456e-03 & 8.116199e-03 & 0.1805 & 8.116199e-03 & TRUE & FALSE & FALSE & NA & 0 & 0 & 0 &      &  &  & 0 & ANGPTL7 & 8.116199e-03 & 1:11253684:G:T     & TRUE & protein-altering  \\\\\n",
       "\t 1 & 11253688 & C     & T & rs143435072   & ENSG00000171819 & stop\\_gained        & ENSP00000366015.3:p.Arg177Ter        & HC &  &  & POSITION:0.508165225744476 & CSQ=T\\textbar{}intron\\_variant\\textbar{}MODIFIER\\textbar{}MTOR\\textbar{}ENSG00000198793\\textbar{}Transcript\\textbar{}ENST00000361445\\textbar{}protein\\_coding\\textbar{}\\textbar{}28/57\\textbar{}ENST00000361445.4:c.4253+5627G>A\\textbar{}\\textbar{}\\textbar{}\\textbar{}\\textbar{}\\textbar{}\\textbar{}rs143435072\\textbar{}1\\textbar{}\\textbar{}-1\\textbar{}\\textbar{}SNV\\textbar{}HGNC\\textbar{}3942\\textbar{}YES\\textbar{}\\textbar{}\\textbar{}CCDS127.1\\textbar{}ENSP00000354558\\textbar{}P42345\\textbar{}Q96QW8\\&B1AKQ2\\&B1AKP8\\textbar{}UPI000012ABD3\\textbar{}1\\textbar{}\\textbar{}\\textbar{}\\textbar{}\\textbar{}\\textbar{}\\textbar{}\\textbar{}\\textbar{}\\textbar{}\\textbar{}T:0\\textbar{}T:0.0003488\\textbar{}T:1.730e-04\\textbar{}T:0.0001697\\textbar{}T:9.639e-05\\textbar{}T:0\\textbar{}T:0\\textbar{}T:0\\textbar{}T:0.0002894\\textbar{}T:0\\textbar{}T:0\\textbar{}\\textbar{}\\textbar{}\\textbar{}\\textbar{}\\textbar{}\\textbar{}\\textbar{}\\textbar{}\\textbar{}\\textbar{}\\textbar{},T\\textbar{}stop\\_gained\\textbar{}HIGH\\textbar{}ANGPTL7\\textbar{}ENSG00000171819\\textbar{}Transcript\\textbar{}ENST00000376819\\textbar{}protein\\_coding\\textbar{}3/5\\textbar{}\\textbar{}ENST00000376819.3:c.529C>T\\textbar{}ENSP00000366015.3:p.Arg177Ter\\textbar{}768\\textbar{}529\\textbar{}177\\textbar{}R/*\\textbar{}Cga/Tga\\textbar{}rs143435072\\textbar{}1\\textbar{}\\textbar{}1\\textbar{}\\textbar{}SNV\\textbar{}HGNC\\textbar{}24078\\textbar{}YES\\textbar{}\\textbar{}\\textbar{}CCDS128.1\\textbar{}ENSP00000366015\\textbar{}O43827\\textbar{}F1T0A6\\textbar{}UPI0000035976\\textbar{}\\textbar{}\\textbar{}\\textbar{}PROSITE\\_profiles:PS51406\\&hmmpanther:PTHR19143\\&Pfam\\_domain:PF00147\\&Gene3D:3.90.215.10\\&SMART\\_domains:SM00186\\&Superfamily\\_domains:SSF56496\\textbar{}\\textbar{}\\textbar{}\\textbar{}\\textbar{}\\textbar{}\\textbar{}\\textbar{}T:0\\textbar{}T:0.0003488\\textbar{}T:1.730e-04\\textbar{}T:0.0001697\\textbar{}T:9.639e-05\\textbar{}T:0\\textbar{}T:0\\textbar{}T:0\\textbar{}T:0.0002894\\textbar{}T:0\\textbar{}T:0\\textbar{}\\textbar{}\\textbar{}\\textbar{}\\textbar{}\\textbar{}\\textbar{}\\textbar{}\\textbar{}HC\\textbar{}\\textbar{}\\textbar{}POSITION:0.508165225744476,T\\textbar{}non\\_coding\\_transcript\\_exon\\_variant\\&non\\_coding\\_transcript\\_variant\\textbar{}MODIFIER\\textbar{}ANGPTL7\\textbar{}ENSG00000171819\\textbar{}Transcript\\textbar{}ENST00000476934\\textbar{}processed\\_transcript\\textbar{}1/3\\textbar{}\\textbar{}ENST00000476934.1:n.5C>T\\textbar{}\\textbar{}5\\textbar{}\\textbar{}\\textbar{}\\textbar{}\\textbar{}rs143435072\\textbar{}1\\textbar{}\\textbar{}1\\textbar{}\\textbar{}SNV\\textbar{}HGNC\\textbar{}24078\\textbar{}\\textbar{}\\textbar{}\\textbar{}\\textbar{}\\textbar{}\\textbar{}\\textbar{}\\textbar{}\\textbar{}\\textbar{}\\textbar{}\\textbar{}\\textbar{}\\textbar{}\\textbar{}\\textbar{}\\textbar{}\\textbar{}\\textbar{}T:0\\textbar{}T:0.0003488\\textbar{}T:1.730e-04\\textbar{}T:0.0001697\\textbar{}T:9.639e-05\\textbar{}T:0\\textbar{}T:0\\textbar{}T:0\\textbar{}T:0.0002894\\textbar{}T:0\\textbar{}T:0\\textbar{}\\textbar{}\\textbar{}\\textbar{}\\textbar{}\\textbar{}\\textbar{}\\textbar{}\\textbar{}\\textbar{}\\textbar{}\\textbar{}                                                                                                                                                                                                                                                                                                                                                                                                   & 0.0001157 & 0.0002430 & 9.995e-05 & 4.063244e-04 & 0.5270 & 4.063244e-04 & TRUE & FALSE & FALSE & NA & 0 & 0 & 0 & PASS &  &  & 0 & ANGPTL7 & 4.063244e-04 & 1:11253688:C:T     & TRUE & protein-truncating\\\\\n",
       "\t 1 & 11255013 & GGCAT & G & Affx-89021330 & ENSG00000171819 & frameshift\\_variant & ENSP00000366015.3:p.His326AspfsTer11 & HC &  &  & POSITION:0.939481268011527 & CSQ=-\\textbar{}intron\\_variant\\textbar{}MODIFIER\\textbar{}MTOR\\textbar{}ENSG00000198793\\textbar{}Transcript\\textbar{}ENST00000361445\\textbar{}protein\\_coding\\textbar{}\\textbar{}28/57\\textbar{}ENST00000361445.4:c.4253+4298\\_4253+4301delATGC\\textbar{}\\textbar{}\\textbar{}\\textbar{}\\textbar{}\\textbar{}\\textbar{}\\textbar{}1\\textbar{}\\textbar{}-1\\textbar{}\\textbar{}deletion\\textbar{}HGNC\\textbar{}3942\\textbar{}YES\\textbar{}\\textbar{}\\textbar{}CCDS127.1\\textbar{}ENSP00000354558\\textbar{}P42345\\textbar{}Q96QW8\\&B1AKQ2\\&B1AKP8\\textbar{}UPI000012ABD3\\textbar{}1\\textbar{}\\textbar{}\\textbar{}\\textbar{}\\textbar{}\\textbar{}\\textbar{}\\textbar{}\\textbar{}\\textbar{}\\textbar{}\\textbar{}\\textbar{}\\textbar{}\\textbar{}\\textbar{}\\textbar{}\\textbar{}\\textbar{}\\textbar{}\\textbar{}\\textbar{}\\textbar{}\\textbar{}\\textbar{}\\textbar{}\\textbar{}\\textbar{}\\textbar{}\\textbar{}\\textbar{}\\textbar{}\\textbar{},-\\textbar{}frameshift\\_variant\\textbar{}HIGH\\textbar{}ANGPTL7\\textbar{}ENSG00000171819\\textbar{}Transcript\\textbar{}ENST00000376819\\textbar{}protein\\_coding\\textbar{}5/5\\textbar{}\\textbar{}ENST00000376819.3:c.976\\_979delCATG\\textbar{}ENSP00000366015.3:p.His326AspfsTer11\\textbar{}1214-1217\\textbar{}975-978\\textbar{}325-326\\textbar{}WH/X\\textbar{}tgGCAT/tg\\textbar{}\\textbar{}1\\textbar{}\\textbar{}1\\textbar{}\\textbar{}deletion\\textbar{}HGNC\\textbar{}24078\\textbar{}YES\\textbar{}\\textbar{}\\textbar{}CCDS128.1\\textbar{}ENSP00000366015\\textbar{}O43827\\textbar{}F1T0A6\\textbar{}UPI0000035976\\textbar{}\\textbar{}\\textbar{}\\textbar{}PROSITE\\_profiles:PS51406\\&hmmpanther:PTHR19143\\&Pfam\\_domain:PF00147\\&Gene3D:4.10.530.10\\&SMART\\_domains:SM00186\\&Superfamily\\_domains:SSF56496\\textbar{}1\\textbar{}\\textbar{}\\textbar{}\\textbar{}\\textbar{}\\textbar{}\\textbar{}\\textbar{}\\textbar{}\\textbar{}\\textbar{}\\textbar{}\\textbar{}\\textbar{}\\textbar{}\\textbar{}\\textbar{}\\textbar{}\\textbar{}\\textbar{}\\textbar{}\\textbar{}\\textbar{}\\textbar{}\\textbar{}\\textbar{}HC\\textbar{}\\textbar{}\\textbar{}POSITION:0.939481268011527,-\\textbar{}non\\_coding\\_transcript\\_exon\\_variant\\&non\\_coding\\_transcript\\_variant\\textbar{}MODIFIER\\textbar{}ANGPTL7\\textbar{}ENSG00000171819\\textbar{}Transcript\\textbar{}ENST00000476934\\textbar{}processed\\_transcript\\textbar{}3/3\\textbar{}\\textbar{}ENST00000476934.1:n.387\\_390delCATG\\textbar{}\\textbar{}386-389\\textbar{}\\textbar{}\\textbar{}\\textbar{}\\textbar{}\\textbar{}1\\textbar{}\\textbar{}1\\textbar{}\\textbar{}deletion\\textbar{}HGNC\\textbar{}24078\\textbar{}\\textbar{}\\textbar{}\\textbar{}\\textbar{}\\textbar{}\\textbar{}\\textbar{}\\textbar{}\\textbar{}\\textbar{}\\textbar{}\\textbar{}1\\textbar{}\\textbar{}\\textbar{}\\textbar{}\\textbar{}\\textbar{}\\textbar{}\\textbar{}\\textbar{}\\textbar{}\\textbar{}\\textbar{}\\textbar{}\\textbar{}\\textbar{}\\textbar{}\\textbar{}\\textbar{}\\textbar{}\\textbar{}\\textbar{}\\textbar{}\\textbar{}\\textbar{}\\textbar{}\\textbar{}\\textbar{}\\textbar{}\\textbar{}                                                                                                                                                                                                                                                                                                                                                                                                                                                                                                                                                                         & 0.0007740 & 0.0012960 & 7.096e-04 & 1.483913e-05 & 0.5000 & 1.483913e-05 & TRUE & FALSE & FALSE & NA & 0 & 0 & 0 &      &  &  & 0 & ANGPTL7 & 1.483913e-05 & 1:11255013:GGCAT:G & TRUE & protein-truncating\\\\\n",
       "\\end{tabular}\n"
      ],
      "text/markdown": [
       "\n",
       "A data.frame: 5 × 35\n",
       "\n",
       "| CHROM &lt;int&gt; | POS &lt;int&gt; | REF &lt;chr&gt; | ALT &lt;chr&gt; | ID &lt;chr&gt; | Gene &lt;chr&gt; | Consequence &lt;chr&gt; | HGVSp &lt;chr&gt; | LoF &lt;chr&gt; | LoF_filter &lt;chr&gt; | ⋯ ⋯ | mcpi &lt;int&gt; | gnomad_af &lt;chr&gt; | mgi &lt;chr&gt; | mgi_notes &lt;chr&gt; | all_filters &lt;int&gt; | Gene_symbol &lt;chr&gt; | MAF &lt;dbl&gt; | variant &lt;chr&gt; | is_outside_of_MHC &lt;lgl&gt; | Csq &lt;chr&gt; |\n",
       "|---|---|---|---|---|---|---|---|---|---|---|---|---|---|---|---|---|---|---|---|---|\n",
       "| 1 | 11252357 | A     | G | rs200058074   | ENSG00000171819 | missense_variant   | ENSP00000366015.3:p.Gln136Arg        | <!----> | <!----> | ⋯ | 0 | <!----> | <!----> | <!----> | 0 | ANGPTL7 | 5.355845e-04 | 1:11252357:A:G     | TRUE | protein-altering   |\n",
       "| 1 | 11252369 | G     | A | rs28991002    | ENSG00000171819 | missense_variant   | ENSP00000366015.3:p.Arg140His        | <!----> | <!----> | ⋯ | 0 | <!----> | <!----> | <!----> | 0 | ANGPTL7 | 2.532551e-03 | 1:11252369:G:A     | TRUE | protein-altering   |\n",
       "| 1 | 11253684 | G     | T | rs28991009    | ENSG00000171819 | missense_variant   | ENSP00000366015.3:p.Gln175His        | <!----> | <!----> | ⋯ | 0 | <!----> | <!----> | <!----> | 0 | ANGPTL7 | 8.116199e-03 | 1:11253684:G:T     | TRUE | protein-altering   |\n",
       "| 1 | 11253688 | C     | T | rs143435072   | ENSG00000171819 | stop_gained        | ENSP00000366015.3:p.Arg177Ter        | HC | <!----> | ⋯ | 0 | PASS | <!----> | <!----> | 0 | ANGPTL7 | 4.063244e-04 | 1:11253688:C:T     | TRUE | protein-truncating |\n",
       "| 1 | 11255013 | GGCAT | G | Affx-89021330 | ENSG00000171819 | frameshift_variant | ENSP00000366015.3:p.His326AspfsTer11 | HC | <!----> | ⋯ | 0 | <!----> | <!----> | <!----> | 0 | ANGPTL7 | 1.483913e-05 | 1:11255013:GGCAT:G | TRUE | protein-truncating |\n",
       "\n"
      ],
      "text/plain": [
       "  CHROM POS      REF   ALT ID            Gene            Consequence       \n",
       "1 1     11252357 A     G   rs200058074   ENSG00000171819 missense_variant  \n",
       "2 1     11252369 G     A   rs28991002    ENSG00000171819 missense_variant  \n",
       "3 1     11253684 G     T   rs28991009    ENSG00000171819 missense_variant  \n",
       "4 1     11253688 C     T   rs143435072   ENSG00000171819 stop_gained       \n",
       "5 1     11255013 GGCAT G   Affx-89021330 ENSG00000171819 frameshift_variant\n",
       "  HGVSp                                LoF LoF_filter ⋯ mcpi gnomad_af mgi\n",
       "1 ENSP00000366015.3:p.Gln136Arg                       ⋯ 0                 \n",
       "2 ENSP00000366015.3:p.Arg140His                       ⋯ 0                 \n",
       "3 ENSP00000366015.3:p.Gln175His                       ⋯ 0                 \n",
       "4 ENSP00000366015.3:p.Arg177Ter        HC             ⋯ 0    PASS         \n",
       "5 ENSP00000366015.3:p.His326AspfsTer11 HC             ⋯ 0                 \n",
       "  mgi_notes all_filters Gene_symbol MAF          variant           \n",
       "1           0           ANGPTL7     5.355845e-04 1:11252357:A:G    \n",
       "2           0           ANGPTL7     2.532551e-03 1:11252369:G:A    \n",
       "3           0           ANGPTL7     8.116199e-03 1:11253684:G:T    \n",
       "4           0           ANGPTL7     4.063244e-04 1:11253688:C:T    \n",
       "5           0           ANGPTL7     1.483913e-05 1:11255013:GGCAT:G\n",
       "  is_outside_of_MHC Csq               \n",
       "1 TRUE              protein-altering  \n",
       "2 TRUE              protein-altering  \n",
       "3 TRUE              protein-altering  \n",
       "4 TRUE              protein-truncating\n",
       "5 TRUE              protein-truncating"
      ]
     },
     "metadata": {},
     "output_type": "display_data"
    }
   ],
   "source": [
    "annot.arr %>% filter(Gene_symbol == 'ANGPTL7')"
   ]
  },
  {
   "cell_type": "code",
   "execution_count": 13,
   "metadata": {},
   "outputs": [
    {
     "data": {
      "text/html": [
       "<table>\n",
       "<caption>A data.frame: 4 × 35</caption>\n",
       "<thead>\n",
       "\t<tr><th scope=col>CHROM</th><th scope=col>POS</th><th scope=col>REF</th><th scope=col>ALT</th><th scope=col>ID</th><th scope=col>Gene</th><th scope=col>Consequence</th><th scope=col>HGVSp</th><th scope=col>LoF</th><th scope=col>LoF_filter</th><th scope=col>⋯</th><th scope=col>mcpi</th><th scope=col>gnomad_af</th><th scope=col>mgi</th><th scope=col>mgi_notes</th><th scope=col>all_filters</th><th scope=col>Gene_symbol</th><th scope=col>MAF</th><th scope=col>variant</th><th scope=col>is_outside_of_MHC</th><th scope=col>Csq</th></tr>\n",
       "\t<tr><th scope=col>&lt;int&gt;</th><th scope=col>&lt;int&gt;</th><th scope=col>&lt;chr&gt;</th><th scope=col>&lt;chr&gt;</th><th scope=col>&lt;chr&gt;</th><th scope=col>&lt;chr&gt;</th><th scope=col>&lt;chr&gt;</th><th scope=col>&lt;chr&gt;</th><th scope=col>&lt;chr&gt;</th><th scope=col>&lt;chr&gt;</th><th scope=col>⋯</th><th scope=col>&lt;int&gt;</th><th scope=col>&lt;chr&gt;</th><th scope=col>&lt;chr&gt;</th><th scope=col>&lt;chr&gt;</th><th scope=col>&lt;int&gt;</th><th scope=col>&lt;chr&gt;</th><th scope=col>&lt;dbl&gt;</th><th scope=col>&lt;chr&gt;</th><th scope=col>&lt;lgl&gt;</th><th scope=col>&lt;chr&gt;</th></tr>\n",
       "</thead>\n",
       "<tbody>\n",
       "\t<tr><td>1</td><td>11252357</td><td>A</td><td>G</td><td>rs200058074</td><td>ENSG00000171819</td><td>missense_variant</td><td>ENSP00000366015.3:p.Gln136Arg</td><td>  </td><td></td><td>⋯</td><td>0</td><td>    </td><td></td><td></td><td>0</td><td>ANGPTL7</td><td>0.0005355845</td><td>1:11252357:A:G</td><td>TRUE</td><td>protein-altering  </td></tr>\n",
       "\t<tr><td>1</td><td>11252369</td><td>G</td><td>A</td><td>rs28991002 </td><td>ENSG00000171819</td><td>missense_variant</td><td>ENSP00000366015.3:p.Arg140His</td><td>  </td><td></td><td>⋯</td><td>0</td><td>    </td><td></td><td></td><td>0</td><td>ANGPTL7</td><td>0.0025325508</td><td>1:11252369:G:A</td><td>TRUE</td><td>protein-altering  </td></tr>\n",
       "\t<tr><td>1</td><td>11253684</td><td>G</td><td>T</td><td>rs28991009 </td><td>ENSG00000171819</td><td>missense_variant</td><td>ENSP00000366015.3:p.Gln175His</td><td>  </td><td></td><td>⋯</td><td>0</td><td>    </td><td></td><td></td><td>0</td><td>ANGPTL7</td><td>0.0081161985</td><td>1:11253684:G:T</td><td>TRUE</td><td>protein-altering  </td></tr>\n",
       "\t<tr><td>1</td><td>11253688</td><td>C</td><td>T</td><td>rs143435072</td><td>ENSG00000171819</td><td>stop_gained     </td><td>ENSP00000366015.3:p.Arg177Ter</td><td>HC</td><td></td><td>⋯</td><td>0</td><td>PASS</td><td></td><td></td><td>0</td><td>ANGPTL7</td><td>0.0004063244</td><td>1:11253688:C:T</td><td>TRUE</td><td>protein-truncating</td></tr>\n",
       "</tbody>\n",
       "</table>\n"
      ],
      "text/latex": [
       "A data.frame: 4 × 35\n",
       "\\begin{tabular}{r|lllllllllllllllllllllllllllllllllll}\n",
       " CHROM & POS & REF & ALT & ID & Gene & Consequence & HGVSp & LoF & LoF\\_filter & LoF\\_flags & LoF\\_info & consequence\\_field & f\\_miss & f\\_miss\\_bileve & f\\_miss\\_wcsg & freq & hwe\\_p & maf & ld\\_indep & wcsg\\_only & bileve\\_only & filter & missingness & hwe & mcpi & gnomad\\_af & mgi & mgi\\_notes & all\\_filters & Gene\\_symbol & MAF & variant & is\\_outside\\_of\\_MHC & Csq\\\\\n",
       " <int> & <int> & <chr> & <chr> & <chr> & <chr> & <chr> & <chr> & <chr> & <chr> & <chr> & <chr> & <chr> & <dbl> & <dbl> & <dbl> & <dbl> & <dbl> & <dbl> & <lgl> & <lgl> & <lgl> & <lgl> & <int> & <int> & <int> & <chr> & <chr> & <chr> & <int> & <chr> & <dbl> & <chr> & <lgl> & <chr>\\\\\n",
       "\\hline\n",
       "\t 1 & 11252357 & A & G & rs200058074 & ENSG00000171819 & missense\\_variant & ENSP00000366015.3:p.Gln136Arg &    &  &  &                            & CSQ=G\\textbar{}intron\\_variant\\textbar{}MODIFIER\\textbar{}MTOR\\textbar{}ENSG00000198793\\textbar{}Transcript\\textbar{}ENST00000361445\\textbar{}protein\\_coding\\textbar{}\\textbar{}28/57\\textbar{}ENST00000361445.4:c.4253+6958T>C\\textbar{}\\textbar{}\\textbar{}\\textbar{}\\textbar{}\\textbar{}\\textbar{}rs200058074\\textbar{}1\\textbar{}\\textbar{}-1\\textbar{}\\textbar{}SNV\\textbar{}HGNC\\textbar{}3942\\textbar{}YES\\textbar{}\\textbar{}\\textbar{}CCDS127.1\\textbar{}ENSP00000354558\\textbar{}P42345\\textbar{}Q96QW8\\&B1AKQ2\\&B1AKP8\\textbar{}UPI000012ABD3\\textbar{}1\\textbar{}\\textbar{}\\textbar{}\\textbar{}\\textbar{}G:0.0002\\textbar{}G:0\\textbar{}G:0.0014\\textbar{}G:0\\textbar{}G:0\\textbar{}G:0\\textbar{}G:0.0004539\\textbar{}G:0.0003488\\textbar{}G:2.059e-04\\textbar{}G:0.000206\\textbar{}G:0.0001922\\textbar{}G:0.0001727\\textbar{}G:0\\textbar{}G:0\\textbar{}G:0.0003149\\textbar{}G:0\\textbar{}G:0\\textbar{}\\textbar{}\\textbar{}\\textbar{}\\textbar{}\\textbar{}\\textbar{}\\textbar{}\\textbar{}\\textbar{}\\textbar{}\\textbar{},G\\textbar{}missense\\_variant\\textbar{}MODERATE\\textbar{}ANGPTL7\\textbar{}ENSG00000171819\\textbar{}Transcript\\textbar{}ENST00000376819\\textbar{}protein\\_coding\\textbar{}2/5\\textbar{}\\textbar{}ENST00000376819.3:c.407A>G\\textbar{}ENSP00000366015.3:p.Gln136Arg\\textbar{}646\\textbar{}407\\textbar{}136\\textbar{}Q/R\\textbar{}cAg/cGg\\textbar{}rs200058074\\textbar{}1\\textbar{}\\textbar{}1\\textbar{}\\textbar{}SNV\\textbar{}HGNC\\textbar{}24078\\textbar{}YES\\textbar{}\\textbar{}\\textbar{}CCDS128.1\\textbar{}ENSP00000366015\\textbar{}O43827\\textbar{}F1T0A6\\textbar{}UPI0000035976\\textbar{}\\textbar{}tolerated(0.31)\\textbar{}possibly\\_damaging(0.524)\\textbar{}PROSITE\\_profiles:PS51406\\&hmmpanther:PTHR19143\\&Pfam\\_domain:PF00147\\&Gene3D:3.90.215.10\\&SMART\\_domains:SM00186\\&Superfamily\\_domains:SSF56496\\textbar{}\\textbar{}G:0.0002\\textbar{}G:0\\textbar{}G:0.0014\\textbar{}G:0\\textbar{}G:0\\textbar{}G:0\\textbar{}G:0.0004539\\textbar{}G:0.0003488\\textbar{}G:2.059e-04\\textbar{}G:0.000206\\textbar{}G:0.0001922\\textbar{}G:0.0001727\\textbar{}G:0\\textbar{}G:0\\textbar{}G:0.0003149\\textbar{}G:0\\textbar{}G:0\\textbar{}\\textbar{}\\textbar{}\\textbar{}\\textbar{}\\textbar{}\\textbar{}\\textbar{}\\textbar{}\\textbar{}\\textbar{}\\textbar{},G\\textbar{}upstream\\_gene\\_variant\\textbar{}MODIFIER\\textbar{}ANGPTL7\\textbar{}ENSG00000171819\\textbar{}Transcript\\textbar{}ENST00000476934\\textbar{}processed\\_transcript\\textbar{}\\textbar{}\\textbar{}\\textbar{}\\textbar{}\\textbar{}\\textbar{}\\textbar{}\\textbar{}\\textbar{}rs200058074\\textbar{}1\\textbar{}1327\\textbar{}1\\textbar{}\\textbar{}SNV\\textbar{}HGNC\\textbar{}24078\\textbar{}\\textbar{}\\textbar{}\\textbar{}\\textbar{}\\textbar{}\\textbar{}\\textbar{}\\textbar{}\\textbar{}\\textbar{}\\textbar{}\\textbar{}\\textbar{}G:0.0002\\textbar{}G:0\\textbar{}G:0.0014\\textbar{}G:0\\textbar{}G:0\\textbar{}G:0\\textbar{}G:0.0004539\\textbar{}G:0.0003488\\textbar{}G:2.059e-04\\textbar{}G:0.000206\\textbar{}G:0.0001922\\textbar{}G:0.0001727\\textbar{}G:0\\textbar{}G:0\\textbar{}G:0.0003149\\textbar{}G:0\\textbar{}G:0\\textbar{}\\textbar{}\\textbar{}\\textbar{}\\textbar{}\\textbar{}\\textbar{}\\textbar{}\\textbar{}\\textbar{}\\textbar{}\\textbar{}                                                                                                                                                                                                                                                                                                                 & 0.0005723 & 0.0012960 & 4.831e-04 & 0.0005355845 & 0.5460 & 0.0005355845 & TRUE & FALSE & FALSE & NA & 0 & 0 & 0 &      &  &  & 0 & ANGPTL7 & 0.0005355845 & 1:11252357:A:G & TRUE & protein-altering  \\\\\n",
       "\t 1 & 11252369 & G & A & rs28991002  & ENSG00000171819 & missense\\_variant & ENSP00000366015.3:p.Arg140His &    &  &  &                            & CSQ=A\\textbar{}intron\\_variant\\textbar{}MODIFIER\\textbar{}MTOR\\textbar{}ENSG00000198793\\textbar{}Transcript\\textbar{}ENST00000361445\\textbar{}protein\\_coding\\textbar{}\\textbar{}28/57\\textbar{}ENST00000361445.4:c.4253+6946C>T\\textbar{}\\textbar{}\\textbar{}\\textbar{}\\textbar{}\\textbar{}\\textbar{}rs28991002\\&COSM1332677\\textbar{}1\\textbar{}\\textbar{}-1\\textbar{}\\textbar{}SNV\\textbar{}HGNC\\textbar{}3942\\textbar{}YES\\textbar{}\\textbar{}\\textbar{}CCDS127.1\\textbar{}ENSP00000354558\\textbar{}P42345\\textbar{}Q96QW8\\&B1AKQ2\\&B1AKP8\\textbar{}UPI000012ABD3\\textbar{}1\\textbar{}\\textbar{}\\textbar{}\\textbar{}\\textbar{}A:0.0012\\textbar{}A:0\\textbar{}A:0\\textbar{}A:0.001\\textbar{}A:0.005\\textbar{}A:0\\textbar{}A:0.000227\\textbar{}A:0.003023\\textbar{}A:2.150e-03\\&T:8.236e-06\\textbar{}A:0.00215\\&T:8.239e-06\\textbar{}A:0.0002883\\&T:0\\textbar{}A:0.0005182\\&T:0\\textbar{}A:0.0001156\\&T:0\\textbar{}A:0.004385\\&T:0\\textbar{}A:0.003148\\&T:1.499e-05\\textbar{}A:0.005519\\&T:0\\textbar{}A:0.000424\\&T:0\\textbar{}\\textbar{}0\\&1\\textbar{}0\\&1\\textbar{}\\textbar{}\\textbar{}\\textbar{}\\textbar{}\\textbar{}\\textbar{}\\textbar{}\\textbar{},A\\textbar{}missense\\_variant\\textbar{}MODERATE\\textbar{}ANGPTL7\\textbar{}ENSG00000171819\\textbar{}Transcript\\textbar{}ENST00000376819\\textbar{}protein\\_coding\\textbar{}2/5\\textbar{}\\textbar{}ENST00000376819.3:c.419G>A\\textbar{}ENSP00000366015.3:p.Arg140His\\textbar{}658\\textbar{}419\\textbar{}140\\textbar{}R/H\\textbar{}cGc/cAc\\textbar{}rs28991002\\&COSM1332677\\textbar{}1\\textbar{}\\textbar{}1\\textbar{}\\textbar{}SNV\\textbar{}HGNC\\textbar{}24078\\textbar{}YES\\textbar{}\\textbar{}\\textbar{}CCDS128.1\\textbar{}ENSP00000366015\\textbar{}O43827\\textbar{}F1T0A6\\textbar{}UPI0000035976\\textbar{}\\textbar{}tolerated(0.12)\\textbar{}benign(0.001)\\textbar{}PROSITE\\_profiles:PS51406\\&hmmpanther:PTHR19143\\&Pfam\\_domain:PF00147\\&Gene3D:3.90.215.10\\&SMART\\_domains:SM00186\\&Superfamily\\_domains:SSF56496\\textbar{}\\textbar{}A:0.0012\\textbar{}A:0\\textbar{}A:0\\textbar{}A:0.001\\textbar{}A:0.005\\textbar{}A:0\\textbar{}A:0.000227\\textbar{}A:0.003023\\textbar{}A:2.150e-03\\&T:8.236e-06\\textbar{}A:0.00215\\&T:8.239e-06\\textbar{}A:0.0002883\\&T:0\\textbar{}A:0.0005182\\&T:0\\textbar{}A:0.0001156\\&T:0\\textbar{}A:0.004385\\&T:0\\textbar{}A:0.003148\\&T:1.499e-05\\textbar{}A:0.005519\\&T:0\\textbar{}A:0.000424\\&T:0\\textbar{}\\textbar{}0\\&1\\textbar{}0\\&1\\textbar{}\\textbar{}\\textbar{}\\textbar{}\\textbar{}\\textbar{}\\textbar{}\\textbar{}\\textbar{},A\\textbar{}upstream\\_gene\\_variant\\textbar{}MODIFIER\\textbar{}ANGPTL7\\textbar{}ENSG00000171819\\textbar{}Transcript\\textbar{}ENST00000476934\\textbar{}processed\\_transcript\\textbar{}\\textbar{}\\textbar{}\\textbar{}\\textbar{}\\textbar{}\\textbar{}\\textbar{}\\textbar{}\\textbar{}rs28991002\\&COSM1332677\\textbar{}1\\textbar{}1315\\textbar{}1\\textbar{}\\textbar{}SNV\\textbar{}HGNC\\textbar{}24078\\textbar{}\\textbar{}\\textbar{}\\textbar{}\\textbar{}\\textbar{}\\textbar{}\\textbar{}\\textbar{}\\textbar{}\\textbar{}\\textbar{}\\textbar{}\\textbar{}A:0.0012\\textbar{}A:0\\textbar{}A:0\\textbar{}A:0.001\\textbar{}A:0.005\\textbar{}A:0\\textbar{}A:0.000227\\textbar{}A:0.003023\\textbar{}A:2.150e-03\\&T:8.236e-06\\textbar{}A:0.00215\\&T:8.239e-06\\textbar{}A:0.0002883\\&T:0\\textbar{}A:0.0005182\\&T:0\\textbar{}A:0.0001156\\&T:0\\textbar{}A:0.004385\\&T:0\\textbar{}A:0.003148\\&T:1.499e-05\\textbar{}A:0.005519\\&T:0\\textbar{}A:0.000424\\&T:0\\textbar{}\\textbar{}0\\&1\\textbar{}0\\&1\\textbar{}\\textbar{}\\textbar{}\\textbar{}\\textbar{}\\textbar{}\\textbar{}\\textbar{}\\textbar{} & 0.0005812 & 0.0011610 & 5.097e-04 & 0.0025325508 & 0.6059 & 0.0025325508 & TRUE & FALSE & FALSE & NA & 0 & 0 & 0 &      &  &  & 0 & ANGPTL7 & 0.0025325508 & 1:11252369:G:A & TRUE & protein-altering  \\\\\n",
       "\t 1 & 11253684 & G & T & rs28991009  & ENSG00000171819 & missense\\_variant & ENSP00000366015.3:p.Gln175His &    &  &  &                            & CSQ=T\\textbar{}intron\\_variant\\textbar{}MODIFIER\\textbar{}MTOR\\textbar{}ENSG00000198793\\textbar{}Transcript\\textbar{}ENST00000361445\\textbar{}protein\\_coding\\textbar{}\\textbar{}28/57\\textbar{}ENST00000361445.4:c.4253+5631C>A\\textbar{}\\textbar{}\\textbar{}\\textbar{}\\textbar{}\\textbar{}\\textbar{}rs28991009\\textbar{}1\\textbar{}\\textbar{}-1\\textbar{}\\textbar{}SNV\\textbar{}HGNC\\textbar{}3942\\textbar{}YES\\textbar{}\\textbar{}\\textbar{}CCDS127.1\\textbar{}ENSP00000354558\\textbar{}P42345\\textbar{}Q96QW8\\&B1AKQ2\\&B1AKP8\\textbar{}UPI000012ABD3\\textbar{}1\\textbar{}\\textbar{}\\textbar{}\\textbar{}\\textbar{}T:0.0010\\textbar{}T:0\\textbar{}T:0\\textbar{}T:0\\textbar{}T:0.005\\textbar{}T:0\\textbar{}T:0.001589\\textbar{}T:0.006628\\textbar{}T:3.608e-03\\&A:8.236e-06\\textbar{}T:0.003737\\&A:8.532e-06\\textbar{}T:0.0006753\\&A:9.647e-05\\textbar{}T:0.0006062\\&A:0\\textbar{}T:0\\&A:0\\textbar{}T:0.0009074\\&A:0\\textbar{}T:0.006364\\&A:0\\textbar{}T:0.001155\\&A:0\\textbar{}T:0\\&A:0\\textbar{}\\textbar{}\\textbar{}\\textbar{}\\textbar{}\\textbar{}\\textbar{}\\textbar{}\\textbar{}\\textbar{}\\textbar{}\\textbar{},T\\textbar{}missense\\_variant\\textbar{}MODERATE\\textbar{}ANGPTL7\\textbar{}ENSG00000171819\\textbar{}Transcript\\textbar{}ENST00000376819\\textbar{}protein\\_coding\\textbar{}3/5\\textbar{}\\textbar{}ENST00000376819.3:c.525G>T\\textbar{}ENSP00000366015.3:p.Gln175His\\textbar{}764\\textbar{}525\\textbar{}175\\textbar{}Q/H\\textbar{}caG/caT\\textbar{}rs28991009\\textbar{}1\\textbar{}\\textbar{}1\\textbar{}\\textbar{}SNV\\textbar{}HGNC\\textbar{}24078\\textbar{}YES\\textbar{}\\textbar{}\\textbar{}CCDS128.1\\textbar{}ENSP00000366015\\textbar{}O43827\\textbar{}F1T0A6\\textbar{}UPI0000035976\\textbar{}\\textbar{}deleterious(0)\\textbar{}probably\\_damaging(1)\\textbar{}PROSITE\\_profiles:PS51406\\&hmmpanther:PTHR19143\\&Pfam\\_domain:PF00147\\&Gene3D:3.90.215.10\\&SMART\\_domains:SM00186\\&Superfamily\\_domains:SSF56496\\textbar{}\\textbar{}T:0.0010\\textbar{}T:0\\textbar{}T:0\\textbar{}T:0\\textbar{}T:0.005\\textbar{}T:0\\textbar{}T:0.001589\\textbar{}T:0.006628\\textbar{}T:3.608e-03\\&A:8.236e-06\\textbar{}T:0.003737\\&A:8.532e-06\\textbar{}T:0.0006753\\&A:9.647e-05\\textbar{}T:0.0006062\\&A:0\\textbar{}T:0\\&A:0\\textbar{}T:0.0009074\\&A:0\\textbar{}T:0.006364\\&A:0\\textbar{}T:0.001155\\&A:0\\textbar{}T:0\\&A:0\\textbar{}\\textbar{}\\textbar{}\\textbar{}\\textbar{}\\textbar{}\\textbar{}\\textbar{}\\textbar{}\\textbar{}\\textbar{}\\textbar{},T\\textbar{}non\\_coding\\_transcript\\_exon\\_variant\\&non\\_coding\\_transcript\\_variant\\textbar{}MODIFIER\\textbar{}ANGPTL7\\textbar{}ENSG00000171819\\textbar{}Transcript\\textbar{}ENST00000476934\\textbar{}processed\\_transcript\\textbar{}1/3\\textbar{}\\textbar{}ENST00000476934.1:n.1G>T\\textbar{}\\textbar{}1\\textbar{}\\textbar{}\\textbar{}\\textbar{}\\textbar{}rs28991009\\textbar{}1\\textbar{}\\textbar{}1\\textbar{}\\textbar{}SNV\\textbar{}HGNC\\textbar{}24078\\textbar{}\\textbar{}\\textbar{}\\textbar{}\\textbar{}\\textbar{}\\textbar{}\\textbar{}\\textbar{}\\textbar{}\\textbar{}\\textbar{}\\textbar{}\\textbar{}T:0.0010\\textbar{}T:0\\textbar{}T:0\\textbar{}T:0\\textbar{}T:0.005\\textbar{}T:0\\textbar{}T:0.001589\\textbar{}T:0.006628\\textbar{}T:3.608e-03\\&A:8.236e-06\\textbar{}T:0.003737\\&A:8.532e-06\\textbar{}T:0.0006753\\&A:9.647e-05\\textbar{}T:0.0006062\\&A:0\\textbar{}T:0\\&A:0\\textbar{}T:0.0009074\\&A:0\\textbar{}T:0.006364\\&A:0\\textbar{}T:0.001155\\&A:0\\textbar{}T:0\\&A:0\\textbar{}\\textbar{}\\textbar{}\\textbar{}\\textbar{}\\textbar{}\\textbar{}\\textbar{}\\textbar{}\\textbar{}\\textbar{}\\textbar{}                                 & 0.0014060 & 0.0009989 & 1.456e-03 & 0.0081161985 & 0.1805 & 0.0081161985 & TRUE & FALSE & FALSE & NA & 0 & 0 & 0 &      &  &  & 0 & ANGPTL7 & 0.0081161985 & 1:11253684:G:T & TRUE & protein-altering  \\\\\n",
       "\t 1 & 11253688 & C & T & rs143435072 & ENSG00000171819 & stop\\_gained      & ENSP00000366015.3:p.Arg177Ter & HC &  &  & POSITION:0.508165225744476 & CSQ=T\\textbar{}intron\\_variant\\textbar{}MODIFIER\\textbar{}MTOR\\textbar{}ENSG00000198793\\textbar{}Transcript\\textbar{}ENST00000361445\\textbar{}protein\\_coding\\textbar{}\\textbar{}28/57\\textbar{}ENST00000361445.4:c.4253+5627G>A\\textbar{}\\textbar{}\\textbar{}\\textbar{}\\textbar{}\\textbar{}\\textbar{}rs143435072\\textbar{}1\\textbar{}\\textbar{}-1\\textbar{}\\textbar{}SNV\\textbar{}HGNC\\textbar{}3942\\textbar{}YES\\textbar{}\\textbar{}\\textbar{}CCDS127.1\\textbar{}ENSP00000354558\\textbar{}P42345\\textbar{}Q96QW8\\&B1AKQ2\\&B1AKP8\\textbar{}UPI000012ABD3\\textbar{}1\\textbar{}\\textbar{}\\textbar{}\\textbar{}\\textbar{}\\textbar{}\\textbar{}\\textbar{}\\textbar{}\\textbar{}\\textbar{}T:0\\textbar{}T:0.0003488\\textbar{}T:1.730e-04\\textbar{}T:0.0001697\\textbar{}T:9.639e-05\\textbar{}T:0\\textbar{}T:0\\textbar{}T:0\\textbar{}T:0.0002894\\textbar{}T:0\\textbar{}T:0\\textbar{}\\textbar{}\\textbar{}\\textbar{}\\textbar{}\\textbar{}\\textbar{}\\textbar{}\\textbar{}\\textbar{}\\textbar{}\\textbar{},T\\textbar{}stop\\_gained\\textbar{}HIGH\\textbar{}ANGPTL7\\textbar{}ENSG00000171819\\textbar{}Transcript\\textbar{}ENST00000376819\\textbar{}protein\\_coding\\textbar{}3/5\\textbar{}\\textbar{}ENST00000376819.3:c.529C>T\\textbar{}ENSP00000366015.3:p.Arg177Ter\\textbar{}768\\textbar{}529\\textbar{}177\\textbar{}R/*\\textbar{}Cga/Tga\\textbar{}rs143435072\\textbar{}1\\textbar{}\\textbar{}1\\textbar{}\\textbar{}SNV\\textbar{}HGNC\\textbar{}24078\\textbar{}YES\\textbar{}\\textbar{}\\textbar{}CCDS128.1\\textbar{}ENSP00000366015\\textbar{}O43827\\textbar{}F1T0A6\\textbar{}UPI0000035976\\textbar{}\\textbar{}\\textbar{}\\textbar{}PROSITE\\_profiles:PS51406\\&hmmpanther:PTHR19143\\&Pfam\\_domain:PF00147\\&Gene3D:3.90.215.10\\&SMART\\_domains:SM00186\\&Superfamily\\_domains:SSF56496\\textbar{}\\textbar{}\\textbar{}\\textbar{}\\textbar{}\\textbar{}\\textbar{}\\textbar{}T:0\\textbar{}T:0.0003488\\textbar{}T:1.730e-04\\textbar{}T:0.0001697\\textbar{}T:9.639e-05\\textbar{}T:0\\textbar{}T:0\\textbar{}T:0\\textbar{}T:0.0002894\\textbar{}T:0\\textbar{}T:0\\textbar{}\\textbar{}\\textbar{}\\textbar{}\\textbar{}\\textbar{}\\textbar{}\\textbar{}\\textbar{}HC\\textbar{}\\textbar{}\\textbar{}POSITION:0.508165225744476,T\\textbar{}non\\_coding\\_transcript\\_exon\\_variant\\&non\\_coding\\_transcript\\_variant\\textbar{}MODIFIER\\textbar{}ANGPTL7\\textbar{}ENSG00000171819\\textbar{}Transcript\\textbar{}ENST00000476934\\textbar{}processed\\_transcript\\textbar{}1/3\\textbar{}\\textbar{}ENST00000476934.1:n.5C>T\\textbar{}\\textbar{}5\\textbar{}\\textbar{}\\textbar{}\\textbar{}\\textbar{}rs143435072\\textbar{}1\\textbar{}\\textbar{}1\\textbar{}\\textbar{}SNV\\textbar{}HGNC\\textbar{}24078\\textbar{}\\textbar{}\\textbar{}\\textbar{}\\textbar{}\\textbar{}\\textbar{}\\textbar{}\\textbar{}\\textbar{}\\textbar{}\\textbar{}\\textbar{}\\textbar{}\\textbar{}\\textbar{}\\textbar{}\\textbar{}\\textbar{}\\textbar{}T:0\\textbar{}T:0.0003488\\textbar{}T:1.730e-04\\textbar{}T:0.0001697\\textbar{}T:9.639e-05\\textbar{}T:0\\textbar{}T:0\\textbar{}T:0\\textbar{}T:0.0002894\\textbar{}T:0\\textbar{}T:0\\textbar{}\\textbar{}\\textbar{}\\textbar{}\\textbar{}\\textbar{}\\textbar{}\\textbar{}\\textbar{}\\textbar{}\\textbar{}\\textbar{}                                                                                                                                                                                                                                                                                                                                                                                                   & 0.0001157 & 0.0002430 & 9.995e-05 & 0.0004063244 & 0.5270 & 0.0004063244 & TRUE & FALSE & FALSE & NA & 0 & 0 & 0 & PASS &  &  & 0 & ANGPTL7 & 0.0004063244 & 1:11253688:C:T & TRUE & protein-truncating\\\\\n",
       "\\end{tabular}\n"
      ],
      "text/markdown": [
       "\n",
       "A data.frame: 4 × 35\n",
       "\n",
       "| CHROM &lt;int&gt; | POS &lt;int&gt; | REF &lt;chr&gt; | ALT &lt;chr&gt; | ID &lt;chr&gt; | Gene &lt;chr&gt; | Consequence &lt;chr&gt; | HGVSp &lt;chr&gt; | LoF &lt;chr&gt; | LoF_filter &lt;chr&gt; | ⋯ ⋯ | mcpi &lt;int&gt; | gnomad_af &lt;chr&gt; | mgi &lt;chr&gt; | mgi_notes &lt;chr&gt; | all_filters &lt;int&gt; | Gene_symbol &lt;chr&gt; | MAF &lt;dbl&gt; | variant &lt;chr&gt; | is_outside_of_MHC &lt;lgl&gt; | Csq &lt;chr&gt; |\n",
       "|---|---|---|---|---|---|---|---|---|---|---|---|---|---|---|---|---|---|---|---|---|\n",
       "| 1 | 11252357 | A | G | rs200058074 | ENSG00000171819 | missense_variant | ENSP00000366015.3:p.Gln136Arg | <!----> | <!----> | ⋯ | 0 | <!----> | <!----> | <!----> | 0 | ANGPTL7 | 0.0005355845 | 1:11252357:A:G | TRUE | protein-altering   |\n",
       "| 1 | 11252369 | G | A | rs28991002  | ENSG00000171819 | missense_variant | ENSP00000366015.3:p.Arg140His | <!----> | <!----> | ⋯ | 0 | <!----> | <!----> | <!----> | 0 | ANGPTL7 | 0.0025325508 | 1:11252369:G:A | TRUE | protein-altering   |\n",
       "| 1 | 11253684 | G | T | rs28991009  | ENSG00000171819 | missense_variant | ENSP00000366015.3:p.Gln175His | <!----> | <!----> | ⋯ | 0 | <!----> | <!----> | <!----> | 0 | ANGPTL7 | 0.0081161985 | 1:11253684:G:T | TRUE | protein-altering   |\n",
       "| 1 | 11253688 | C | T | rs143435072 | ENSG00000171819 | stop_gained      | ENSP00000366015.3:p.Arg177Ter | HC | <!----> | ⋯ | 0 | PASS | <!----> | <!----> | 0 | ANGPTL7 | 0.0004063244 | 1:11253688:C:T | TRUE | protein-truncating |\n",
       "\n"
      ],
      "text/plain": [
       "  CHROM POS      REF ALT ID          Gene            Consequence     \n",
       "1 1     11252357 A   G   rs200058074 ENSG00000171819 missense_variant\n",
       "2 1     11252369 G   A   rs28991002  ENSG00000171819 missense_variant\n",
       "3 1     11253684 G   T   rs28991009  ENSG00000171819 missense_variant\n",
       "4 1     11253688 C   T   rs143435072 ENSG00000171819 stop_gained     \n",
       "  HGVSp                         LoF LoF_filter ⋯ mcpi gnomad_af mgi mgi_notes\n",
       "1 ENSP00000366015.3:p.Gln136Arg                ⋯ 0                           \n",
       "2 ENSP00000366015.3:p.Arg140His                ⋯ 0                           \n",
       "3 ENSP00000366015.3:p.Gln175His                ⋯ 0                           \n",
       "4 ENSP00000366015.3:p.Arg177Ter HC             ⋯ 0    PASS                   \n",
       "  all_filters Gene_symbol MAF          variant        is_outside_of_MHC\n",
       "1 0           ANGPTL7     0.0005355845 1:11252357:A:G TRUE             \n",
       "2 0           ANGPTL7     0.0025325508 1:11252369:G:A TRUE             \n",
       "3 0           ANGPTL7     0.0081161985 1:11253684:G:T TRUE             \n",
       "4 0           ANGPTL7     0.0004063244 1:11253688:C:T TRUE             \n",
       "  Csq               \n",
       "1 protein-altering  \n",
       "2 protein-altering  \n",
       "3 protein-altering  \n",
       "4 protein-truncating"
      ]
     },
     "metadata": {},
     "output_type": "display_data"
    }
   ],
   "source": [
    "annot.arr %>% filter(Gene_symbol == 'ANGPTL7', 0.0001 < MAF, MAF < 0.01)"
   ]
  },
  {
   "cell_type": "code",
   "execution_count": 14,
   "metadata": {},
   "outputs": [],
   "source": [
    "show_sumstats <- function(IOP_df, annot.arr){\n",
    "    annot.arr %>% filter(Gene_symbol == 'ANGPTL7', 0.0001 < MAF, MAF < 0.01) %>%\n",
    "    select(variant, ID, Consequence, HGVSp, freq, MAF, ld_indep) %>%\n",
    "    left_join(\n",
    "        IOP_df, by='ID'\n",
    "    ) %>%\n",
    "    rename(\n",
    "        rsID = ID\n",
    "    ) %>%\n",
    "    mutate(\n",
    "        BETA_CI_l = BETA - 1.96 * SE,\n",
    "        BETA_CI_u = BETA + 1.96 * SE,\n",
    "        MAF_percent = sprintf('%.4f%%', MAF * 100),\n",
    "        HGVSp = str_replace_all(HGVSp, 'ENSP00000366015.3:', ''),\n",
    "        BETA_str = sprintf('%.4f [%.3f, %.3f]', BETA, BETA_CI_l, BETA_CI_u)\n",
    "    ) %>% \n",
    "    select(variant, rsID, HGVSp, MAF_percent, BETA_str, P)    \n",
    "}"
   ]
  },
  {
   "cell_type": "code",
   "execution_count": 30,
   "metadata": {},
   "outputs": [
    {
     "data": {
      "text/html": [
       "<table>\n",
       "<caption>A data.frame: 4 × 6</caption>\n",
       "<thead>\n",
       "\t<tr><th scope=col>variant</th><th scope=col>rsID</th><th scope=col>HGVSp</th><th scope=col>MAF_percent</th><th scope=col>BETA_str</th><th scope=col>P</th></tr>\n",
       "\t<tr><th scope=col>&lt;chr&gt;</th><th scope=col>&lt;chr&gt;</th><th scope=col>&lt;chr&gt;</th><th scope=col>&lt;chr&gt;</th><th scope=col>&lt;chr&gt;</th><th scope=col>&lt;dbl&gt;</th></tr>\n",
       "</thead>\n",
       "<tbody>\n",
       "\t<tr><td>1:11252357:A:G</td><td>rs200058074</td><td>p.Gln136Arg</td><td>0.0536%</td><td>-0.0297 [-0.248, 0.189] </td><td>7.89729e-01</td></tr>\n",
       "\t<tr><td>1:11252369:G:A</td><td>rs28991002 </td><td>p.Arg140His</td><td>0.2533%</td><td>-0.1497 [-0.244, -0.055]</td><td>1.86485e-03</td></tr>\n",
       "\t<tr><td>1:11253684:G:T</td><td>rs28991009 </td><td>p.Gln175His</td><td>0.8116%</td><td>-0.2004 [-0.253, -0.148]</td><td>1.07008e-13</td></tr>\n",
       "\t<tr><td>1:11253688:C:T</td><td>rs143435072</td><td>p.Arg177Ter</td><td>0.0406%</td><td>-0.2856 [-0.533, -0.038]</td><td>2.38987e-02</td></tr>\n",
       "</tbody>\n",
       "</table>\n"
      ],
      "text/latex": [
       "A data.frame: 4 × 6\n",
       "\\begin{tabular}{r|llllll}\n",
       " variant & rsID & HGVSp & MAF\\_percent & BETA\\_str & P\\\\\n",
       " <chr> & <chr> & <chr> & <chr> & <chr> & <dbl>\\\\\n",
       "\\hline\n",
       "\t 1:11252357:A:G & rs200058074 & p.Gln136Arg & 0.0536\\% & -0.0297 {[}-0.248, 0.189{]}  & 7.89729e-01\\\\\n",
       "\t 1:11252369:G:A & rs28991002  & p.Arg140His & 0.2533\\% & -0.1497 {[}-0.244, -0.055{]} & 1.86485e-03\\\\\n",
       "\t 1:11253684:G:T & rs28991009  & p.Gln175His & 0.8116\\% & -0.2004 {[}-0.253, -0.148{]} & 1.07008e-13\\\\\n",
       "\t 1:11253688:C:T & rs143435072 & p.Arg177Ter & 0.0406\\% & -0.2856 {[}-0.533, -0.038{]} & 2.38987e-02\\\\\n",
       "\\end{tabular}\n"
      ],
      "text/markdown": [
       "\n",
       "A data.frame: 4 × 6\n",
       "\n",
       "| variant &lt;chr&gt; | rsID &lt;chr&gt; | HGVSp &lt;chr&gt; | MAF_percent &lt;chr&gt; | BETA_str &lt;chr&gt; | P &lt;dbl&gt; |\n",
       "|---|---|---|---|---|---|\n",
       "| 1:11252357:A:G | rs200058074 | p.Gln136Arg | 0.0536% | -0.0297 [-0.248, 0.189]  | 7.89729e-01 |\n",
       "| 1:11252369:G:A | rs28991002  | p.Arg140His | 0.2533% | -0.1497 [-0.244, -0.055] | 1.86485e-03 |\n",
       "| 1:11253684:G:T | rs28991009  | p.Gln175His | 0.8116% | -0.2004 [-0.253, -0.148] | 1.07008e-13 |\n",
       "| 1:11253688:C:T | rs143435072 | p.Arg177Ter | 0.0406% | -0.2856 [-0.533, -0.038] | 2.38987e-02 |\n",
       "\n"
      ],
      "text/plain": [
       "  variant        rsID        HGVSp       MAF_percent BETA_str                \n",
       "1 1:11252357:A:G rs200058074 p.Gln136Arg 0.0536%     -0.0297 [-0.248, 0.189] \n",
       "2 1:11252369:G:A rs28991002  p.Arg140His 0.2533%     -0.1497 [-0.244, -0.055]\n",
       "3 1:11253684:G:T rs28991009  p.Gln175His 0.8116%     -0.2004 [-0.253, -0.148]\n",
       "4 1:11253688:C:T rs143435072 p.Arg177Ter 0.0406%     -0.2856 [-0.533, -0.038]\n",
       "  P          \n",
       "1 7.89729e-01\n",
       "2 1.86485e-03\n",
       "3 1.07008e-13\n",
       "4 2.38987e-02"
      ]
     },
     "metadata": {},
     "output_type": "display_data"
    }
   ],
   "source": [
    "IOPs[['INI2005255']] %>% show_sumstats(annot.arr)"
   ]
  },
  {
   "cell_type": "code",
   "execution_count": 31,
   "metadata": {},
   "outputs": [
    {
     "data": {
      "text/html": [
       "<table>\n",
       "<caption>A data.frame: 4 × 6</caption>\n",
       "<thead>\n",
       "\t<tr><th scope=col>variant</th><th scope=col>rsID</th><th scope=col>HGVSp</th><th scope=col>MAF_percent</th><th scope=col>BETA_str</th><th scope=col>P</th></tr>\n",
       "\t<tr><th scope=col>&lt;chr&gt;</th><th scope=col>&lt;chr&gt;</th><th scope=col>&lt;chr&gt;</th><th scope=col>&lt;chr&gt;</th><th scope=col>&lt;chr&gt;</th><th scope=col>&lt;dbl&gt;</th></tr>\n",
       "</thead>\n",
       "<tbody>\n",
       "\t<tr><td>1:11252357:A:G</td><td>rs200058074</td><td>p.Gln136Arg</td><td>0.0536%</td><td>0.0124 [-0.203, 0.228]  </td><td>9.10273e-01</td></tr>\n",
       "\t<tr><td>1:11252369:G:A</td><td>rs28991002 </td><td>p.Arg140His</td><td>0.2533%</td><td>-0.0714 [-0.165, 0.022] </td><td>1.33283e-01</td></tr>\n",
       "\t<tr><td>1:11253684:G:T</td><td>rs28991009 </td><td>p.Gln175His</td><td>0.8116%</td><td>-0.1552 [-0.207, -0.103]</td><td>5.96170e-09</td></tr>\n",
       "\t<tr><td>1:11253688:C:T</td><td>rs143435072</td><td>p.Arg177Ter</td><td>0.0406%</td><td>-0.1285 [-0.374, 0.117] </td><td>3.03964e-01</td></tr>\n",
       "</tbody>\n",
       "</table>\n"
      ],
      "text/latex": [
       "A data.frame: 4 × 6\n",
       "\\begin{tabular}{r|llllll}\n",
       " variant & rsID & HGVSp & MAF\\_percent & BETA\\_str & P\\\\\n",
       " <chr> & <chr> & <chr> & <chr> & <chr> & <dbl>\\\\\n",
       "\\hline\n",
       "\t 1:11252357:A:G & rs200058074 & p.Gln136Arg & 0.0536\\% & 0.0124 {[}-0.203, 0.228{]}   & 9.10273e-01\\\\\n",
       "\t 1:11252369:G:A & rs28991002  & p.Arg140His & 0.2533\\% & -0.0714 {[}-0.165, 0.022{]}  & 1.33283e-01\\\\\n",
       "\t 1:11253684:G:T & rs28991009  & p.Gln175His & 0.8116\\% & -0.1552 {[}-0.207, -0.103{]} & 5.96170e-09\\\\\n",
       "\t 1:11253688:C:T & rs143435072 & p.Arg177Ter & 0.0406\\% & -0.1285 {[}-0.374, 0.117{]}  & 3.03964e-01\\\\\n",
       "\\end{tabular}\n"
      ],
      "text/markdown": [
       "\n",
       "A data.frame: 4 × 6\n",
       "\n",
       "| variant &lt;chr&gt; | rsID &lt;chr&gt; | HGVSp &lt;chr&gt; | MAF_percent &lt;chr&gt; | BETA_str &lt;chr&gt; | P &lt;dbl&gt; |\n",
       "|---|---|---|---|---|---|\n",
       "| 1:11252357:A:G | rs200058074 | p.Gln136Arg | 0.0536% | 0.0124 [-0.203, 0.228]   | 9.10273e-01 |\n",
       "| 1:11252369:G:A | rs28991002  | p.Arg140His | 0.2533% | -0.0714 [-0.165, 0.022]  | 1.33283e-01 |\n",
       "| 1:11253684:G:T | rs28991009  | p.Gln175His | 0.8116% | -0.1552 [-0.207, -0.103] | 5.96170e-09 |\n",
       "| 1:11253688:C:T | rs143435072 | p.Arg177Ter | 0.0406% | -0.1285 [-0.374, 0.117]  | 3.03964e-01 |\n",
       "\n"
      ],
      "text/plain": [
       "  variant        rsID        HGVSp       MAF_percent BETA_str                \n",
       "1 1:11252357:A:G rs200058074 p.Gln136Arg 0.0536%     0.0124 [-0.203, 0.228]  \n",
       "2 1:11252369:G:A rs28991002  p.Arg140His 0.2533%     -0.0714 [-0.165, 0.022] \n",
       "3 1:11253684:G:T rs28991009  p.Gln175His 0.8116%     -0.1552 [-0.207, -0.103]\n",
       "4 1:11253688:C:T rs143435072 p.Arg177Ter 0.0406%     -0.1285 [-0.374, 0.117] \n",
       "  P          \n",
       "1 9.10273e-01\n",
       "2 1.33283e-01\n",
       "3 5.96170e-09\n",
       "4 3.03964e-01"
      ]
     },
     "metadata": {},
     "output_type": "display_data"
    }
   ],
   "source": [
    "IOPs[['INI2005254']] %>% show_sumstats(annot.arr)"
   ]
  },
  {
   "cell_type": "code",
   "execution_count": 32,
   "metadata": {},
   "outputs": [],
   "source": [
    "IOPs[['INI2005254']] %>% show_sumstats(annot.arr) %>%\n",
    "rename('INI2005254_BETA' = 'BETA_str', 'INI2005254_P' = 'P') %>%\n",
    "inner_join(\n",
    "    IOPs[['INI2005255']] %>% show_sumstats(annot.arr) %>%\n",
    "    rename('INI2005255_BETA' = 'BETA_str', 'INI2005255_P' = 'P'),\n",
    "    by=c('variant', 'rsID', 'HGVSp', 'MAF_percent')\n",
    ") %>%\n",
    "fwrite('Tbl1_INI2005254_INI2005255.tsv', sep='\\t')"
   ]
  },
  {
   "cell_type": "markdown",
   "metadata": {},
   "source": [
    "## Hits"
   ]
  },
  {
   "cell_type": "code",
   "execution_count": 33,
   "metadata": {},
   "outputs": [],
   "source": [
    "extract_hits <- function(IOP_df, annot.arr){\n",
    "    IOP_hits <- IOP_df %>% filter(as.numeric(P) <= 0.0001) %>% \n",
    "    select(-REF, -ALT, -A1, -TEST, -OBS_CT, -T_STAT) %>%\n",
    "    left_join(annot.arr %>% select(-CHROM, -POS), by='ID') %>% \n",
    "    arrange(as.numeric(CHROM), as.numeric(POS)) %>%\n",
    "    select(-CHROM, -POS) %>%\n",
    "    rename(variant_ID = ID) %>%\n",
    "    select(variant, variant_ID, BETA, SE, P, Csq, Consequence, Gene_symbol, HGVSp, MAF, ld_indep)    \n",
    "}"
   ]
  },
  {
   "cell_type": "code",
   "execution_count": 34,
   "metadata": {},
   "outputs": [],
   "source": [
    "IOPs[['INI2005254']] %>% extract_hits(annot.arr) %>%\n",
    "fwrite('INI2005254.hits.tsv', sep='\\t', row.names=FALSE)\n"
   ]
  },
  {
   "cell_type": "code",
   "execution_count": 35,
   "metadata": {},
   "outputs": [],
   "source": [
    "IOPs[['INI2005255']] %>% extract_hits(annot.arr) %>%\n",
    "fwrite('INI2005255.hits.tsv', sep='\\t', row.names=FALSE)\n"
   ]
  },
  {
   "cell_type": "markdown",
   "metadata": {},
   "source": [
    "## qq-plot"
   ]
  },
  {
   "cell_type": "code",
   "execution_count": 44,
   "metadata": {},
   "outputs": [],
   "source": [
    "get_IOP_anno_df <- function(IOP_df, annot.arr){\n",
    "    annot.arr %>% \n",
    "    filter(0.0001 < MAF, MAF < 0.01, Csq != 'non-coding', is_outside_of_MHC) %>%\n",
    "    select(-CHROM, -POS, -REF, -ALT) %>%\n",
    "    inner_join(IOP_df %>% drop_na(), by='ID')\n",
    "}\n"
   ]
  },
  {
   "cell_type": "code",
   "execution_count": 45,
   "metadata": {},
   "outputs": [],
   "source": [
    "qq_plot <- function(IOP_df, annot.arr){\n",
    "    qq_p_obs <- IOP_df %>% get_IOP_anno_df(annot.arr) %>%\n",
    "    mutate(log10P = -log10(P)) %>% arrange(-log10P) %>% select(log10P) %>% drop_na() %>% pull() \n",
    "    \n",
    "    qq_p_exp <- -(qq_p_obs %>% length() %>% ppoints() %>% log10())\n",
    "    \n",
    "    data.frame(\n",
    "        Observed = qq_p_obs,\n",
    "        Expected = qq_p_exp\n",
    "    ) %>% ggplot(aes(x = Expected, y = Observed)) + geom_point() + \n",
    "    geom_abline(slope=1, intercept=0, color='red') + \n",
    "    theme_bw() + \n",
    "    labs(\n",
    "        y = TeX('Observed $-\\\\log_{10}(P)$'),\n",
    "        x = TeX('Expected $-\\\\log_{10}(P)$')\n",
    "    )     \n",
    "}"
   ]
  },
  {
   "cell_type": "code",
   "execution_count": 74,
   "metadata": {},
   "outputs": [],
   "source": [
    "qq_plot_g <- arrangeGrob(\n",
    "    IOPs[['INI2005254']] %>% qq_plot(annot.arr) + labs(title='(A) corneal compensated IOP (INI2005254)'),\n",
    "    IOPs[['INI2005255']] %>% qq_plot(annot.arr) + labs(title='(B) Goldman-correlated IOP (INI2005255)'),\n",
    "    nrow=1\n",
    ")\n"
   ]
  },
  {
   "cell_type": "code",
   "execution_count": 75,
   "metadata": {},
   "outputs": [],
   "source": [
    "ggsave('qq.png', qq_plot_g, width=12, height=6)\n",
    "ggsave('qq.pdf', qq_plot_g, width=12, height=6)\n"
   ]
  },
  {
   "cell_type": "code",
   "execution_count": null,
   "metadata": {},
   "outputs": [],
   "source": []
  },
  {
   "cell_type": "code",
   "execution_count": 36,
   "metadata": {},
   "outputs": [
    {
     "data": {
      "text/html": [
       "0.366"
      ],
      "text/latex": [
       "0.366"
      ],
      "text/markdown": [
       "0.366"
      ],
      "text/plain": [
       "[1] 0.366"
      ]
     },
     "metadata": {},
     "output_type": "display_data"
    }
   ],
   "source": [
    "0.66 - 1.96 * 0.15"
   ]
  },
  {
   "cell_type": "code",
   "execution_count": 37,
   "metadata": {},
   "outputs": [
    {
     "data": {
      "text/html": [
       "0.954"
      ],
      "text/latex": [
       "0.954"
      ],
      "text/markdown": [
       "0.954"
      ],
      "text/plain": [
       "[1] 0.954"
      ]
     },
     "metadata": {},
     "output_type": "display_data"
    }
   ],
   "source": [
    "0.66 + 1.96 * 0.15"
   ]
  },
  {
   "cell_type": "code",
   "execution_count": 38,
   "metadata": {},
   "outputs": [
    {
     "data": {
      "text/html": [
       "0.3552"
      ],
      "text/latex": [
       "0.3552"
      ],
      "text/markdown": [
       "0.3552"
      ],
      "text/plain": [
       "[1] 0.3552"
      ]
     },
     "metadata": {},
     "output_type": "display_data"
    }
   ],
   "source": [
    "0.61 - 1.96 * 0.13"
   ]
  },
  {
   "cell_type": "code",
   "execution_count": 39,
   "metadata": {},
   "outputs": [
    {
     "data": {
      "text/html": [
       "0.8648"
      ],
      "text/latex": [
       "0.8648"
      ],
      "text/markdown": [
       "0.8648"
      ],
      "text/plain": [
       "[1] 0.8648"
      ]
     },
     "metadata": {},
     "output_type": "display_data"
    }
   ],
   "source": [
    "0.61 + 1.96 * 0.13"
   ]
  },
  {
   "cell_type": "markdown",
   "metadata": {},
   "source": [
    "### Manhattan plot"
   ]
  },
  {
   "cell_type": "code",
   "execution_count": 52,
   "metadata": {},
   "outputs": [],
   "source": [
    "compute_gwas_plot_df <- function(gwasResults){\n",
    "    gwasResults  %>%\n",
    "    # Compute chromosome size\n",
    "    group_by(CHR) %>% \n",
    "    summarise(chr_len=max(BP)) %>% \n",
    "\n",
    "    # Calculate cumulative position of each chromosome\n",
    "    mutate(tot=cumsum(chr_len)-chr_len) %>%\n",
    "    select(-chr_len) %>%\n",
    "\n",
    "    # Add this info to the initial dataset\n",
    "    left_join(gwasResults, ., by=c(\"CHR\"=\"CHR\")) %>%\n",
    "\n",
    "    # Add a cumulative position of each SNP\n",
    "    arrange(CHR, BP) %>%\n",
    "    mutate(BPcum=BP+tot)    \n",
    "}\n"
   ]
  },
  {
   "cell_type": "code",
   "execution_count": 53,
   "metadata": {},
   "outputs": [],
   "source": [
    "compute_x_axis_df <- function(don){\n",
    "    don %>% \n",
    "    group_by(CHR) %>% \n",
    "    summarize(center=( max(BPcum) + min(BPcum) ) / 2 ) %>%\n",
    "    mutate(\n",
    "        CHR_plot = if_else((CHR %% 2) == 0 & (CHR > 15), \"\", as.character(CHR))\n",
    "    )    \n",
    "}\n"
   ]
  },
  {
   "cell_type": "code",
   "execution_count": 54,
   "metadata": {},
   "outputs": [],
   "source": [
    "plot_manhattan <- function(don, axisdf, title_str){\n",
    "    don %>% \n",
    "    ggplot( aes(x=BPcum, y=-log10(P), label=repel_label) ) +\n",
    "    geom_point( aes(color=as.factor(color)), alpha=0.8, size=1.3) +\n",
    "    geom_hline(yintercept=6, color='red', linetype=\"dashed\") + \n",
    "    ggrepel::geom_text_repel(size=3) +\n",
    "    scale_x_continuous(\n",
    "        label = axisdf$CHR_plot, breaks= axisdf$center\n",
    "    ) +\n",
    "    scale_y_continuous(expand = c(0, 0.5) ) +\n",
    "    theme_bw() +\n",
    "    theme( \n",
    "      legend.position=\"none\",\n",
    "      panel.border = element_blank(),\n",
    "      panel.grid.major.x = element_blank(),\n",
    "      panel.grid.minor.x = element_blank()\n",
    "    ) +\n",
    "    labs(\n",
    "        title=title_str,\n",
    "        x = 'Genomic position (chromosome)',\n",
    "        y = TeX('$-\\\\log_{10\\\\,}P$')\n",
    "    )    \n",
    "}\n"
   ]
  },
  {
   "cell_type": "code",
   "execution_count": 69,
   "metadata": {},
   "outputs": [],
   "source": [
    "generate_manhattan_plot_from_IOP_df <- function(IOP_df, annot.arr){\n",
    "    IOP_Manhattan_plot_df <- IOP_df %>% \n",
    "    get_IOP_anno_df(annot.arr) %>% \n",
    "    mutate(\n",
    "        P = as.numeric(P),\n",
    "        rankP = rank(P),\n",
    "        repel_label = if_else((rankP <= 30) & (P <= 1e-6), Gene_symbol, ''),\n",
    "        color = if_else( (CHROM %% 2) == 1, \"1_odd_chrs\", \"2_even_chrs\"),\n",
    "        POS = as.numeric(POS)\n",
    "    ) %>%\n",
    "    rename(CHR = CHROM, BP = POS, SNP = ID) %>%\n",
    "    select(CHR, BP, SNP, P, BETA, repel_label, color, MAF) %>%\n",
    "    compute_gwas_plot_df() %>%\n",
    "    filter(P < 1e-2)\n",
    "\n",
    "    IOP_Manhattan_p <- IOP_Manhattan_plot_df %>% \n",
    "    plot_manhattan(\n",
    "        IOP_Manhattan_plot_df %>% compute_x_axis_df(), ''\n",
    "    )\n",
    "    \n",
    "    IOP_Manhattan_p\n",
    "}"
   ]
  },
  {
   "cell_type": "code",
   "execution_count": 76,
   "metadata": {},
   "outputs": [],
   "source": [
    "manhattan_g <- arrangeGrob(\n",
    "    IOPs[['INI2005254']] %>% generate_manhattan_plot_from_IOP_df(annot.arr) + labs(title='(A) corneal compensated IOP (INI2005254)'),\n",
    "    IOPs[['INI2005255']] %>% generate_manhattan_plot_from_IOP_df(annot.arr) + labs(title='(B) Goldman-correlated IOP (INI2005255)'),\n",
    "    nrow=1\n",
    ")\n"
   ]
  },
  {
   "cell_type": "code",
   "execution_count": 77,
   "metadata": {},
   "outputs": [],
   "source": [
    "ggsave('manhattan.png', manhattan_g, width=12, height=6)\n",
    "ggsave('manhattan.pdf', manhattan_g, width=12, height=6)\n"
   ]
  },
  {
   "cell_type": "code",
   "execution_count": null,
   "metadata": {},
   "outputs": [],
   "source": []
  },
  {
   "cell_type": "code",
   "execution_count": 81,
   "metadata": {},
   "outputs": [],
   "source": [
    "tmp <- IOPs[['INI2005255']] %>% get_IOP_anno_df(annot.arr)"
   ]
  },
  {
   "cell_type": "code",
   "execution_count": 82,
   "metadata": {},
   "outputs": [
    {
     "data": {
      "text/html": [
       "<table>\n",
       "<caption>A data.frame: 2 × 42</caption>\n",
       "<thead>\n",
       "\t<tr><th scope=col>ID</th><th scope=col>Gene</th><th scope=col>Consequence</th><th scope=col>HGVSp</th><th scope=col>LoF</th><th scope=col>LoF_filter</th><th scope=col>LoF_flags</th><th scope=col>LoF_info</th><th scope=col>consequence_field</th><th scope=col>f_miss</th><th scope=col>⋯</th><th scope=col>POS</th><th scope=col>REF</th><th scope=col>ALT</th><th scope=col>A1</th><th scope=col>TEST</th><th scope=col>OBS_CT</th><th scope=col>BETA</th><th scope=col>SE</th><th scope=col>T_STAT</th><th scope=col>P</th></tr>\n",
       "\t<tr><th scope=col>&lt;chr&gt;</th><th scope=col>&lt;chr&gt;</th><th scope=col>&lt;chr&gt;</th><th scope=col>&lt;chr&gt;</th><th scope=col>&lt;chr&gt;</th><th scope=col>&lt;chr&gt;</th><th scope=col>&lt;chr&gt;</th><th scope=col>&lt;chr&gt;</th><th scope=col>&lt;chr&gt;</th><th scope=col>&lt;dbl&gt;</th><th scope=col>⋯</th><th scope=col>&lt;int&gt;</th><th scope=col>&lt;chr&gt;</th><th scope=col>&lt;chr&gt;</th><th scope=col>&lt;chr&gt;</th><th scope=col>&lt;chr&gt;</th><th scope=col>&lt;int&gt;</th><th scope=col>&lt;dbl&gt;</th><th scope=col>&lt;dbl&gt;</th><th scope=col>&lt;dbl&gt;</th><th scope=col>&lt;dbl&gt;</th></tr>\n",
       "</thead>\n",
       "<tbody>\n",
       "\t<tr><td>rs28991009 </td><td>ENSG00000171819</td><td>missense_variant</td><td><span style=white-space:pre-wrap>ENSP00000366015.3:p.Gln175His                              </span></td><td></td><td></td><td></td><td></td><td><span style=white-space:pre-wrap>CSQ=T|intron_variant|MODIFIER|MTOR|ENSG00000198793|Transcript|ENST00000361445|protein_coding||28/57|ENST00000361445.4:c.4253+5631C&gt;A|||||||rs28991009|1||-1||SNV|HGNC|3942|YES|||CCDS127.1|ENSP00000354558|P42345|Q96QW8&amp;B1AKQ2&amp;B1AKP8|UPI000012ABD3|1|||||T:0.0010|T:0|T:0|T:0|T:0.005|T:0|T:0.001589|T:0.006628|T:3.608e-03&amp;A:8.236e-06|T:0.003737&amp;A:8.532e-06|T:0.0006753&amp;A:9.647e-05|T:0.0006062&amp;A:0|T:0&amp;A:0|T:0.0009074&amp;A:0|T:0.006364&amp;A:0|T:0.001155&amp;A:0|T:0&amp;A:0||||||||||||,T|missense_variant|MODERATE|ANGPTL7|ENSG00000171819|Transcript|ENST00000376819|protein_coding|3/5||ENST00000376819.3:c.525G&gt;T|ENSP00000366015.3:p.Gln175His|764|525|175|Q/H|caG/caT|rs28991009|1||1||SNV|HGNC|24078|YES|||CCDS128.1|ENSP00000366015|O43827|F1T0A6|UPI0000035976||deleterious(0)|probably_damaging(1)|PROSITE_profiles:PS51406&amp;hmmpanther:PTHR19143&amp;Pfam_domain:PF00147&amp;Gene3D:3.90.215.10&amp;SMART_domains:SM00186&amp;Superfamily_domains:SSF56496||T:0.0010|T:0|T:0|T:0|T:0.005|T:0|T:0.001589|T:0.006628|T:3.608e-03&amp;A:8.236e-06|T:0.003737&amp;A:8.532e-06|T:0.0006753&amp;A:9.647e-05|T:0.0006062&amp;A:0|T:0&amp;A:0|T:0.0009074&amp;A:0|T:0.006364&amp;A:0|T:0.001155&amp;A:0|T:0&amp;A:0||||||||||||,T|non_coding_transcript_exon_variant&amp;non_coding_transcript_variant|MODIFIER|ANGPTL7|ENSG00000171819|Transcript|ENST00000476934|processed_transcript|1/3||ENST00000476934.1:n.1G&gt;T||1|||||rs28991009|1||1||SNV|HGNC|24078||||||||||||||T:0.0010|T:0|T:0|T:0|T:0.005|T:0|T:0.001589|T:0.006628|T:3.608e-03&amp;A:8.236e-06|T:0.003737&amp;A:8.532e-06|T:0.0006753&amp;A:9.647e-05|T:0.0006062&amp;A:0|T:0&amp;A:0|T:0.0009074&amp;A:0|T:0.006364&amp;A:0|T:0.001155&amp;A:0|T:0&amp;A:0||||||||||||                                                                                                                                                                                                                                                                                         </span></td><td>0.0014060</td><td>⋯</td><td>11253684</td><td>G</td><td>T</td><td>T</td><td>ADD</td><td>82114</td><td>-0.200434</td><td>0.0269646</td><td>-7.43322</td><td>1.07008e-13</td></tr>\n",
       "\t<tr><td>rs150853613</td><td>ENSG00000244486</td><td>missense_variant</td><td>ENSP00000385589.3:p.Ser549Leu,ENSP00000266214.5:p.Ser554Leu</td><td></td><td></td><td></td><td></td><td>CSQ=A|missense_variant|MODERATE|SCARF2|ENSG00000244486|Transcript|ENST00000266214|protein_coding|10/11||ENST00000266214.5:c.1661C&gt;T|ENSP00000266214.5:p.Ser554Leu|1766|1661|554|S/L|tCg/tTg|rs150853613|1||-1||SNV|HGNC|19869|YES|||CCDS13779.1|ENSP00000266214|Q96GP6||UPI0000135F1C|1|deleterious(0)|benign(0.076)|hmmpanther:PTHR24043&amp;hmmpanther:PTHR24043:SF5&amp;Low_complexity_(Seg):seg||A:0.0008|A:0|A:0|A:0|A:0.002|A:0.002|A:0.0006809|A:0.005233|A:2.800e-03|A:0.00281|A:0.0005789|A:0.002345|A:0|A:0.003085|A:0.003933|A:0.001101|A:0.001457||||||||||||,A|missense_variant|MODERATE|SCARF2|ENSG00000244486|Transcript|ENST00000405555|protein_coding|10/11||ENST00000405555.3:c.1646C&gt;T|ENSP00000385589.3:p.Ser549Leu|1717|1646|549|S/L|tCg/tTg|rs150853613|1||-1||SNV|HGNC|19869||||CCDS46666.1|ENSP00000385589|Q96GP6||UPI000004715D|1|deleterious(0)|benign(0.035)|Low_complexity_(Seg):seg&amp;hmmpanther:PTHR24043&amp;hmmpanther:PTHR24043:SF5||A:0.0008|A:0|A:0|A:0|A:0.002|A:0.002|A:0.0006809|A:0.005233|A:2.800e-03|A:0.00281|A:0.0005789|A:0.002345|A:0|A:0.003085|A:0.003933|A:0.001101|A:0.001457||||||||||||,A|downstream_gene_variant|MODIFIER|KLHL22|ENSG00000099910|Transcript|ENST00000429594|nonsense_mediated_decay||||||||||rs150853613|1|1796|-1|cds_start_NF|SNV|HGNC|25888|||||ENSP00000392268|||UPI0001610F3B|1|||||A:0.0008|A:0|A:0|A:0|A:0.002|A:0.002|A:0.0006809|A:0.005233|A:2.800e-03|A:0.00281|A:0.0005789|A:0.002345|A:0|A:0.003085|A:0.003933|A:0.001101|A:0.001457||||||||||||,A|non_coding_transcript_exon_variant&amp;non_coding_transcript_variant|MODIFIER|SCARF2|ENSG00000244486|Transcript|ENST00000494535|retained_intron|4/5||ENST00000494535.1:n.537C&gt;T||537|||||rs150853613|1||-1||SNV|HGNC|19869|||||||||1|||||A:0.0008|A:0|A:0|A:0|A:0.002|A:0.002|A:0.0006809|A:0.005233|A:2.800e-03|A:0.00281|A:0.0005789|A:0.002345|A:0|A:0.003085|A:0.003933|A:0.001101|A:0.001457||||||||||||</td><td>0.0007147</td><td>⋯</td><td>20781732</td><td>G</td><td>A</td><td>A</td><td>ADD</td><td>82193</td><td>-0.169967</td><td>0.0332241</td><td>-5.11577</td><td>3.13171e-07</td></tr>\n",
       "</tbody>\n",
       "</table>\n"
      ],
      "text/latex": [
       "A data.frame: 2 × 42\n",
       "\\begin{tabular}{r|llllllllllllllllllllllllllllllllllllllllll}\n",
       " ID & Gene & Consequence & HGVSp & LoF & LoF\\_filter & LoF\\_flags & LoF\\_info & consequence\\_field & f\\_miss & f\\_miss\\_bileve & f\\_miss\\_wcsg & freq & hwe\\_p & maf & ld\\_indep & wcsg\\_only & bileve\\_only & filter & missingness & hwe & mcpi & gnomad\\_af & mgi & mgi\\_notes & all\\_filters & Gene\\_symbol & MAF & variant & is\\_outside\\_of\\_MHC & Csq & CHROM & POS & REF & ALT & A1 & TEST & OBS\\_CT & BETA & SE & T\\_STAT & P\\\\\n",
       " <chr> & <chr> & <chr> & <chr> & <chr> & <chr> & <chr> & <chr> & <chr> & <dbl> & <dbl> & <dbl> & <dbl> & <dbl> & <dbl> & <lgl> & <lgl> & <lgl> & <lgl> & <int> & <int> & <int> & <chr> & <chr> & <chr> & <int> & <chr> & <dbl> & <chr> & <lgl> & <chr> & <int> & <int> & <chr> & <chr> & <chr> & <chr> & <int> & <dbl> & <dbl> & <dbl> & <dbl>\\\\\n",
       "\\hline\n",
       "\t rs28991009  & ENSG00000171819 & missense\\_variant & ENSP00000366015.3:p.Gln175His                               &  &  &  &  & CSQ=T\\textbar{}intron\\_variant\\textbar{}MODIFIER\\textbar{}MTOR\\textbar{}ENSG00000198793\\textbar{}Transcript\\textbar{}ENST00000361445\\textbar{}protein\\_coding\\textbar{}\\textbar{}28/57\\textbar{}ENST00000361445.4:c.4253+5631C>A\\textbar{}\\textbar{}\\textbar{}\\textbar{}\\textbar{}\\textbar{}\\textbar{}rs28991009\\textbar{}1\\textbar{}\\textbar{}-1\\textbar{}\\textbar{}SNV\\textbar{}HGNC\\textbar{}3942\\textbar{}YES\\textbar{}\\textbar{}\\textbar{}CCDS127.1\\textbar{}ENSP00000354558\\textbar{}P42345\\textbar{}Q96QW8\\&B1AKQ2\\&B1AKP8\\textbar{}UPI000012ABD3\\textbar{}1\\textbar{}\\textbar{}\\textbar{}\\textbar{}\\textbar{}T:0.0010\\textbar{}T:0\\textbar{}T:0\\textbar{}T:0\\textbar{}T:0.005\\textbar{}T:0\\textbar{}T:0.001589\\textbar{}T:0.006628\\textbar{}T:3.608e-03\\&A:8.236e-06\\textbar{}T:0.003737\\&A:8.532e-06\\textbar{}T:0.0006753\\&A:9.647e-05\\textbar{}T:0.0006062\\&A:0\\textbar{}T:0\\&A:0\\textbar{}T:0.0009074\\&A:0\\textbar{}T:0.006364\\&A:0\\textbar{}T:0.001155\\&A:0\\textbar{}T:0\\&A:0\\textbar{}\\textbar{}\\textbar{}\\textbar{}\\textbar{}\\textbar{}\\textbar{}\\textbar{}\\textbar{}\\textbar{}\\textbar{}\\textbar{},T\\textbar{}missense\\_variant\\textbar{}MODERATE\\textbar{}ANGPTL7\\textbar{}ENSG00000171819\\textbar{}Transcript\\textbar{}ENST00000376819\\textbar{}protein\\_coding\\textbar{}3/5\\textbar{}\\textbar{}ENST00000376819.3:c.525G>T\\textbar{}ENSP00000366015.3:p.Gln175His\\textbar{}764\\textbar{}525\\textbar{}175\\textbar{}Q/H\\textbar{}caG/caT\\textbar{}rs28991009\\textbar{}1\\textbar{}\\textbar{}1\\textbar{}\\textbar{}SNV\\textbar{}HGNC\\textbar{}24078\\textbar{}YES\\textbar{}\\textbar{}\\textbar{}CCDS128.1\\textbar{}ENSP00000366015\\textbar{}O43827\\textbar{}F1T0A6\\textbar{}UPI0000035976\\textbar{}\\textbar{}deleterious(0)\\textbar{}probably\\_damaging(1)\\textbar{}PROSITE\\_profiles:PS51406\\&hmmpanther:PTHR19143\\&Pfam\\_domain:PF00147\\&Gene3D:3.90.215.10\\&SMART\\_domains:SM00186\\&Superfamily\\_domains:SSF56496\\textbar{}\\textbar{}T:0.0010\\textbar{}T:0\\textbar{}T:0\\textbar{}T:0\\textbar{}T:0.005\\textbar{}T:0\\textbar{}T:0.001589\\textbar{}T:0.006628\\textbar{}T:3.608e-03\\&A:8.236e-06\\textbar{}T:0.003737\\&A:8.532e-06\\textbar{}T:0.0006753\\&A:9.647e-05\\textbar{}T:0.0006062\\&A:0\\textbar{}T:0\\&A:0\\textbar{}T:0.0009074\\&A:0\\textbar{}T:0.006364\\&A:0\\textbar{}T:0.001155\\&A:0\\textbar{}T:0\\&A:0\\textbar{}\\textbar{}\\textbar{}\\textbar{}\\textbar{}\\textbar{}\\textbar{}\\textbar{}\\textbar{}\\textbar{}\\textbar{}\\textbar{},T\\textbar{}non\\_coding\\_transcript\\_exon\\_variant\\&non\\_coding\\_transcript\\_variant\\textbar{}MODIFIER\\textbar{}ANGPTL7\\textbar{}ENSG00000171819\\textbar{}Transcript\\textbar{}ENST00000476934\\textbar{}processed\\_transcript\\textbar{}1/3\\textbar{}\\textbar{}ENST00000476934.1:n.1G>T\\textbar{}\\textbar{}1\\textbar{}\\textbar{}\\textbar{}\\textbar{}\\textbar{}rs28991009\\textbar{}1\\textbar{}\\textbar{}1\\textbar{}\\textbar{}SNV\\textbar{}HGNC\\textbar{}24078\\textbar{}\\textbar{}\\textbar{}\\textbar{}\\textbar{}\\textbar{}\\textbar{}\\textbar{}\\textbar{}\\textbar{}\\textbar{}\\textbar{}\\textbar{}\\textbar{}T:0.0010\\textbar{}T:0\\textbar{}T:0\\textbar{}T:0\\textbar{}T:0.005\\textbar{}T:0\\textbar{}T:0.001589\\textbar{}T:0.006628\\textbar{}T:3.608e-03\\&A:8.236e-06\\textbar{}T:0.003737\\&A:8.532e-06\\textbar{}T:0.0006753\\&A:9.647e-05\\textbar{}T:0.0006062\\&A:0\\textbar{}T:0\\&A:0\\textbar{}T:0.0009074\\&A:0\\textbar{}T:0.006364\\&A:0\\textbar{}T:0.001155\\&A:0\\textbar{}T:0\\&A:0\\textbar{}\\textbar{}\\textbar{}\\textbar{}\\textbar{}\\textbar{}\\textbar{}\\textbar{}\\textbar{}\\textbar{}\\textbar{}\\textbar{}                                                                                                                                                                                                                                                                                          & 0.0014060 & 0.0009989 & 0.001456 & 0.008116199 & 0.18050 & 0.008116199 & TRUE & FALSE & FALSE & NA & 0 & 0 & 0 &  &  &  & 0 & ANGPTL7 & 0.008116199 & 1:11253684:G:T  & TRUE & protein-altering &  1 & 11253684 & G & T & T & ADD & 82114 & -0.200434 & 0.0269646 & -7.43322 & 1.07008e-13\\\\\n",
       "\t rs150853613 & ENSG00000244486 & missense\\_variant & ENSP00000385589.3:p.Ser549Leu,ENSP00000266214.5:p.Ser554Leu &  &  &  &  & CSQ=A\\textbar{}missense\\_variant\\textbar{}MODERATE\\textbar{}SCARF2\\textbar{}ENSG00000244486\\textbar{}Transcript\\textbar{}ENST00000266214\\textbar{}protein\\_coding\\textbar{}10/11\\textbar{}\\textbar{}ENST00000266214.5:c.1661C>T\\textbar{}ENSP00000266214.5:p.Ser554Leu\\textbar{}1766\\textbar{}1661\\textbar{}554\\textbar{}S/L\\textbar{}tCg/tTg\\textbar{}rs150853613\\textbar{}1\\textbar{}\\textbar{}-1\\textbar{}\\textbar{}SNV\\textbar{}HGNC\\textbar{}19869\\textbar{}YES\\textbar{}\\textbar{}\\textbar{}CCDS13779.1\\textbar{}ENSP00000266214\\textbar{}Q96GP6\\textbar{}\\textbar{}UPI0000135F1C\\textbar{}1\\textbar{}deleterious(0)\\textbar{}benign(0.076)\\textbar{}hmmpanther:PTHR24043\\&hmmpanther:PTHR24043:SF5\\&Low\\_complexity\\_(Seg):seg\\textbar{}\\textbar{}A:0.0008\\textbar{}A:0\\textbar{}A:0\\textbar{}A:0\\textbar{}A:0.002\\textbar{}A:0.002\\textbar{}A:0.0006809\\textbar{}A:0.005233\\textbar{}A:2.800e-03\\textbar{}A:0.00281\\textbar{}A:0.0005789\\textbar{}A:0.002345\\textbar{}A:0\\textbar{}A:0.003085\\textbar{}A:0.003933\\textbar{}A:0.001101\\textbar{}A:0.001457\\textbar{}\\textbar{}\\textbar{}\\textbar{}\\textbar{}\\textbar{}\\textbar{}\\textbar{}\\textbar{}\\textbar{}\\textbar{}\\textbar{},A\\textbar{}missense\\_variant\\textbar{}MODERATE\\textbar{}SCARF2\\textbar{}ENSG00000244486\\textbar{}Transcript\\textbar{}ENST00000405555\\textbar{}protein\\_coding\\textbar{}10/11\\textbar{}\\textbar{}ENST00000405555.3:c.1646C>T\\textbar{}ENSP00000385589.3:p.Ser549Leu\\textbar{}1717\\textbar{}1646\\textbar{}549\\textbar{}S/L\\textbar{}tCg/tTg\\textbar{}rs150853613\\textbar{}1\\textbar{}\\textbar{}-1\\textbar{}\\textbar{}SNV\\textbar{}HGNC\\textbar{}19869\\textbar{}\\textbar{}\\textbar{}\\textbar{}CCDS46666.1\\textbar{}ENSP00000385589\\textbar{}Q96GP6\\textbar{}\\textbar{}UPI000004715D\\textbar{}1\\textbar{}deleterious(0)\\textbar{}benign(0.035)\\textbar{}Low\\_complexity\\_(Seg):seg\\&hmmpanther:PTHR24043\\&hmmpanther:PTHR24043:SF5\\textbar{}\\textbar{}A:0.0008\\textbar{}A:0\\textbar{}A:0\\textbar{}A:0\\textbar{}A:0.002\\textbar{}A:0.002\\textbar{}A:0.0006809\\textbar{}A:0.005233\\textbar{}A:2.800e-03\\textbar{}A:0.00281\\textbar{}A:0.0005789\\textbar{}A:0.002345\\textbar{}A:0\\textbar{}A:0.003085\\textbar{}A:0.003933\\textbar{}A:0.001101\\textbar{}A:0.001457\\textbar{}\\textbar{}\\textbar{}\\textbar{}\\textbar{}\\textbar{}\\textbar{}\\textbar{}\\textbar{}\\textbar{}\\textbar{}\\textbar{},A\\textbar{}downstream\\_gene\\_variant\\textbar{}MODIFIER\\textbar{}KLHL22\\textbar{}ENSG00000099910\\textbar{}Transcript\\textbar{}ENST00000429594\\textbar{}nonsense\\_mediated\\_decay\\textbar{}\\textbar{}\\textbar{}\\textbar{}\\textbar{}\\textbar{}\\textbar{}\\textbar{}\\textbar{}\\textbar{}rs150853613\\textbar{}1\\textbar{}1796\\textbar{}-1\\textbar{}cds\\_start\\_NF\\textbar{}SNV\\textbar{}HGNC\\textbar{}25888\\textbar{}\\textbar{}\\textbar{}\\textbar{}\\textbar{}ENSP00000392268\\textbar{}\\textbar{}\\textbar{}UPI0001610F3B\\textbar{}1\\textbar{}\\textbar{}\\textbar{}\\textbar{}\\textbar{}A:0.0008\\textbar{}A:0\\textbar{}A:0\\textbar{}A:0\\textbar{}A:0.002\\textbar{}A:0.002\\textbar{}A:0.0006809\\textbar{}A:0.005233\\textbar{}A:2.800e-03\\textbar{}A:0.00281\\textbar{}A:0.0005789\\textbar{}A:0.002345\\textbar{}A:0\\textbar{}A:0.003085\\textbar{}A:0.003933\\textbar{}A:0.001101\\textbar{}A:0.001457\\textbar{}\\textbar{}\\textbar{}\\textbar{}\\textbar{}\\textbar{}\\textbar{}\\textbar{}\\textbar{}\\textbar{}\\textbar{}\\textbar{},A\\textbar{}non\\_coding\\_transcript\\_exon\\_variant\\&non\\_coding\\_transcript\\_variant\\textbar{}MODIFIER\\textbar{}SCARF2\\textbar{}ENSG00000244486\\textbar{}Transcript\\textbar{}ENST00000494535\\textbar{}retained\\_intron\\textbar{}4/5\\textbar{}\\textbar{}ENST00000494535.1:n.537C>T\\textbar{}\\textbar{}537\\textbar{}\\textbar{}\\textbar{}\\textbar{}\\textbar{}rs150853613\\textbar{}1\\textbar{}\\textbar{}-1\\textbar{}\\textbar{}SNV\\textbar{}HGNC\\textbar{}19869\\textbar{}\\textbar{}\\textbar{}\\textbar{}\\textbar{}\\textbar{}\\textbar{}\\textbar{}\\textbar{}1\\textbar{}\\textbar{}\\textbar{}\\textbar{}\\textbar{}A:0.0008\\textbar{}A:0\\textbar{}A:0\\textbar{}A:0\\textbar{}A:0.002\\textbar{}A:0.002\\textbar{}A:0.0006809\\textbar{}A:0.005233\\textbar{}A:2.800e-03\\textbar{}A:0.00281\\textbar{}A:0.0005789\\textbar{}A:0.002345\\textbar{}A:0\\textbar{}A:0.003085\\textbar{}A:0.003933\\textbar{}A:0.001101\\textbar{}A:0.001457\\textbar{}\\textbar{}\\textbar{}\\textbar{}\\textbar{}\\textbar{}\\textbar{}\\textbar{}\\textbar{}\\textbar{}\\textbar{}\\textbar{} & 0.0007147 & 0.0011340 & 0.000663 & 0.005619245 & 0.03623 & 0.005619245 & TRUE & FALSE & FALSE & NA & 0 & 0 & 0 &  &  &  & 0 & SCARF2  & 0.005619245 & 22:20781732:G:A & TRUE & protein-altering & 22 & 20781732 & G & A & A & ADD & 82193 & -0.169967 & 0.0332241 & -5.11577 & 3.13171e-07\\\\\n",
       "\\end{tabular}\n"
      ],
      "text/markdown": [
       "\n",
       "A data.frame: 2 × 42\n",
       "\n",
       "| ID &lt;chr&gt; | Gene &lt;chr&gt; | Consequence &lt;chr&gt; | HGVSp &lt;chr&gt; | LoF &lt;chr&gt; | LoF_filter &lt;chr&gt; | LoF_flags &lt;chr&gt; | LoF_info &lt;chr&gt; | consequence_field &lt;chr&gt; | f_miss &lt;dbl&gt; | ⋯ ⋯ | POS &lt;int&gt; | REF &lt;chr&gt; | ALT &lt;chr&gt; | A1 &lt;chr&gt; | TEST &lt;chr&gt; | OBS_CT &lt;int&gt; | BETA &lt;dbl&gt; | SE &lt;dbl&gt; | T_STAT &lt;dbl&gt; | P &lt;dbl&gt; |\n",
       "|---|---|---|---|---|---|---|---|---|---|---|---|---|---|---|---|---|---|---|---|---|\n",
       "| rs28991009  | ENSG00000171819 | missense_variant | ENSP00000366015.3:p.Gln175His                               | <!----> | <!----> | <!----> | <!----> | CSQ=T|intron_variant|MODIFIER|MTOR|ENSG00000198793|Transcript|ENST00000361445|protein_coding||28/57|ENST00000361445.4:c.4253+5631C&gt;A|||||||rs28991009|1||-1||SNV|HGNC|3942|YES|||CCDS127.1|ENSP00000354558|P42345|Q96QW8&amp;B1AKQ2&amp;B1AKP8|UPI000012ABD3|1|||||T:0.0010|T:0|T:0|T:0|T:0.005|T:0|T:0.001589|T:0.006628|T:3.608e-03&amp;A:8.236e-06|T:0.003737&amp;A:8.532e-06|T:0.0006753&amp;A:9.647e-05|T:0.0006062&amp;A:0|T:0&amp;A:0|T:0.0009074&amp;A:0|T:0.006364&amp;A:0|T:0.001155&amp;A:0|T:0&amp;A:0||||||||||||,T|missense_variant|MODERATE|ANGPTL7|ENSG00000171819|Transcript|ENST00000376819|protein_coding|3/5||ENST00000376819.3:c.525G&gt;T|ENSP00000366015.3:p.Gln175His|764|525|175|Q/H|caG/caT|rs28991009|1||1||SNV|HGNC|24078|YES|||CCDS128.1|ENSP00000366015|O43827|F1T0A6|UPI0000035976||deleterious(0)|probably_damaging(1)|PROSITE_profiles:PS51406&amp;hmmpanther:PTHR19143&amp;Pfam_domain:PF00147&amp;Gene3D:3.90.215.10&amp;SMART_domains:SM00186&amp;Superfamily_domains:SSF56496||T:0.0010|T:0|T:0|T:0|T:0.005|T:0|T:0.001589|T:0.006628|T:3.608e-03&amp;A:8.236e-06|T:0.003737&amp;A:8.532e-06|T:0.0006753&amp;A:9.647e-05|T:0.0006062&amp;A:0|T:0&amp;A:0|T:0.0009074&amp;A:0|T:0.006364&amp;A:0|T:0.001155&amp;A:0|T:0&amp;A:0||||||||||||,T|non_coding_transcript_exon_variant&amp;non_coding_transcript_variant|MODIFIER|ANGPTL7|ENSG00000171819|Transcript|ENST00000476934|processed_transcript|1/3||ENST00000476934.1:n.1G&gt;T||1|||||rs28991009|1||1||SNV|HGNC|24078||||||||||||||T:0.0010|T:0|T:0|T:0|T:0.005|T:0|T:0.001589|T:0.006628|T:3.608e-03&amp;A:8.236e-06|T:0.003737&amp;A:8.532e-06|T:0.0006753&amp;A:9.647e-05|T:0.0006062&amp;A:0|T:0&amp;A:0|T:0.0009074&amp;A:0|T:0.006364&amp;A:0|T:0.001155&amp;A:0|T:0&amp;A:0||||||||||||                                                                                                                                                                                                                                                                                          | 0.0014060 | ⋯ | 11253684 | G | T | T | ADD | 82114 | -0.200434 | 0.0269646 | -7.43322 | 1.07008e-13 |\n",
       "| rs150853613 | ENSG00000244486 | missense_variant | ENSP00000385589.3:p.Ser549Leu,ENSP00000266214.5:p.Ser554Leu | <!----> | <!----> | <!----> | <!----> | CSQ=A|missense_variant|MODERATE|SCARF2|ENSG00000244486|Transcript|ENST00000266214|protein_coding|10/11||ENST00000266214.5:c.1661C&gt;T|ENSP00000266214.5:p.Ser554Leu|1766|1661|554|S/L|tCg/tTg|rs150853613|1||-1||SNV|HGNC|19869|YES|||CCDS13779.1|ENSP00000266214|Q96GP6||UPI0000135F1C|1|deleterious(0)|benign(0.076)|hmmpanther:PTHR24043&amp;hmmpanther:PTHR24043:SF5&amp;Low_complexity_(Seg):seg||A:0.0008|A:0|A:0|A:0|A:0.002|A:0.002|A:0.0006809|A:0.005233|A:2.800e-03|A:0.00281|A:0.0005789|A:0.002345|A:0|A:0.003085|A:0.003933|A:0.001101|A:0.001457||||||||||||,A|missense_variant|MODERATE|SCARF2|ENSG00000244486|Transcript|ENST00000405555|protein_coding|10/11||ENST00000405555.3:c.1646C&gt;T|ENSP00000385589.3:p.Ser549Leu|1717|1646|549|S/L|tCg/tTg|rs150853613|1||-1||SNV|HGNC|19869||||CCDS46666.1|ENSP00000385589|Q96GP6||UPI000004715D|1|deleterious(0)|benign(0.035)|Low_complexity_(Seg):seg&amp;hmmpanther:PTHR24043&amp;hmmpanther:PTHR24043:SF5||A:0.0008|A:0|A:0|A:0|A:0.002|A:0.002|A:0.0006809|A:0.005233|A:2.800e-03|A:0.00281|A:0.0005789|A:0.002345|A:0|A:0.003085|A:0.003933|A:0.001101|A:0.001457||||||||||||,A|downstream_gene_variant|MODIFIER|KLHL22|ENSG00000099910|Transcript|ENST00000429594|nonsense_mediated_decay||||||||||rs150853613|1|1796|-1|cds_start_NF|SNV|HGNC|25888|||||ENSP00000392268|||UPI0001610F3B|1|||||A:0.0008|A:0|A:0|A:0|A:0.002|A:0.002|A:0.0006809|A:0.005233|A:2.800e-03|A:0.00281|A:0.0005789|A:0.002345|A:0|A:0.003085|A:0.003933|A:0.001101|A:0.001457||||||||||||,A|non_coding_transcript_exon_variant&amp;non_coding_transcript_variant|MODIFIER|SCARF2|ENSG00000244486|Transcript|ENST00000494535|retained_intron|4/5||ENST00000494535.1:n.537C&gt;T||537|||||rs150853613|1||-1||SNV|HGNC|19869|||||||||1|||||A:0.0008|A:0|A:0|A:0|A:0.002|A:0.002|A:0.0006809|A:0.005233|A:2.800e-03|A:0.00281|A:0.0005789|A:0.002345|A:0|A:0.003085|A:0.003933|A:0.001101|A:0.001457|||||||||||| | 0.0007147 | ⋯ | 20781732 | G | A | A | ADD | 82193 | -0.169967 | 0.0332241 | -5.11577 | 3.13171e-07 |\n",
       "\n"
      ],
      "text/plain": [
       "  ID          Gene            Consequence     \n",
       "1 rs28991009  ENSG00000171819 missense_variant\n",
       "2 rs150853613 ENSG00000244486 missense_variant\n",
       "  HGVSp                                                       LoF LoF_filter\n",
       "1 ENSP00000366015.3:p.Gln175His                                             \n",
       "2 ENSP00000385589.3:p.Ser549Leu,ENSP00000266214.5:p.Ser554Leu               \n",
       "  LoF_flags LoF_info\n",
       "1                   \n",
       "2                   \n",
       "  consequence_field                                                                                                                                                                                                                                                                                                                                                                                                                                                                                                                                                                                                                                                                                                                                                                                                                                                                                                                                                                                                                                                                                                                                                                                                                                                                                                                                                                                                                                                                                                                                                                                                                                                                                                                                                                                                                                                                                                              \n",
       "1 CSQ=T|intron_variant|MODIFIER|MTOR|ENSG00000198793|Transcript|ENST00000361445|protein_coding||28/57|ENST00000361445.4:c.4253+5631C>A|||||||rs28991009|1||-1||SNV|HGNC|3942|YES|||CCDS127.1|ENSP00000354558|P42345|Q96QW8&B1AKQ2&B1AKP8|UPI000012ABD3|1|||||T:0.0010|T:0|T:0|T:0|T:0.005|T:0|T:0.001589|T:0.006628|T:3.608e-03&A:8.236e-06|T:0.003737&A:8.532e-06|T:0.0006753&A:9.647e-05|T:0.0006062&A:0|T:0&A:0|T:0.0009074&A:0|T:0.006364&A:0|T:0.001155&A:0|T:0&A:0||||||||||||,T|missense_variant|MODERATE|ANGPTL7|ENSG00000171819|Transcript|ENST00000376819|protein_coding|3/5||ENST00000376819.3:c.525G>T|ENSP00000366015.3:p.Gln175His|764|525|175|Q/H|caG/caT|rs28991009|1||1||SNV|HGNC|24078|YES|||CCDS128.1|ENSP00000366015|O43827|F1T0A6|UPI0000035976||deleterious(0)|probably_damaging(1)|PROSITE_profiles:PS51406&hmmpanther:PTHR19143&Pfam_domain:PF00147&Gene3D:3.90.215.10&SMART_domains:SM00186&Superfamily_domains:SSF56496||T:0.0010|T:0|T:0|T:0|T:0.005|T:0|T:0.001589|T:0.006628|T:3.608e-03&A:8.236e-06|T:0.003737&A:8.532e-06|T:0.0006753&A:9.647e-05|T:0.0006062&A:0|T:0&A:0|T:0.0009074&A:0|T:0.006364&A:0|T:0.001155&A:0|T:0&A:0||||||||||||,T|non_coding_transcript_exon_variant&non_coding_transcript_variant|MODIFIER|ANGPTL7|ENSG00000171819|Transcript|ENST00000476934|processed_transcript|1/3||ENST00000476934.1:n.1G>T||1|||||rs28991009|1||1||SNV|HGNC|24078||||||||||||||T:0.0010|T:0|T:0|T:0|T:0.005|T:0|T:0.001589|T:0.006628|T:3.608e-03&A:8.236e-06|T:0.003737&A:8.532e-06|T:0.0006753&A:9.647e-05|T:0.0006062&A:0|T:0&A:0|T:0.0009074&A:0|T:0.006364&A:0|T:0.001155&A:0|T:0&A:0||||||||||||                                                                                                                                                                                                                                                                                         \n",
       "2 CSQ=A|missense_variant|MODERATE|SCARF2|ENSG00000244486|Transcript|ENST00000266214|protein_coding|10/11||ENST00000266214.5:c.1661C>T|ENSP00000266214.5:p.Ser554Leu|1766|1661|554|S/L|tCg/tTg|rs150853613|1||-1||SNV|HGNC|19869|YES|||CCDS13779.1|ENSP00000266214|Q96GP6||UPI0000135F1C|1|deleterious(0)|benign(0.076)|hmmpanther:PTHR24043&hmmpanther:PTHR24043:SF5&Low_complexity_(Seg):seg||A:0.0008|A:0|A:0|A:0|A:0.002|A:0.002|A:0.0006809|A:0.005233|A:2.800e-03|A:0.00281|A:0.0005789|A:0.002345|A:0|A:0.003085|A:0.003933|A:0.001101|A:0.001457||||||||||||,A|missense_variant|MODERATE|SCARF2|ENSG00000244486|Transcript|ENST00000405555|protein_coding|10/11||ENST00000405555.3:c.1646C>T|ENSP00000385589.3:p.Ser549Leu|1717|1646|549|S/L|tCg/tTg|rs150853613|1||-1||SNV|HGNC|19869||||CCDS46666.1|ENSP00000385589|Q96GP6||UPI000004715D|1|deleterious(0)|benign(0.035)|Low_complexity_(Seg):seg&hmmpanther:PTHR24043&hmmpanther:PTHR24043:SF5||A:0.0008|A:0|A:0|A:0|A:0.002|A:0.002|A:0.0006809|A:0.005233|A:2.800e-03|A:0.00281|A:0.0005789|A:0.002345|A:0|A:0.003085|A:0.003933|A:0.001101|A:0.001457||||||||||||,A|downstream_gene_variant|MODIFIER|KLHL22|ENSG00000099910|Transcript|ENST00000429594|nonsense_mediated_decay||||||||||rs150853613|1|1796|-1|cds_start_NF|SNV|HGNC|25888|||||ENSP00000392268|||UPI0001610F3B|1|||||A:0.0008|A:0|A:0|A:0|A:0.002|A:0.002|A:0.0006809|A:0.005233|A:2.800e-03|A:0.00281|A:0.0005789|A:0.002345|A:0|A:0.003085|A:0.003933|A:0.001101|A:0.001457||||||||||||,A|non_coding_transcript_exon_variant&non_coding_transcript_variant|MODIFIER|SCARF2|ENSG00000244486|Transcript|ENST00000494535|retained_intron|4/5||ENST00000494535.1:n.537C>T||537|||||rs150853613|1||-1||SNV|HGNC|19869|||||||||1|||||A:0.0008|A:0|A:0|A:0|A:0.002|A:0.002|A:0.0006809|A:0.005233|A:2.800e-03|A:0.00281|A:0.0005789|A:0.002345|A:0|A:0.003085|A:0.003933|A:0.001101|A:0.001457||||||||||||\n",
       "  f_miss    ⋯ POS      REF ALT A1 TEST OBS_CT BETA      SE        T_STAT  \n",
       "1 0.0014060 ⋯ 11253684 G   T   T  ADD  82114  -0.200434 0.0269646 -7.43322\n",
       "2 0.0007147 ⋯ 20781732 G   A   A  ADD  82193  -0.169967 0.0332241 -5.11577\n",
       "  P          \n",
       "1 1.07008e-13\n",
       "2 3.13171e-07"
      ]
     },
     "metadata": {},
     "output_type": "display_data"
    }
   ],
   "source": [
    "tmp %>% filter(P < 1e-6)"
   ]
  },
  {
   "cell_type": "code",
   "execution_count": 102,
   "metadata": {},
   "outputs": [],
   "source": [
    "generate_cascade_plot <- function(gwas_df, annot.arr, MAF_l = 0, MAF_u = 1){\n",
    "    colors <- list()\n",
    "    colors[['gray']] <- 'gray'\n",
    "    colors[['blue']] <- '#00BFC4'\n",
    "    colors[['red']]  <- '#F8766D'\n",
    "\n",
    "    gwas_df %>% \n",
    "    inner_join(annot.arr %>% select(ID, MAF, Gene_symbol, Csq, ld_indep), by='ID') %>%\n",
    "    filter(MAF_l < MAF, MAF < MAF_u, ld_indep) %>%\n",
    "    mutate(\n",
    "#         MAF = log10(MAF),\n",
    "        outlier = if_else(abs(BETA) >= .1, TRUE, FALSE),\n",
    "#         ggrepel = if_else(abs(BETA) >= .1 | Csq == 'protein-truncating', Gene_symbol, \"\")\n",
    "        ggrepel = if_else(Gene_symbol == 'ANGPTL7', Gene_symbol, \"\")        \n",
    "    ) %>%\n",
    "    ggplot(aes(x = MAF, y = BETA, color=Csq, label=ggrepel)) + \n",
    "#     geom_hline(yintercept = 0.1, linetype=\"dashed\") +\n",
    "#     geom_hline(yintercept = -0.1, linetype=\"dashed\") +\n",
    "    geom_hline(yintercept = 0, linetype=\"dashed\") +\n",
    "    geom_point() + theme_bw() + \n",
    "    labs(\n",
    "        x = 'Minor allele frequency (log-scale)',\n",
    "        y = 'BETA (SD)',\n",
    "        color = 'Consequence'\n",
    "    ) +\n",
    "    theme(\n",
    "        strip.text = element_text(size=7),\n",
    "    #     legend.position=\"none\"\n",
    "        legend.position='bottom'\n",
    "    )+\n",
    "    # scale_color_brewer(palette=\"Dark2\") +     \n",
    "    scale_color_manual(values=c(colors[['gray']], colors[['red']], colors[['blue']])) +\n",
    "    # scale_x_continuous(trans=\"log10\") +     \n",
    "    scale_x_continuous(trans=\"log10\", breaks=c(0.01, 0.03, 0.1, 0.3)) + \n",
    "    scale_y_continuous(limits = c(-.25, .25))+\n",
    "    ggrepel::geom_text_repel(size=3)\n",
    "\n",
    "    \n",
    "}"
   ]
  },
  {
   "cell_type": "code",
   "execution_count": 113,
   "metadata": {},
   "outputs": [],
   "source": [
    "cascade_g <- arrangeGrob(\n",
    "    IOPs[['INI2005254']] %>% filter(P < 5e-8) %>% generate_cascade_plot(annot.arr) + labs(title='(A) corneal compensated IOP (INI2005254)'),\n",
    "    IOPs[['INI2005255']] %>% filter(P < 5e-8) %>% generate_cascade_plot(annot.arr) + labs(title='(B) Goldman-correlated IOP (INI2005255)'),\n",
    "#     Glaucoma %>% filter(P < 5e-8) %>% mutate(BETA = log(OR)) %>%\n",
    "#     generate_cascade_plot(annot.arr) + labs(title='(C) Glaucoma (HC276)'),\n",
    "    nrow=1\n",
    ")\n"
   ]
  },
  {
   "cell_type": "code",
   "execution_count": 114,
   "metadata": {},
   "outputs": [],
   "source": [
    "ggsave('cascade.png', cascade_g, width=15, height=5)\n",
    "ggsave('cascade.pdf', cascade_g, width=15, height=5)\n"
   ]
  },
  {
   "cell_type": "code",
   "execution_count": null,
   "metadata": {},
   "outputs": [],
   "source": []
  }
 ],
 "metadata": {
  "kernelspec": {
   "display_name": "R",
   "language": "R",
   "name": "ir"
  },
  "language_info": {
   "codemirror_mode": "r",
   "file_extension": ".r",
   "mimetype": "text/x-r-source",
   "name": "R",
   "pygments_lexer": "r",
   "version": "3.6.1"
  }
 },
 "nbformat": 4,
 "nbformat_minor": 4
}
