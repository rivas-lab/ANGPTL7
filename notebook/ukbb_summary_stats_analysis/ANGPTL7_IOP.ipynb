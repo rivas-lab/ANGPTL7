{
 "cells": [
  {
   "cell_type": "code",
   "execution_count": 2,
   "metadata": {},
   "outputs": [],
   "source": [
    "suppressPackageStartupMessages(library(tidyverse))\n",
    "suppressPackageStartupMessages(library(data.table))\n",
    "suppressPackageStartupMessages(library(latex2exp))\n"
   ]
  },
  {
   "cell_type": "code",
   "execution_count": 3,
   "metadata": {},
   "outputs": [],
   "source": [
    "annot.tbl <- '/oak/stanford/groups/mrivas/private_data/ukbb/variant_filtering/variant_filter_table.tsv.gz'\n",
    "\n",
    "IOP_file <- '/oak/stanford/groups/mrivas/projects/ANGPTL7/ukbb_gwas/white_british/ukb24983_v2_hg19.INI2005254.genotyped.glm.linear.gz'\n"
   ]
  },
  {
   "cell_type": "code",
   "execution_count": 4,
   "metadata": {},
   "outputs": [],
   "source": [
    "IOP <- fread(\n",
    "    cmd=paste0('zcat ', IOP_file, ' | sed -e \"s/#//g\"'), sep='\\t', data.table=F\n",
    ")\n"
   ]
  },
  {
   "cell_type": "code",
   "execution_count": 5,
   "metadata": {},
   "outputs": [],
   "source": [
    "annot.arr <- fread(\n",
    "    cmd=paste0('zcat ', annot.tbl),\n",
    "    sep='\\t', data.table=FALSE\n",
    ") %>% mutate(\n",
    "    MAF=pmin(freq, 1-freq)\n",
    ") %>%\n",
    "mutate(\n",
    "    variant = paste(CHROM, POS, REF, ALT, sep=':'),\n",
    "    is_outside_of_MHC = (as.numeric(CHROM) == 6 & as.numeric(POS) < 25477797) | ( as.numeric(CHROM) == 6 & 36448354 < as.numeric(POS)) | as.numeric(CHROM) != 6\n",
    ")\n"
   ]
  },
  {
   "cell_type": "code",
   "execution_count": 6,
   "metadata": {},
   "outputs": [],
   "source": [
    "annot.arr$Csq[\n",
    "    !(annot.arr$Consequence %in% c(\"frameshift_variant\",\"splice_donor_variant\",\"stop_gained\",\"stop_lost\",\"start_lost\",\"splice_acceptor_variant\",\"splice_region_variant\",\"missense_variant\",\"inframe_insertion\",\"inframe_deletion\"))\n",
    "] = \"non-coding\"\n",
    "annot.arr$Csq[\n",
    "    annot.arr$Consequence %in% c(\"splice_region_variant\",\"missense_variant\",\"inframe_insertion\",\"inframe_deletion\")\n",
    "] = \"protein-altering\"\n",
    "annot.arr$Csq[\n",
    "    annot.arr$Consequence %in% c(\"frameshift_variant\",\"splice_donor_variant\",\"stop_gained\",\"stop_lost\",\"start_lost\",\"splice_acceptor_variant\")\n",
    "] = \"protein-truncating\"\n"
   ]
  },
  {
   "cell_type": "code",
   "execution_count": 7,
   "metadata": {},
   "outputs": [
    {
     "data": {
      "text/html": [
       "<ol class=list-inline>\n",
       "\t<li>'CHROM'</li>\n",
       "\t<li>'POS'</li>\n",
       "\t<li>'REF'</li>\n",
       "\t<li>'ALT'</li>\n",
       "\t<li>'ID'</li>\n",
       "\t<li>'Gene'</li>\n",
       "\t<li>'Consequence'</li>\n",
       "\t<li>'HGVSp'</li>\n",
       "\t<li>'LoF'</li>\n",
       "\t<li>'LoF_filter'</li>\n",
       "\t<li>'LoF_flags'</li>\n",
       "\t<li>'LoF_info'</li>\n",
       "\t<li>'consequence_field'</li>\n",
       "\t<li>'f_miss'</li>\n",
       "\t<li>'f_miss_bileve'</li>\n",
       "\t<li>'f_miss_wcsg'</li>\n",
       "\t<li>'freq'</li>\n",
       "\t<li>'hwe_p'</li>\n",
       "\t<li>'maf'</li>\n",
       "\t<li>'ld_indep'</li>\n",
       "\t<li>'wcsg_only'</li>\n",
       "\t<li>'bileve_only'</li>\n",
       "\t<li>'filter'</li>\n",
       "\t<li>'missingness'</li>\n",
       "\t<li>'hwe'</li>\n",
       "\t<li>'mcpi'</li>\n",
       "\t<li>'gnomad_af'</li>\n",
       "\t<li>'mgi'</li>\n",
       "\t<li>'mgi_notes'</li>\n",
       "\t<li>'all_filters'</li>\n",
       "\t<li>'Gene_symbol'</li>\n",
       "\t<li>'MAF'</li>\n",
       "\t<li>'variant'</li>\n",
       "\t<li>'is_outside_of_MHC'</li>\n",
       "\t<li>'Csq'</li>\n",
       "</ol>\n"
      ],
      "text/latex": [
       "\\begin{enumerate*}\n",
       "\\item 'CHROM'\n",
       "\\item 'POS'\n",
       "\\item 'REF'\n",
       "\\item 'ALT'\n",
       "\\item 'ID'\n",
       "\\item 'Gene'\n",
       "\\item 'Consequence'\n",
       "\\item 'HGVSp'\n",
       "\\item 'LoF'\n",
       "\\item 'LoF\\_filter'\n",
       "\\item 'LoF\\_flags'\n",
       "\\item 'LoF\\_info'\n",
       "\\item 'consequence\\_field'\n",
       "\\item 'f\\_miss'\n",
       "\\item 'f\\_miss\\_bileve'\n",
       "\\item 'f\\_miss\\_wcsg'\n",
       "\\item 'freq'\n",
       "\\item 'hwe\\_p'\n",
       "\\item 'maf'\n",
       "\\item 'ld\\_indep'\n",
       "\\item 'wcsg\\_only'\n",
       "\\item 'bileve\\_only'\n",
       "\\item 'filter'\n",
       "\\item 'missingness'\n",
       "\\item 'hwe'\n",
       "\\item 'mcpi'\n",
       "\\item 'gnomad\\_af'\n",
       "\\item 'mgi'\n",
       "\\item 'mgi\\_notes'\n",
       "\\item 'all\\_filters'\n",
       "\\item 'Gene\\_symbol'\n",
       "\\item 'MAF'\n",
       "\\item 'variant'\n",
       "\\item 'is\\_outside\\_of\\_MHC'\n",
       "\\item 'Csq'\n",
       "\\end{enumerate*}\n"
      ],
      "text/markdown": [
       "1. 'CHROM'\n",
       "2. 'POS'\n",
       "3. 'REF'\n",
       "4. 'ALT'\n",
       "5. 'ID'\n",
       "6. 'Gene'\n",
       "7. 'Consequence'\n",
       "8. 'HGVSp'\n",
       "9. 'LoF'\n",
       "10. 'LoF_filter'\n",
       "11. 'LoF_flags'\n",
       "12. 'LoF_info'\n",
       "13. 'consequence_field'\n",
       "14. 'f_miss'\n",
       "15. 'f_miss_bileve'\n",
       "16. 'f_miss_wcsg'\n",
       "17. 'freq'\n",
       "18. 'hwe_p'\n",
       "19. 'maf'\n",
       "20. 'ld_indep'\n",
       "21. 'wcsg_only'\n",
       "22. 'bileve_only'\n",
       "23. 'filter'\n",
       "24. 'missingness'\n",
       "25. 'hwe'\n",
       "26. 'mcpi'\n",
       "27. 'gnomad_af'\n",
       "28. 'mgi'\n",
       "29. 'mgi_notes'\n",
       "30. 'all_filters'\n",
       "31. 'Gene_symbol'\n",
       "32. 'MAF'\n",
       "33. 'variant'\n",
       "34. 'is_outside_of_MHC'\n",
       "35. 'Csq'\n",
       "\n",
       "\n"
      ],
      "text/plain": [
       " [1] \"CHROM\"             \"POS\"               \"REF\"              \n",
       " [4] \"ALT\"               \"ID\"                \"Gene\"             \n",
       " [7] \"Consequence\"       \"HGVSp\"             \"LoF\"              \n",
       "[10] \"LoF_filter\"        \"LoF_flags\"         \"LoF_info\"         \n",
       "[13] \"consequence_field\" \"f_miss\"            \"f_miss_bileve\"    \n",
       "[16] \"f_miss_wcsg\"       \"freq\"              \"hwe_p\"            \n",
       "[19] \"maf\"               \"ld_indep\"          \"wcsg_only\"        \n",
       "[22] \"bileve_only\"       \"filter\"            \"missingness\"      \n",
       "[25] \"hwe\"               \"mcpi\"              \"gnomad_af\"        \n",
       "[28] \"mgi\"               \"mgi_notes\"         \"all_filters\"      \n",
       "[31] \"Gene_symbol\"       \"MAF\"               \"variant\"          \n",
       "[34] \"is_outside_of_MHC\" \"Csq\"              "
      ]
     },
     "metadata": {},
     "output_type": "display_data"
    }
   ],
   "source": [
    "annot.arr %>% colnames()"
   ]
  },
  {
   "cell_type": "code",
   "execution_count": 8,
   "metadata": {},
   "outputs": [
    {
     "data": {
      "text/html": [
       "<table>\n",
       "<caption>A tibble: 4 × 3</caption>\n",
       "<thead>\n",
       "\t<tr><th scope=col>is_outside_of_MHC</th><th scope=col>Csq2</th><th scope=col>n</th></tr>\n",
       "\t<tr><th scope=col>&lt;lgl&gt;</th><th scope=col>&lt;chr&gt;</th><th scope=col>&lt;int&gt;</th></tr>\n",
       "</thead>\n",
       "<tbody>\n",
       "\t<tr><td>FALSE</td><td>non-coding           </td><td>  857</td></tr>\n",
       "\t<tr><td>FALSE</td><td>PTVs+protein-altering</td><td>  631</td></tr>\n",
       "\t<tr><td> TRUE</td><td>non-coding           </td><td>34599</td></tr>\n",
       "\t<tr><td> TRUE</td><td>PTVs+protein-altering</td><td>41637</td></tr>\n",
       "</tbody>\n",
       "</table>\n"
      ],
      "text/latex": [
       "A tibble: 4 × 3\n",
       "\\begin{tabular}{r|lll}\n",
       " is\\_outside\\_of\\_MHC & Csq2 & n\\\\\n",
       " <lgl> & <chr> & <int>\\\\\n",
       "\\hline\n",
       "\t FALSE & non-coding            &   857\\\\\n",
       "\t FALSE & PTVs+protein-altering &   631\\\\\n",
       "\t  TRUE & non-coding            & 34599\\\\\n",
       "\t  TRUE & PTVs+protein-altering & 41637\\\\\n",
       "\\end{tabular}\n"
      ],
      "text/markdown": [
       "\n",
       "A tibble: 4 × 3\n",
       "\n",
       "| is_outside_of_MHC &lt;lgl&gt; | Csq2 &lt;chr&gt; | n &lt;int&gt; |\n",
       "|---|---|---|\n",
       "| FALSE | non-coding            |   857 |\n",
       "| FALSE | PTVs+protein-altering |   631 |\n",
       "|  TRUE | non-coding            | 34599 |\n",
       "|  TRUE | PTVs+protein-altering | 41637 |\n",
       "\n"
      ],
      "text/plain": [
       "  is_outside_of_MHC Csq2                  n    \n",
       "1 FALSE             non-coding              857\n",
       "2 FALSE             PTVs+protein-altering   631\n",
       "3  TRUE             non-coding            34599\n",
       "4  TRUE             PTVs+protein-altering 41637"
      ]
     },
     "metadata": {},
     "output_type": "display_data"
    }
   ],
   "source": [
    "annot.arr %>% mutate(\n",
    "    Csq2 = if_else(Csq == 'non-coding', 'non-coding', 'PTVs+protein-altering')\n",
    ") %>% filter(0.0001 < MAF, MAF < 0.01) %>% count(is_outside_of_MHC, Csq2)\n"
   ]
  },
  {
   "cell_type": "markdown",
   "metadata": {},
   "source": [
    "## ANGPTL7"
   ]
  },
  {
   "cell_type": "code",
   "execution_count": 9,
   "metadata": {},
   "outputs": [
    {
     "data": {
      "text/html": [
       "<table>\n",
       "<caption>A data.frame: 5 × 35</caption>\n",
       "<thead>\n",
       "\t<tr><th scope=col>CHROM</th><th scope=col>POS</th><th scope=col>REF</th><th scope=col>ALT</th><th scope=col>ID</th><th scope=col>Gene</th><th scope=col>Consequence</th><th scope=col>HGVSp</th><th scope=col>LoF</th><th scope=col>LoF_filter</th><th scope=col>⋯</th><th scope=col>mcpi</th><th scope=col>gnomad_af</th><th scope=col>mgi</th><th scope=col>mgi_notes</th><th scope=col>all_filters</th><th scope=col>Gene_symbol</th><th scope=col>MAF</th><th scope=col>variant</th><th scope=col>is_outside_of_MHC</th><th scope=col>Csq</th></tr>\n",
       "\t<tr><th scope=col>&lt;int&gt;</th><th scope=col>&lt;int&gt;</th><th scope=col>&lt;chr&gt;</th><th scope=col>&lt;chr&gt;</th><th scope=col>&lt;chr&gt;</th><th scope=col>&lt;chr&gt;</th><th scope=col>&lt;chr&gt;</th><th scope=col>&lt;chr&gt;</th><th scope=col>&lt;chr&gt;</th><th scope=col>&lt;chr&gt;</th><th scope=col>⋯</th><th scope=col>&lt;int&gt;</th><th scope=col>&lt;chr&gt;</th><th scope=col>&lt;chr&gt;</th><th scope=col>&lt;chr&gt;</th><th scope=col>&lt;int&gt;</th><th scope=col>&lt;chr&gt;</th><th scope=col>&lt;dbl&gt;</th><th scope=col>&lt;chr&gt;</th><th scope=col>&lt;lgl&gt;</th><th scope=col>&lt;chr&gt;</th></tr>\n",
       "</thead>\n",
       "<tbody>\n",
       "\t<tr><td>1</td><td>11252357</td><td>A    </td><td>G</td><td>rs200058074  </td><td>ENSG00000171819</td><td>missense_variant  </td><td>ENSP00000366015.3:p.Gln136Arg       </td><td>  </td><td></td><td>⋯</td><td>0</td><td>    </td><td></td><td></td><td>0</td><td>ANGPTL7</td><td>5.355845e-04</td><td>1:11252357:A:G    </td><td>TRUE</td><td>protein-altering  </td></tr>\n",
       "\t<tr><td>1</td><td>11252369</td><td>G    </td><td>A</td><td>rs28991002   </td><td>ENSG00000171819</td><td>missense_variant  </td><td>ENSP00000366015.3:p.Arg140His       </td><td>  </td><td></td><td>⋯</td><td>0</td><td>    </td><td></td><td></td><td>0</td><td>ANGPTL7</td><td>2.532551e-03</td><td>1:11252369:G:A    </td><td>TRUE</td><td>protein-altering  </td></tr>\n",
       "\t<tr><td>1</td><td>11253684</td><td>G    </td><td>T</td><td>rs28991009   </td><td>ENSG00000171819</td><td>missense_variant  </td><td>ENSP00000366015.3:p.Gln175His       </td><td>  </td><td></td><td>⋯</td><td>0</td><td>    </td><td></td><td></td><td>0</td><td>ANGPTL7</td><td>8.116199e-03</td><td>1:11253684:G:T    </td><td>TRUE</td><td>protein-altering  </td></tr>\n",
       "\t<tr><td>1</td><td>11253688</td><td>C    </td><td>T</td><td>rs143435072  </td><td>ENSG00000171819</td><td>stop_gained       </td><td>ENSP00000366015.3:p.Arg177Ter       </td><td>HC</td><td></td><td>⋯</td><td>0</td><td>PASS</td><td></td><td></td><td>0</td><td>ANGPTL7</td><td>4.063244e-04</td><td>1:11253688:C:T    </td><td>TRUE</td><td>protein-truncating</td></tr>\n",
       "\t<tr><td>1</td><td>11255013</td><td>GGCAT</td><td>G</td><td>Affx-89021330</td><td>ENSG00000171819</td><td>frameshift_variant</td><td>ENSP00000366015.3:p.His326AspfsTer11</td><td>HC</td><td></td><td>⋯</td><td>0</td><td>    </td><td></td><td></td><td>0</td><td>ANGPTL7</td><td>1.483913e-05</td><td>1:11255013:GGCAT:G</td><td>TRUE</td><td>protein-truncating</td></tr>\n",
       "</tbody>\n",
       "</table>\n"
      ],
      "text/latex": [
       "A data.frame: 5 × 35\n",
       "\\begin{tabular}{r|lllllllllllllllllllllllllllllllllll}\n",
       " CHROM & POS & REF & ALT & ID & Gene & Consequence & HGVSp & LoF & LoF\\_filter & LoF\\_flags & LoF\\_info & consequence\\_field & f\\_miss & f\\_miss\\_bileve & f\\_miss\\_wcsg & freq & hwe\\_p & maf & ld\\_indep & wcsg\\_only & bileve\\_only & filter & missingness & hwe & mcpi & gnomad\\_af & mgi & mgi\\_notes & all\\_filters & Gene\\_symbol & MAF & variant & is\\_outside\\_of\\_MHC & Csq\\\\\n",
       " <int> & <int> & <chr> & <chr> & <chr> & <chr> & <chr> & <chr> & <chr> & <chr> & <chr> & <chr> & <chr> & <dbl> & <dbl> & <dbl> & <dbl> & <dbl> & <dbl> & <lgl> & <lgl> & <lgl> & <lgl> & <int> & <int> & <int> & <chr> & <chr> & <chr> & <int> & <chr> & <dbl> & <chr> & <lgl> & <chr>\\\\\n",
       "\\hline\n",
       "\t 1 & 11252357 & A     & G & rs200058074   & ENSG00000171819 & missense\\_variant   & ENSP00000366015.3:p.Gln136Arg        &    &  &  &                            & CSQ=G\\textbar{}intron\\_variant\\textbar{}MODIFIER\\textbar{}MTOR\\textbar{}ENSG00000198793\\textbar{}Transcript\\textbar{}ENST00000361445\\textbar{}protein\\_coding\\textbar{}\\textbar{}28/57\\textbar{}ENST00000361445.4:c.4253+6958T>C\\textbar{}\\textbar{}\\textbar{}\\textbar{}\\textbar{}\\textbar{}\\textbar{}rs200058074\\textbar{}1\\textbar{}\\textbar{}-1\\textbar{}\\textbar{}SNV\\textbar{}HGNC\\textbar{}3942\\textbar{}YES\\textbar{}\\textbar{}\\textbar{}CCDS127.1\\textbar{}ENSP00000354558\\textbar{}P42345\\textbar{}Q96QW8\\&B1AKQ2\\&B1AKP8\\textbar{}UPI000012ABD3\\textbar{}1\\textbar{}\\textbar{}\\textbar{}\\textbar{}\\textbar{}G:0.0002\\textbar{}G:0\\textbar{}G:0.0014\\textbar{}G:0\\textbar{}G:0\\textbar{}G:0\\textbar{}G:0.0004539\\textbar{}G:0.0003488\\textbar{}G:2.059e-04\\textbar{}G:0.000206\\textbar{}G:0.0001922\\textbar{}G:0.0001727\\textbar{}G:0\\textbar{}G:0\\textbar{}G:0.0003149\\textbar{}G:0\\textbar{}G:0\\textbar{}\\textbar{}\\textbar{}\\textbar{}\\textbar{}\\textbar{}\\textbar{}\\textbar{}\\textbar{}\\textbar{}\\textbar{}\\textbar{},G\\textbar{}missense\\_variant\\textbar{}MODERATE\\textbar{}ANGPTL7\\textbar{}ENSG00000171819\\textbar{}Transcript\\textbar{}ENST00000376819\\textbar{}protein\\_coding\\textbar{}2/5\\textbar{}\\textbar{}ENST00000376819.3:c.407A>G\\textbar{}ENSP00000366015.3:p.Gln136Arg\\textbar{}646\\textbar{}407\\textbar{}136\\textbar{}Q/R\\textbar{}cAg/cGg\\textbar{}rs200058074\\textbar{}1\\textbar{}\\textbar{}1\\textbar{}\\textbar{}SNV\\textbar{}HGNC\\textbar{}24078\\textbar{}YES\\textbar{}\\textbar{}\\textbar{}CCDS128.1\\textbar{}ENSP00000366015\\textbar{}O43827\\textbar{}F1T0A6\\textbar{}UPI0000035976\\textbar{}\\textbar{}tolerated(0.31)\\textbar{}possibly\\_damaging(0.524)\\textbar{}PROSITE\\_profiles:PS51406\\&hmmpanther:PTHR19143\\&Pfam\\_domain:PF00147\\&Gene3D:3.90.215.10\\&SMART\\_domains:SM00186\\&Superfamily\\_domains:SSF56496\\textbar{}\\textbar{}G:0.0002\\textbar{}G:0\\textbar{}G:0.0014\\textbar{}G:0\\textbar{}G:0\\textbar{}G:0\\textbar{}G:0.0004539\\textbar{}G:0.0003488\\textbar{}G:2.059e-04\\textbar{}G:0.000206\\textbar{}G:0.0001922\\textbar{}G:0.0001727\\textbar{}G:0\\textbar{}G:0\\textbar{}G:0.0003149\\textbar{}G:0\\textbar{}G:0\\textbar{}\\textbar{}\\textbar{}\\textbar{}\\textbar{}\\textbar{}\\textbar{}\\textbar{}\\textbar{}\\textbar{}\\textbar{}\\textbar{},G\\textbar{}upstream\\_gene\\_variant\\textbar{}MODIFIER\\textbar{}ANGPTL7\\textbar{}ENSG00000171819\\textbar{}Transcript\\textbar{}ENST00000476934\\textbar{}processed\\_transcript\\textbar{}\\textbar{}\\textbar{}\\textbar{}\\textbar{}\\textbar{}\\textbar{}\\textbar{}\\textbar{}\\textbar{}rs200058074\\textbar{}1\\textbar{}1327\\textbar{}1\\textbar{}\\textbar{}SNV\\textbar{}HGNC\\textbar{}24078\\textbar{}\\textbar{}\\textbar{}\\textbar{}\\textbar{}\\textbar{}\\textbar{}\\textbar{}\\textbar{}\\textbar{}\\textbar{}\\textbar{}\\textbar{}\\textbar{}G:0.0002\\textbar{}G:0\\textbar{}G:0.0014\\textbar{}G:0\\textbar{}G:0\\textbar{}G:0\\textbar{}G:0.0004539\\textbar{}G:0.0003488\\textbar{}G:2.059e-04\\textbar{}G:0.000206\\textbar{}G:0.0001922\\textbar{}G:0.0001727\\textbar{}G:0\\textbar{}G:0\\textbar{}G:0.0003149\\textbar{}G:0\\textbar{}G:0\\textbar{}\\textbar{}\\textbar{}\\textbar{}\\textbar{}\\textbar{}\\textbar{}\\textbar{}\\textbar{}\\textbar{}\\textbar{}\\textbar{}                                                                                                                                                                                                                                                                                                                 & 0.0005723 & 0.0012960 & 4.831e-04 & 5.355845e-04 & 0.5460 & 5.355845e-04 & TRUE & FALSE & FALSE & NA & 0 & 0 & 0 &      &  &  & 0 & ANGPTL7 & 5.355845e-04 & 1:11252357:A:G     & TRUE & protein-altering  \\\\\n",
       "\t 1 & 11252369 & G     & A & rs28991002    & ENSG00000171819 & missense\\_variant   & ENSP00000366015.3:p.Arg140His        &    &  &  &                            & CSQ=A\\textbar{}intron\\_variant\\textbar{}MODIFIER\\textbar{}MTOR\\textbar{}ENSG00000198793\\textbar{}Transcript\\textbar{}ENST00000361445\\textbar{}protein\\_coding\\textbar{}\\textbar{}28/57\\textbar{}ENST00000361445.4:c.4253+6946C>T\\textbar{}\\textbar{}\\textbar{}\\textbar{}\\textbar{}\\textbar{}\\textbar{}rs28991002\\&COSM1332677\\textbar{}1\\textbar{}\\textbar{}-1\\textbar{}\\textbar{}SNV\\textbar{}HGNC\\textbar{}3942\\textbar{}YES\\textbar{}\\textbar{}\\textbar{}CCDS127.1\\textbar{}ENSP00000354558\\textbar{}P42345\\textbar{}Q96QW8\\&B1AKQ2\\&B1AKP8\\textbar{}UPI000012ABD3\\textbar{}1\\textbar{}\\textbar{}\\textbar{}\\textbar{}\\textbar{}A:0.0012\\textbar{}A:0\\textbar{}A:0\\textbar{}A:0.001\\textbar{}A:0.005\\textbar{}A:0\\textbar{}A:0.000227\\textbar{}A:0.003023\\textbar{}A:2.150e-03\\&T:8.236e-06\\textbar{}A:0.00215\\&T:8.239e-06\\textbar{}A:0.0002883\\&T:0\\textbar{}A:0.0005182\\&T:0\\textbar{}A:0.0001156\\&T:0\\textbar{}A:0.004385\\&T:0\\textbar{}A:0.003148\\&T:1.499e-05\\textbar{}A:0.005519\\&T:0\\textbar{}A:0.000424\\&T:0\\textbar{}\\textbar{}0\\&1\\textbar{}0\\&1\\textbar{}\\textbar{}\\textbar{}\\textbar{}\\textbar{}\\textbar{}\\textbar{}\\textbar{}\\textbar{},A\\textbar{}missense\\_variant\\textbar{}MODERATE\\textbar{}ANGPTL7\\textbar{}ENSG00000171819\\textbar{}Transcript\\textbar{}ENST00000376819\\textbar{}protein\\_coding\\textbar{}2/5\\textbar{}\\textbar{}ENST00000376819.3:c.419G>A\\textbar{}ENSP00000366015.3:p.Arg140His\\textbar{}658\\textbar{}419\\textbar{}140\\textbar{}R/H\\textbar{}cGc/cAc\\textbar{}rs28991002\\&COSM1332677\\textbar{}1\\textbar{}\\textbar{}1\\textbar{}\\textbar{}SNV\\textbar{}HGNC\\textbar{}24078\\textbar{}YES\\textbar{}\\textbar{}\\textbar{}CCDS128.1\\textbar{}ENSP00000366015\\textbar{}O43827\\textbar{}F1T0A6\\textbar{}UPI0000035976\\textbar{}\\textbar{}tolerated(0.12)\\textbar{}benign(0.001)\\textbar{}PROSITE\\_profiles:PS51406\\&hmmpanther:PTHR19143\\&Pfam\\_domain:PF00147\\&Gene3D:3.90.215.10\\&SMART\\_domains:SM00186\\&Superfamily\\_domains:SSF56496\\textbar{}\\textbar{}A:0.0012\\textbar{}A:0\\textbar{}A:0\\textbar{}A:0.001\\textbar{}A:0.005\\textbar{}A:0\\textbar{}A:0.000227\\textbar{}A:0.003023\\textbar{}A:2.150e-03\\&T:8.236e-06\\textbar{}A:0.00215\\&T:8.239e-06\\textbar{}A:0.0002883\\&T:0\\textbar{}A:0.0005182\\&T:0\\textbar{}A:0.0001156\\&T:0\\textbar{}A:0.004385\\&T:0\\textbar{}A:0.003148\\&T:1.499e-05\\textbar{}A:0.005519\\&T:0\\textbar{}A:0.000424\\&T:0\\textbar{}\\textbar{}0\\&1\\textbar{}0\\&1\\textbar{}\\textbar{}\\textbar{}\\textbar{}\\textbar{}\\textbar{}\\textbar{}\\textbar{}\\textbar{},A\\textbar{}upstream\\_gene\\_variant\\textbar{}MODIFIER\\textbar{}ANGPTL7\\textbar{}ENSG00000171819\\textbar{}Transcript\\textbar{}ENST00000476934\\textbar{}processed\\_transcript\\textbar{}\\textbar{}\\textbar{}\\textbar{}\\textbar{}\\textbar{}\\textbar{}\\textbar{}\\textbar{}\\textbar{}rs28991002\\&COSM1332677\\textbar{}1\\textbar{}1315\\textbar{}1\\textbar{}\\textbar{}SNV\\textbar{}HGNC\\textbar{}24078\\textbar{}\\textbar{}\\textbar{}\\textbar{}\\textbar{}\\textbar{}\\textbar{}\\textbar{}\\textbar{}\\textbar{}\\textbar{}\\textbar{}\\textbar{}\\textbar{}A:0.0012\\textbar{}A:0\\textbar{}A:0\\textbar{}A:0.001\\textbar{}A:0.005\\textbar{}A:0\\textbar{}A:0.000227\\textbar{}A:0.003023\\textbar{}A:2.150e-03\\&T:8.236e-06\\textbar{}A:0.00215\\&T:8.239e-06\\textbar{}A:0.0002883\\&T:0\\textbar{}A:0.0005182\\&T:0\\textbar{}A:0.0001156\\&T:0\\textbar{}A:0.004385\\&T:0\\textbar{}A:0.003148\\&T:1.499e-05\\textbar{}A:0.005519\\&T:0\\textbar{}A:0.000424\\&T:0\\textbar{}\\textbar{}0\\&1\\textbar{}0\\&1\\textbar{}\\textbar{}\\textbar{}\\textbar{}\\textbar{}\\textbar{}\\textbar{}\\textbar{}\\textbar{} & 0.0005812 & 0.0011610 & 5.097e-04 & 2.532551e-03 & 0.6059 & 2.532551e-03 & TRUE & FALSE & FALSE & NA & 0 & 0 & 0 &      &  &  & 0 & ANGPTL7 & 2.532551e-03 & 1:11252369:G:A     & TRUE & protein-altering  \\\\\n",
       "\t 1 & 11253684 & G     & T & rs28991009    & ENSG00000171819 & missense\\_variant   & ENSP00000366015.3:p.Gln175His        &    &  &  &                            & CSQ=T\\textbar{}intron\\_variant\\textbar{}MODIFIER\\textbar{}MTOR\\textbar{}ENSG00000198793\\textbar{}Transcript\\textbar{}ENST00000361445\\textbar{}protein\\_coding\\textbar{}\\textbar{}28/57\\textbar{}ENST00000361445.4:c.4253+5631C>A\\textbar{}\\textbar{}\\textbar{}\\textbar{}\\textbar{}\\textbar{}\\textbar{}rs28991009\\textbar{}1\\textbar{}\\textbar{}-1\\textbar{}\\textbar{}SNV\\textbar{}HGNC\\textbar{}3942\\textbar{}YES\\textbar{}\\textbar{}\\textbar{}CCDS127.1\\textbar{}ENSP00000354558\\textbar{}P42345\\textbar{}Q96QW8\\&B1AKQ2\\&B1AKP8\\textbar{}UPI000012ABD3\\textbar{}1\\textbar{}\\textbar{}\\textbar{}\\textbar{}\\textbar{}T:0.0010\\textbar{}T:0\\textbar{}T:0\\textbar{}T:0\\textbar{}T:0.005\\textbar{}T:0\\textbar{}T:0.001589\\textbar{}T:0.006628\\textbar{}T:3.608e-03\\&A:8.236e-06\\textbar{}T:0.003737\\&A:8.532e-06\\textbar{}T:0.0006753\\&A:9.647e-05\\textbar{}T:0.0006062\\&A:0\\textbar{}T:0\\&A:0\\textbar{}T:0.0009074\\&A:0\\textbar{}T:0.006364\\&A:0\\textbar{}T:0.001155\\&A:0\\textbar{}T:0\\&A:0\\textbar{}\\textbar{}\\textbar{}\\textbar{}\\textbar{}\\textbar{}\\textbar{}\\textbar{}\\textbar{}\\textbar{}\\textbar{}\\textbar{},T\\textbar{}missense\\_variant\\textbar{}MODERATE\\textbar{}ANGPTL7\\textbar{}ENSG00000171819\\textbar{}Transcript\\textbar{}ENST00000376819\\textbar{}protein\\_coding\\textbar{}3/5\\textbar{}\\textbar{}ENST00000376819.3:c.525G>T\\textbar{}ENSP00000366015.3:p.Gln175His\\textbar{}764\\textbar{}525\\textbar{}175\\textbar{}Q/H\\textbar{}caG/caT\\textbar{}rs28991009\\textbar{}1\\textbar{}\\textbar{}1\\textbar{}\\textbar{}SNV\\textbar{}HGNC\\textbar{}24078\\textbar{}YES\\textbar{}\\textbar{}\\textbar{}CCDS128.1\\textbar{}ENSP00000366015\\textbar{}O43827\\textbar{}F1T0A6\\textbar{}UPI0000035976\\textbar{}\\textbar{}deleterious(0)\\textbar{}probably\\_damaging(1)\\textbar{}PROSITE\\_profiles:PS51406\\&hmmpanther:PTHR19143\\&Pfam\\_domain:PF00147\\&Gene3D:3.90.215.10\\&SMART\\_domains:SM00186\\&Superfamily\\_domains:SSF56496\\textbar{}\\textbar{}T:0.0010\\textbar{}T:0\\textbar{}T:0\\textbar{}T:0\\textbar{}T:0.005\\textbar{}T:0\\textbar{}T:0.001589\\textbar{}T:0.006628\\textbar{}T:3.608e-03\\&A:8.236e-06\\textbar{}T:0.003737\\&A:8.532e-06\\textbar{}T:0.0006753\\&A:9.647e-05\\textbar{}T:0.0006062\\&A:0\\textbar{}T:0\\&A:0\\textbar{}T:0.0009074\\&A:0\\textbar{}T:0.006364\\&A:0\\textbar{}T:0.001155\\&A:0\\textbar{}T:0\\&A:0\\textbar{}\\textbar{}\\textbar{}\\textbar{}\\textbar{}\\textbar{}\\textbar{}\\textbar{}\\textbar{}\\textbar{}\\textbar{}\\textbar{},T\\textbar{}non\\_coding\\_transcript\\_exon\\_variant\\&non\\_coding\\_transcript\\_variant\\textbar{}MODIFIER\\textbar{}ANGPTL7\\textbar{}ENSG00000171819\\textbar{}Transcript\\textbar{}ENST00000476934\\textbar{}processed\\_transcript\\textbar{}1/3\\textbar{}\\textbar{}ENST00000476934.1:n.1G>T\\textbar{}\\textbar{}1\\textbar{}\\textbar{}\\textbar{}\\textbar{}\\textbar{}rs28991009\\textbar{}1\\textbar{}\\textbar{}1\\textbar{}\\textbar{}SNV\\textbar{}HGNC\\textbar{}24078\\textbar{}\\textbar{}\\textbar{}\\textbar{}\\textbar{}\\textbar{}\\textbar{}\\textbar{}\\textbar{}\\textbar{}\\textbar{}\\textbar{}\\textbar{}\\textbar{}T:0.0010\\textbar{}T:0\\textbar{}T:0\\textbar{}T:0\\textbar{}T:0.005\\textbar{}T:0\\textbar{}T:0.001589\\textbar{}T:0.006628\\textbar{}T:3.608e-03\\&A:8.236e-06\\textbar{}T:0.003737\\&A:8.532e-06\\textbar{}T:0.0006753\\&A:9.647e-05\\textbar{}T:0.0006062\\&A:0\\textbar{}T:0\\&A:0\\textbar{}T:0.0009074\\&A:0\\textbar{}T:0.006364\\&A:0\\textbar{}T:0.001155\\&A:0\\textbar{}T:0\\&A:0\\textbar{}\\textbar{}\\textbar{}\\textbar{}\\textbar{}\\textbar{}\\textbar{}\\textbar{}\\textbar{}\\textbar{}\\textbar{}\\textbar{}                                 & 0.0014060 & 0.0009989 & 1.456e-03 & 8.116199e-03 & 0.1805 & 8.116199e-03 & TRUE & FALSE & FALSE & NA & 0 & 0 & 0 &      &  &  & 0 & ANGPTL7 & 8.116199e-03 & 1:11253684:G:T     & TRUE & protein-altering  \\\\\n",
       "\t 1 & 11253688 & C     & T & rs143435072   & ENSG00000171819 & stop\\_gained        & ENSP00000366015.3:p.Arg177Ter        & HC &  &  & POSITION:0.508165225744476 & CSQ=T\\textbar{}intron\\_variant\\textbar{}MODIFIER\\textbar{}MTOR\\textbar{}ENSG00000198793\\textbar{}Transcript\\textbar{}ENST00000361445\\textbar{}protein\\_coding\\textbar{}\\textbar{}28/57\\textbar{}ENST00000361445.4:c.4253+5627G>A\\textbar{}\\textbar{}\\textbar{}\\textbar{}\\textbar{}\\textbar{}\\textbar{}rs143435072\\textbar{}1\\textbar{}\\textbar{}-1\\textbar{}\\textbar{}SNV\\textbar{}HGNC\\textbar{}3942\\textbar{}YES\\textbar{}\\textbar{}\\textbar{}CCDS127.1\\textbar{}ENSP00000354558\\textbar{}P42345\\textbar{}Q96QW8\\&B1AKQ2\\&B1AKP8\\textbar{}UPI000012ABD3\\textbar{}1\\textbar{}\\textbar{}\\textbar{}\\textbar{}\\textbar{}\\textbar{}\\textbar{}\\textbar{}\\textbar{}\\textbar{}\\textbar{}T:0\\textbar{}T:0.0003488\\textbar{}T:1.730e-04\\textbar{}T:0.0001697\\textbar{}T:9.639e-05\\textbar{}T:0\\textbar{}T:0\\textbar{}T:0\\textbar{}T:0.0002894\\textbar{}T:0\\textbar{}T:0\\textbar{}\\textbar{}\\textbar{}\\textbar{}\\textbar{}\\textbar{}\\textbar{}\\textbar{}\\textbar{}\\textbar{}\\textbar{}\\textbar{},T\\textbar{}stop\\_gained\\textbar{}HIGH\\textbar{}ANGPTL7\\textbar{}ENSG00000171819\\textbar{}Transcript\\textbar{}ENST00000376819\\textbar{}protein\\_coding\\textbar{}3/5\\textbar{}\\textbar{}ENST00000376819.3:c.529C>T\\textbar{}ENSP00000366015.3:p.Arg177Ter\\textbar{}768\\textbar{}529\\textbar{}177\\textbar{}R/*\\textbar{}Cga/Tga\\textbar{}rs143435072\\textbar{}1\\textbar{}\\textbar{}1\\textbar{}\\textbar{}SNV\\textbar{}HGNC\\textbar{}24078\\textbar{}YES\\textbar{}\\textbar{}\\textbar{}CCDS128.1\\textbar{}ENSP00000366015\\textbar{}O43827\\textbar{}F1T0A6\\textbar{}UPI0000035976\\textbar{}\\textbar{}\\textbar{}\\textbar{}PROSITE\\_profiles:PS51406\\&hmmpanther:PTHR19143\\&Pfam\\_domain:PF00147\\&Gene3D:3.90.215.10\\&SMART\\_domains:SM00186\\&Superfamily\\_domains:SSF56496\\textbar{}\\textbar{}\\textbar{}\\textbar{}\\textbar{}\\textbar{}\\textbar{}\\textbar{}T:0\\textbar{}T:0.0003488\\textbar{}T:1.730e-04\\textbar{}T:0.0001697\\textbar{}T:9.639e-05\\textbar{}T:0\\textbar{}T:0\\textbar{}T:0\\textbar{}T:0.0002894\\textbar{}T:0\\textbar{}T:0\\textbar{}\\textbar{}\\textbar{}\\textbar{}\\textbar{}\\textbar{}\\textbar{}\\textbar{}\\textbar{}HC\\textbar{}\\textbar{}\\textbar{}POSITION:0.508165225744476,T\\textbar{}non\\_coding\\_transcript\\_exon\\_variant\\&non\\_coding\\_transcript\\_variant\\textbar{}MODIFIER\\textbar{}ANGPTL7\\textbar{}ENSG00000171819\\textbar{}Transcript\\textbar{}ENST00000476934\\textbar{}processed\\_transcript\\textbar{}1/3\\textbar{}\\textbar{}ENST00000476934.1:n.5C>T\\textbar{}\\textbar{}5\\textbar{}\\textbar{}\\textbar{}\\textbar{}\\textbar{}rs143435072\\textbar{}1\\textbar{}\\textbar{}1\\textbar{}\\textbar{}SNV\\textbar{}HGNC\\textbar{}24078\\textbar{}\\textbar{}\\textbar{}\\textbar{}\\textbar{}\\textbar{}\\textbar{}\\textbar{}\\textbar{}\\textbar{}\\textbar{}\\textbar{}\\textbar{}\\textbar{}\\textbar{}\\textbar{}\\textbar{}\\textbar{}\\textbar{}\\textbar{}T:0\\textbar{}T:0.0003488\\textbar{}T:1.730e-04\\textbar{}T:0.0001697\\textbar{}T:9.639e-05\\textbar{}T:0\\textbar{}T:0\\textbar{}T:0\\textbar{}T:0.0002894\\textbar{}T:0\\textbar{}T:0\\textbar{}\\textbar{}\\textbar{}\\textbar{}\\textbar{}\\textbar{}\\textbar{}\\textbar{}\\textbar{}\\textbar{}\\textbar{}\\textbar{}                                                                                                                                                                                                                                                                                                                                                                                                   & 0.0001157 & 0.0002430 & 9.995e-05 & 4.063244e-04 & 0.5270 & 4.063244e-04 & TRUE & FALSE & FALSE & NA & 0 & 0 & 0 & PASS &  &  & 0 & ANGPTL7 & 4.063244e-04 & 1:11253688:C:T     & TRUE & protein-truncating\\\\\n",
       "\t 1 & 11255013 & GGCAT & G & Affx-89021330 & ENSG00000171819 & frameshift\\_variant & ENSP00000366015.3:p.His326AspfsTer11 & HC &  &  & POSITION:0.939481268011527 & CSQ=-\\textbar{}intron\\_variant\\textbar{}MODIFIER\\textbar{}MTOR\\textbar{}ENSG00000198793\\textbar{}Transcript\\textbar{}ENST00000361445\\textbar{}protein\\_coding\\textbar{}\\textbar{}28/57\\textbar{}ENST00000361445.4:c.4253+4298\\_4253+4301delATGC\\textbar{}\\textbar{}\\textbar{}\\textbar{}\\textbar{}\\textbar{}\\textbar{}\\textbar{}1\\textbar{}\\textbar{}-1\\textbar{}\\textbar{}deletion\\textbar{}HGNC\\textbar{}3942\\textbar{}YES\\textbar{}\\textbar{}\\textbar{}CCDS127.1\\textbar{}ENSP00000354558\\textbar{}P42345\\textbar{}Q96QW8\\&B1AKQ2\\&B1AKP8\\textbar{}UPI000012ABD3\\textbar{}1\\textbar{}\\textbar{}\\textbar{}\\textbar{}\\textbar{}\\textbar{}\\textbar{}\\textbar{}\\textbar{}\\textbar{}\\textbar{}\\textbar{}\\textbar{}\\textbar{}\\textbar{}\\textbar{}\\textbar{}\\textbar{}\\textbar{}\\textbar{}\\textbar{}\\textbar{}\\textbar{}\\textbar{}\\textbar{}\\textbar{}\\textbar{}\\textbar{}\\textbar{}\\textbar{}\\textbar{}\\textbar{}\\textbar{},-\\textbar{}frameshift\\_variant\\textbar{}HIGH\\textbar{}ANGPTL7\\textbar{}ENSG00000171819\\textbar{}Transcript\\textbar{}ENST00000376819\\textbar{}protein\\_coding\\textbar{}5/5\\textbar{}\\textbar{}ENST00000376819.3:c.976\\_979delCATG\\textbar{}ENSP00000366015.3:p.His326AspfsTer11\\textbar{}1214-1217\\textbar{}975-978\\textbar{}325-326\\textbar{}WH/X\\textbar{}tgGCAT/tg\\textbar{}\\textbar{}1\\textbar{}\\textbar{}1\\textbar{}\\textbar{}deletion\\textbar{}HGNC\\textbar{}24078\\textbar{}YES\\textbar{}\\textbar{}\\textbar{}CCDS128.1\\textbar{}ENSP00000366015\\textbar{}O43827\\textbar{}F1T0A6\\textbar{}UPI0000035976\\textbar{}\\textbar{}\\textbar{}\\textbar{}PROSITE\\_profiles:PS51406\\&hmmpanther:PTHR19143\\&Pfam\\_domain:PF00147\\&Gene3D:4.10.530.10\\&SMART\\_domains:SM00186\\&Superfamily\\_domains:SSF56496\\textbar{}1\\textbar{}\\textbar{}\\textbar{}\\textbar{}\\textbar{}\\textbar{}\\textbar{}\\textbar{}\\textbar{}\\textbar{}\\textbar{}\\textbar{}\\textbar{}\\textbar{}\\textbar{}\\textbar{}\\textbar{}\\textbar{}\\textbar{}\\textbar{}\\textbar{}\\textbar{}\\textbar{}\\textbar{}\\textbar{}\\textbar{}HC\\textbar{}\\textbar{}\\textbar{}POSITION:0.939481268011527,-\\textbar{}non\\_coding\\_transcript\\_exon\\_variant\\&non\\_coding\\_transcript\\_variant\\textbar{}MODIFIER\\textbar{}ANGPTL7\\textbar{}ENSG00000171819\\textbar{}Transcript\\textbar{}ENST00000476934\\textbar{}processed\\_transcript\\textbar{}3/3\\textbar{}\\textbar{}ENST00000476934.1:n.387\\_390delCATG\\textbar{}\\textbar{}386-389\\textbar{}\\textbar{}\\textbar{}\\textbar{}\\textbar{}\\textbar{}1\\textbar{}\\textbar{}1\\textbar{}\\textbar{}deletion\\textbar{}HGNC\\textbar{}24078\\textbar{}\\textbar{}\\textbar{}\\textbar{}\\textbar{}\\textbar{}\\textbar{}\\textbar{}\\textbar{}\\textbar{}\\textbar{}\\textbar{}\\textbar{}1\\textbar{}\\textbar{}\\textbar{}\\textbar{}\\textbar{}\\textbar{}\\textbar{}\\textbar{}\\textbar{}\\textbar{}\\textbar{}\\textbar{}\\textbar{}\\textbar{}\\textbar{}\\textbar{}\\textbar{}\\textbar{}\\textbar{}\\textbar{}\\textbar{}\\textbar{}\\textbar{}\\textbar{}\\textbar{}\\textbar{}\\textbar{}\\textbar{}\\textbar{}                                                                                                                                                                                                                                                                                                                                                                                                                                                                                                                                                                         & 0.0007740 & 0.0012960 & 7.096e-04 & 1.483913e-05 & 0.5000 & 1.483913e-05 & TRUE & FALSE & FALSE & NA & 0 & 0 & 0 &      &  &  & 0 & ANGPTL7 & 1.483913e-05 & 1:11255013:GGCAT:G & TRUE & protein-truncating\\\\\n",
       "\\end{tabular}\n"
      ],
      "text/markdown": [
       "\n",
       "A data.frame: 5 × 35\n",
       "\n",
       "| CHROM &lt;int&gt; | POS &lt;int&gt; | REF &lt;chr&gt; | ALT &lt;chr&gt; | ID &lt;chr&gt; | Gene &lt;chr&gt; | Consequence &lt;chr&gt; | HGVSp &lt;chr&gt; | LoF &lt;chr&gt; | LoF_filter &lt;chr&gt; | ⋯ ⋯ | mcpi &lt;int&gt; | gnomad_af &lt;chr&gt; | mgi &lt;chr&gt; | mgi_notes &lt;chr&gt; | all_filters &lt;int&gt; | Gene_symbol &lt;chr&gt; | MAF &lt;dbl&gt; | variant &lt;chr&gt; | is_outside_of_MHC &lt;lgl&gt; | Csq &lt;chr&gt; |\n",
       "|---|---|---|---|---|---|---|---|---|---|---|---|---|---|---|---|---|---|---|---|---|\n",
       "| 1 | 11252357 | A     | G | rs200058074   | ENSG00000171819 | missense_variant   | ENSP00000366015.3:p.Gln136Arg        | <!----> | <!----> | ⋯ | 0 | <!----> | <!----> | <!----> | 0 | ANGPTL7 | 5.355845e-04 | 1:11252357:A:G     | TRUE | protein-altering   |\n",
       "| 1 | 11252369 | G     | A | rs28991002    | ENSG00000171819 | missense_variant   | ENSP00000366015.3:p.Arg140His        | <!----> | <!----> | ⋯ | 0 | <!----> | <!----> | <!----> | 0 | ANGPTL7 | 2.532551e-03 | 1:11252369:G:A     | TRUE | protein-altering   |\n",
       "| 1 | 11253684 | G     | T | rs28991009    | ENSG00000171819 | missense_variant   | ENSP00000366015.3:p.Gln175His        | <!----> | <!----> | ⋯ | 0 | <!----> | <!----> | <!----> | 0 | ANGPTL7 | 8.116199e-03 | 1:11253684:G:T     | TRUE | protein-altering   |\n",
       "| 1 | 11253688 | C     | T | rs143435072   | ENSG00000171819 | stop_gained        | ENSP00000366015.3:p.Arg177Ter        | HC | <!----> | ⋯ | 0 | PASS | <!----> | <!----> | 0 | ANGPTL7 | 4.063244e-04 | 1:11253688:C:T     | TRUE | protein-truncating |\n",
       "| 1 | 11255013 | GGCAT | G | Affx-89021330 | ENSG00000171819 | frameshift_variant | ENSP00000366015.3:p.His326AspfsTer11 | HC | <!----> | ⋯ | 0 | <!----> | <!----> | <!----> | 0 | ANGPTL7 | 1.483913e-05 | 1:11255013:GGCAT:G | TRUE | protein-truncating |\n",
       "\n"
      ],
      "text/plain": [
       "  CHROM POS      REF   ALT ID            Gene            Consequence       \n",
       "1 1     11252357 A     G   rs200058074   ENSG00000171819 missense_variant  \n",
       "2 1     11252369 G     A   rs28991002    ENSG00000171819 missense_variant  \n",
       "3 1     11253684 G     T   rs28991009    ENSG00000171819 missense_variant  \n",
       "4 1     11253688 C     T   rs143435072   ENSG00000171819 stop_gained       \n",
       "5 1     11255013 GGCAT G   Affx-89021330 ENSG00000171819 frameshift_variant\n",
       "  HGVSp                                LoF LoF_filter ⋯ mcpi gnomad_af mgi\n",
       "1 ENSP00000366015.3:p.Gln136Arg                       ⋯ 0                 \n",
       "2 ENSP00000366015.3:p.Arg140His                       ⋯ 0                 \n",
       "3 ENSP00000366015.3:p.Gln175His                       ⋯ 0                 \n",
       "4 ENSP00000366015.3:p.Arg177Ter        HC             ⋯ 0    PASS         \n",
       "5 ENSP00000366015.3:p.His326AspfsTer11 HC             ⋯ 0                 \n",
       "  mgi_notes all_filters Gene_symbol MAF          variant           \n",
       "1           0           ANGPTL7     5.355845e-04 1:11252357:A:G    \n",
       "2           0           ANGPTL7     2.532551e-03 1:11252369:G:A    \n",
       "3           0           ANGPTL7     8.116199e-03 1:11253684:G:T    \n",
       "4           0           ANGPTL7     4.063244e-04 1:11253688:C:T    \n",
       "5           0           ANGPTL7     1.483913e-05 1:11255013:GGCAT:G\n",
       "  is_outside_of_MHC Csq               \n",
       "1 TRUE              protein-altering  \n",
       "2 TRUE              protein-altering  \n",
       "3 TRUE              protein-altering  \n",
       "4 TRUE              protein-truncating\n",
       "5 TRUE              protein-truncating"
      ]
     },
     "metadata": {},
     "output_type": "display_data"
    }
   ],
   "source": [
    "annot.arr %>% filter(Gene_symbol == 'ANGPTL7')"
   ]
  },
  {
   "cell_type": "code",
   "execution_count": 10,
   "metadata": {},
   "outputs": [],
   "source": [
    "df <- annot.arr %>% filter(Gene_symbol == 'ANGPTL7') %>%\n",
    "select(variant, ID, Consequence, HGVSp, freq, MAF, ld_indep) %>%\n",
    "left_join(\n",
    "    IOP, by='ID'\n",
    ") %>%\n",
    "rename(\n",
    "    variant_ID = ID\n",
    ") %>%\n",
    "arrange(CHROM, POS) %>%\n",
    "select(-CHROM, -POS, -REF, -ALT, -A1, -TEST, -OBS_CT)"
   ]
  },
  {
   "cell_type": "code",
   "execution_count": 16,
   "metadata": {},
   "outputs": [
    {
     "data": {
      "text/html": [
       "<table>\n",
       "<caption>A data.frame: 5 × 9</caption>\n",
       "<thead>\n",
       "\t<tr><th scope=col>variant</th><th scope=col>variant_ID</th><th scope=col>HGVSp</th><th scope=col>MAF_percent</th><th scope=col>BETA</th><th scope=col>BETA_CI_l</th><th scope=col>BETA_CI_u</th><th scope=col>BETA_str</th><th scope=col>P</th></tr>\n",
       "\t<tr><th scope=col>&lt;chr&gt;</th><th scope=col>&lt;chr&gt;</th><th scope=col>&lt;chr&gt;</th><th scope=col>&lt;dbl&gt;</th><th scope=col>&lt;dbl&gt;</th><th scope=col>&lt;dbl&gt;</th><th scope=col>&lt;dbl&gt;</th><th scope=col>&lt;chr&gt;</th><th scope=col>&lt;dbl&gt;</th></tr>\n",
       "</thead>\n",
       "<tbody>\n",
       "\t<tr><td>1:11252357:A:G    </td><td>rs200058074  </td><td>ENSP00000366015.3:p.Gln136Arg       </td><td>0.053558447</td><td> 0.0124077</td><td>-0.2033883</td><td> 0.22820370</td><td>0.012 [-0.203, 0.228]  </td><td>9.10273e-01</td></tr>\n",
       "\t<tr><td>1:11252369:G:A    </td><td>rs28991002   </td><td>ENSP00000366015.3:p.Arg140His       </td><td>0.253255077</td><td>-0.0714483</td><td>-0.1647267</td><td> 0.02183006</td><td>-0.071 [-0.165, 0.022] </td><td>1.33283e-01</td></tr>\n",
       "\t<tr><td>1:11253684:G:T    </td><td>rs28991009   </td><td>ENSP00000366015.3:p.Gln175His       </td><td>0.811619854</td><td>-0.1551680</td><td>-0.2074377</td><td>-0.10289833</td><td>-0.155 [-0.207, -0.103]</td><td>5.96170e-09</td></tr>\n",
       "\t<tr><td>1:11253688:C:T    </td><td>rs143435072  </td><td>ENSP00000366015.3:p.Arg177Ter       </td><td>0.040632442</td><td>-0.1285460</td><td>-0.3736401</td><td> 0.11654808</td><td>-0.129 [-0.374, 0.117] </td><td>3.03964e-01</td></tr>\n",
       "\t<tr><td>1:11255013:GGCAT:G</td><td>Affx-89021330</td><td>ENSP00000366015.3:p.His326AspfsTer11</td><td>0.001483913</td><td> 0.2893800</td><td>-0.8244351</td><td> 1.40319508</td><td>0.289 [-0.824, 1.403]  </td><td>6.10594e-01</td></tr>\n",
       "</tbody>\n",
       "</table>\n"
      ],
      "text/latex": [
       "A data.frame: 5 × 9\n",
       "\\begin{tabular}{r|lllllllll}\n",
       " variant & variant\\_ID & HGVSp & MAF\\_percent & BETA & BETA\\_CI\\_l & BETA\\_CI\\_u & BETA\\_str & P\\\\\n",
       " <chr> & <chr> & <chr> & <dbl> & <dbl> & <dbl> & <dbl> & <chr> & <dbl>\\\\\n",
       "\\hline\n",
       "\t 1:11252357:A:G     & rs200058074   & ENSP00000366015.3:p.Gln136Arg        & 0.053558447 &  0.0124077 & -0.2033883 &  0.22820370 & 0.012 {[}-0.203, 0.228{]}   & 9.10273e-01\\\\\n",
       "\t 1:11252369:G:A     & rs28991002    & ENSP00000366015.3:p.Arg140His        & 0.253255077 & -0.0714483 & -0.1647267 &  0.02183006 & -0.071 {[}-0.165, 0.022{]}  & 1.33283e-01\\\\\n",
       "\t 1:11253684:G:T     & rs28991009    & ENSP00000366015.3:p.Gln175His        & 0.811619854 & -0.1551680 & -0.2074377 & -0.10289833 & -0.155 {[}-0.207, -0.103{]} & 5.96170e-09\\\\\n",
       "\t 1:11253688:C:T     & rs143435072   & ENSP00000366015.3:p.Arg177Ter        & 0.040632442 & -0.1285460 & -0.3736401 &  0.11654808 & -0.129 {[}-0.374, 0.117{]}  & 3.03964e-01\\\\\n",
       "\t 1:11255013:GGCAT:G & Affx-89021330 & ENSP00000366015.3:p.His326AspfsTer11 & 0.001483913 &  0.2893800 & -0.8244351 &  1.40319508 & 0.289 {[}-0.824, 1.403{]}   & 6.10594e-01\\\\\n",
       "\\end{tabular}\n"
      ],
      "text/markdown": [
       "\n",
       "A data.frame: 5 × 9\n",
       "\n",
       "| variant &lt;chr&gt; | variant_ID &lt;chr&gt; | HGVSp &lt;chr&gt; | MAF_percent &lt;dbl&gt; | BETA &lt;dbl&gt; | BETA_CI_l &lt;dbl&gt; | BETA_CI_u &lt;dbl&gt; | BETA_str &lt;chr&gt; | P &lt;dbl&gt; |\n",
       "|---|---|---|---|---|---|---|---|---|\n",
       "| 1:11252357:A:G     | rs200058074   | ENSP00000366015.3:p.Gln136Arg        | 0.053558447 |  0.0124077 | -0.2033883 |  0.22820370 | 0.012 [-0.203, 0.228]   | 9.10273e-01 |\n",
       "| 1:11252369:G:A     | rs28991002    | ENSP00000366015.3:p.Arg140His        | 0.253255077 | -0.0714483 | -0.1647267 |  0.02183006 | -0.071 [-0.165, 0.022]  | 1.33283e-01 |\n",
       "| 1:11253684:G:T     | rs28991009    | ENSP00000366015.3:p.Gln175His        | 0.811619854 | -0.1551680 | -0.2074377 | -0.10289833 | -0.155 [-0.207, -0.103] | 5.96170e-09 |\n",
       "| 1:11253688:C:T     | rs143435072   | ENSP00000366015.3:p.Arg177Ter        | 0.040632442 | -0.1285460 | -0.3736401 |  0.11654808 | -0.129 [-0.374, 0.117]  | 3.03964e-01 |\n",
       "| 1:11255013:GGCAT:G | Affx-89021330 | ENSP00000366015.3:p.His326AspfsTer11 | 0.001483913 |  0.2893800 | -0.8244351 |  1.40319508 | 0.289 [-0.824, 1.403]   | 6.10594e-01 |\n",
       "\n"
      ],
      "text/plain": [
       "  variant            variant_ID    HGVSp                               \n",
       "1 1:11252357:A:G     rs200058074   ENSP00000366015.3:p.Gln136Arg       \n",
       "2 1:11252369:G:A     rs28991002    ENSP00000366015.3:p.Arg140His       \n",
       "3 1:11253684:G:T     rs28991009    ENSP00000366015.3:p.Gln175His       \n",
       "4 1:11253688:C:T     rs143435072   ENSP00000366015.3:p.Arg177Ter       \n",
       "5 1:11255013:GGCAT:G Affx-89021330 ENSP00000366015.3:p.His326AspfsTer11\n",
       "  MAF_percent BETA       BETA_CI_l  BETA_CI_u   BETA_str               \n",
       "1 0.053558447  0.0124077 -0.2033883  0.22820370 0.012 [-0.203, 0.228]  \n",
       "2 0.253255077 -0.0714483 -0.1647267  0.02183006 -0.071 [-0.165, 0.022] \n",
       "3 0.811619854 -0.1551680 -0.2074377 -0.10289833 -0.155 [-0.207, -0.103]\n",
       "4 0.040632442 -0.1285460 -0.3736401  0.11654808 -0.129 [-0.374, 0.117] \n",
       "5 0.001483913  0.2893800 -0.8244351  1.40319508 0.289 [-0.824, 1.403]  \n",
       "  P          \n",
       "1 9.10273e-01\n",
       "2 1.33283e-01\n",
       "3 5.96170e-09\n",
       "4 3.03964e-01\n",
       "5 6.10594e-01"
      ]
     },
     "metadata": {},
     "output_type": "display_data"
    }
   ],
   "source": [
    "df %>% \n",
    "# filter(P < .05) %>%\n",
    "mutate(\n",
    "    BETA_CI_l = BETA - 1.96 * SE,\n",
    "    BETA_CI_u = BETA + 1.96 * SE,\n",
    "    MAF_percent = MAF * 100,\n",
    "    BETA_str = sprintf('%.3f [%.3f, %.3f]', BETA, BETA_CI_l, BETA_CI_u)\n",
    ") %>% \n",
    "select(variant, variant_ID, HGVSp, MAF_percent, BETA, BETA_CI_l, BETA_CI_u, BETA_str, P)"
   ]
  },
  {
   "cell_type": "markdown",
   "metadata": {},
   "source": [
    "## Hits"
   ]
  },
  {
   "cell_type": "code",
   "execution_count": 11,
   "metadata": {},
   "outputs": [],
   "source": [
    "IOP_hits <- IOP %>% filter(as.numeric(P) <= 0.0001) %>% \n",
    "select(-REF, -ALT, -A1, -TEST, -OBS_CT, -T_STAT) %>%\n",
    "left_join(annot.arr %>% select(-CHROM, -POS), by='ID') %>% \n",
    "arrange(as.numeric(CHROM), as.numeric(POS)) %>%\n",
    "select(-CHROM, -POS) %>%\n",
    "rename(variant_ID = ID) %>%\n",
    "select(variant, variant_ID, BETA, SE, P, Csq, Consequence, Gene_symbol, HGVSp, MAF, ld_indep)\n"
   ]
  },
  {
   "cell_type": "raw",
   "metadata": {},
   "source": [
    "IOP_hits %>%\n",
    "fwrite('INI5255.hits.tsv', sep='\\t', row.names=FALSE)"
   ]
  },
  {
   "cell_type": "markdown",
   "metadata": {},
   "source": [
    "## qq-plot"
   ]
  },
  {
   "cell_type": "code",
   "execution_count": 12,
   "metadata": {},
   "outputs": [],
   "source": [
    "IOP_anno <- annot.arr %>% filter(Csq != 'non-coding', is_outside_of_MHC) %>% select(-CHROM, -POS, -REF, -ALT) %>%\n",
    "inner_join(IOP, by='ID')"
   ]
  },
  {
   "cell_type": "code",
   "execution_count": 13,
   "metadata": {},
   "outputs": [],
   "source": [
    "qq_p_obs <- IOP_anno %>% \n",
    "filter(\n",
    "    1e-4 < as.numeric(maf),\n",
    "    as.numeric(maf) < 1e-2\n",
    ") %>% \n",
    "mutate(log10P = -log10(P)) %>% arrange(-log10P) %>% select(log10P) %>% drop_na() %>% pull() \n",
    "qq_p_exp <- -(qq_p_obs %>% length() %>% ppoints() %>% log10())"
   ]
  },
  {
   "cell_type": "code",
   "execution_count": 14,
   "metadata": {},
   "outputs": [
    {
     "data": {
      "image/png": "[encoded data removed]",
      "text/plain": [
       "plot without title"
      ]
     },
     "metadata": {},
     "output_type": "display_data"
    }
   ],
   "source": [
    "data.frame(\n",
    "    Observed = qq_p_obs,\n",
    "    Expected = qq_p_exp\n",
    ") %>% ggplot(aes(x = Expected, y = Observed)) + geom_point() + \n",
    "geom_abline(slope=1, intercept=0, color='red') + \n",
    "theme_bw() + \n",
    "labs(\n",
    "    y = TeX('Observed $-\\\\log_{10}(P)$'),\n",
    "    x = TeX('Expected $-\\\\log_{10}(P)$')\n",
    ") "
   ]
  },
  {
   "cell_type": "code",
   "execution_count": 35,
   "metadata": {},
   "outputs": [
    {
     "name": "stderr",
     "output_type": "stream",
     "text": [
      "Saving 6.67 x 6.67 in image\n"
     ]
    }
   ],
   "source": [
    "ggsave('INI5255.qq.png')"
   ]
  },
  {
   "cell_type": "code",
   "execution_count": 36,
   "metadata": {},
   "outputs": [
    {
     "data": {
      "text/html": [
       "0.366"
      ],
      "text/latex": [
       "0.366"
      ],
      "text/markdown": [
       "0.366"
      ],
      "text/plain": [
       "[1] 0.366"
      ]
     },
     "metadata": {},
     "output_type": "display_data"
    }
   ],
   "source": [
    "0.66 - 1.96 * 0.15"
   ]
  },
  {
   "cell_type": "code",
   "execution_count": 37,
   "metadata": {},
   "outputs": [
    {
     "data": {
      "text/html": [
       "0.954"
      ],
      "text/latex": [
       "0.954"
      ],
      "text/markdown": [
       "0.954"
      ],
      "text/plain": [
       "[1] 0.954"
      ]
     },
     "metadata": {},
     "output_type": "display_data"
    }
   ],
   "source": [
    "0.66 + 1.96 * 0.15"
   ]
  },
  {
   "cell_type": "code",
   "execution_count": 38,
   "metadata": {},
   "outputs": [
    {
     "data": {
      "text/html": [
       "0.3552"
      ],
      "text/latex": [
       "0.3552"
      ],
      "text/markdown": [
       "0.3552"
      ],
      "text/plain": [
       "[1] 0.3552"
      ]
     },
     "metadata": {},
     "output_type": "display_data"
    }
   ],
   "source": [
    "0.61 - 1.96 * 0.13"
   ]
  },
  {
   "cell_type": "code",
   "execution_count": 39,
   "metadata": {},
   "outputs": [
    {
     "data": {
      "text/html": [
       "0.8648"
      ],
      "text/latex": [
       "0.8648"
      ],
      "text/markdown": [
       "0.8648"
      ],
      "text/plain": [
       "[1] 0.8648"
      ]
     },
     "metadata": {},
     "output_type": "display_data"
    }
   ],
   "source": [
    "0.61 + 1.96 * 0.13"
   ]
  },
  {
   "cell_type": "markdown",
   "metadata": {},
   "source": [
    "### Manhattan plot"
   ]
  },
  {
   "cell_type": "code",
   "execution_count": 42,
   "metadata": {},
   "outputs": [],
   "source": [
    "compute_gwas_plot_df <- function(gwasResults){\n",
    "    gwasResults  %>%\n",
    "    # Compute chromosome size\n",
    "    group_by(CHR) %>% \n",
    "    summarise(chr_len=max(BP)) %>% \n",
    "\n",
    "    # Calculate cumulative position of each chromosome\n",
    "    mutate(tot=cumsum(chr_len)-chr_len) %>%\n",
    "    select(-chr_len) %>%\n",
    "\n",
    "    # Add this info to the initial dataset\n",
    "    left_join(gwasResults, ., by=c(\"CHR\"=\"CHR\")) %>%\n",
    "\n",
    "    # Add a cumulative position of each SNP\n",
    "    arrange(CHR, BP) %>%\n",
    "    mutate(BPcum=BP+tot)    \n",
    "}\n"
   ]
  },
  {
   "cell_type": "code",
   "execution_count": 43,
   "metadata": {},
   "outputs": [],
   "source": [
    "compute_x_axis_df <- function(don){\n",
    "    don %>% \n",
    "    group_by(CHR) %>% \n",
    "    summarize(center=( max(BPcum) + min(BPcum) ) / 2 ) %>%\n",
    "    mutate(\n",
    "        CHR_plot = if_else((CHR %% 2) == 0 & (CHR > 15), \"\", as.character(CHR))\n",
    "    )    \n",
    "}\n"
   ]
  },
  {
   "cell_type": "code",
   "execution_count": 87,
   "metadata": {},
   "outputs": [],
   "source": [
    "plot_manhattan <- function(don, axisdf, title_str){\n",
    "    don %>% \n",
    "    ggplot( aes(x=BPcum, y=-log10(P), label=repel_label) ) +\n",
    "    geom_point( aes(color=as.factor(color)), alpha=0.8, size=1.3) +\n",
    "    geom_hline(yintercept=6, color='red', linetype=\"dashed\") + \n",
    "    ggrepel::geom_text_repel(size=3) +\n",
    "    scale_x_continuous(\n",
    "        label = axisdf$CHR_plot, breaks= axisdf$center\n",
    "    ) +\n",
    "    scale_y_continuous(expand = c(0, 0.5) ) +\n",
    "    theme_bw() +\n",
    "    theme( \n",
    "      legend.position=\"none\",\n",
    "      panel.border = element_blank(),\n",
    "      panel.grid.major.x = element_blank(),\n",
    "      panel.grid.minor.x = element_blank()\n",
    "    ) +\n",
    "    labs(\n",
    "        title=title_str,\n",
    "        x = 'Genomic position (chromosome)',\n",
    "        y = TeX('$-\\\\log_{10\\\\,}P$')\n",
    "    )    \n",
    "}\n"
   ]
  },
  {
   "cell_type": "code",
   "execution_count": 55,
   "metadata": {},
   "outputs": [
    {
     "data": {
      "text/html": [
       "<ol class=list-inline>\n",
       "\t<li>113490</li>\n",
       "\t<li>42</li>\n",
       "</ol>\n"
      ],
      "text/latex": [
       "\\begin{enumerate*}\n",
       "\\item 113490\n",
       "\\item 42\n",
       "\\end{enumerate*}\n"
      ],
      "text/markdown": [
       "1. 113490\n",
       "2. 42\n",
       "\n",
       "\n"
      ],
      "text/plain": [
       "[1] 113490     42"
      ]
     },
     "metadata": {},
     "output_type": "display_data"
    }
   ],
   "source": [
    "IOP_anno %>% dim()"
   ]
  },
  {
   "cell_type": "code",
   "execution_count": 56,
   "metadata": {},
   "outputs": [
    {
     "data": {
      "text/html": [
       "<ol class=list-inline>\n",
       "\t<li>1628</li>\n",
       "\t<li>42</li>\n",
       "</ol>\n"
      ],
      "text/latex": [
       "\\begin{enumerate*}\n",
       "\\item 1628\n",
       "\\item 42\n",
       "\\end{enumerate*}\n"
      ],
      "text/markdown": [
       "1. 1628\n",
       "2. 42\n",
       "\n",
       "\n"
      ],
      "text/plain": [
       "[1] 1628   42"
      ]
     },
     "metadata": {},
     "output_type": "display_data"
    }
   ],
   "source": [
    "IOP_anno %>% filter(as.numeric(P) < 1e-2) %>% dim()"
   ]
  },
  {
   "cell_type": "code",
   "execution_count": 57,
   "metadata": {},
   "outputs": [
    {
     "data": {
      "text/html": [
       "4.40567450876729e-07"
      ],
      "text/latex": [
       "4.40567450876729e-07"
      ],
      "text/markdown": [
       "4.40567450876729e-07"
      ],
      "text/plain": [
       "[1] 4.405675e-07"
      ]
     },
     "metadata": {},
     "output_type": "display_data"
    }
   ],
   "source": [
    "0.05 / 113490"
   ]
  },
  {
   "cell_type": "code",
   "execution_count": 88,
   "metadata": {},
   "outputs": [],
   "source": [
    "IOP_Manhattan_plot_df <- IOP_anno %>% \n",
    "mutate(\n",
    "    is_rare = (MAF <= 0.01)\n",
    ") %>%\n",
    "group_by(is_rare) %>%\n",
    "mutate(rankP = rank(P)) %>%\n",
    "ungroup() %>%\n",
    "mutate(\n",
    "    P = as.numeric(P),\n",
    "    repel_label = if_else(\n",
    "        rankP <= 30,\n",
    "        Gene_symbol, ''\n",
    "    ), \n",
    "    repel_label = if_else(\n",
    "        P <= 1e-6,\n",
    "        repel_label, ''\n",
    "    ),     \n",
    "    color = \n",
    "#     if_else(\n",
    "#         MAF <= 0.01, '1_rare', \n",
    "        if_else(\n",
    "            (CHROM %% 2) == 1, \n",
    "            \"2_odd_chrs\", \"3_even_chrs\"\n",
    "#         )\n",
    "    )\n",
    ") %>%\n",
    "rename(\n",
    "    CHR = CHROM,\n",
    "    BP = POS,\n",
    "    SNP = ID    \n",
    ") %>%\n",
    "select(CHR, BP, SNP, P, BETA, repel_label, color, MAF) %>%\n",
    "compute_gwas_plot_df() %>%\n",
    "filter(P < 1e-2, MAF <= 0.01)\n",
    "\n",
    "\n",
    "IOP_Manhattan_p <- IOP_Manhattan_plot_df %>% \n",
    "plot_manhattan(\n",
    "    IOP_Manhattan_plot_df %>% compute_x_axis_df(), ''\n",
    ")\n"
   ]
  },
  {
   "cell_type": "code",
   "execution_count": 89,
   "metadata": {},
   "outputs": [
    {
     "name": "stderr",
     "output_type": "stream",
     "text": [
      "Saving 6.67 x 6.67 in image\n"
     ]
    }
   ],
   "source": [
    "ggsave('INI5255.manhattan.png', IOP_Manhattan_p)"
   ]
  },
  {
   "cell_type": "code",
   "execution_count": null,
   "metadata": {},
   "outputs": [],
   "source": []
  }
 ],
 "metadata": {
  "kernelspec": {
   "display_name": "R",
   "language": "R",
   "name": "ir"
  },
  "language_info": {
   "codemirror_mode": "r",
   "file_extension": ".r",
   "mimetype": "text/x-r-source",
   "name": "R",
   "pygments_lexer": "r",
   "version": "3.6.1"
  }
 },
 "nbformat": 4,
 "nbformat_minor": 4
}
