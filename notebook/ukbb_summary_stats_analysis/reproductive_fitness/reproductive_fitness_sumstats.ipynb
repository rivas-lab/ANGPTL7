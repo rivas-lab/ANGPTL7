{
 "cells": [
  {
   "cell_type": "code",
   "execution_count": 1,
   "metadata": {},
   "outputs": [
    {
     "name": "stderr",
     "output_type": "stream",
     "text": [
      "Loading required package: tidyverse\n",
      "── Attaching packages ─────────────────────────────────────── tidyverse 1.2.1 ──\n",
      "✔ ggplot2 3.1.0       ✔ purrr   0.3.1  \n",
      "✔ tibble  2.0.1       ✔ dplyr   0.8.0.1\n",
      "✔ tidyr   0.8.3       ✔ stringr 1.4.0  \n",
      "✔ readr   1.3.1       ✔ forcats 0.4.0  \n",
      "── Conflicts ────────────────────────────────────────── tidyverse_conflicts() ──\n",
      "✖ dplyr::filter() masks stats::filter()\n",
      "✖ dplyr::lag()    masks stats::lag()\n",
      "Loading required package: data.table\n",
      "\n",
      "Attaching package: ‘data.table’\n",
      "\n",
      "The following objects are masked from ‘package:dplyr’:\n",
      "\n",
      "    between, first, last\n",
      "\n",
      "The following object is masked from ‘package:purrr’:\n",
      "\n",
      "    transpose\n",
      "\n"
     ]
    }
   ],
   "source": [
    "require(tidyverse)\n",
    "require(data.table)"
   ]
  },
  {
   "cell_type": "markdown",
   "metadata": {},
   "source": [
    "## (a) INI2734 Number_of_live_births"
   ]
  },
  {
   "cell_type": "code",
   "execution_count": 6,
   "metadata": {},
   "outputs": [],
   "source": [
    "df2734 <- fread('INI2734.ANGPTL7.tsv', data.table=F, sep='\\t')"
   ]
  },
  {
   "cell_type": "code",
   "execution_count": 10,
   "metadata": {},
   "outputs": [
    {
     "data": {
      "text/html": [
       "<table>\n",
       "<thead><tr><th scope=col>#ID</th><th scope=col>OBS_CT</th><th scope=col>BETA</th><th scope=col>SE</th><th scope=col>P</th><th scope=col>Str</th></tr></thead>\n",
       "<tbody>\n",
       "\t<tr><td>1:11252357:A:G                        </td><td>180831                                </td><td> 0.04543750                           </td><td>0.0612242                             </td><td>0.4579980                             </td><td>0.0454375 [-0.074561932,0.165436932]  </td></tr>\n",
       "\t<tr><td>1:11252369:G:A                        </td><td>180835                                </td><td> 0.03542480                           </td><td>0.0304326                             </td><td>0.2444090                             </td><td>0.0354248 [-0.024223096,0.095072696]  </td></tr>\n",
       "\t<tr><td>1:11253684:G:T                        </td><td>180665                                </td><td>-0.00412694                           </td><td>0.0167107                             </td><td>0.8049360                             </td><td>-0.00412694 [-0.036879912,0.028626032]</td></tr>\n",
       "\t<tr><td>1:11253688:C:T                        </td><td>180916                                </td><td> 0.15715100                           </td><td>0.0725280                             </td><td>0.0302545                             </td><td>0.157151 [0.01499612,0.29930588]      </td></tr>\n",
       "</tbody>\n",
       "</table>\n"
      ],
      "text/latex": [
       "\\begin{tabular}{r|llllll}\n",
       " \\#ID & OBS\\_CT & BETA & SE & P & Str\\\\\n",
       "\\hline\n",
       "\t 1:11252357:A:G                             & 180831                                     &  0.04543750                                & 0.0612242                                  & 0.4579980                                  & 0.0454375 {[}-0.074561932,0.165436932{]}  \\\\\n",
       "\t 1:11252369:G:A                             & 180835                                     &  0.03542480                                & 0.0304326                                  & 0.2444090                                  & 0.0354248 {[}-0.024223096,0.095072696{]}  \\\\\n",
       "\t 1:11253684:G:T                             & 180665                                     & -0.00412694                                & 0.0167107                                  & 0.8049360                                  & -0.00412694 {[}-0.036879912,0.028626032{]}\\\\\n",
       "\t 1:11253688:C:T                             & 180916                                     &  0.15715100                                & 0.0725280                                  & 0.0302545                                  & 0.157151 {[}0.01499612,0.29930588{]}      \\\\\n",
       "\\end{tabular}\n"
      ],
      "text/markdown": [
       "\n",
       "| #ID | OBS_CT | BETA | SE | P | Str |\n",
       "|---|---|---|---|---|---|\n",
       "| 1:11252357:A:G                         | 180831                                 |  0.04543750                            | 0.0612242                              | 0.4579980                              | 0.0454375 [-0.074561932,0.165436932]   |\n",
       "| 1:11252369:G:A                         | 180835                                 |  0.03542480                            | 0.0304326                              | 0.2444090                              | 0.0354248 [-0.024223096,0.095072696]   |\n",
       "| 1:11253684:G:T                         | 180665                                 | -0.00412694                            | 0.0167107                              | 0.8049360                              | -0.00412694 [-0.036879912,0.028626032] |\n",
       "| 1:11253688:C:T                         | 180916                                 |  0.15715100                            | 0.0725280                              | 0.0302545                              | 0.157151 [0.01499612,0.29930588]       |\n",
       "\n"
      ],
      "text/plain": [
       "  #ID            OBS_CT BETA        SE        P        \n",
       "1 1:11252357:A:G 180831  0.04543750 0.0612242 0.4579980\n",
       "2 1:11252369:G:A 180835  0.03542480 0.0304326 0.2444090\n",
       "3 1:11253684:G:T 180665 -0.00412694 0.0167107 0.8049360\n",
       "4 1:11253688:C:T 180916  0.15715100 0.0725280 0.0302545\n",
       "  Str                                   \n",
       "1 0.0454375 [-0.074561932,0.165436932]  \n",
       "2 0.0354248 [-0.024223096,0.095072696]  \n",
       "3 -0.00412694 [-0.036879912,0.028626032]\n",
       "4 0.157151 [0.01499612,0.29930588]      "
      ]
     },
     "metadata": {},
     "output_type": "display_data"
    }
   ],
   "source": [
    "df2734 %>% mutate(\n",
    "    l95 = BETA - 1.96 * SE,\n",
    "    u95 = BETA + 1.96 * SE,\n",
    "    Str = paste0(BETA, ' [', l95, ',', u95, ']')\n",
    ") %>%\n",
    "select(-POS, -l95, -u95)"
   ]
  },
  {
   "cell_type": "markdown",
   "metadata": {},
   "source": [
    "## (b) INI2405 Number_of_children_fathered"
   ]
  },
  {
   "cell_type": "code",
   "execution_count": 2,
   "metadata": {},
   "outputs": [],
   "source": [
    "df2405 <- fread('INI2405.ANGPTL7.tsv', data.table=F, sep='\\t')"
   ]
  },
  {
   "cell_type": "code",
   "execution_count": 11,
   "metadata": {},
   "outputs": [
    {
     "data": {
      "text/html": [
       "<table>\n",
       "<thead><tr><th scope=col>#ID</th><th scope=col>OBS_CT</th><th scope=col>BETA</th><th scope=col>SE</th><th scope=col>P</th><th scope=col>Str</th></tr></thead>\n",
       "<tbody>\n",
       "\t<tr><td>1:11252357:A:G                        </td><td>154981                                </td><td> 0.01288310                           </td><td>0.0735547                             </td><td>0.860962                              </td><td>0.0128831 [-0.131284112,0.157050312]  </td></tr>\n",
       "\t<tr><td>1:11252369:G:A                        </td><td>154975                                </td><td> 0.00601792                           </td><td>0.0308200                             </td><td>0.845190                              </td><td>0.00601792 [-0.05438928,0.06642512]   </td></tr>\n",
       "\t<tr><td>1:11253684:G:T                        </td><td>154869                                </td><td>-0.00415319                           </td><td>0.0175889                             </td><td>0.813336                              </td><td>-0.00415319 [-0.038627434,0.030321054]</td></tr>\n",
       "\t<tr><td>1:11253688:C:T                        </td><td>155051                                </td><td>-0.03752340                           </td><td>0.0813998                             </td><td>0.644816                              </td><td>-0.0375234 [-0.197067008,0.122020208] </td></tr>\n",
       "</tbody>\n",
       "</table>\n"
      ],
      "text/latex": [
       "\\begin{tabular}{r|llllll}\n",
       " \\#ID & OBS\\_CT & BETA & SE & P & Str\\\\\n",
       "\\hline\n",
       "\t 1:11252357:A:G                             & 154981                                     &  0.01288310                                & 0.0735547                                  & 0.860962                                   & 0.0128831 {[}-0.131284112,0.157050312{]}  \\\\\n",
       "\t 1:11252369:G:A                             & 154975                                     &  0.00601792                                & 0.0308200                                  & 0.845190                                   & 0.00601792 {[}-0.05438928,0.06642512{]}   \\\\\n",
       "\t 1:11253684:G:T                             & 154869                                     & -0.00415319                                & 0.0175889                                  & 0.813336                                   & -0.00415319 {[}-0.038627434,0.030321054{]}\\\\\n",
       "\t 1:11253688:C:T                             & 155051                                     & -0.03752340                                & 0.0813998                                  & 0.644816                                   & -0.0375234 {[}-0.197067008,0.122020208{]} \\\\\n",
       "\\end{tabular}\n"
      ],
      "text/markdown": [
       "\n",
       "| #ID | OBS_CT | BETA | SE | P | Str |\n",
       "|---|---|---|---|---|---|\n",
       "| 1:11252357:A:G                         | 154981                                 |  0.01288310                            | 0.0735547                              | 0.860962                               | 0.0128831 [-0.131284112,0.157050312]   |\n",
       "| 1:11252369:G:A                         | 154975                                 |  0.00601792                            | 0.0308200                              | 0.845190                               | 0.00601792 [-0.05438928,0.06642512]    |\n",
       "| 1:11253684:G:T                         | 154869                                 | -0.00415319                            | 0.0175889                              | 0.813336                               | -0.00415319 [-0.038627434,0.030321054] |\n",
       "| 1:11253688:C:T                         | 155051                                 | -0.03752340                            | 0.0813998                              | 0.644816                               | -0.0375234 [-0.197067008,0.122020208]  |\n",
       "\n"
      ],
      "text/plain": [
       "  #ID            OBS_CT BETA        SE        P       \n",
       "1 1:11252357:A:G 154981  0.01288310 0.0735547 0.860962\n",
       "2 1:11252369:G:A 154975  0.00601792 0.0308200 0.845190\n",
       "3 1:11253684:G:T 154869 -0.00415319 0.0175889 0.813336\n",
       "4 1:11253688:C:T 155051 -0.03752340 0.0813998 0.644816\n",
       "  Str                                   \n",
       "1 0.0128831 [-0.131284112,0.157050312]  \n",
       "2 0.00601792 [-0.05438928,0.06642512]   \n",
       "3 -0.00415319 [-0.038627434,0.030321054]\n",
       "4 -0.0375234 [-0.197067008,0.122020208] "
      ]
     },
     "metadata": {},
     "output_type": "display_data"
    }
   ],
   "source": [
    "df2405 %>% mutate(\n",
    "    l95 = BETA - 1.96 * SE,\n",
    "    u95 = BETA + 1.96 * SE,\n",
    "    Str = paste0(BETA, ' [', l95, ',', u95, ']')\n",
    ")%>%\n",
    "select(-POS, -l95, -u95)"
   ]
  },
  {
   "cell_type": "code",
   "execution_count": null,
   "metadata": {},
   "outputs": [],
   "source": []
  }
 ],
 "metadata": {
  "kernelspec": {
   "display_name": "R 3.5 (module)",
   "language": "R",
   "name": "ir35ml"
  },
  "language_info": {
   "codemirror_mode": "r",
   "file_extension": ".r",
   "mimetype": "text/x-r-source",
   "name": "R",
   "pygments_lexer": "r",
   "version": "3.5.1"
  }
 },
 "nbformat": 4,
 "nbformat_minor": 2
}
