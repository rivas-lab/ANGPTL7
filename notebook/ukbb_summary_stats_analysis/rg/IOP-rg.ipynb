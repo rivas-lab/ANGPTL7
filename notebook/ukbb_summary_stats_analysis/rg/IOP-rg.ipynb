{
 "cells": [
  {
   "cell_type": "code",
   "execution_count": 1,
   "metadata": {},
   "outputs": [
    {
     "name": "stderr",
     "output_type": "stream",
     "text": [
      "── \u001b[1mAttaching packages\u001b[22m ─────────────────────────────────────── tidyverse 1.2.1 ──\n",
      "\u001b[32m✔\u001b[39m \u001b[34mggplot2\u001b[39m 3.2.1     \u001b[32m✔\u001b[39m \u001b[34mpurrr  \u001b[39m 0.3.2\n",
      "\u001b[32m✔\u001b[39m \u001b[34mtibble \u001b[39m 2.1.3     \u001b[32m✔\u001b[39m \u001b[34mdplyr  \u001b[39m 0.8.3\n",
      "\u001b[32m✔\u001b[39m \u001b[34mtidyr  \u001b[39m 0.8.3     \u001b[32m✔\u001b[39m \u001b[34mstringr\u001b[39m 1.4.0\n",
      "\u001b[32m✔\u001b[39m \u001b[34mreadr  \u001b[39m 1.3.1     \u001b[32m✔\u001b[39m \u001b[34mforcats\u001b[39m 0.4.0\n",
      "── \u001b[1mConflicts\u001b[22m ────────────────────────────────────────── tidyverse_conflicts() ──\n",
      "\u001b[31m✖\u001b[39m \u001b[34mdplyr\u001b[39m::\u001b[32mfilter()\u001b[39m masks \u001b[34mstats\u001b[39m::filter()\n",
      "\u001b[31m✖\u001b[39m \u001b[34mdplyr\u001b[39m::\u001b[32mlag()\u001b[39m    masks \u001b[34mstats\u001b[39m::lag()\n",
      "\n",
      "Attaching package: ‘data.table’\n",
      "\n",
      "The following objects are masked from ‘package:dplyr’:\n",
      "\n",
      "    between, first, last\n",
      "\n",
      "The following object is masked from ‘package:purrr’:\n",
      "\n",
      "    transpose\n",
      "\n"
     ]
    }
   ],
   "source": [
    "library(tidyverse)\n",
    "library(data.table)\n",
    "library(latex2exp)\n",
    "library(googlesheets)\n"
   ]
  },
  {
   "cell_type": "code",
   "execution_count": 20,
   "metadata": {},
   "outputs": [],
   "source": [
    "# gs_auth(token = \"~/.googlesheets_token.rds\")\n",
    "# file <- 'https://docs.google.com/spreadsheets/d/1gwzS0SVZBSKkkHgsoqB5vHo5JpUeYYz8PK2RWrHEq3A'\n",
    "# names_df <- file %>% gs_url() %>% gs_read(ws = 'GBE_names')\n"
   ]
  },
  {
   "cell_type": "code",
   "execution_count": 21,
   "metadata": {},
   "outputs": [],
   "source": [
    "names_df <- data.table(\n",
    "    GBE_ID = c('INI5254', 'INI5255', 'INI5262', 'INI5263'),\n",
    "    GBE_NAME = c(\n",
    "        'Intra-ocular_pressure,_corneal-compensated_(right)',\n",
    "        'Intra-ocular_pressure,_Goldmann-correlated_(right)',\n",
    "        'Intra-ocular_pressure,_corneal-compensated_(left)',\n",
    "        'Intra-ocular_pressure,_Goldmann-correlated_(left)'\n",
    "    ),\n",
    "    GBE_short_name = c(\n",
    "        'IOP, corneal-compensated (R)',\n",
    "        'IOP, Goldmann-correlated (R)',\n",
    "        'IOP, corneal-compensated (L)',\n",
    "        'IOP, Goldmann-correlated (L)'\n",
    "    )\n",
    ")"
   ]
  },
  {
   "cell_type": "code",
   "execution_count": 7,
   "metadata": {},
   "outputs": [],
   "source": [
    "log_dir='data'\n",
    "dataset='ANGPTL7'\n",
    "ldsc_dir='/oak/stanford/groups/mrivas/dev-ukbb-tools/ldsc'\n"
   ]
  },
  {
   "cell_type": "code",
   "execution_count": 10,
   "metadata": {},
   "outputs": [],
   "source": [
    "df <- fread(\n",
    "    cmd=paste0(\n",
    "        'find ', log_dir, \n",
    "        ' -maxdepth 1 -type f -name \"*.log\"', \n",
    "        \" | while read f ; do cat $f | tail -n4 | head -n1 ; done\",    \n",
    "        ' | sed -e \"s%', file.path(ldsc_dir, 'munged', dataset), '/ukb24983_v2_hg19.%%g\"', \n",
    "        ' | sed -e \"s%.genotyped.sumstats.gz%%g\"',\n",
    "        ' | sort -k1V'\n",
    "    ), data.table=F, head=F, \n",
    ")\n",
    "\n",
    "colnames(df) <- c(\n",
    "    'p1', 'p2', 'rg', 'se', 'z', 'p', \n",
    "    'h2_obs', 'h2_obs_se', 'h2_int', 'h2_int_se', 'gcov_int', 'gcov_int_se'\n",
    ")"
   ]
  },
  {
   "cell_type": "code",
   "execution_count": 25,
   "metadata": {},
   "outputs": [],
   "source": [
    "merged_df <- df %>% \n",
    "left_join(\n",
    "    names_df %>% select(GBE_ID, GBE_NAME, GBE_short_name) %>% rename(p2 = GBE_ID),\n",
    "    by='p2'\n",
    ")\n"
   ]
  },
  {
   "cell_type": "code",
   "execution_count": 26,
   "metadata": {},
   "outputs": [
    {
     "data": {
      "text/html": [
       "<table>\n",
       "<caption>A data.frame: 3 × 14</caption>\n",
       "<thead>\n",
       "\t<tr><th scope=col>p1</th><th scope=col>p2</th><th scope=col>rg</th><th scope=col>se</th><th scope=col>z</th><th scope=col>p</th><th scope=col>h2_obs</th><th scope=col>h2_obs_se</th><th scope=col>h2_int</th><th scope=col>h2_int_se</th><th scope=col>gcov_int</th><th scope=col>gcov_int_se</th><th scope=col>GBE_NAME</th><th scope=col>GBE_short_name</th></tr>\n",
       "\t<tr><th scope=col>&lt;chr&gt;</th><th scope=col>&lt;chr&gt;</th><th scope=col>&lt;dbl&gt;</th><th scope=col>&lt;dbl&gt;</th><th scope=col>&lt;dbl&gt;</th><th scope=col>&lt;dbl&gt;</th><th scope=col>&lt;dbl&gt;</th><th scope=col>&lt;dbl&gt;</th><th scope=col>&lt;dbl&gt;</th><th scope=col>&lt;dbl&gt;</th><th scope=col>&lt;dbl&gt;</th><th scope=col>&lt;dbl&gt;</th><th scope=col>&lt;chr&gt;</th><th scope=col>&lt;chr&gt;</th></tr>\n",
       "</thead>\n",
       "<tbody>\n",
       "\t<tr><td>INI5255</td><td>INI5254</td><td>0.7920</td><td>0.0159</td><td> 49.9037</td><td> 0.0000e+00</td><td>0.1490</td><td>0.0106</td><td>1.0162</td><td>0.0075</td><td>0.8266</td><td>0.0070</td><td>Intra-ocular_pressure,_corneal-compensated_(right)</td><td>IOP, corneal-compensated (R)</td></tr>\n",
       "\t<tr><td>INI5255</td><td>INI5262</td><td>0.8297</td><td>0.0220</td><td> 37.7411</td><td>1.0532e-311</td><td>0.1576</td><td>0.0105</td><td>1.0083</td><td>0.0072</td><td>0.5488</td><td>0.0062</td><td>Intra-ocular_pressure,_corneal-compensated_(left) </td><td>IOP, corneal-compensated (L)</td></tr>\n",
       "\t<tr><td>INI5255</td><td>INI5263</td><td>1.0175</td><td>0.0096</td><td>105.7755</td><td> 0.0000e+00</td><td>0.2253</td><td>0.0133</td><td>1.0090</td><td>0.0082</td><td>0.7368</td><td>0.0074</td><td>Intra-ocular_pressure,_Goldmann-correlated_(left) </td><td>IOP, Goldmann-correlated (L)</td></tr>\n",
       "</tbody>\n",
       "</table>\n"
      ],
      "text/latex": [
       "A data.frame: 3 × 14\n",
       "\\begin{tabular}{r|llllllllllllll}\n",
       " p1 & p2 & rg & se & z & p & h2\\_obs & h2\\_obs\\_se & h2\\_int & h2\\_int\\_se & gcov\\_int & gcov\\_int\\_se & GBE\\_NAME & GBE\\_short\\_name\\\\\n",
       " <chr> & <chr> & <dbl> & <dbl> & <dbl> & <dbl> & <dbl> & <dbl> & <dbl> & <dbl> & <dbl> & <dbl> & <chr> & <chr>\\\\\n",
       "\\hline\n",
       "\t INI5255 & INI5254 & 0.7920 & 0.0159 &  49.9037 &  0.0000e+00 & 0.1490 & 0.0106 & 1.0162 & 0.0075 & 0.8266 & 0.0070 & Intra-ocular\\_pressure,\\_corneal-compensated\\_(right) & IOP, corneal-compensated (R)\\\\\n",
       "\t INI5255 & INI5262 & 0.8297 & 0.0220 &  37.7411 & 1.0532e-311 & 0.1576 & 0.0105 & 1.0083 & 0.0072 & 0.5488 & 0.0062 & Intra-ocular\\_pressure,\\_corneal-compensated\\_(left)  & IOP, corneal-compensated (L)\\\\\n",
       "\t INI5255 & INI5263 & 1.0175 & 0.0096 & 105.7755 &  0.0000e+00 & 0.2253 & 0.0133 & 1.0090 & 0.0082 & 0.7368 & 0.0074 & Intra-ocular\\_pressure,\\_Goldmann-correlated\\_(left)  & IOP, Goldmann-correlated (L)\\\\\n",
       "\\end{tabular}\n"
      ],
      "text/markdown": [
       "\n",
       "A data.frame: 3 × 14\n",
       "\n",
       "| p1 &lt;chr&gt; | p2 &lt;chr&gt; | rg &lt;dbl&gt; | se &lt;dbl&gt; | z &lt;dbl&gt; | p &lt;dbl&gt; | h2_obs &lt;dbl&gt; | h2_obs_se &lt;dbl&gt; | h2_int &lt;dbl&gt; | h2_int_se &lt;dbl&gt; | gcov_int &lt;dbl&gt; | gcov_int_se &lt;dbl&gt; | GBE_NAME &lt;chr&gt; | GBE_short_name &lt;chr&gt; |\n",
       "|---|---|---|---|---|---|---|---|---|---|---|---|---|---|\n",
       "| INI5255 | INI5254 | 0.7920 | 0.0159 |  49.9037 |  0.0000e+00 | 0.1490 | 0.0106 | 1.0162 | 0.0075 | 0.8266 | 0.0070 | Intra-ocular_pressure,_corneal-compensated_(right) | IOP, corneal-compensated (R) |\n",
       "| INI5255 | INI5262 | 0.8297 | 0.0220 |  37.7411 | 1.0532e-311 | 0.1576 | 0.0105 | 1.0083 | 0.0072 | 0.5488 | 0.0062 | Intra-ocular_pressure,_corneal-compensated_(left)  | IOP, corneal-compensated (L) |\n",
       "| INI5255 | INI5263 | 1.0175 | 0.0096 | 105.7755 |  0.0000e+00 | 0.2253 | 0.0133 | 1.0090 | 0.0082 | 0.7368 | 0.0074 | Intra-ocular_pressure,_Goldmann-correlated_(left)  | IOP, Goldmann-correlated (L) |\n",
       "\n"
      ],
      "text/plain": [
       "  p1      p2      rg     se     z        p           h2_obs h2_obs_se h2_int\n",
       "1 INI5255 INI5254 0.7920 0.0159  49.9037  0.0000e+00 0.1490 0.0106    1.0162\n",
       "2 INI5255 INI5262 0.8297 0.0220  37.7411 1.0532e-311 0.1576 0.0105    1.0083\n",
       "3 INI5255 INI5263 1.0175 0.0096 105.7755  0.0000e+00 0.2253 0.0133    1.0090\n",
       "  h2_int_se gcov_int gcov_int_se\n",
       "1 0.0075    0.8266   0.0070     \n",
       "2 0.0072    0.5488   0.0062     \n",
       "3 0.0082    0.7368   0.0074     \n",
       "  GBE_NAME                                          \n",
       "1 Intra-ocular_pressure,_corneal-compensated_(right)\n",
       "2 Intra-ocular_pressure,_corneal-compensated_(left) \n",
       "3 Intra-ocular_pressure,_Goldmann-correlated_(left) \n",
       "  GBE_short_name              \n",
       "1 IOP, corneal-compensated (R)\n",
       "2 IOP, corneal-compensated (L)\n",
       "3 IOP, Goldmann-correlated (L)"
      ]
     },
     "metadata": {},
     "output_type": "display_data"
    }
   ],
   "source": [
    "merged_df"
   ]
  },
  {
   "cell_type": "code",
   "execution_count": 27,
   "metadata": {},
   "outputs": [],
   "source": [
    "merged_df %>% fwrite(paste0(dataset, '.tsv'), row.names = F, sep='\\t')\n"
   ]
  },
  {
   "cell_type": "code",
   "execution_count": 54,
   "metadata": {},
   "outputs": [],
   "source": [
    "plot_df <- merged_df %>% \n",
    "filter(p <= (0.05 / merged_df %>% dim() %>% first())) %>%\n",
    "select(p2, rg, se, p, GBE_NAME, GBE_short_name) %>% \n",
    "mutate(\n",
    "    xlabel = paste0(GBE_short_name, ' (', p2, ')'),\n",
    "    ymin = rg - 1.96 * se,\n",
    "    ymax = rg + 1.96 * se\n",
    ")\n"
   ]
  },
  {
   "cell_type": "code",
   "execution_count": 55,
   "metadata": {},
   "outputs": [
    {
     "data": {
      "text/html": [
       "<table>\n",
       "<caption>A data.frame: 3 × 9</caption>\n",
       "<thead>\n",
       "\t<tr><th scope=col>p2</th><th scope=col>rg</th><th scope=col>se</th><th scope=col>p</th><th scope=col>GBE_NAME</th><th scope=col>GBE_short_name</th><th scope=col>xlabel</th><th scope=col>ymin</th><th scope=col>ymax</th></tr>\n",
       "\t<tr><th scope=col>&lt;chr&gt;</th><th scope=col>&lt;dbl&gt;</th><th scope=col>&lt;dbl&gt;</th><th scope=col>&lt;dbl&gt;</th><th scope=col>&lt;chr&gt;</th><th scope=col>&lt;chr&gt;</th><th scope=col>&lt;chr&gt;</th><th scope=col>&lt;dbl&gt;</th><th scope=col>&lt;dbl&gt;</th></tr>\n",
       "</thead>\n",
       "<tbody>\n",
       "\t<tr><td>INI5254</td><td>0.7920</td><td>0.0159</td><td> 0.0000e+00</td><td>Intra-ocular_pressure,_corneal-compensated_(right)</td><td>IOP, corneal-compensated (R)</td><td>IOP, corneal-compensated (R) (INI5254)</td><td>0.760836</td><td>0.823164</td></tr>\n",
       "\t<tr><td>INI5262</td><td>0.8297</td><td>0.0220</td><td>1.0532e-311</td><td>Intra-ocular_pressure,_corneal-compensated_(left) </td><td>IOP, corneal-compensated (L)</td><td>IOP, corneal-compensated (L) (INI5262)</td><td>0.786580</td><td>0.872820</td></tr>\n",
       "\t<tr><td>INI5263</td><td>1.0175</td><td>0.0096</td><td> 0.0000e+00</td><td>Intra-ocular_pressure,_Goldmann-correlated_(left) </td><td>IOP, Goldmann-correlated (L)</td><td>IOP, Goldmann-correlated (L) (INI5263)</td><td>0.998684</td><td>1.036316</td></tr>\n",
       "</tbody>\n",
       "</table>\n"
      ],
      "text/latex": [
       "A data.frame: 3 × 9\n",
       "\\begin{tabular}{r|lllllllll}\n",
       " p2 & rg & se & p & GBE\\_NAME & GBE\\_short\\_name & xlabel & ymin & ymax\\\\\n",
       " <chr> & <dbl> & <dbl> & <dbl> & <chr> & <chr> & <chr> & <dbl> & <dbl>\\\\\n",
       "\\hline\n",
       "\t INI5254 & 0.7920 & 0.0159 &  0.0000e+00 & Intra-ocular\\_pressure,\\_corneal-compensated\\_(right) & IOP, corneal-compensated (R) & IOP, corneal-compensated (R) (INI5254) & 0.760836 & 0.823164\\\\\n",
       "\t INI5262 & 0.8297 & 0.0220 & 1.0532e-311 & Intra-ocular\\_pressure,\\_corneal-compensated\\_(left)  & IOP, corneal-compensated (L) & IOP, corneal-compensated (L) (INI5262) & 0.786580 & 0.872820\\\\\n",
       "\t INI5263 & 1.0175 & 0.0096 &  0.0000e+00 & Intra-ocular\\_pressure,\\_Goldmann-correlated\\_(left)  & IOP, Goldmann-correlated (L) & IOP, Goldmann-correlated (L) (INI5263) & 0.998684 & 1.036316\\\\\n",
       "\\end{tabular}\n"
      ],
      "text/markdown": [
       "\n",
       "A data.frame: 3 × 9\n",
       "\n",
       "| p2 &lt;chr&gt; | rg &lt;dbl&gt; | se &lt;dbl&gt; | p &lt;dbl&gt; | GBE_NAME &lt;chr&gt; | GBE_short_name &lt;chr&gt; | xlabel &lt;chr&gt; | ymin &lt;dbl&gt; | ymax &lt;dbl&gt; |\n",
       "|---|---|---|---|---|---|---|---|---|\n",
       "| INI5254 | 0.7920 | 0.0159 |  0.0000e+00 | Intra-ocular_pressure,_corneal-compensated_(right) | IOP, corneal-compensated (R) | IOP, corneal-compensated (R) (INI5254) | 0.760836 | 0.823164 |\n",
       "| INI5262 | 0.8297 | 0.0220 | 1.0532e-311 | Intra-ocular_pressure,_corneal-compensated_(left)  | IOP, corneal-compensated (L) | IOP, corneal-compensated (L) (INI5262) | 0.786580 | 0.872820 |\n",
       "| INI5263 | 1.0175 | 0.0096 |  0.0000e+00 | Intra-ocular_pressure,_Goldmann-correlated_(left)  | IOP, Goldmann-correlated (L) | IOP, Goldmann-correlated (L) (INI5263) | 0.998684 | 1.036316 |\n",
       "\n"
      ],
      "text/plain": [
       "  p2      rg     se     p          \n",
       "1 INI5254 0.7920 0.0159  0.0000e+00\n",
       "2 INI5262 0.8297 0.0220 1.0532e-311\n",
       "3 INI5263 1.0175 0.0096  0.0000e+00\n",
       "  GBE_NAME                                          \n",
       "1 Intra-ocular_pressure,_corneal-compensated_(right)\n",
       "2 Intra-ocular_pressure,_corneal-compensated_(left) \n",
       "3 Intra-ocular_pressure,_Goldmann-correlated_(left) \n",
       "  GBE_short_name               xlabel                                 ymin    \n",
       "1 IOP, corneal-compensated (R) IOP, corneal-compensated (R) (INI5254) 0.760836\n",
       "2 IOP, corneal-compensated (L) IOP, corneal-compensated (L) (INI5262) 0.786580\n",
       "3 IOP, Goldmann-correlated (L) IOP, Goldmann-correlated (L) (INI5263) 0.998684\n",
       "  ymax    \n",
       "1 0.823164\n",
       "2 0.872820\n",
       "3 1.036316"
      ]
     },
     "metadata": {},
     "output_type": "display_data"
    }
   ],
   "source": [
    "plot_df"
   ]
  },
  {
   "cell_type": "code",
   "execution_count": 53,
   "metadata": {},
   "outputs": [
    {
     "data": {
      "image/png": "[encoded data removed]",
      "text/plain": [
       "plot without title"
      ]
     },
     "metadata": {},
     "output_type": "display_data"
    }
   ],
   "source": [
    "p <- plot_df %>% \n",
    "ggplot(aes(x = xlabel, y = rg)) + \n",
    "geom_point() + \n",
    "geom_errorbar(aes(ymin = ymin, ymax = ymax), width = 0.2) + \n",
    "geom_hline(yintercept = 0, color='gray')+\n",
    "ylim(-1, 1.1)+\n",
    "theme_bw()+\n",
    "theme(\n",
    "    axis.text.x = element_text(angle = 90, hjust = 1),\n",
    "    legend.position=c(0.02,0.02),\n",
    "    legend.justification=c(0,0)\n",
    ") + \n",
    "labs(\n",
    "    x = 'Intraocular pressure (IOP) measurement (GBE ID)',\n",
    "    y = 'Genetic correlation (rg)'\n",
    ")\n",
    "\n",
    "p"
   ]
  },
  {
   "cell_type": "code",
   "execution_count": 56,
   "metadata": {},
   "outputs": [
    {
     "name": "stderr",
     "output_type": "stream",
     "text": [
      "Saving 6.67 x 6.67 in image\n"
     ]
    }
   ],
   "source": [
    "ggsave(paste0(dataset, '.pdf'), p)\n"
   ]
  },
  {
   "cell_type": "code",
   "execution_count": 57,
   "metadata": {},
   "outputs": [
    {
     "name": "stderr",
     "output_type": "stream",
     "text": [
      "Saving 6.67 x 6.67 in image\n"
     ]
    }
   ],
   "source": [
    "ggsave(paste0(dataset, '.png'), p)\n"
   ]
  },
  {
   "cell_type": "code",
   "execution_count": null,
   "metadata": {},
   "outputs": [],
   "source": []
  }
 ],
 "metadata": {
  "kernelspec": {
   "display_name": "R",
   "language": "R",
   "name": "ir"
  },
  "language_info": {
   "codemirror_mode": "r",
   "file_extension": ".r",
   "mimetype": "text/x-r-source",
   "name": "R",
   "pygments_lexer": "r",
   "version": "3.6.1"
  }
 },
 "nbformat": 4,
 "nbformat_minor": 4
}
