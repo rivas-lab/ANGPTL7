{
 "cells": [
  {
   "cell_type": "code",
   "execution_count": 1,
   "metadata": {},
   "outputs": [
    {
     "name": "stderr",
     "output_type": "stream",
     "text": [
      "Loading required package: tidyverse\n",
      "── Attaching packages ─────────────────────────────────────── tidyverse 1.2.1 ──\n",
      "✔ ggplot2 3.1.0       ✔ purrr   0.3.1  \n",
      "✔ tibble  2.0.1       ✔ dplyr   0.8.0.1\n",
      "✔ tidyr   0.8.3       ✔ stringr 1.4.0  \n",
      "✔ readr   1.3.1       ✔ forcats 0.4.0  \n",
      "── Conflicts ────────────────────────────────────────── tidyverse_conflicts() ──\n",
      "✖ dplyr::filter() masks stats::filter()\n",
      "✖ dplyr::lag()    masks stats::lag()\n",
      "Loading required package: data.table\n",
      "\n",
      "Attaching package: ‘data.table’\n",
      "\n",
      "The following objects are masked from ‘package:dplyr’:\n",
      "\n",
      "    between, first, last\n",
      "\n",
      "The following object is masked from ‘package:purrr’:\n",
      "\n",
      "    transpose\n",
      "\n",
      "Loading required package: forestplot\n",
      "Loading required package: grid\n",
      "Loading required package: magrittr\n",
      "\n",
      "Attaching package: ‘magrittr’\n",
      "\n",
      "The following object is masked from ‘package:purrr’:\n",
      "\n",
      "    set_names\n",
      "\n",
      "The following object is masked from ‘package:tidyr’:\n",
      "\n",
      "    extract\n",
      "\n",
      "Loading required package: checkmate\n",
      "Loading required package: meta\n",
      "Loading 'meta' package (version 4.9-5).\n",
      "Type 'help(meta)' for a brief overview.\n"
     ]
    }
   ],
   "source": [
    "require(tidyverse)\n",
    "require(data.table)\n",
    "require(forestplot)\n",
    "require(meta)\n"
   ]
  },
  {
   "cell_type": "code",
   "execution_count": 2,
   "metadata": {},
   "outputs": [],
   "source": [
    "# madata <- data.frame(\n",
    "#     Variant = c('Gln175His', 'Arg220Cys'),\n",
    "#     TE      = c(log(0.661179), -0.3335), \n",
    "#     seTE    = c(0.148816,       0.0546),\n",
    "#     stringsAsFactors=F\n",
    "# )\n"
   ]
  },
  {
   "cell_type": "code",
   "execution_count": 3,
   "metadata": {},
   "outputs": [],
   "source": [
    "# m<-metagen(\n",
    "#     TE,\n",
    "#     seTE,\n",
    "#     data=madata,\n",
    "#     studlab=paste(Variant),\n",
    "#     comb.fixed = TRUE,\n",
    "#     comb.random = FALSE,\n",
    "#     prediction=TRUE,\n",
    "#     sm=\"SMD\"\n",
    "# )"
   ]
  },
  {
   "cell_type": "code",
   "execution_count": 4,
   "metadata": {},
   "outputs": [],
   "source": [
    "# m"
   ]
  },
  {
   "cell_type": "code",
   "execution_count": 5,
   "metadata": {},
   "outputs": [],
   "source": [
    "# m$pval.fixed"
   ]
  },
  {
   "cell_type": "code",
   "execution_count": 6,
   "metadata": {},
   "outputs": [],
   "source": [
    "# pooled_TE   = m$TE.fixed\n",
    "# pooled_seTE = m$seTE.fixed"
   ]
  },
  {
   "cell_type": "code",
   "execution_count": 7,
   "metadata": {},
   "outputs": [],
   "source": [
    "# tabletext<-cbind(\n",
    "#     c('Variant',    madata %>% pull(Variant), 'Summary'),\n",
    "#     c('BETA', madata %>% pull(TE) %>% lapply(round, digits =2) %>% lapply(as.character) %>% \n",
    "#       simplify(), as.character(round(pooled_TE, digits=2)))\n",
    "# ) \n"
   ]
  },
  {
   "cell_type": "code",
   "execution_count": 8,
   "metadata": {},
   "outputs": [],
   "source": [
    "# plot_data <- bind_rows(\n",
    "#     data.frame(TE=NA, seTE=NA), \n",
    "#     madata, \n",
    "#     data.frame(TE=pooled_TE, seTE=pooled_seTE)\n",
    "# ) %>%\n",
    "# rename(mean = TE) %>%\n",
    "# mutate(\n",
    "#     lower = mean - 1.96 * seTE,\n",
    "#     upper = mean + 1.96 * seTE\n",
    "# ) %>%\n",
    "# select(mean, lower, upper)"
   ]
  },
  {
   "cell_type": "code",
   "execution_count": 9,
   "metadata": {},
   "outputs": [],
   "source": [
    "# png(file='ANGPTL7_Glaucoma_BETA_forest.png', width=1600, height=1200, res=300) \n",
    "# forestplot(\n",
    "#     tabletext, \n",
    "#     plot_data,\n",
    "#     new_page = TRUE,\n",
    "#     is.summary=c(TRUE,rep(FALSE,madata %>% dim() %>% first()),TRUE),\n",
    "#     xlog=FALSE, \n",
    "#     col=fpColors(box=\"royalblue\",line=\"darkblue\", summary=\"royalblue\")\n",
    "# )\n",
    "# dev.off()"
   ]
  },
  {
   "cell_type": "code",
   "execution_count": 10,
   "metadata": {},
   "outputs": [],
   "source": [
    "madata_full <- data.frame(\n",
    "    Variant = c('Gln175His', 'Arg177Ter', 'Arg140His', 'Gln136Arg', 'Arg220Cys'),\n",
    "    TE      = c(log(0.661179), log(0.582775), log(0.917626), log(0.210271), -0.3335), \n",
    "    seTE    = c(     0.148816,      0.711997,      0.226641,       1.00283,  0.0546),\n",
    "    stringsAsFactors=F\n",
    ")\n"
   ]
  },
  {
   "cell_type": "code",
   "execution_count": 11,
   "metadata": {},
   "outputs": [],
   "source": [
    "m_full<-metagen(\n",
    "    TE,\n",
    "    seTE,\n",
    "    data=madata_full,\n",
    "    studlab=paste(Variant),\n",
    "    comb.fixed = TRUE,\n",
    "    comb.random = FALSE,\n",
    "    prediction=TRUE,\n",
    "    sm=\"SMD\"\n",
    ")"
   ]
  },
  {
   "cell_type": "code",
   "execution_count": 12,
   "metadata": {},
   "outputs": [
    {
     "data": {
      "text/plain": [
       "              SMD             95%-CI %W(fixed)\n",
       "Gln175His -0.4137 [-0.7054; -0.1221]      11.2\n",
       "Arg177Ter -0.5400 [-1.9354;  0.8555]       0.5\n",
       "Arg140His -0.0860 [-0.5302;  0.3582]       4.8\n",
       "Gln136Arg -1.5594 [-3.5249;  0.4062]       0.2\n",
       "Arg220Cys -0.3335 [-0.4405; -0.2265]      83.2\n",
       "\n",
       "Number of studies combined: k = 5\n",
       "\n",
       "                        SMD             95%-CI     z  p-value\n",
       "Fixed effect model  -0.3346 [-0.4322; -0.2369] -6.72 < 0.0001\n",
       "Prediction interval         [-0.4931; -0.1760]               \n",
       "\n",
       "Quantifying heterogeneity:\n",
       "tau^2 = 0; H = 1.00 [1.00; 1.92]; I^2 = 0.0% [0.0%; 72.8%]\n",
       "\n",
       "Test of heterogeneity:\n",
       "    Q d.f. p-value\n",
       " 3.06    4  0.5476\n",
       "\n",
       "Details on meta-analytical method:\n",
       "- Inverse variance method"
      ]
     },
     "metadata": {},
     "output_type": "display_data"
    }
   ],
   "source": [
    "m_full"
   ]
  },
  {
   "cell_type": "code",
   "execution_count": 14,
   "metadata": {},
   "outputs": [
    {
     "name": "stdout",
     "output_type": "stream",
     "text": [
      "[1] 1.859792e-11\n"
     ]
    }
   ],
   "source": [
    "m_full$pval.fixed %>% print()\n",
    "pooled_TE_full   = m_full$TE.fixed\n",
    "pooled_seTE_full = m_full$seTE.fixed"
   ]
  },
  {
   "cell_type": "code",
   "execution_count": 29,
   "metadata": {},
   "outputs": [],
   "source": [
    "summary_TE_str <- paste0(\n",
    "    as.character(round(exp(pooled_TE_full), digits=2)),\n",
    "    ' [', \n",
    "    as.character(round(exp(pooled_TE_full - 1.96 * pooled_seTE_full), digits=2)),\n",
    "    ', ',\n",
    "    as.character(round(exp(pooled_TE_full + 1.96 * pooled_seTE_full), digits=2)),\n",
    "    ']'\n",
    ")\n",
    "                 "
   ]
  },
  {
   "cell_type": "code",
   "execution_count": 68,
   "metadata": {},
   "outputs": [],
   "source": [
    "tabletext_full<-cbind(\n",
    "    c('Variant',    madata_full %>% pull(Variant), 'Summary'),\n",
    "    c('OR [95% CI]', madata_full %>% pull(TE) %>% lapply(exp) %>%\n",
    "      lapply(round, digits =2) %>% lapply(as.character) %>% simplify(), \n",
    "      summary_TE_str)\n",
    ") \n",
    "plot_data_full <- bind_rows(\n",
    "    data.frame(TE=NA, seTE=NA), \n",
    "    madata_full, \n",
    "    data.frame(TE=pooled_TE_full, seTE=pooled_seTE_full)\n",
    ") %>%\n",
    "rename(mean = TE) %>%\n",
    "mutate(\n",
    "    lower = mean - 1.96 * seTE,\n",
    "    upper = mean + 1.96 * seTE\n",
    ") %>%\n",
    "select(mean, lower, upper)"
   ]
  },
  {
   "cell_type": "code",
   "execution_count": 73,
   "metadata": {},
   "outputs": [
    {
     "data": {
      "text/html": [
       "<strong>png:</strong> 2"
      ],
      "text/latex": [
       "\\textbf{png:} 2"
      ],
      "text/markdown": [
       "**png:** 2"
      ],
      "text/plain": [
       "png \n",
       "  2 "
      ]
     },
     "metadata": {},
     "output_type": "display_data"
    }
   ],
   "source": [
    "png(file='ANGPTL7_Glaucoma_BETA_forest_full.png', width=1600, height=1200, res=300) \n",
    "forestplot(\n",
    "    tabletext_full, \n",
    "    plot_data_full,\n",
    "    new_page = TRUE,\n",
    "    is.summary=c(TRUE,rep(FALSE,madata_full %>% dim() %>% first()),TRUE),\n",
    "    xlog=FALSE, \n",
    "    col=fpColors(box=\"royalblue\",line=\"darkblue\", summary=\"royalblue\"),\n",
    "    xticks = c(-log(32), -log(16), -log(8), -log(4), -log(2), -log(1), log(2))\n",
    ")\n",
    "dev.off()"
   ]
  },
  {
   "cell_type": "code",
   "execution_count": 42,
   "metadata": {},
   "outputs": [],
   "source": [
    "# tabletext_full_OR<-cbind(\n",
    "#     c('Variant',    madata_full %>% pull(Variant), 'Summary'),\n",
    "#     c('OR', madata_full %>% pull(TE) %>% lapply(exp) %>% \n",
    "#       lapply(round, digits =2) %>% lapply(as.character) %>% simplify(), \n",
    "#       as.character(round(exp(pooled_TE), digits=2)))\n",
    "# ) \n",
    "# plot_data_full_OR <- bind_rows(\n",
    "#     data.frame(TE=NA, seTE=NA), \n",
    "#     madata_full, \n",
    "#     data.frame(TE=pooled_TE_full, seTE=pooled_seTE_full)\n",
    "# ) %>%\n",
    "# rename(mean = TE) %>%\n",
    "# mutate(\n",
    "#     lower = exp(mean - 1.96 * seTE),\n",
    "#     upper = exp(mean + 1.96 * seTE),\n",
    "#     mean = exp(mean)\n",
    "# ) %>%\n",
    "# select(mean, lower, upper)"
   ]
  },
  {
   "cell_type": "code",
   "execution_count": 43,
   "metadata": {},
   "outputs": [
    {
     "data": {
      "text/html": [
       "<strong>png:</strong> 2"
      ],
      "text/latex": [
       "\\textbf{png:} 2"
      ],
      "text/markdown": [
       "**png:** 2"
      ],
      "text/plain": [
       "png \n",
       "  2 "
      ]
     },
     "metadata": {},
     "output_type": "display_data"
    }
   ],
   "source": [
    "# # png(file='ANGPTL7_Glaucoma_BETA_forest_full_OR.png', width=1600, height=1200, res=300) \n",
    "# forestplot(\n",
    "#     tabletext_full_OR, \n",
    "#     plot_data_full_OR,\n",
    "#     new_page = TRUE,\n",
    "#     is.summary=c(TRUE,rep(FALSE,madata_full %>% dim() %>% first()),TRUE),\n",
    "#     xlog=FALSE, \n",
    "#     col=fpColors(box=\"royalblue\",line=\"darkblue\", summary=\"royalblue\")\n",
    "# )\n",
    "# # dev.off()"
   ]
  },
  {
   "cell_type": "markdown",
   "metadata": {},
   "source": [
    "## reference \n",
    "- https://bookdown.org/MathiasHarrer/Doing_Meta_Analysis_in_R/fixed.html\n",
    "- https://cran.r-project.org/web/packages/forestplot/vignettes/forestplot.html"
   ]
  },
  {
   "cell_type": "code",
   "execution_count": 78,
   "metadata": {},
   "outputs": [
    {
     "data": {
      "text/html": [
       "0.125055204896714"
      ],
      "text/latex": [
       "0.125055204896714"
      ],
      "text/markdown": [
       "0.125055204896714"
      ],
      "text/plain": [
       "[1] 0.1250552"
      ]
     },
     "metadata": {},
     "output_type": "display_data"
    }
   ],
   "source": [
    "exp(-2.079)"
   ]
  },
  {
   "cell_type": "code",
   "execution_count": null,
   "metadata": {},
   "outputs": [],
   "source": []
  }
 ],
 "metadata": {
  "kernelspec": {
   "display_name": "R 3.5 (module)",
   "language": "R",
   "name": "ir35ml"
  },
  "language_info": {
   "codemirror_mode": "r",
   "file_extension": ".r",
   "mimetype": "text/x-r-source",
   "name": "R",
   "pygments_lexer": "r",
   "version": "3.5.1"
  }
 },
 "nbformat": 4,
 "nbformat_minor": 2
}
