{
 "cells": [
  {
   "cell_type": "code",
   "execution_count": 1,
   "metadata": {},
   "outputs": [
    {
     "name": "stderr",
     "output_type": "stream",
     "text": [
      "Loading required package: tidyverse\n",
      "── Attaching packages ─────────────────────────────────────── tidyverse 1.2.1 ──\n",
      "✔ ggplot2 3.1.0       ✔ purrr   0.3.1  \n",
      "✔ tibble  2.0.1       ✔ dplyr   0.8.0.1\n",
      "✔ tidyr   0.8.3       ✔ stringr 1.4.0  \n",
      "✔ readr   1.3.1       ✔ forcats 0.4.0  \n",
      "── Conflicts ────────────────────────────────────────── tidyverse_conflicts() ──\n",
      "✖ dplyr::filter() masks stats::filter()\n",
      "✖ dplyr::lag()    masks stats::lag()\n",
      "Loading required package: data.table\n",
      "\n",
      "Attaching package: ‘data.table’\n",
      "\n",
      "The following objects are masked from ‘package:dplyr’:\n",
      "\n",
      "    between, first, last\n",
      "\n",
      "The following object is masked from ‘package:purrr’:\n",
      "\n",
      "    transpose\n",
      "\n",
      "Loading required package: forestplot\n",
      "Loading required package: grid\n",
      "Loading required package: magrittr\n",
      "\n",
      "Attaching package: ‘magrittr’\n",
      "\n",
      "The following object is masked from ‘package:purrr’:\n",
      "\n",
      "    set_names\n",
      "\n",
      "The following object is masked from ‘package:tidyr’:\n",
      "\n",
      "    extract\n",
      "\n",
      "Loading required package: checkmate\n",
      "Loading required package: meta\n",
      "Loading 'meta' package (version 4.9-5).\n",
      "Type 'help(meta)' for a brief overview.\n"
     ]
    }
   ],
   "source": [
    "require(tidyverse)\n",
    "require(data.table)\n",
    "require(forestplot)\n",
    "require(meta)\n"
   ]
  },
  {
   "cell_type": "code",
   "execution_count": 2,
   "metadata": {},
   "outputs": [],
   "source": [
    "madata <- data.frame(\n",
    "    Variant = c('Gln175His', 'Arg177Ter', 'Arg140His', 'Gln136Arg'),\n",
    "    TE      = c(-0.743050, -0.944409, -0.481583, -0.207756), \n",
    "    seTE    = c( 0.108010,  0.504579,  0.192698,  0.444267),\n",
    "    stringsAsFactors=F\n",
    ")\n"
   ]
  },
  {
   "cell_type": "code",
   "execution_count": 3,
   "metadata": {},
   "outputs": [],
   "source": [
    "m<-metagen(\n",
    "    TE,\n",
    "    seTE,\n",
    "    data=madata,\n",
    "    studlab=paste(Variant),\n",
    "    comb.fixed = TRUE,\n",
    "    comb.random = FALSE,\n",
    "    prediction=TRUE,\n",
    "    sm=\"SMD\"\n",
    ")"
   ]
  },
  {
   "cell_type": "code",
   "execution_count": 4,
   "metadata": {},
   "outputs": [
    {
     "data": {
      "text/plain": [
       "              SMD             95%-CI %W(fixed)\n",
       "Gln175His -0.7430 [-0.9547; -0.5314]      70.5\n",
       "Arg177Ter -0.9444 [-1.9334;  0.0445]       3.2\n",
       "Arg140His -0.4816 [-0.8593; -0.1039]      22.1\n",
       "Gln136Arg -0.2078 [-1.0785;  0.6630]       4.2\n",
       "\n",
       "Number of studies combined: k = 4\n",
       "\n",
       "                        SMD             95%-CI     z  p-value\n",
       "Fixed effect model  -0.6694 [-0.8471; -0.4917] -7.38 < 0.0001\n",
       "Prediction interval         [-1.0595; -0.2793]               \n",
       "\n",
       "Quantifying heterogeneity:\n",
       "tau^2 = 0; H = 1.00 [1.00; 2.47]; I^2 = 0.0% [0.0%; 83.5%]\n",
       "\n",
       "Test of heterogeneity:\n",
       "    Q d.f. p-value\n",
       " 2.79    3  0.4249\n",
       "\n",
       "Details on meta-analytical method:\n",
       "- Inverse variance method"
      ]
     },
     "metadata": {},
     "output_type": "display_data"
    }
   ],
   "source": [
    "m"
   ]
  },
  {
   "cell_type": "code",
   "execution_count": 5,
   "metadata": {},
   "outputs": [
    {
     "data": {
      "text/html": [
       "1.55225592103113e-13"
      ],
      "text/latex": [
       "1.55225592103113e-13"
      ],
      "text/markdown": [
       "1.55225592103113e-13"
      ],
      "text/plain": [
       "[1] 1.552256e-13"
      ]
     },
     "metadata": {},
     "output_type": "display_data"
    }
   ],
   "source": [
    "m$pval.fixed"
   ]
  },
  {
   "cell_type": "code",
   "execution_count": 6,
   "metadata": {},
   "outputs": [],
   "source": [
    "pooled_TE   = m$TE.fixed\n",
    "pooled_seTE = m$seTE.fixed"
   ]
  },
  {
   "cell_type": "code",
   "execution_count": 7,
   "metadata": {},
   "outputs": [],
   "source": [
    "tabletext<-cbind(\n",
    "    c('Variant',    madata %>% pull(Variant), 'Summary'),\n",
    "    c('IOP (mmHg)', madata %>% pull(TE) %>% lapply(round, digits =2) %>% lapply(as.character) %>% \n",
    "      simplify(), as.character(round(pooled_TE, digits=2)))\n",
    ") \n"
   ]
  },
  {
   "cell_type": "code",
   "execution_count": 8,
   "metadata": {},
   "outputs": [],
   "source": [
    "plot_data <- bind_rows(\n",
    "    data.frame(TE=NA, seTE=NA), \n",
    "    madata, \n",
    "    data.frame(TE=pooled_TE, seTE=pooled_seTE)\n",
    ") %>%\n",
    "rename(mean = TE) %>%\n",
    "mutate(\n",
    "    lower = mean - 1.96 * seTE,\n",
    "    upper = mean + 1.96 * seTE\n",
    ") %>%\n",
    "select(mean, lower, upper)"
   ]
  },
  {
   "cell_type": "code",
   "execution_count": 9,
   "metadata": {},
   "outputs": [
    {
     "data": {
      "text/html": [
       "<strong>png:</strong> 2"
      ],
      "text/latex": [
       "\\textbf{png:} 2"
      ],
      "text/markdown": [
       "**png:** 2"
      ],
      "text/plain": [
       "png \n",
       "  2 "
      ]
     },
     "metadata": {},
     "output_type": "display_data"
    }
   ],
   "source": [
    "png(file='ANGPTL7_IOP_forest.png', width=1600, height=1200, res=300) \n",
    "forestplot(\n",
    "    tabletext, \n",
    "    plot_data,\n",
    "    new_page = TRUE,\n",
    "    is.summary=c(TRUE,rep(FALSE,madata %>% dim() %>% first()),TRUE),\n",
    "    xlog=FALSE, \n",
    "    col=fpColors(box=\"royalblue\",line=\"darkblue\", summary=\"royalblue\")\n",
    ")\n",
    "dev.off()"
   ]
  },
  {
   "cell_type": "markdown",
   "metadata": {},
   "source": [
    "## reference \n",
    "- https://bookdown.org/MathiasHarrer/Doing_Meta_Analysis_in_R/fixed.html\n",
    "- https://cran.r-project.org/web/packages/forestplot/vignettes/forestplot.html"
   ]
  },
  {
   "cell_type": "code",
   "execution_count": null,
   "metadata": {},
   "outputs": [],
   "source": []
  }
 ],
 "metadata": {
  "kernelspec": {
   "display_name": "R 3.5 (module)",
   "language": "R",
   "name": "ir35ml"
  },
  "language_info": {
   "codemirror_mode": "r",
   "file_extension": ".r",
   "mimetype": "text/x-r-source",
   "name": "R",
   "pygments_lexer": "r",
   "version": "3.5.1"
  }
 },
 "nbformat": 4,
 "nbformat_minor": 2
}
