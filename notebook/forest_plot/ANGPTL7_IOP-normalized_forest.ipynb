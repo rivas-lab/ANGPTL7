{
 "cells": [
  {
   "cell_type": "code",
   "execution_count": 1,
   "metadata": {},
   "outputs": [
    {
     "name": "stderr",
     "output_type": "stream",
     "text": [
      "Loading required package: tidyverse\n",
      "── Attaching packages ─────────────────────────────────────── tidyverse 1.2.1 ──\n",
      "✔ ggplot2 3.1.0       ✔ purrr   0.3.1  \n",
      "✔ tibble  2.0.1       ✔ dplyr   0.8.0.1\n",
      "✔ tidyr   0.8.3       ✔ stringr 1.4.0  \n",
      "✔ readr   1.3.1       ✔ forcats 0.4.0  \n",
      "── Conflicts ────────────────────────────────────────── tidyverse_conflicts() ──\n",
      "✖ dplyr::filter() masks stats::filter()\n",
      "✖ dplyr::lag()    masks stats::lag()\n",
      "Loading required package: data.table\n",
      "\n",
      "Attaching package: ‘data.table’\n",
      "\n",
      "The following objects are masked from ‘package:dplyr’:\n",
      "\n",
      "    between, first, last\n",
      "\n",
      "The following object is masked from ‘package:purrr’:\n",
      "\n",
      "    transpose\n",
      "\n",
      "Loading required package: forestplot\n",
      "Loading required package: grid\n",
      "Loading required package: magrittr\n",
      "\n",
      "Attaching package: ‘magrittr’\n",
      "\n",
      "The following object is masked from ‘package:purrr’:\n",
      "\n",
      "    set_names\n",
      "\n",
      "The following object is masked from ‘package:tidyr’:\n",
      "\n",
      "    extract\n",
      "\n",
      "Loading required package: checkmate\n",
      "Loading required package: meta\n",
      "Loading 'meta' package (version 4.9-5).\n",
      "Type 'help(meta)' for a brief overview.\n"
     ]
    }
   ],
   "source": [
    "require(tidyverse)\n",
    "require(data.table)\n",
    "require(forestplot)\n",
    "require(meta)\n"
   ]
  },
  {
   "cell_type": "code",
   "execution_count": null,
   "metadata": {},
   "outputs": [],
   "source": [
    "#CHROM  POS     ID      BETA    SE\n",
    "136 1       11252357        rs200058074     -0.0380036      0.111454\n",
    "140 1       11252369        rs28991002      -0.155464       0.0483432\n",
    "175 1       11253684        rs28991009      -0.200253       0.0270947\n",
    "177 1       11253688        rs143435072     -0.262552       0.126593"
   ]
  },
  {
   "cell_type": "code",
   "execution_count": 2,
   "metadata": {},
   "outputs": [],
   "source": [
    "madata <- data.frame(\n",
    "    Variant = c('Gln175His', 'Arg177Ter', 'Arg140His', 'Gln136Arg'),\n",
    "    TE      = c(-0.200253,  -0.262552, -0.155464,  -0.0380036), \n",
    "    seTE    = c( 0.0270947,  0.126593,  0.0483432,  0.111454),\n",
    "    stringsAsFactors=F\n",
    ")\n"
   ]
  },
  {
   "cell_type": "code",
   "execution_count": 3,
   "metadata": {},
   "outputs": [],
   "source": [
    "m<-metagen(\n",
    "    TE,\n",
    "    seTE,\n",
    "    data=madata,\n",
    "    studlab=paste(Variant),\n",
    "    comb.fixed = TRUE,\n",
    "    comb.random = FALSE,\n",
    "    prediction=TRUE,\n",
    "    sm=\"SMD\"\n",
    ")"
   ]
  },
  {
   "cell_type": "code",
   "execution_count": 4,
   "metadata": {},
   "outputs": [
    {
     "data": {
      "text/plain": [
       "              SMD             95%-CI %W(fixed)\n",
       "Gln175His -0.2003 [-0.2534; -0.1471]      70.5\n",
       "Arg177Ter -0.2626 [-0.5107; -0.0144]       3.2\n",
       "Arg140His -0.1555 [-0.2502; -0.0607]      22.1\n",
       "Gln136Arg -0.0380 [-0.2564;  0.1804]       4.2\n",
       "\n",
       "Number of studies combined: k = 4\n",
       "\n",
       "                        SMD             95%-CI     z  p-value\n",
       "Fixed effect model  -0.1856 [-0.2302; -0.1410] -8.16 < 0.0001\n",
       "Prediction interval         [-0.2835; -0.0877]               \n",
       "\n",
       "Quantifying heterogeneity:\n",
       "tau^2 = 0; H = 1.00 [1.00; 2.47]; I^2 = 0.0% [0.0%; 83.6%]\n",
       "\n",
       "Test of heterogeneity:\n",
       "    Q d.f. p-value\n",
       " 2.80    3  0.4228\n",
       "\n",
       "Details on meta-analytical method:\n",
       "- Inverse variance method"
      ]
     },
     "metadata": {},
     "output_type": "display_data"
    }
   ],
   "source": [
    "m"
   ]
  },
  {
   "cell_type": "code",
   "execution_count": 5,
   "metadata": {},
   "outputs": [
    {
     "data": {
      "text/html": [
       "3.36019874492597e-16"
      ],
      "text/latex": [
       "3.36019874492597e-16"
      ],
      "text/markdown": [
       "3.36019874492597e-16"
      ],
      "text/plain": [
       "[1] 3.360199e-16"
      ]
     },
     "metadata": {},
     "output_type": "display_data"
    }
   ],
   "source": [
    "m$pval.fixed"
   ]
  },
  {
   "cell_type": "code",
   "execution_count": 6,
   "metadata": {},
   "outputs": [],
   "source": [
    "pooled_TE   = m$TE.fixed\n",
    "pooled_seTE = m$seTE.fixed"
   ]
  },
  {
   "cell_type": "code",
   "execution_count": 12,
   "metadata": {},
   "outputs": [],
   "source": [
    "tabletext<-cbind(\n",
    "    c('Variant',    madata %>% pull(Variant), 'Summary'),\n",
    "    c('SD(IOP)', madata %>% pull(TE) %>% lapply(round, digits =2) %>% lapply(as.character) %>% \n",
    "      simplify(), as.character(round(pooled_TE, digits=2)))\n",
    ") \n"
   ]
  },
  {
   "cell_type": "code",
   "execution_count": 13,
   "metadata": {},
   "outputs": [],
   "source": [
    "plot_data <- bind_rows(\n",
    "    data.frame(TE=NA, seTE=NA), \n",
    "    madata, \n",
    "    data.frame(TE=pooled_TE, seTE=pooled_seTE)\n",
    ") %>%\n",
    "rename(mean = TE) %>%\n",
    "mutate(\n",
    "    lower = mean - 1.96 * seTE,\n",
    "    upper = mean + 1.96 * seTE\n",
    ") %>%\n",
    "select(mean, lower, upper)"
   ]
  },
  {
   "cell_type": "code",
   "execution_count": 14,
   "metadata": {},
   "outputs": [
    {
     "data": {
      "text/html": [
       "<strong>png:</strong> 2"
      ],
      "text/latex": [
       "\\textbf{png:} 2"
      ],
      "text/markdown": [
       "**png:** 2"
      ],
      "text/plain": [
       "png \n",
       "  2 "
      ]
     },
     "metadata": {},
     "output_type": "display_data"
    }
   ],
   "source": [
    "png(file='ANGPTL7_IOP-normalized_forest.png', width=1600, height=1200, res=300) \n",
    "forestplot(\n",
    "    tabletext, \n",
    "    plot_data,\n",
    "    new_page = TRUE,\n",
    "    is.summary=c(TRUE,rep(FALSE,madata %>% dim() %>% first()),TRUE),\n",
    "    xlog=FALSE, \n",
    "    col=fpColors(box=\"royalblue\",line=\"darkblue\", summary=\"royalblue\")\n",
    ")\n",
    "dev.off()"
   ]
  },
  {
   "cell_type": "markdown",
   "metadata": {},
   "source": [
    "## reference \n",
    "- https://bookdown.org/MathiasHarrer/Doing_Meta_Analysis_in_R/fixed.html\n",
    "- https://cran.r-project.org/web/packages/forestplot/vignettes/forestplot.html"
   ]
  },
  {
   "cell_type": "code",
   "execution_count": null,
   "metadata": {},
   "outputs": [],
   "source": []
  }
 ],
 "metadata": {
  "kernelspec": {
   "display_name": "R 3.5 (module)",
   "language": "R",
   "name": "ir35ml"
  },
  "language_info": {
   "codemirror_mode": "r",
   "file_extension": ".r",
   "mimetype": "text/x-r-source",
   "name": "R",
   "pygments_lexer": "r",
   "version": "3.5.1"
  }
 },
 "nbformat": 4,
 "nbformat_minor": 2
}
