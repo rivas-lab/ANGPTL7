{
 "cells": [
  {
   "cell_type": "code",
   "execution_count": 1,
   "metadata": {},
   "outputs": [],
   "source": [
    "suppressPackageStartupMessages(library(tidyverse))\n",
    "suppressPackageStartupMessages(library(data.table))\n"
   ]
  },
  {
   "cell_type": "code",
   "execution_count": 2,
   "metadata": {},
   "outputs": [],
   "source": [
    "iop_phe <- fread(\n",
    "    '/oak/stanford/groups/mrivas/ukbb24983/phenotypedata/extras/iop/misc/ukb2005693_ukb37855_IOP.phe',\n",
    "    stringsAsFactors=FALSE,\n",
    "    data.table=FALSE\n",
    ") %>%\n",
    "mutate(\n",
    "    FID = as.character(FID),\n",
    "    IID = as.character(IID)    \n",
    ")\n"
   ]
  },
  {
   "cell_type": "code",
   "execution_count": 6,
   "metadata": {},
   "outputs": [],
   "source": [
    "glaucoma_phe <- fread(\n",
    "    '/oak/stanford/groups/mrivas/ukbb24983/phenotypedata/extras/highconfidenceqc/phe/HC276.phe',\n",
    "    stringsAsFactors=FALSE,\n",
    "    data.table=FALSE,\n",
    "    col.names=c('FID', 'IID', 'HC276')\n",
    ") %>%\n",
    "mutate(\n",
    "    FID = as.character(FID),\n",
    "    IID = as.character(IID)    \n",
    ")\n"
   ]
  },
  {
   "cell_type": "code",
   "execution_count": 8,
   "metadata": {},
   "outputs": [
    {
     "data": {
      "text/html": [
       "<table>\n",
       "<caption>A tibble: 2 × 2</caption>\n",
       "<thead>\n",
       "\t<tr><th scope=col>HC276</th><th scope=col>n</th></tr>\n",
       "\t<tr><th scope=col>&lt;int&gt;</th><th scope=col>&lt;int&gt;</th></tr>\n",
       "</thead>\n",
       "<tbody>\n",
       "\t<tr><td>1</td><td>479760</td></tr>\n",
       "\t<tr><td>2</td><td>  8614</td></tr>\n",
       "</tbody>\n",
       "</table>\n"
      ],
      "text/latex": [
       "A tibble: 2 × 2\n",
       "\\begin{tabular}{r|ll}\n",
       " HC276 & n\\\\\n",
       " <int> & <int>\\\\\n",
       "\\hline\n",
       "\t 1 & 479760\\\\\n",
       "\t 2 &   8614\\\\\n",
       "\\end{tabular}\n"
      ],
      "text/markdown": [
       "\n",
       "A tibble: 2 × 2\n",
       "\n",
       "| HC276 &lt;int&gt; | n &lt;int&gt; |\n",
       "|---|---|\n",
       "| 1 | 479760 |\n",
       "| 2 |   8614 |\n",
       "\n"
      ],
      "text/plain": [
       "  HC276 n     \n",
       "1 1     479760\n",
       "2 2       8614"
      ]
     },
     "metadata": {},
     "output_type": "display_data"
    }
   ],
   "source": [
    "glaucoma_phe %>% count(HC276)"
   ]
  },
  {
   "cell_type": "code",
   "execution_count": 15,
   "metadata": {},
   "outputs": [],
   "source": [
    "phe_all <- iop_phe %>% \n",
    "full_join(glaucoma_phe %>% mutate(HC276 = HC276 - 1), by=c('FID', 'IID'))\n"
   ]
  },
  {
   "cell_type": "code",
   "execution_count": 16,
   "metadata": {},
   "outputs": [
    {
     "name": "stdout",
     "output_type": "stream",
     "text": [
      "[1] 128943      8\n",
      "[1] 488374      3\n",
      "[1] 492305      9\n"
     ]
    }
   ],
   "source": [
    "iop_phe      %>% dim() %>% print()\n",
    "glaucoma_phe %>% dim() %>% print()\n",
    "phe_all      %>% dim() %>% print()\n"
   ]
  },
  {
   "cell_type": "code",
   "execution_count": 20,
   "metadata": {},
   "outputs": [],
   "source": [
    "phe_all %>% colnames() %>% data.frame() %>%\n",
    "fwrite('private_data/IOP_glaucoma.phe.colnames.txt', row.names = FALSE, col.names = FALSE)\n"
   ]
  },
  {
   "cell_type": "code",
   "execution_count": 23,
   "metadata": {},
   "outputs": [],
   "source": [
    "phe_all %>% \n",
    "fwrite(\n",
    "    'private_data/IOP_glaucoma.without.colnames.phe', \n",
    "    row.names = FALSE, col.names = FALSE, sep='\\t',\n",
    "    quote = FALSE, na='NA'\n",
    ")\n"
   ]
  },
  {
   "cell_type": "code",
   "execution_count": 24,
   "metadata": {},
   "outputs": [],
   "source": [
    "phe_all %>% \n",
    "fwrite(\n",
    "    'private_data/IOP_glaucoma.phe', \n",
    "    row.names = FALSE, col.names = TRUE, sep='\\t',\n",
    "    quote = FALSE, na='NA'\n",
    ")\n"
   ]
  },
  {
   "cell_type": "markdown",
   "metadata": {},
   "source": [
    "## counts"
   ]
  },
  {
   "cell_type": "code",
   "execution_count": 25,
   "metadata": {},
   "outputs": [],
   "source": [
    "pop_def <- bind_rows(lapply(c('white_british', 'non_british_white', 'e_asian', 's_asian', 'african'), function(pop){\n",
    "    fread(\n",
    "        file.path(\n",
    "            '/oak/stanford/groups/mrivas/ukbb24983',\n",
    "            'sqc/population_stratification', \n",
    "            paste0('ukb24983_', pop, '.phe')\n",
    "        ),\n",
    "        stringsAsFactors=FALSE,\n",
    "        data.table=FALSE,\n",
    "        colClasses = \"character\",\n",
    "        col.names=c('FID', 'IID')\n",
    "    ) %>%\n",
    "    mutate(pop = pop)    \n",
    "    }\n",
    "))\n"
   ]
  },
  {
   "cell_type": "code",
   "execution_count": 4,
   "metadata": {},
   "outputs": [
    {
     "data": {
      "text/html": [
       "<table>\n",
       "<caption>A tibble: 5 × 2</caption>\n",
       "<thead>\n",
       "\t<tr><th scope=col>pop</th><th scope=col>n</th></tr>\n",
       "\t<tr><th scope=col>&lt;chr&gt;</th><th scope=col>&lt;int&gt;</th></tr>\n",
       "</thead>\n",
       "<tbody>\n",
       "\t<tr><td>white_british    </td><td>337151</td></tr>\n",
       "\t<tr><td>non_british_white</td><td> 24909</td></tr>\n",
       "\t<tr><td>s_asian          </td><td>  7885</td></tr>\n",
       "\t<tr><td>african          </td><td>  6498</td></tr>\n",
       "\t<tr><td>e_asian          </td><td>  1154</td></tr>\n",
       "</tbody>\n",
       "</table>\n"
      ],
      "text/latex": [
       "A tibble: 5 × 2\n",
       "\\begin{tabular}{r|ll}\n",
       " pop & n\\\\\n",
       " <chr> & <int>\\\\\n",
       "\\hline\n",
       "\t white\\_british     & 337151\\\\\n",
       "\t non\\_british\\_white &  24909\\\\\n",
       "\t s\\_asian           &   7885\\\\\n",
       "\t african           &   6498\\\\\n",
       "\t e\\_asian           &   1154\\\\\n",
       "\\end{tabular}\n"
      ],
      "text/markdown": [
       "\n",
       "A tibble: 5 × 2\n",
       "\n",
       "| pop &lt;chr&gt; | n &lt;int&gt; |\n",
       "|---|---|\n",
       "| white_british     | 337151 |\n",
       "| non_british_white |  24909 |\n",
       "| s_asian           |   7885 |\n",
       "| african           |   6498 |\n",
       "| e_asian           |   1154 |\n",
       "\n"
      ],
      "text/plain": [
       "  pop               n     \n",
       "1 white_british     337151\n",
       "2 non_british_white  24909\n",
       "3 s_asian             7885\n",
       "4 african             6498\n",
       "5 e_asian             1154"
      ]
     },
     "metadata": {},
     "output_type": "display_data"
    }
   ],
   "source": [
    "pop_def%>% count(pop) %>% arrange(-n)\n"
   ]
  },
  {
   "cell_type": "code",
   "execution_count": 6,
   "metadata": {},
   "outputs": [
    {
     "data": {
      "text/html": [
       "<table>\n",
       "<caption>A tibble: 5 × 2</caption>\n",
       "<thead>\n",
       "\t<tr><th scope=col>pop</th><th scope=col>n</th></tr>\n",
       "\t<tr><th scope=col>&lt;chr&gt;</th><th scope=col>&lt;int&gt;</th></tr>\n",
       "</thead>\n",
       "<tbody>\n",
       "\t<tr><td>white_british    </td><td>82253</td></tr>\n",
       "\t<tr><td>non_british_white</td><td> 7892</td></tr>\n",
       "\t<tr><td>s_asian          </td><td> 3672</td></tr>\n",
       "\t<tr><td>african          </td><td> 3294</td></tr>\n",
       "\t<tr><td>e_asian          </td><td>  408</td></tr>\n",
       "</tbody>\n",
       "</table>\n"
      ],
      "text/latex": [
       "A tibble: 5 × 2\n",
       "\\begin{tabular}{r|ll}\n",
       " pop & n\\\\\n",
       " <chr> & <int>\\\\\n",
       "\\hline\n",
       "\t white\\_british     & 82253\\\\\n",
       "\t non\\_british\\_white &  7892\\\\\n",
       "\t s\\_asian           &  3672\\\\\n",
       "\t african           &  3294\\\\\n",
       "\t e\\_asian           &   408\\\\\n",
       "\\end{tabular}\n"
      ],
      "text/markdown": [
       "\n",
       "A tibble: 5 × 2\n",
       "\n",
       "| pop &lt;chr&gt; | n &lt;int&gt; |\n",
       "|---|---|\n",
       "| white_british     | 82253 |\n",
       "| non_british_white |  7892 |\n",
       "| s_asian           |  3672 |\n",
       "| african           |  3294 |\n",
       "| e_asian           |   408 |\n",
       "\n"
      ],
      "text/plain": [
       "  pop               n    \n",
       "1 white_british     82253\n",
       "2 non_british_white  7892\n",
       "3 s_asian            3672\n",
       "4 african            3294\n",
       "5 e_asian             408"
      ]
     },
     "metadata": {},
     "output_type": "display_data"
    }
   ],
   "source": [
    "iop_phe %>% \n",
    "inner_join(pop_def, by=c('FID', 'IID')) %>%\n",
    "count(pop) %>%\n",
    "arrange(-n)"
   ]
  },
  {
   "cell_type": "code",
   "execution_count": 32,
   "metadata": {},
   "outputs": [
    {
     "data": {
      "text/html": [
       "<ol class=list-inline>\n",
       "\t<li>97519</li>\n",
       "\t<li>9</li>\n",
       "</ol>\n"
      ],
      "text/latex": [
       "\\begin{enumerate*}\n",
       "\\item 97519\n",
       "\\item 9\n",
       "\\end{enumerate*}\n"
      ],
      "text/markdown": [
       "1. 97519\n",
       "2. 9\n",
       "\n",
       "\n"
      ],
      "text/plain": [
       "[1] 97519     9"
      ]
     },
     "metadata": {},
     "output_type": "display_data"
    }
   ],
   "source": [
    "iop_phe %>% \n",
    "inner_join(pop_def, by=c('FID', 'IID')) %>%\n",
    "dim()"
   ]
  },
  {
   "cell_type": "code",
   "execution_count": 34,
   "metadata": {},
   "outputs": [
    {
     "data": {
      "text/html": [
       "<ol class=list-inline>\n",
       "\t<li>0.497078168195893</li>\n",
       "\t<li>0.890805058349491</li>\n",
       "</ol>\n"
      ],
      "text/latex": [
       "\\begin{enumerate*}\n",
       "\\item 0.497078168195893\n",
       "\\item 0.890805058349491\n",
       "\\end{enumerate*}\n"
      ],
      "text/markdown": [
       "1. 0.497078168195893\n",
       "2. 0.890805058349491\n",
       "\n",
       "\n"
      ],
      "text/plain": [
       "[1] 0.4970782 0.8908051"
      ]
     },
     "metadata": {},
     "output_type": "display_data"
    }
   ],
   "source": [
    "c(\n",
    "    exp(log(0.665432) - 1.96 * 0.148821),\n",
    "    exp(log(0.665432) + 1.96 * 0.148821)\n",
    ")"
   ]
  },
  {
   "cell_type": "code",
   "execution_count": null,
   "metadata": {},
   "outputs": [],
   "source": []
  }
 ],
 "metadata": {
  "kernelspec": {
   "display_name": "R",
   "language": "R",
   "name": "ir"
  },
  "language_info": {
   "codemirror_mode": "r",
   "file_extension": ".r",
   "mimetype": "text/x-r-source",
   "name": "R",
   "pygments_lexer": "r",
   "version": "3.6.1"
  }
 },
 "nbformat": 4,
 "nbformat_minor": 4
}
