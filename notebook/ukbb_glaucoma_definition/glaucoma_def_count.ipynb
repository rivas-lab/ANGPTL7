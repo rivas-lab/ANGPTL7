{
 "cells": [
  {
   "cell_type": "code",
   "execution_count": 1,
   "metadata": {},
   "outputs": [],
   "source": [
    "suppressPackageStartupMessages(library(tidyverse))\n",
    "suppressPackageStartupMessages(library(data.table))\n"
   ]
  },
  {
   "cell_type": "code",
   "execution_count": 15,
   "metadata": {},
   "outputs": [],
   "source": [
    "read_keep <- function(file){\n",
    "    df <- file %>% fread(sep='\\t')\n",
    "    colnames(df) <- c('FID', 'IID')\n",
    "    df\n",
    "}"
   ]
  },
  {
   "cell_type": "code",
   "execution_count": 16,
   "metadata": {},
   "outputs": [],
   "source": [
    "pop_def <- '/oak/stanford/groups/mrivas/ukbb24983/phenotypedata/extras/iop/phe/ukb24983_white_british_noIOP.keep' %>%\n",
    "read_keep()\n"
   ]
  },
  {
   "cell_type": "code",
   "execution_count": 18,
   "metadata": {},
   "outputs": [],
   "source": [
    "icd_keep <- c(\n",
    "    'H400',\n",
    "    'H401',\n",
    "    'H402',\n",
    "    'H403',\n",
    "    'H404',\n",
    "    'H405',\n",
    "    'H406',\n",
    "    'H408',\n",
    "    'H409',\n",
    "    'H428',\n",
    "    'Q150'\n",
    ")"
   ]
  },
  {
   "cell_type": "code",
   "execution_count": 6,
   "metadata": {},
   "outputs": [],
   "source": [
    "select_cols <- c(\n",
    "    'f.eid',\n",
    "    paste0('f.20002.0.', 1:28),\n",
    "    paste0('f.20002.1.', 1:28),\n",
    "    paste0('f.20002.2.', 1:28),\n",
    "    paste0('f.41202.0.', 1:379)\n",
    ")\n"
   ]
  },
  {
   "cell_type": "code",
   "execution_count": 3,
   "metadata": {},
   "outputs": [],
   "source": [
    "tab_file <- '/oak/stanford/groups/mrivas/ukbb24983/phenotypedata/9796/9797/download/ukb9797.tab'\n"
   ]
  },
  {
   "cell_type": "code",
   "execution_count": 22,
   "metadata": {},
   "outputs": [],
   "source": [
    "df <- fread(tab_file, select=select_cols)"
   ]
  },
  {
   "cell_type": "code",
   "execution_count": 38,
   "metadata": {},
   "outputs": [],
   "source": [
    "extracted_df <- df %>% rename('IID' = 'f.eid') %>% \n",
    "gather(field, val, -IID) %>% \n",
    "mutate(field = str_replace(field, '^f.', '')) %>%\n",
    "drop_na(val) %>%\n",
    "separate(\n",
    "    field, c('UKB_Field_ID', 'UKB_time_idx', 'UKB_array_idx')\n",
    ") %>%\n",
    "filter(\n",
    "    ((UKB_Field_ID == '20002') & (val == '1277')) |\n",
    "    ((UKB_Field_ID == '41202') & (val %in% icd_keep))\n",
    ")\n"
   ]
  },
  {
   "cell_type": "code",
   "execution_count": 39,
   "metadata": {},
   "outputs": [
    {
     "data": {
      "text/html": [
       "<ol class=list-inline>\n",
       "\t<li>5940</li>\n",
       "\t<li>5</li>\n",
       "</ol>\n"
      ],
      "text/latex": [
       "\\begin{enumerate*}\n",
       "\\item 5940\n",
       "\\item 5\n",
       "\\end{enumerate*}\n"
      ],
      "text/markdown": [
       "1. 5940\n",
       "2. 5\n",
       "\n",
       "\n"
      ],
      "text/plain": [
       "[1] 5940    5"
      ]
     },
     "metadata": {},
     "output_type": "display_data"
    }
   ],
   "source": [
    "extracted_df %>% dim()"
   ]
  },
  {
   "cell_type": "code",
   "execution_count": 42,
   "metadata": {},
   "outputs": [
    {
     "data": {
      "text/html": [
       "<ol class=list-inline>\n",
       "\t<li>5810</li>\n",
       "\t<li>3</li>\n",
       "</ol>\n"
      ],
      "text/latex": [
       "\\begin{enumerate*}\n",
       "\\item 5810\n",
       "\\item 3\n",
       "\\end{enumerate*}\n"
      ],
      "text/markdown": [
       "1. 5810\n",
       "2. 3\n",
       "\n",
       "\n"
      ],
      "text/plain": [
       "[1] 5810    3"
      ]
     },
     "metadata": {},
     "output_type": "display_data"
    }
   ],
   "source": [
    "extracted_df %>% \n",
    "select(-UKB_time_idx, -UKB_array_idx) %>% \n",
    "unique() %>%\n",
    "dim()"
   ]
  },
  {
   "cell_type": "code",
   "execution_count": 68,
   "metadata": {},
   "outputs": [],
   "source": [
    "extracted_wide_df <- extracted_df %>% \n",
    "select(-UKB_time_idx, -UKB_array_idx) %>% \n",
    "unique() %>%\n",
    "mutate(UKB_Field_ID_val = paste0('F', UKB_Field_ID, '_', val)) %>% \n",
    "select(-UKB_Field_ID, -val) %>%\n",
    "mutate(value = TRUE) %>%\n",
    "spread(UKB_Field_ID_val, value, fill=FALSE)"
   ]
  },
  {
   "cell_type": "code",
   "execution_count": 79,
   "metadata": {},
   "outputs": [],
   "source": [
    "extracted_wide_df %>%\n",
    "fwrite('glaucoma_relevant_raw_data.tsv', sep='\\t')\n"
   ]
  },
  {
   "cell_type": "markdown",
   "metadata": {},
   "source": [
    "## Counts\n",
    "\n",
    "### 500k people"
   ]
  },
  {
   "cell_type": "code",
   "execution_count": 94,
   "metadata": {},
   "outputs": [
    {
     "data": {
      "text/html": [
       "<ol class=list-inline>\n",
       "\t<li>4890</li>\n",
       "\t<li>13</li>\n",
       "</ol>\n"
      ],
      "text/latex": [
       "\\begin{enumerate*}\n",
       "\\item 4890\n",
       "\\item 13\n",
       "\\end{enumerate*}\n"
      ],
      "text/markdown": [
       "1. 4890\n",
       "2. 13\n",
       "\n",
       "\n"
      ],
      "text/plain": [
       "[1] 4890   13"
      ]
     },
     "metadata": {},
     "output_type": "display_data"
    }
   ],
   "source": [
    "extracted_wide_df %>% dim()"
   ]
  },
  {
   "cell_type": "code",
   "execution_count": 80,
   "metadata": {},
   "outputs": [
    {
     "data": {
      "text/plain": [
       " F20002_1277     F41202_H400     F41202_H401     F41202_H402    \n",
       " Mode :logical   Mode :logical   Mode :logical   Mode :logical  \n",
       " FALSE:1410      FALSE:4469      FALSE:4275      FALSE:4381     \n",
       " TRUE :3480      TRUE :421       TRUE :615       TRUE :509      \n",
       " F41202_H403     F41202_H404     F41202_H405     F41202_H406    \n",
       " Mode :logical   Mode :logical   Mode :logical   Mode :logical  \n",
       " FALSE:4879      FALSE:4875      FALSE:4799      FALSE:4887     \n",
       " TRUE :11        TRUE :15        TRUE :91        TRUE :3        \n",
       " F41202_H408     F41202_H409     F41202_H428     F41202_Q150    \n",
       " Mode :logical   Mode :logical   Mode :logical   Mode :logical  \n",
       " FALSE:4845      FALSE:4277      FALSE:4889      FALSE:4884     \n",
       " TRUE :45        TRUE :613       TRUE :1         TRUE :6        "
      ]
     },
     "metadata": {},
     "output_type": "display_data"
    }
   ],
   "source": [
    "extracted_wide_df %>% select(-IID) %>%\n",
    "summary()"
   ]
  },
  {
   "cell_type": "markdown",
   "metadata": {},
   "source": [
    "### White British cohort"
   ]
  },
  {
   "cell_type": "code",
   "execution_count": 97,
   "metadata": {},
   "outputs": [],
   "source": [
    "WB_pop <- '/oak/stanford/groups/mrivas/ukbb24983/sqc/population_stratification/ukb24983_white_british.phe' %>% read_keep()"
   ]
  },
  {
   "cell_type": "code",
   "execution_count": 98,
   "metadata": {},
   "outputs": [
    {
     "data": {
      "text/html": [
       "337151"
      ],
      "text/latex": [
       "337151"
      ],
      "text/markdown": [
       "337151"
      ],
      "text/plain": [
       "[1] 337151"
      ]
     },
     "metadata": {},
     "output_type": "display_data"
    }
   ],
   "source": [
    "length(WB_pop$IID)"
   ]
  },
  {
   "cell_type": "code",
   "execution_count": 99,
   "metadata": {},
   "outputs": [
    {
     "data": {
      "text/html": [
       "<ol class=list-inline>\n",
       "\t<li>3219</li>\n",
       "\t<li>13</li>\n",
       "</ol>\n"
      ],
      "text/latex": [
       "\\begin{enumerate*}\n",
       "\\item 3219\n",
       "\\item 13\n",
       "\\end{enumerate*}\n"
      ],
      "text/markdown": [
       "1. 3219\n",
       "2. 13\n",
       "\n",
       "\n"
      ],
      "text/plain": [
       "[1] 3219   13"
      ]
     },
     "metadata": {},
     "output_type": "display_data"
    }
   ],
   "source": [
    "extracted_wide_df %>% \n",
    "filter(IID %in% WB_pop$IID) %>%\n",
    "dim()"
   ]
  },
  {
   "cell_type": "markdown",
   "metadata": {},
   "source": [
    "### White British cohort who does not have IOP measurements"
   ]
  },
  {
   "cell_type": "code",
   "execution_count": 95,
   "metadata": {},
   "outputs": [
    {
     "data": {
      "text/html": [
       "254898"
      ],
      "text/latex": [
       "254898"
      ],
      "text/markdown": [
       "254898"
      ],
      "text/plain": [
       "[1] 254898"
      ]
     },
     "metadata": {},
     "output_type": "display_data"
    }
   ],
   "source": [
    "length(pop_def$IID)"
   ]
  },
  {
   "cell_type": "code",
   "execution_count": 96,
   "metadata": {},
   "outputs": [
    {
     "data": {
      "text/html": [
       "<ol class=list-inline>\n",
       "\t<li>2384</li>\n",
       "\t<li>13</li>\n",
       "</ol>\n"
      ],
      "text/latex": [
       "\\begin{enumerate*}\n",
       "\\item 2384\n",
       "\\item 13\n",
       "\\end{enumerate*}\n"
      ],
      "text/markdown": [
       "1. 2384\n",
       "2. 13\n",
       "\n",
       "\n"
      ],
      "text/plain": [
       "[1] 2384   13"
      ]
     },
     "metadata": {},
     "output_type": "display_data"
    }
   ],
   "source": [
    "extracted_wide_df %>% \n",
    "filter(IID %in% pop_def$IID) %>%\n",
    "dim()"
   ]
  },
  {
   "cell_type": "code",
   "execution_count": 82,
   "metadata": {},
   "outputs": [
    {
     "data": {
      "text/plain": [
       " F20002_1277     F41202_H400     F41202_H401     F41202_H402    \n",
       " Mode :logical   Mode :logical   Mode :logical   Mode :logical  \n",
       " FALSE:763       FALSE:2176      FALSE:2059      FALSE:2078     \n",
       " TRUE :1621      TRUE :208       TRUE :325       TRUE :306      \n",
       " F41202_H403     F41202_H404     F41202_H405     F41202_H406    \n",
       " Mode :logical   Mode :logical   Mode :logical   Mode :logical  \n",
       " FALSE:2381      FALSE:2374      FALSE:2342      FALSE:2383     \n",
       " TRUE :3         TRUE :10        TRUE :42        TRUE :1        \n",
       " F41202_H408     F41202_H409     F41202_H428     F41202_Q150    \n",
       " Mode :logical   Mode :logical   Mode :logical   Mode :logical  \n",
       " FALSE:2357      FALSE:2074      FALSE:2383      FALSE:2381     \n",
       " TRUE :27        TRUE :310       TRUE :1         TRUE :3        "
      ]
     },
     "metadata": {},
     "output_type": "display_data"
    }
   ],
   "source": [
    "extracted_wide_df %>% \n",
    "filter(IID %in% pop_def$IID) %>%\n",
    "select(-IID) %>%\n",
    "summary()"
   ]
  },
  {
   "cell_type": "code",
   "execution_count": 88,
   "metadata": {},
   "outputs": [],
   "source": [
    "extracted_wide_df %>% \n",
    "filter(IID %in% pop_def$IID) %>%\n",
    "count(\n",
    "    F20002_1277, \n",
    "    F41202_H400, \n",
    "    F41202_H401,\n",
    "    F41202_H402,\n",
    "    F41202_H403,\n",
    "    F41202_H404,\n",
    "    F41202_H405,\n",
    "    F41202_H406,\n",
    "    F41202_H408,\n",
    "    F41202_H409,\n",
    "    F41202_H428,\n",
    "    F41202_Q150    \n",
    ") %>% arrange(-n) %>%\n",
    "fwrite('glaucoma_def_count_WB_noIOP.tsv', sep='\\t')\n"
   ]
  },
  {
   "cell_type": "code",
   "execution_count": 89,
   "metadata": {},
   "outputs": [
    {
     "data": {
      "text/html": [
       "<ol class=list-inline>\n",
       "\t<li>2384</li>\n",
       "\t<li>13</li>\n",
       "</ol>\n"
      ],
      "text/latex": [
       "\\begin{enumerate*}\n",
       "\\item 2384\n",
       "\\item 13\n",
       "\\end{enumerate*}\n"
      ],
      "text/markdown": [
       "1. 2384\n",
       "2. 13\n",
       "\n",
       "\n"
      ],
      "text/plain": [
       "[1] 2384   13"
      ]
     },
     "metadata": {},
     "output_type": "display_data"
    }
   ],
   "source": [
    "extracted_wide_df %>% \n",
    "filter(IID %in% pop_def$IID) %>%\n",
    "dim()"
   ]
  },
  {
   "cell_type": "code",
   "execution_count": 92,
   "metadata": {},
   "outputs": [],
   "source": [
    "extracted_wide_df %>% \n",
    "filter(IID %in% pop_def$IID) %>%\n",
    "fwrite('glaucoma_def_WB_noIOP.tsv', sep='\\t')\n"
   ]
  },
  {
   "cell_type": "code",
   "execution_count": null,
   "metadata": {},
   "outputs": [],
   "source": [
    "/oak/stanford/groups/mrivas/ukbb24983/phenotypedata/extras/highconfidenceqc/phe/HC276.phe"
   ]
  }
 ],
 "metadata": {
  "kernelspec": {
   "display_name": "R",
   "language": "R",
   "name": "ir"
  },
  "language_info": {
   "codemirror_mode": "r",
   "file_extension": ".r",
   "mimetype": "text/x-r-source",
   "name": "R",
   "pygments_lexer": "r",
   "version": "3.6.1"
  }
 },
 "nbformat": 4,
 "nbformat_minor": 4
}
