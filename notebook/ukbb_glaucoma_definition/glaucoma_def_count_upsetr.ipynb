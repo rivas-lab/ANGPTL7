{
 "cells": [
  {
   "cell_type": "code",
   "execution_count": 1,
   "metadata": {},
   "outputs": [],
   "source": [
    "suppressPackageStartupMessages(library(tidyverse))\n",
    "suppressPackageStartupMessages(library(data.table))\n"
   ]
  },
  {
   "cell_type": "code",
   "execution_count": 2,
   "metadata": {},
   "outputs": [],
   "source": [
    "library(UpSetR)"
   ]
  },
  {
   "cell_type": "code",
   "execution_count": 16,
   "metadata": {},
   "outputs": [],
   "source": [
    "df <- 'glaucoma_def_WB_noIOP.tsv' %>% fread(sep='\\t')\n"
   ]
  },
  {
   "cell_type": "code",
   "execution_count": 17,
   "metadata": {},
   "outputs": [
    {
     "data": {
      "text/html": [
       "<ol class=list-inline>\n",
       "\t<li>2384</li>\n",
       "\t<li>13</li>\n",
       "</ol>\n"
      ],
      "text/latex": [
       "\\begin{enumerate*}\n",
       "\\item 2384\n",
       "\\item 13\n",
       "\\end{enumerate*}\n"
      ],
      "text/markdown": [
       "1. 2384\n",
       "2. 13\n",
       "\n",
       "\n"
      ],
      "text/plain": [
       "[1] 2384   13"
      ]
     },
     "metadata": {},
     "output_type": "display_data"
    }
   ],
   "source": [
    "dim(df)"
   ]
  },
  {
   "cell_type": "code",
   "execution_count": 21,
   "metadata": {},
   "outputs": [
    {
     "data": {
      "text/html": [
       "<ol class=list-inline>\n",
       "\t<li>'IID'</li>\n",
       "\t<li>'F20002_1277'</li>\n",
       "\t<li>'F41202_H400'</li>\n",
       "\t<li>'F41202_H401'</li>\n",
       "\t<li>'F41202_H402'</li>\n",
       "\t<li>'F41202_H403'</li>\n",
       "\t<li>'F41202_H404'</li>\n",
       "\t<li>'F41202_H405'</li>\n",
       "\t<li>'F41202_H406'</li>\n",
       "\t<li>'F41202_H408'</li>\n",
       "\t<li>'F41202_H409'</li>\n",
       "\t<li>'F41202_H428'</li>\n",
       "\t<li>'F41202_Q150'</li>\n",
       "</ol>\n"
      ],
      "text/latex": [
       "\\begin{enumerate*}\n",
       "\\item 'IID'\n",
       "\\item 'F20002\\_1277'\n",
       "\\item 'F41202\\_H400'\n",
       "\\item 'F41202\\_H401'\n",
       "\\item 'F41202\\_H402'\n",
       "\\item 'F41202\\_H403'\n",
       "\\item 'F41202\\_H404'\n",
       "\\item 'F41202\\_H405'\n",
       "\\item 'F41202\\_H406'\n",
       "\\item 'F41202\\_H408'\n",
       "\\item 'F41202\\_H409'\n",
       "\\item 'F41202\\_H428'\n",
       "\\item 'F41202\\_Q150'\n",
       "\\end{enumerate*}\n"
      ],
      "text/markdown": [
       "1. 'IID'\n",
       "2. 'F20002_1277'\n",
       "3. 'F41202_H400'\n",
       "4. 'F41202_H401'\n",
       "5. 'F41202_H402'\n",
       "6. 'F41202_H403'\n",
       "7. 'F41202_H404'\n",
       "8. 'F41202_H405'\n",
       "9. 'F41202_H406'\n",
       "10. 'F41202_H408'\n",
       "11. 'F41202_H409'\n",
       "12. 'F41202_H428'\n",
       "13. 'F41202_Q150'\n",
       "\n",
       "\n"
      ],
      "text/plain": [
       " [1] \"IID\"         \"F20002_1277\" \"F41202_H400\" \"F41202_H401\" \"F41202_H402\"\n",
       " [6] \"F41202_H403\" \"F41202_H404\" \"F41202_H405\" \"F41202_H406\" \"F41202_H408\"\n",
       "[11] \"F41202_H409\" \"F41202_H428\" \"F41202_Q150\""
      ]
     },
     "metadata": {},
     "output_type": "display_data"
    }
   ],
   "source": [
    "colnames(df)"
   ]
  },
  {
   "cell_type": "code",
   "execution_count": 80,
   "metadata": {},
   "outputs": [
    {
     "data": {
      "text/html": [
       "<strong>png:</strong> 2"
      ],
      "text/latex": [
       "\\textbf{png:} 2"
      ],
      "text/markdown": [
       "**png:** 2"
      ],
      "text/plain": [
       "png \n",
       "  2 "
      ]
     },
     "metadata": {},
     "output_type": "display_data"
    }
   ],
   "source": [
    "pdf(file=\"upset.pdf\", onefile=FALSE, height = 6, width=12) # or other device\n",
    "upset(\n",
    "    fromList(list(\n",
    "        'Self-reported' = df %>% filter(F20002_1277) %>% pull(IID),\n",
    "        ICD_H400 = df %>% filter(F41202_H400) %>% pull(IID),\n",
    "        ICD_H401 = df %>% filter(F41202_H401) %>% pull(IID),\n",
    "        ICD_H402 = df %>% filter(F41202_H402) %>% pull(IID),\n",
    "        ICD_H403 = df %>% filter(F41202_H403) %>% pull(IID),\n",
    "        ICD_H404 = df %>% filter(F41202_H404) %>% pull(IID),\n",
    "        ICD_H405 = df %>% filter(F41202_H405) %>% pull(IID),\n",
    "        ICD_H406 = df %>% filter(F41202_H406) %>% pull(IID),\n",
    "        ICD_H408 = df %>% filter(F41202_H408) %>% pull(IID),\n",
    "        ICD_H409 = df %>% filter(F41202_H409) %>% pull(IID),\n",
    "        ICD_H428 = df %>% filter(F41202_H428) %>% pull(IID),\n",
    "        ICD_Q150 = df %>% filter(F41202_Q150) %>% pull(IID)\n",
    "    )), \n",
    "    order.by = \"freq\",\n",
    "    nsets = 15, nintersects = 100,\n",
    "    number.angles = 0, \n",
    "    point.size = 2, line.size = .5, \n",
    "    mainbar.y.label = \"Number of case individuals\", \n",
    "    sets.x.label = \"# cases per data source\", \n",
    "    text.scale = c(1, 1, 1, 1, 1, .8)\n",
    ")    \n",
    "dev.off()\n"
   ]
  },
  {
   "cell_type": "code",
   "execution_count": null,
   "metadata": {},
   "outputs": [],
   "source": []
  }
 ],
 "metadata": {
  "kernelspec": {
   "display_name": "R",
   "language": "R",
   "name": "ir"
  },
  "language_info": {
   "codemirror_mode": "r",
   "file_extension": ".r",
   "mimetype": "text/x-r-source",
   "name": "R",
   "pygments_lexer": "r",
   "version": "3.6.1"
  }
 },
 "nbformat": 4,
 "nbformat_minor": 4
}
